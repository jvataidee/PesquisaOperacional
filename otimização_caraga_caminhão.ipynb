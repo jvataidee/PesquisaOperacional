{
  "nbformat": 4,
  "nbformat_minor": 0,
  "metadata": {
    "colab": {
      "name": "otimização_caraga_caminhão.ipynb",
      "provenance": [],
      "include_colab_link": true
    },
    "kernelspec": {
      "name": "python3",
      "display_name": "Python 3"
    }
  },
  "cells": [
    {
      "cell_type": "markdown",
      "metadata": {
        "id": "view-in-github",
        "colab_type": "text"
      },
      "source": [
        "<a href=\"https://colab.research.google.com/github/jvataidee/PesquisaOperacional/blob/master/otimiza%C3%A7%C3%A3o_caraga_caminh%C3%A3o.ipynb\" target=\"_parent\"><img src=\"https://colab.research.google.com/assets/colab-badge.svg\" alt=\"Open In Colab\"/></a>"
      ]
    },
    {
      "cell_type": "markdown",
      "metadata": {
        "id": "3ttm_UoU_fbC"
      },
      "source": [
        "\r\n",
        "<img src=\"https://static.wixstatic.com/media/bdd7cb_58ee4016e6f549df966e85f5d0e49fc9~mv2.png\" height=\"55px\">\r\n",
        "\r\n",
        "**by: [João Ataíde](https://www.joaoataide.com)**\r\n",
        "# **Otimização de cargas com algoritmo genético**\r\n",
        "\r\n",
        "\r\n",
        "---\r\n",
        "\r\n",
        "\r\n",
        "<p align=\"center\"><img src=\"https://static.wixstatic.com/media/bdd7cb_f77572eb85d049688987c967d9038104~mv2.jpg\"></p>\r\n",
        "\r\n",
        "\r\n"
      ]
    },
    {
      "cell_type": "markdown",
      "metadata": {
        "id": "Ht9q5b2MoaZP"
      },
      "source": [
        ""
      ]
    },
    {
      "cell_type": "code",
      "metadata": {
        "id": "9SipqIz5_qVl"
      },
      "source": [
        "!pip install deap -q"
      ],
      "execution_count": null,
      "outputs": []
    },
    {
      "cell_type": "code",
      "metadata": {
        "id": "qPY_LOpn_ecO"
      },
      "source": [
        "import numpy as np\r\n",
        "import random\r\n",
        "import pandas as pd\r\n",
        "from deap import base, creator, algorithms, tools\r\n",
        "import matplotlib.pyplot as plt\r\n",
        "import seaborn as sns\r\n",
        "\r\n",
        "#configurações de gráficos\r\n",
        "%matplotlib inline\r\n",
        "%config InlineBackend.figure_format = 'svg'"
      ],
      "execution_count": null,
      "outputs": []
    },
    {
      "cell_type": "markdown",
      "metadata": {
        "id": "CbFZHS9DH8kG"
      },
      "source": [
        "## Importando os dados"
      ]
    },
    {
      "cell_type": "markdown",
      "metadata": {
        "id": "_Eb15axFjjo7"
      },
      "source": [
        ""
      ]
    },
    {
      "cell_type": "code",
      "metadata": {
        "id": "hlTOpuhdHRGN"
      },
      "source": [
        "!pip install kaggle -q"
      ],
      "execution_count": null,
      "outputs": []
    },
    {
      "cell_type": "code",
      "metadata": {
        "id": "lDj-ssmKBLhG"
      },
      "source": [
        "from google.colab import files\r\n",
        "files.upload()"
      ],
      "execution_count": null,
      "outputs": []
    },
    {
      "cell_type": "code",
      "metadata": {
        "id": "DFNZfYZ1HWwK"
      },
      "source": [
        "!mkdir -p ~/.kaggle\r\n",
        "!cp kaggle.json ~/.kaggle/\r\n",
        "!chmod 600 ~/.kaggle/kaggle.json"
      ],
      "execution_count": null,
      "outputs": []
    },
    {
      "cell_type": "code",
      "metadata": {
        "colab": {
          "base_uri": "https://localhost:8080/"
        },
        "id": "jXM-6q_pHYzo",
        "outputId": "48f3e868-185c-4c0c-f779-fdf1894f13e6"
      },
      "source": [
        "!kaggle datasets download -d olistbr/brazilian-ecommerce"
      ],
      "execution_count": null,
      "outputs": [
        {
          "output_type": "stream",
          "text": [
            "brazilian-ecommerce.zip: Skipping, found more recently modified local copy (use --force to force download)\n"
          ],
          "name": "stdout"
        }
      ]
    },
    {
      "cell_type": "code",
      "metadata": {
        "colab": {
          "base_uri": "https://localhost:8080/"
        },
        "id": "BbzUJEvkHasY",
        "outputId": "d4a4da94-9e4c-4d4c-949a-16e37c083b9e"
      },
      "source": [
        "!ls"
      ],
      "execution_count": null,
      "outputs": [
        {
          "output_type": "stream",
          "text": [
            " brazilian-ecommerce.zip   files  'kaggle (1).json'   kaggle.json   sample_data\n"
          ],
          "name": "stdout"
        }
      ]
    },
    {
      "cell_type": "code",
      "metadata": {
        "id": "CczDJTQkHcx2"
      },
      "source": [
        "import zipfile\r\n",
        "zip_ref = zipfile.ZipFile('brazilian-ecommerce.zip', 'r')\r\n",
        "zip_ref.extractall('files')\r\n",
        "zip_ref.close()"
      ],
      "execution_count": null,
      "outputs": []
    },
    {
      "cell_type": "code",
      "metadata": {
        "id": "XxmhXYvNHzT3"
      },
      "source": [
        "df_items = pd.read_csv('/content/files/olist_order_items_dataset.csv')\r\n",
        "df_produto = pd.read_csv('/content/files/olist_products_dataset.csv')"
      ],
      "execution_count": null,
      "outputs": []
    },
    {
      "cell_type": "code",
      "metadata": {
        "colab": {
          "base_uri": "https://localhost:8080/",
          "height": 213
        },
        "id": "DqA0njSwIToJ",
        "outputId": "c2de0710-bc49-414a-8688-26217bedcc7f"
      },
      "source": [
        "print(df_items.shape)\r\n",
        "df_items.head()"
      ],
      "execution_count": null,
      "outputs": [
        {
          "output_type": "stream",
          "text": [
            "(112650, 7)\n"
          ],
          "name": "stdout"
        },
        {
          "output_type": "execute_result",
          "data": {
            "text/html": [
              "<div>\n",
              "<style scoped>\n",
              "    .dataframe tbody tr th:only-of-type {\n",
              "        vertical-align: middle;\n",
              "    }\n",
              "\n",
              "    .dataframe tbody tr th {\n",
              "        vertical-align: top;\n",
              "    }\n",
              "\n",
              "    .dataframe thead th {\n",
              "        text-align: right;\n",
              "    }\n",
              "</style>\n",
              "<table border=\"1\" class=\"dataframe\">\n",
              "  <thead>\n",
              "    <tr style=\"text-align: right;\">\n",
              "      <th></th>\n",
              "      <th>order_id</th>\n",
              "      <th>order_item_id</th>\n",
              "      <th>product_id</th>\n",
              "      <th>seller_id</th>\n",
              "      <th>shipping_limit_date</th>\n",
              "      <th>price</th>\n",
              "      <th>freight_value</th>\n",
              "    </tr>\n",
              "  </thead>\n",
              "  <tbody>\n",
              "    <tr>\n",
              "      <th>0</th>\n",
              "      <td>00010242fe8c5a6d1ba2dd792cb16214</td>\n",
              "      <td>1</td>\n",
              "      <td>4244733e06e7ecb4970a6e2683c13e61</td>\n",
              "      <td>48436dade18ac8b2bce089ec2a041202</td>\n",
              "      <td>2017-09-19 09:45:35</td>\n",
              "      <td>58.90</td>\n",
              "      <td>13.29</td>\n",
              "    </tr>\n",
              "    <tr>\n",
              "      <th>1</th>\n",
              "      <td>00018f77f2f0320c557190d7a144bdd3</td>\n",
              "      <td>1</td>\n",
              "      <td>e5f2d52b802189ee658865ca93d83a8f</td>\n",
              "      <td>dd7ddc04e1b6c2c614352b383efe2d36</td>\n",
              "      <td>2017-05-03 11:05:13</td>\n",
              "      <td>239.90</td>\n",
              "      <td>19.93</td>\n",
              "    </tr>\n",
              "    <tr>\n",
              "      <th>2</th>\n",
              "      <td>000229ec398224ef6ca0657da4fc703e</td>\n",
              "      <td>1</td>\n",
              "      <td>c777355d18b72b67abbeef9df44fd0fd</td>\n",
              "      <td>5b51032eddd242adc84c38acab88f23d</td>\n",
              "      <td>2018-01-18 14:48:30</td>\n",
              "      <td>199.00</td>\n",
              "      <td>17.87</td>\n",
              "    </tr>\n",
              "    <tr>\n",
              "      <th>3</th>\n",
              "      <td>00024acbcdf0a6daa1e931b038114c75</td>\n",
              "      <td>1</td>\n",
              "      <td>7634da152a4610f1595efa32f14722fc</td>\n",
              "      <td>9d7a1d34a5052409006425275ba1c2b4</td>\n",
              "      <td>2018-08-15 10:10:18</td>\n",
              "      <td>12.99</td>\n",
              "      <td>12.79</td>\n",
              "    </tr>\n",
              "    <tr>\n",
              "      <th>4</th>\n",
              "      <td>00042b26cf59d7ce69dfabb4e55b4fd9</td>\n",
              "      <td>1</td>\n",
              "      <td>ac6c3623068f30de03045865e4e10089</td>\n",
              "      <td>df560393f3a51e74553ab94004ba5c87</td>\n",
              "      <td>2017-02-13 13:57:51</td>\n",
              "      <td>199.90</td>\n",
              "      <td>18.14</td>\n",
              "    </tr>\n",
              "  </tbody>\n",
              "</table>\n",
              "</div>"
            ],
            "text/plain": [
              "                           order_id  order_item_id  ...   price freight_value\n",
              "0  00010242fe8c5a6d1ba2dd792cb16214              1  ...   58.90         13.29\n",
              "1  00018f77f2f0320c557190d7a144bdd3              1  ...  239.90         19.93\n",
              "2  000229ec398224ef6ca0657da4fc703e              1  ...  199.00         17.87\n",
              "3  00024acbcdf0a6daa1e931b038114c75              1  ...   12.99         12.79\n",
              "4  00042b26cf59d7ce69dfabb4e55b4fd9              1  ...  199.90         18.14\n",
              "\n",
              "[5 rows x 7 columns]"
            ]
          },
          "metadata": {
            "tags": []
          },
          "execution_count": 142
        }
      ]
    },
    {
      "cell_type": "code",
      "metadata": {
        "colab": {
          "base_uri": "https://localhost:8080/",
          "height": 233
        },
        "id": "RviMx3ejIavg",
        "outputId": "5417cbc6-c4a7-47cd-976f-f44b695a38f8"
      },
      "source": [
        "print(df_produto.shape)\r\n",
        "df_produto.head()"
      ],
      "execution_count": null,
      "outputs": [
        {
          "output_type": "stream",
          "text": [
            "(32951, 9)\n"
          ],
          "name": "stdout"
        },
        {
          "output_type": "execute_result",
          "data": {
            "text/html": [
              "<div>\n",
              "<style scoped>\n",
              "    .dataframe tbody tr th:only-of-type {\n",
              "        vertical-align: middle;\n",
              "    }\n",
              "\n",
              "    .dataframe tbody tr th {\n",
              "        vertical-align: top;\n",
              "    }\n",
              "\n",
              "    .dataframe thead th {\n",
              "        text-align: right;\n",
              "    }\n",
              "</style>\n",
              "<table border=\"1\" class=\"dataframe\">\n",
              "  <thead>\n",
              "    <tr style=\"text-align: right;\">\n",
              "      <th></th>\n",
              "      <th>product_id</th>\n",
              "      <th>product_category_name</th>\n",
              "      <th>product_name_lenght</th>\n",
              "      <th>product_description_lenght</th>\n",
              "      <th>product_photos_qty</th>\n",
              "      <th>product_weight_g</th>\n",
              "      <th>product_length_cm</th>\n",
              "      <th>product_height_cm</th>\n",
              "      <th>product_width_cm</th>\n",
              "    </tr>\n",
              "  </thead>\n",
              "  <tbody>\n",
              "    <tr>\n",
              "      <th>0</th>\n",
              "      <td>1e9e8ef04dbcff4541ed26657ea517e5</td>\n",
              "      <td>perfumaria</td>\n",
              "      <td>40.0</td>\n",
              "      <td>287.0</td>\n",
              "      <td>1.0</td>\n",
              "      <td>225.0</td>\n",
              "      <td>16.0</td>\n",
              "      <td>10.0</td>\n",
              "      <td>14.0</td>\n",
              "    </tr>\n",
              "    <tr>\n",
              "      <th>1</th>\n",
              "      <td>3aa071139cb16b67ca9e5dea641aaa2f</td>\n",
              "      <td>artes</td>\n",
              "      <td>44.0</td>\n",
              "      <td>276.0</td>\n",
              "      <td>1.0</td>\n",
              "      <td>1000.0</td>\n",
              "      <td>30.0</td>\n",
              "      <td>18.0</td>\n",
              "      <td>20.0</td>\n",
              "    </tr>\n",
              "    <tr>\n",
              "      <th>2</th>\n",
              "      <td>96bd76ec8810374ed1b65e291975717f</td>\n",
              "      <td>esporte_lazer</td>\n",
              "      <td>46.0</td>\n",
              "      <td>250.0</td>\n",
              "      <td>1.0</td>\n",
              "      <td>154.0</td>\n",
              "      <td>18.0</td>\n",
              "      <td>9.0</td>\n",
              "      <td>15.0</td>\n",
              "    </tr>\n",
              "    <tr>\n",
              "      <th>3</th>\n",
              "      <td>cef67bcfe19066a932b7673e239eb23d</td>\n",
              "      <td>bebes</td>\n",
              "      <td>27.0</td>\n",
              "      <td>261.0</td>\n",
              "      <td>1.0</td>\n",
              "      <td>371.0</td>\n",
              "      <td>26.0</td>\n",
              "      <td>4.0</td>\n",
              "      <td>26.0</td>\n",
              "    </tr>\n",
              "    <tr>\n",
              "      <th>4</th>\n",
              "      <td>9dc1a7de274444849c219cff195d0b71</td>\n",
              "      <td>utilidades_domesticas</td>\n",
              "      <td>37.0</td>\n",
              "      <td>402.0</td>\n",
              "      <td>4.0</td>\n",
              "      <td>625.0</td>\n",
              "      <td>20.0</td>\n",
              "      <td>17.0</td>\n",
              "      <td>13.0</td>\n",
              "    </tr>\n",
              "  </tbody>\n",
              "</table>\n",
              "</div>"
            ],
            "text/plain": [
              "                         product_id  ... product_width_cm\n",
              "0  1e9e8ef04dbcff4541ed26657ea517e5  ...             14.0\n",
              "1  3aa071139cb16b67ca9e5dea641aaa2f  ...             20.0\n",
              "2  96bd76ec8810374ed1b65e291975717f  ...             15.0\n",
              "3  cef67bcfe19066a932b7673e239eb23d  ...             26.0\n",
              "4  9dc1a7de274444849c219cff195d0b71  ...             13.0\n",
              "\n",
              "[5 rows x 9 columns]"
            ]
          },
          "metadata": {
            "tags": []
          },
          "execution_count": 143
        }
      ]
    },
    {
      "cell_type": "markdown",
      "metadata": {
        "id": "X7qy4NVajoce"
      },
      "source": [
        "### Prepararo do dataset"
      ]
    },
    {
      "cell_type": "code",
      "metadata": {
        "id": "AQSPy2fJIliS"
      },
      "source": [
        "#Escolher variáleis as necesárias\r\n",
        "df_items = df_items.iloc[:, [2,5,6]]\r\n",
        "df_produto = df_produto.iloc[:, [0,1,5,6,7,8]]"
      ],
      "execution_count": null,
      "outputs": []
    },
    {
      "cell_type": "code",
      "metadata": {
        "id": "vtV1QFbxJa9f"
      },
      "source": [
        "#Indexar o id do produto\r\n",
        "df_items = df_items.set_index('product_id')\r\n",
        "df_produto = df_produto.set_index('product_id')"
      ],
      "execution_count": null,
      "outputs": []
    },
    {
      "cell_type": "code",
      "metadata": {
        "id": "bBPusWH_Jh_U"
      },
      "source": [
        " #Realizar um join entre as tabelas\r\n",
        " df = df_items.join(df_produto)"
      ],
      "execution_count": null,
      "outputs": []
    },
    {
      "cell_type": "code",
      "metadata": {
        "id": "ZeaGGHHOiEqy"
      },
      "source": [
        "#Calcular o volume e preço total de cada produto\r\n",
        "df[\"volume\"] = df[\"product_length_cm\"]*df[\"product_height_cm\"]*df[\"product_width_cm\"]\r\n",
        "df[\"preco\"] =  df[\"price\"]+df[\"freight_value\"]\r\n",
        "df = df.reset_index()"
      ],
      "execution_count": null,
      "outputs": []
    },
    {
      "cell_type": "code",
      "metadata": {
        "colab": {
          "base_uri": "https://localhost:8080/",
          "height": 195
        },
        "id": "7GtIcblOv_Dp",
        "outputId": "5e4f5ccf-318c-490e-c331-90c1ba59406d"
      },
      "source": [
        "#Escolher dataset final\r\n",
        "produtos = df.iloc[:, [0,3, 4 ,8,9]]\r\n",
        "produtos.head()"
      ],
      "execution_count": null,
      "outputs": [
        {
          "output_type": "execute_result",
          "data": {
            "text/html": [
              "<div>\n",
              "<style scoped>\n",
              "    .dataframe tbody tr th:only-of-type {\n",
              "        vertical-align: middle;\n",
              "    }\n",
              "\n",
              "    .dataframe tbody tr th {\n",
              "        vertical-align: top;\n",
              "    }\n",
              "\n",
              "    .dataframe thead th {\n",
              "        text-align: right;\n",
              "    }\n",
              "</style>\n",
              "<table border=\"1\" class=\"dataframe\">\n",
              "  <thead>\n",
              "    <tr style=\"text-align: right;\">\n",
              "      <th></th>\n",
              "      <th>product_id</th>\n",
              "      <th>product_category_name</th>\n",
              "      <th>product_weight_g</th>\n",
              "      <th>volume</th>\n",
              "      <th>preco</th>\n",
              "    </tr>\n",
              "  </thead>\n",
              "  <tbody>\n",
              "    <tr>\n",
              "      <th>0</th>\n",
              "      <td>00066f42aeeb9f3007548bb9d3f33c38</td>\n",
              "      <td>perfumaria</td>\n",
              "      <td>300.0</td>\n",
              "      <td>5120.0</td>\n",
              "      <td>120.24</td>\n",
              "    </tr>\n",
              "    <tr>\n",
              "      <th>1</th>\n",
              "      <td>00088930e925c41fd95ebfe695fd2655</td>\n",
              "      <td>automotivo</td>\n",
              "      <td>1225.0</td>\n",
              "      <td>14300.0</td>\n",
              "      <td>143.83</td>\n",
              "    </tr>\n",
              "    <tr>\n",
              "      <th>2</th>\n",
              "      <td>0009406fd7479715e4bef61dd91f2462</td>\n",
              "      <td>cama_mesa_banho</td>\n",
              "      <td>300.0</td>\n",
              "      <td>23625.0</td>\n",
              "      <td>242.10</td>\n",
              "    </tr>\n",
              "    <tr>\n",
              "      <th>3</th>\n",
              "      <td>000b8f95fcb9e0096488278317764d19</td>\n",
              "      <td>utilidades_domesticas</td>\n",
              "      <td>550.0</td>\n",
              "      <td>5472.0</td>\n",
              "      <td>78.50</td>\n",
              "    </tr>\n",
              "    <tr>\n",
              "      <th>4</th>\n",
              "      <td>000b8f95fcb9e0096488278317764d19</td>\n",
              "      <td>utilidades_domesticas</td>\n",
              "      <td>550.0</td>\n",
              "      <td>5472.0</td>\n",
              "      <td>78.50</td>\n",
              "    </tr>\n",
              "  </tbody>\n",
              "</table>\n",
              "</div>"
            ],
            "text/plain": [
              "                         product_id  product_category_name  ...   volume   preco\n",
              "0  00066f42aeeb9f3007548bb9d3f33c38             perfumaria  ...   5120.0  120.24\n",
              "1  00088930e925c41fd95ebfe695fd2655             automotivo  ...  14300.0  143.83\n",
              "2  0009406fd7479715e4bef61dd91f2462        cama_mesa_banho  ...  23625.0  242.10\n",
              "3  000b8f95fcb9e0096488278317764d19  utilidades_domesticas  ...   5472.0   78.50\n",
              "4  000b8f95fcb9e0096488278317764d19  utilidades_domesticas  ...   5472.0   78.50\n",
              "\n",
              "[5 rows x 5 columns]"
            ]
          },
          "metadata": {
            "tags": []
          },
          "execution_count": 174
        }
      ]
    },
    {
      "cell_type": "markdown",
      "metadata": {
        "id": "0Ox8-AQFIfUL"
      },
      "source": [
        "## Criando o Algoritimo Genético"
      ]
    },
    {
      "cell_type": "markdown",
      "metadata": {
        "id": "Rd_p3UEGKB2l"
      },
      "source": [
        "Tipo de caminhão VUC\r\n",
        "\r\n",
        "<p align=\"center\"><img src=\"https://www.4truck.com.br/site/wp-content/uploads/2016/02/4truck-mb-accelo-818-corrugado-natural-vuc-02.jpg\"></p>\r\n",
        "\r\n",
        "<p align=\"center\"><img src=\"https://www.truckpad.com.br/uploads/2017/01/329981fc-medidas-carrocerias-3.png\"></p>"
      ]
    },
    {
      "cell_type": "code",
      "metadata": {
        "id": "C3s-lNJIJ6R1"
      },
      "source": [
        "#lmimte de espaço no caminhão\r\n",
        "limtie_espacos = 2.2*7.2*3.5*100  #grandeza em centimetros\r\n",
        "limtie_peso = 4e+6   #grandeza em gramas"
      ],
      "execution_count": null,
      "outputs": []
    },
    {
      "cell_type": "code",
      "metadata": {
        "id": "voGQQBTm_w-m"
      },
      "source": [
        "#Criar Classe do Produto\r\n",
        "class Produto():\r\n",
        "    def __init__(self, nome, pesos, volume, valores):\r\n",
        "        self.nome = nome\r\n",
        "        self.pesos = pesos \r\n",
        "        self.volume = volume\r\n",
        "        self.valor = valor"
      ],
      "execution_count": null,
      "outputs": []
    },
    {
      "cell_type": "code",
      "metadata": {
        "id": "6qodsgcAvKU8"
      },
      "source": [
        "#Criando listas de produtos\r\n",
        "lista_produtos = []\r\n",
        "\r\n",
        "for i in range(len(produtos)):\r\n",
        "  lista_produtos.append(produtos.loc[i])"
      ],
      "execution_count": null,
      "outputs": []
    },
    {
      "cell_type": "code",
      "metadata": {
        "id": "7HPHeJJnmpd0"
      },
      "source": [
        "#Transformar em listas\r\n",
        "espacos = list(produtos.volume)\r\n",
        "valores = list(produtos.preco)\r\n",
        "nome = list(produtos.product_id)\r\n",
        "pesos = list(produtos.product_weight_g)"
      ],
      "execution_count": null,
      "outputs": []
    },
    {
      "cell_type": "code",
      "metadata": {
        "id": "2JxUNH2-hMrn"
      },
      "source": [
        "#Criar a função de avaliação\r\n",
        "def avaliacao(individual):\r\n",
        "    nota = 0 \r\n",
        "    soma_espacos = 0\r\n",
        "    soma_pesos = 0\r\n",
        "\r\n",
        "    for i in range(len(individual)):\r\n",
        "        if individual[i] == 1:\r\n",
        "            nota += valores[i]\r\n",
        "            soma_espacos += espacos[i]\r\n",
        "            soma_pesos += pesos[i]\r\n",
        "            \r\n",
        "    if soma_espacos > limtie_espacos and soma_pesos > limtie_peso:\r\n",
        "      nota = 1\r\n",
        "\r\n",
        "    return nota / 100000, "
      ],
      "execution_count": null,
      "outputs": []
    },
    {
      "cell_type": "code",
      "metadata": {
        "id": "LzRdnrDu_9ej"
      },
      "source": [
        "#Criar a toolbox\r\n",
        "toolbox = base.Toolbox()\r\n",
        "\r\n",
        "#Criando parâmetros na toolbox\r\n",
        "creator.create(\"FitnessMax\",  base.Fitness, weights = (1.0, ))\r\n",
        "creator.create(\"Individual\", list, fitness = creator.FitnessMax)\r\n",
        "\r\n",
        "#Registrando na toolbox\r\n",
        "toolbox.register(\"attr_bool\", random.randint, 0, 1)\r\n",
        "toolbox.register(\"individual\", tools.initRepeat, creator.Individual, toolbox.attr_bool, n = len(espacos))\r\n",
        "toolbox.register(\"population\", tools.initRepeat, list, toolbox.individual)\r\n",
        "toolbox.register(\"evaluate\", avaliacao)\r\n",
        "toolbox.register(\"mate\", tools.cxOnePoint)\r\n",
        "toolbox.register(\"mutate\", tools.mutFlipBit, indpb = 0.05)\r\n",
        "toolbox.register(\"select\", tools.selRoulette)"
      ],
      "execution_count": null,
      "outputs": []
    },
    {
      "cell_type": "code",
      "metadata": {
        "colab": {
          "base_uri": "https://localhost:8080/"
        },
        "id": "3bHzkkas1dc2",
        "outputId": "5d0b9771-d5a2-4bb6-b8db-4b5188d29bbd"
      },
      "source": [
        "#Iniciando a toolbox\r\n",
        "if __name__ == \"__main__\":\r\n",
        "    population = toolbox.population(n = 24)\r\n",
        "    probabilidade_crossover = 5.0\r\n",
        "    probabilidade_mutação = 0.03\r\n",
        "    numero_gerações = 250\r\n",
        "    \r\n",
        "    estatisticas = tools.Statistics( key = lambda individuo: individuo.fitness.values)\r\n",
        "    estatisticas.register(\"max\", np.max)\r\n",
        "    estatisticas.register(\"min\", np.min)\r\n",
        "    estatisticas.register(\"med\", np.mean)\r\n",
        "    estatisticas.register(\"std\", np.std)\r\n",
        "    \r\n",
        "    populacao, info = algorithms.eaSimple(population, toolbox, \r\n",
        "                                          probabilidade_crossover, \r\n",
        "                                          probabilidade_mutação,\r\n",
        "                                          numero_gerações, estatisticas)"
      ],
      "execution_count": null,
      "outputs": [
        {
          "output_type": "stream",
          "text": [
            "gen\tnevals\tmax    \tmin   \tmed    \tstd     \n",
            "0  \t24    \t79.9591\t78.701\t79.1992\t0.331206\n",
            "1  \t24    \t79.9318\t78.6237\t79.2077\t0.3424  \n",
            "2  \t24    \t79.8513\t78.6285\t79.1513\t0.430863\n",
            "3  \t24    \t79.905 \t78.6357\t79.1404\t0.282755\n",
            "4  \t24    \t79.8797\t78.6513\t79.2066\t0.310564\n",
            "5  \t24    \t80.0477\t78.5775\t79.2919\t0.350592\n",
            "6  \t24    \t79.9106\t78.591 \t79.3156\t0.362643\n",
            "7  \t24    \t79.9587\t78.8826\t79.3995\t0.275657\n",
            "8  \t24    \t80.1788\t78.5785\t79.3905\t0.352929\n",
            "9  \t24    \t80.0275\t78.5022\t79.3603\t0.395229\n",
            "10 \t24    \t79.835 \t78.793 \t79.2319\t0.323157\n",
            "11 \t24    \t79.8152\t78.7749\t79.1489\t0.270432\n",
            "12 \t24    \t79.694 \t78.3128\t79.129 \t0.354966\n",
            "13 \t24    \t80.1194\t78.6419\t79.2765\t0.332168\n",
            "14 \t24    \t79.5716\t78.6238\t79.2442\t0.258525\n",
            "15 \t24    \t79.9157\t78.6238\t79.2081\t0.324742\n",
            "16 \t24    \t80.0036\t78.4094\t79.2198\t0.384687\n",
            "17 \t24    \t79.6904\t78.53  \t79.1587\t0.320099\n",
            "18 \t24    \t79.6867\t78.5744\t79.1231\t0.290497\n",
            "19 \t24    \t79.6544\t78.5826\t79.1543\t0.301851\n",
            "20 \t24    \t79.7041\t78.6716\t79.2432\t0.274905\n",
            "21 \t24    \t79.758 \t78.9258\t79.3685\t0.243795\n",
            "22 \t24    \t79.7176\t78.8481\t79.2773\t0.210997\n",
            "23 \t24    \t79.7176\t78.7895\t79.2918\t0.209655\n",
            "24 \t24    \t79.7033\t78.9279\t79.36  \t0.213919\n",
            "25 \t24    \t79.6503\t79.0716\t79.391 \t0.180748\n",
            "26 \t24    \t79.7681\t78.971 \t79.4257\t0.227624\n",
            "27 \t24    \t79.8596\t78.9825\t79.4848\t0.205807\n",
            "28 \t24    \t79.8957\t78.9423\t79.3737\t0.250824\n",
            "29 \t24    \t79.824 \t78.785 \t79.3761\t0.225629\n",
            "30 \t24    \t79.8441\t78.9364\t79.3835\t0.220216\n",
            "31 \t24    \t79.6469\t78.7912\t79.317 \t0.216989\n",
            "32 \t24    \t79.5875\t78.9536\t79.3006\t0.198309\n",
            "33 \t24    \t79.706 \t78.9511\t79.2713\t0.200899\n",
            "34 \t24    \t79.6264\t78.9585\t79.3109\t0.188631\n",
            "35 \t24    \t79.7329\t78.9842\t79.3636\t0.176532\n",
            "36 \t24    \t79.721 \t78.9825\t79.337 \t0.213588\n",
            "37 \t24    \t79.7001\t78.8906\t79.3112\t0.203296\n",
            "38 \t24    \t79.5611\t78.8906\t79.2999\t0.179595\n",
            "39 \t24    \t79.6742\t78.9301\t79.2983\t0.204089\n",
            "40 \t24    \t79.6417\t78.8315\t79.2539\t0.202537\n",
            "41 \t24    \t79.6417\t78.8558\t79.2695\t0.218275\n",
            "42 \t24    \t79.5456\t78.7944\t79.2146\t0.167711\n",
            "43 \t24    \t79.6215\t78.8533\t79.2022\t0.206935\n",
            "44 \t24    \t79.4503\t78.7776\t79.1903\t0.171247\n",
            "45 \t24    \t79.4801\t78.9576\t79.2569\t0.145404\n",
            "46 \t24    \t79.4919\t78.941 \t79.2382\t0.147999\n",
            "47 \t24    \t79.4005\t79.0147\t79.1995\t0.13303 \n",
            "48 \t24    \t79.4005\t78.9597\t79.2103\t0.119585\n",
            "49 \t24    \t79.5126\t78.8874\t79.1834\t0.170851\n",
            "50 \t24    \t79.5306\t78.9287\t79.1996\t0.150191\n",
            "51 \t24    \t79.4945\t78.8937\t79.1829\t0.135882\n",
            "52 \t24    \t79.5973\t78.905 \t79.2088\t0.13102 \n",
            "53 \t24    \t79.4064\t78.827 \t79.16  \t0.120733\n",
            "54 \t24    \t79.3514\t78.9596\t79.183 \t0.0921711\n",
            "55 \t24    \t79.4862\t78.999 \t79.1806\t0.11128  \n",
            "56 \t24    \t79.4862\t79.0282\t79.2147\t0.114618 \n",
            "57 \t24    \t79.4445\t79.0292\t79.2335\t0.101357 \n",
            "58 \t24    \t79.4044\t79.0389\t79.2225\t0.112928 \n",
            "59 \t24    \t79.5683\t79.0627\t79.2416\t0.109931 \n",
            "60 \t24    \t79.5682\t78.991 \t79.2455\t0.13778  \n",
            "61 \t24    \t79.449 \t78.9863\t79.2333\t0.124432 \n",
            "62 \t24    \t79.4732\t78.9943\t79.2413\t0.135978 \n",
            "63 \t24    \t79.5652\t79.021 \t79.2584\t0.154318 \n",
            "64 \t24    \t79.541 \t79.021 \t79.2694\t0.145462 \n",
            "65 \t24    \t79.6188\t79.1226\t79.2664\t0.137434 \n",
            "66 \t24    \t79.5445\t78.9765\t79.268 \t0.132672 \n",
            "67 \t24    \t79.5445\t78.8898\t79.2561\t0.142616 \n",
            "68 \t24    \t79.4926\t79.009 \t79.2316\t0.107642 \n",
            "69 \t24    \t79.5426\t79.0513\t79.2979\t0.135916 \n",
            "70 \t24    \t79.6696\t79.1129\t79.34  \t0.121547 \n",
            "71 \t24    \t79.5985\t79.0787\t79.3491\t0.14601  \n",
            "72 \t24    \t79.6025\t79.0431\t79.3102\t0.164216 \n",
            "73 \t24    \t79.5985\t79.0435\t79.3417\t0.161192 \n",
            "74 \t24    \t79.6568\t79.1071\t79.3498\t0.155938 \n",
            "75 \t24    \t79.6302\t78.7644\t79.3147\t0.185995 \n",
            "76 \t24    \t79.6302\t78.8345\t79.2984\t0.182053 \n",
            "77 \t24    \t79.6302\t79.0627\t79.3621\t0.149309 \n",
            "78 \t24    \t79.4889\t78.9666\t79.2979\t0.164364 \n",
            "79 \t24    \t79.5996\t79.0132\t79.3361\t0.153572 \n",
            "80 \t24    \t79.6302\t78.9567\t79.3249\t0.17714  \n",
            "81 \t24    \t79.5679\t78.9099\t79.3252\t0.186182 \n",
            "82 \t24    \t79.5679\t78.9082\t79.3597\t0.172843 \n",
            "83 \t24    \t79.5683\t78.9479\t79.3392\t0.18773  \n",
            "84 \t24    \t79.5455\t78.9358\t79.375 \t0.147856 \n",
            "85 \t24    \t79.5834\t78.9358\t79.3642\t0.164677 \n",
            "86 \t24    \t79.5834\t79.0264\t79.3328\t0.150053 \n",
            "87 \t24    \t79.6382\t79.0455\t79.298 \t0.138711 \n",
            "88 \t24    \t79.6069\t78.9966\t79.2749\t0.139373 \n",
            "89 \t24    \t79.4579\t79.0735\t79.2941\t0.114354 \n",
            "90 \t24    \t79.5174\t79.0735\t79.2901\t0.115108 \n",
            "91 \t24    \t79.4681\t79.0861\t79.2716\t0.116798 \n",
            "92 \t24    \t79.5109\t78.9582\t79.2398\t0.143205 \n",
            "93 \t24    \t79.5109\t78.9623\t79.25  \t0.141422 \n",
            "94 \t24    \t79.5109\t78.9036\t79.2296\t0.149372 \n",
            "95 \t24    \t79.5109\t78.9623\t79.2388\t0.123556 \n",
            "96 \t24    \t79.5109\t78.96  \t79.2129\t0.120402 \n",
            "97 \t24    \t79.553 \t78.9498\t79.2222\t0.129748 \n",
            "98 \t24    \t79.343 \t78.9498\t79.2015\t0.119286 \n",
            "99 \t24    \t79.3874\t78.9769\t79.2208\t0.0914472\n",
            "100\t24    \t79.3787\t78.9769\t79.2228\t0.125435 \n",
            "101\t24    \t79.3862\t78.9778\t79.2086\t0.0929832\n",
            "102\t24    \t79.3641\t78.9778\t79.1862\t0.0844381\n",
            "103\t24    \t79.3681\t79.0313\t79.1963\t0.101842 \n",
            "104\t24    \t79.4889\t78.9336\t79.2403\t0.128759 \n",
            "105\t24    \t79.4889\t78.5237\t79.2217\t0.185683 \n",
            "106\t24    \t79.3756\t78.9278\t79.1968\t0.114304 \n",
            "107\t24    \t79.4411\t78.9163\t79.1939\t0.135468 \n",
            "108\t24    \t79.4207\t78.7234\t79.1657\t0.184462 \n",
            "109\t24    \t79.4599\t78.644 \t79.1693\t0.193265 \n",
            "110\t24    \t79.5043\t78.9122\t79.2295\t0.154057 \n",
            "111\t24    \t79.3713\t78.9098\t79.2092\t0.124953 \n",
            "112\t24    \t79.4376\t79.0232\t79.2305\t0.0910459\n",
            "113\t24    \t79.352 \t79.0231\t79.2262\t0.0812053\n",
            "114\t24    \t79.6819\t79.0643\t79.2646\t0.111416 \n",
            "115\t24    \t79.6459\t79.0349\t79.2626\t0.128772 \n",
            "116\t24    \t79.5331\t79.0767\t79.2548\t0.0958624\n",
            "117\t24    \t79.4389\t79.075 \t79.2739\t0.0907144\n",
            "118\t24    \t79.4685\t79.1355\t79.2716\t0.088419 \n",
            "119\t24    \t79.4291\t79.1064\t79.288 \t0.0743773\n",
            "120\t24    \t79.5105\t78.9879\t79.2796\t0.11893  \n",
            "121\t24    \t79.5177\t78.9425\t79.2452\t0.127272 \n",
            "122\t24    \t79.4283\t79.032 \t79.2498\t0.101951 \n",
            "123\t24    \t79.407 \t79.1628\t79.2714\t0.0649104\n",
            "124\t24    \t79.5198\t79.1484\t79.2811\t0.0950696\n",
            "125\t24    \t79.5335\t79.0645\t79.2668\t0.121271 \n",
            "126\t24    \t79.5335\t78.9083\t79.2268\t0.14231  \n",
            "127\t24    \t79.6647\t78.9975\t79.2304\t0.150062 \n",
            "128\t24    \t79.4518\t79.0783\t79.2611\t0.108695 \n",
            "129\t24    \t79.47  \t79.0997\t79.2693\t0.104178 \n",
            "130\t24    \t79.5741\t78.9856\t79.2878\t0.117836 \n",
            "131\t24    \t79.5143\t78.9856\t79.2742\t0.136213 \n",
            "132\t24    \t79.5238\t78.9576\t79.2771\t0.141421 \n",
            "133\t24    \t79.5802\t78.9576\t79.2405\t0.147639 \n",
            "134\t24    \t79.5371\t78.8902\t79.2449\t0.175343 \n",
            "135\t24    \t79.4788\t78.8591\t79.1748\t0.192345 \n",
            "136\t24    \t79.4784\t78.8807\t79.1679\t0.172344 \n",
            "137\t24    \t79.4167\t78.9025\t79.1663\t0.133757 \n",
            "138\t24    \t79.4028\t78.8657\t79.1592\t0.13716  \n",
            "139\t24    \t79.3017\t78.8657\t79.1204\t0.11749  \n",
            "140\t24    \t79.367 \t78.8036\t79.1236\t0.128739 \n",
            "141\t24    \t79.3628\t78.7422\t79.0838\t0.169841 \n",
            "142\t24    \t79.3609\t78.7014\t79.1278\t0.169525 \n",
            "143\t24    \t79.4309\t78.6815\t79.0741\t0.209137 \n",
            "144\t24    \t79.3689\t78.6851\t79.0756\t0.189104 \n",
            "145\t24    \t79.4273\t78.7346\t79.088 \t0.182539 \n",
            "146\t24    \t79.4982\t78.8165\t79.1348\t0.18738  \n",
            "147\t24    \t79.4547\t78.8165\t79.1171\t0.177257 \n",
            "148\t24    \t79.4382\t78.8165\t79.0899\t0.187204 \n",
            "149\t24    \t79.4957\t78.8155\t79.1071\t0.178314 \n",
            "150\t24    \t79.4957\t78.865 \t79.1611\t0.180705 \n",
            "151\t24    \t79.3465\t78.8533\t79.0846\t0.146004 \n",
            "152\t24    \t79.4166\t78.787 \t79.1504\t0.150406 \n",
            "153\t24    \t79.3635\t78.8687\t79.1468\t0.127029 \n",
            "154\t24    \t79.3465\t78.9358\t79.1719\t0.105668 \n",
            "155\t24    \t79.4081\t79.0333\t79.194 \t0.107802 \n",
            "156\t24    \t79.4081\t78.8736\t79.1666\t0.133987 \n",
            "157\t24    \t79.354 \t78.8736\t79.185 \t0.11979  \n",
            "158\t24    \t79.4009\t78.9312\t79.1699\t0.108688 \n",
            "159\t24    \t79.3045\t78.9312\t79.1572\t0.0877496\n",
            "160\t24    \t79.4722\t78.9312\t79.148 \t0.136761 \n",
            "161\t24    \t79.4822\t78.8848\t79.1302\t0.16848  \n",
            "162\t24    \t79.4613\t78.9112\t79.2004\t0.176831 \n",
            "163\t24    \t79.5063\t78.9171\t79.2344\t0.153869 \n",
            "164\t24    \t79.5325\t79.0815\t79.2594\t0.127664 \n",
            "165\t24    \t79.5195\t79.0501\t79.2313\t0.129066 \n",
            "166\t24    \t79.5195\t78.865 \t79.2218\t0.15612  \n",
            "167\t24    \t79.5108\t79.0631\t79.2768\t0.150641 \n",
            "168\t24    \t79.5248\t79.041 \t79.1912\t0.132169 \n",
            "169\t24    \t79.4619\t78.9455\t79.1706\t0.131634 \n",
            "170\t24    \t79.5484\t78.8476\t79.2055\t0.160377 \n",
            "171\t24    \t79.4089\t78.9159\t79.2143\t0.121264 \n",
            "172\t24    \t79.6159\t78.999 \t79.2252\t0.134667 \n",
            "173\t24    \t79.4505\t78.999 \t79.2052\t0.112515 \n",
            "174\t24    \t79.4131\t78.9996\t79.1648\t0.118371 \n",
            "175\t24    \t79.454 \t78.9052\t79.187 \t0.13147  \n",
            "176\t24    \t79.3953\t78.8827\t79.1455\t0.117559 \n",
            "177\t24    \t79.3953\t78.8932\t79.1564\t0.114958 \n",
            "178\t24    \t79.3761\t78.9718\t79.1862\t0.125374 \n",
            "179\t24    \t79.3969\t78.9811\t79.1797\t0.115656 \n",
            "180\t24    \t79.3189\t78.9644\t79.1659\t0.094747 \n",
            "181\t24    \t79.378 \t78.8961\t79.1542\t0.0914119\n",
            "182\t24    \t79.4494\t78.9352\t79.1197\t0.122434 \n",
            "183\t24    \t79.3862\t78.8411\t79.1104\t0.153823 \n",
            "184\t24    \t79.4251\t78.793 \t79.0994\t0.154177 \n",
            "185\t24    \t79.322 \t78.7384\t79.13  \t0.139626 \n",
            "186\t24    \t79.3978\t79.0132\t79.1955\t0.105344 \n",
            "187\t24    \t79.455 \t78.8938\t79.1996\t0.141589 \n",
            "188\t24    \t79.4532\t79.0584\t79.2292\t0.121899 \n",
            "189\t24    \t79.4961\t78.99  \t79.2481\t0.132143 \n",
            "190\t24    \t79.6455\t78.8525\t79.1959\t0.169441 \n",
            "191\t24    \t79.714 \t78.8492\t79.1939\t0.192049 \n",
            "192\t24    \t79.7729\t78.6994\t79.2327\t0.208543 \n",
            "193\t24    \t79.7014\t78.6505\t79.22  \t0.232601 \n",
            "194\t24    \t79.5128\t78.6505\t79.1948\t0.207756 \n",
            "195\t24    \t79.5497\t78.6291\t79.1916\t0.234138 \n",
            "196\t24    \t79.5921\t78.7425\t79.2537\t0.212302 \n",
            "197\t24    \t79.4967\t78.8068\t79.259 \t0.182337 \n",
            "198\t24    \t79.4967\t78.7454\t79.2057\t0.180029 \n",
            "199\t24    \t79.5441\t78.7019\t79.2092\t0.228894 \n",
            "200\t24    \t79.5222\t78.6951\t79.1512\t0.281612 \n",
            "201\t24    \t79.4025\t78.5866\t79.0575\t0.257265 \n",
            "202\t24    \t79.5982\t78.5698\t79.0572\t0.286493 \n",
            "203\t24    \t79.5572\t78.5698\t79.098 \t0.259686 \n",
            "204\t24    \t79.4303\t78.5698\t79.0747\t0.246803 \n",
            "205\t24    \t79.3919\t78.7498\t79.0456\t0.225761 \n",
            "206\t24    \t79.4071\t78.7284\t79.0439\t0.199154 \n",
            "207\t24    \t79.3822\t78.7622\t79.1034\t0.164347 \n",
            "208\t24    \t79.347 \t78.6776\t79.0715\t0.167127 \n",
            "209\t24    \t79.3938\t78.6308\t79.0901\t0.172854 \n",
            "210\t24    \t79.4232\t78.743 \t79.1467\t0.157777 \n",
            "211\t24    \t79.3755\t78.6955\t79.0912\t0.178723 \n",
            "212\t24    \t79.2943\t78.7266\t79.0317\t0.146586 \n",
            "213\t24    \t79.3916\t78.6395\t79.051 \t0.200622 \n",
            "214\t24    \t79.4329\t78.6867\t79.1315\t0.189786 \n",
            "215\t24    \t79.3974\t78.7218\t79.1303\t0.175057 \n",
            "216\t24    \t79.5029\t78.8421\t79.1107\t0.172063 \n",
            "217\t24    \t79.4642\t78.8287\t79.1229\t0.17208  \n",
            "218\t24    \t79.4642\t78.8472\t79.1399\t0.141891 \n",
            "219\t24    \t79.4679\t78.8788\t79.1219\t0.157896 \n",
            "220\t24    \t79.429 \t78.832 \t79.1461\t0.146329 \n",
            "221\t24    \t79.4281\t78.9258\t79.1639\t0.130588 \n",
            "222\t24    \t79.4401\t78.8881\t79.2222\t0.177271 \n",
            "223\t24    \t79.4531\t78.9309\t79.2284\t0.153633 \n",
            "224\t24    \t79.5318\t78.9227\t79.2197\t0.148681 \n",
            "225\t24    \t79.5507\t78.9072\t79.2634\t0.17345  \n",
            "226\t24    \t79.5507\t78.8174\t79.2486\t0.171807 \n",
            "227\t24    \t79.5888\t78.9218\t79.2657\t0.157095 \n",
            "228\t24    \t79.4464\t78.9338\t79.2513\t0.122138 \n",
            "229\t24    \t79.5261\t79.0043\t79.2889\t0.109357 \n",
            "230\t24    \t79.6994\t78.8865\t79.32  \t0.194466 \n",
            "231\t24    \t79.6159\t79.0095\t79.3381\t0.151889 \n",
            "232\t24    \t79.6869\t79.0128\t79.3271\t0.131874 \n",
            "233\t24    \t79.499 \t79.1036\t79.2891\t0.101258 \n",
            "234\t24    \t79.5055\t79.1389\t79.3151\t0.0996183\n",
            "235\t24    \t79.5374\t79.1206\t79.2902\t0.0948789\n",
            "236\t24    \t79.7214\t78.8263\t79.308 \t0.173189 \n",
            "237\t24    \t79.6183\t79.1098\t79.3557\t0.128481 \n",
            "238\t24    \t79.6927\t79.0089\t79.3761\t0.178389 \n",
            "239\t24    \t79.7768\t79.0943\t79.4208\t0.163208 \n",
            "240\t24    \t79.7686\t79.0721\t79.3896\t0.15456  \n",
            "241\t24    \t79.7071\t79.1048\t79.4117\t0.149648 \n",
            "242\t24    \t79.7044\t78.9494\t79.4432\t0.164874 \n",
            "243\t24    \t79.7044\t79.1586\t79.4364\t0.130759 \n",
            "244\t24    \t79.7044\t79.1045\t79.4135\t0.164569 \n",
            "245\t24    \t79.6036\t78.8877\t79.3743\t0.17458  \n",
            "246\t24    \t79.6036\t78.8888\t79.3675\t0.1993   \n",
            "247\t24    \t79.6626\t78.967 \t79.3777\t0.169313 \n",
            "248\t24    \t79.6626\t79.0651\t79.4036\t0.16527  \n",
            "249\t24    \t79.6626\t79.0651\t79.4117\t0.167714 \n",
            "250\t24    \t79.6839\t79.056 \t79.4195\t0.155313 \n"
          ],
          "name": "stdout"
        }
      ]
    },
    {
      "cell_type": "code",
      "metadata": {
        "colab": {
          "base_uri": "https://localhost:8080/"
        },
        "id": "MtQZmWsukvkn",
        "outputId": "d5931553-a6f0-4deb-9b2d-15b3b44e3acf"
      },
      "source": [
        "#Identificando o melhor indivíduo\r\n",
        "melhores = tools.selBest(populacao, 5)\r\n",
        "\r\n",
        "for individuo in melhores:\r\n",
        "    df_otimizado = []\r\n",
        "    soma = 0\r\n",
        "    indi = 0\r\n",
        "    for i in range (len(lista_produtos)):\r\n",
        "        if individuo[i] == 1:\r\n",
        "            soma += valores[i]\r\n",
        "            indi += individuo[i]\r\n",
        "            df_otimizado.append(lista_produtos[i])\r\n",
        "\r\n",
        "    print(\"---\")\r\n",
        "    print(individuo.fitness)\r\n",
        "    print(\"Valor total do Indivíduo: R$\", soma)\r\n",
        "    print(\"Número Indivíduo:\", indi)"
      ],
      "execution_count": null,
      "outputs": [
        {
          "output_type": "stream",
          "text": [
            "---\n",
            "(79.68387809999737,)\n",
            "Valor total do Indivíduo: R$ 7968387.809999738\n",
            "Número Indivíduo: 56604\n",
            "---\n",
            "(79.64055149999739,)\n",
            "Valor total do Indivíduo: R$ 7964055.149999739\n",
            "Número Indivíduo: 56493\n",
            "---\n",
            "(79.6279951999974,)\n",
            "Valor total do Indivíduo: R$ 7962799.519999741\n",
            "Número Indivíduo: 56566\n",
            "---\n",
            "(79.59507469999738,)\n",
            "Valor total do Indivíduo: R$ 7959507.469999738\n",
            "Número Indivíduo: 56563\n",
            "---\n",
            "(79.58947649999742,)\n",
            "Valor total do Indivíduo: R$ 7958947.649999741\n",
            "Número Indivíduo: 56517\n"
          ],
          "name": "stdout"
        }
      ]
    },
    {
      "cell_type": "code",
      "metadata": {
        "colab": {
          "base_uri": "https://localhost:8080/",
          "height": 195
        },
        "id": "t2I3RQ6kmITu",
        "outputId": "782c29bd-60dd-486e-b736-d544f48ab6b0"
      },
      "source": [
        "df_otimizado = pd.DataFrame(df_otimizado)\r\n",
        "df_otimizado.head()"
      ],
      "execution_count": null,
      "outputs": [
        {
          "output_type": "execute_result",
          "data": {
            "text/html": [
              "<div>\n",
              "<style scoped>\n",
              "    .dataframe tbody tr th:only-of-type {\n",
              "        vertical-align: middle;\n",
              "    }\n",
              "\n",
              "    .dataframe tbody tr th {\n",
              "        vertical-align: top;\n",
              "    }\n",
              "\n",
              "    .dataframe thead th {\n",
              "        text-align: right;\n",
              "    }\n",
              "</style>\n",
              "<table border=\"1\" class=\"dataframe\">\n",
              "  <thead>\n",
              "    <tr style=\"text-align: right;\">\n",
              "      <th></th>\n",
              "      <th>product_id</th>\n",
              "      <th>product_category_name</th>\n",
              "      <th>product_weight_g</th>\n",
              "      <th>volume</th>\n",
              "      <th>preco</th>\n",
              "    </tr>\n",
              "  </thead>\n",
              "  <tbody>\n",
              "    <tr>\n",
              "      <th>1</th>\n",
              "      <td>00088930e925c41fd95ebfe695fd2655</td>\n",
              "      <td>automotivo</td>\n",
              "      <td>1225.0</td>\n",
              "      <td>14300.0</td>\n",
              "      <td>143.83</td>\n",
              "    </tr>\n",
              "    <tr>\n",
              "      <th>2</th>\n",
              "      <td>0009406fd7479715e4bef61dd91f2462</td>\n",
              "      <td>cama_mesa_banho</td>\n",
              "      <td>300.0</td>\n",
              "      <td>23625.0</td>\n",
              "      <td>242.10</td>\n",
              "    </tr>\n",
              "    <tr>\n",
              "      <th>4</th>\n",
              "      <td>000b8f95fcb9e0096488278317764d19</td>\n",
              "      <td>utilidades_domesticas</td>\n",
              "      <td>550.0</td>\n",
              "      <td>5472.0</td>\n",
              "      <td>78.50</td>\n",
              "    </tr>\n",
              "    <tr>\n",
              "      <th>6</th>\n",
              "      <td>0011c512eb256aa0dbbb544d8dffcf6e</td>\n",
              "      <td>automotivo</td>\n",
              "      <td>100.0</td>\n",
              "      <td>3840.0</td>\n",
              "      <td>67.80</td>\n",
              "    </tr>\n",
              "    <tr>\n",
              "      <th>7</th>\n",
              "      <td>00126f27c813603687e6ce486d909d01</td>\n",
              "      <td>cool_stuff</td>\n",
              "      <td>700.0</td>\n",
              "      <td>1875.0</td>\n",
              "      <td>262.24</td>\n",
              "    </tr>\n",
              "  </tbody>\n",
              "</table>\n",
              "</div>"
            ],
            "text/plain": [
              "                         product_id  product_category_name  ...   volume   preco\n",
              "1  00088930e925c41fd95ebfe695fd2655             automotivo  ...  14300.0  143.83\n",
              "2  0009406fd7479715e4bef61dd91f2462        cama_mesa_banho  ...  23625.0  242.10\n",
              "4  000b8f95fcb9e0096488278317764d19  utilidades_domesticas  ...   5472.0   78.50\n",
              "6  0011c512eb256aa0dbbb544d8dffcf6e             automotivo  ...   3840.0   67.80\n",
              "7  00126f27c813603687e6ce486d909d01             cool_stuff  ...   1875.0  262.24\n",
              "\n",
              "[5 rows x 5 columns]"
            ]
          },
          "metadata": {
            "tags": []
          },
          "execution_count": 206
        }
      ]
    },
    {
      "cell_type": "code",
      "metadata": {
        "id": "PH23egY8AgN0",
        "colab": {
          "base_uri": "https://localhost:8080/",
          "height": 497
        },
        "outputId": "5bac702b-37cf-4d64-acff-596cd712dfa8"
      },
      "source": [
        "#Plotando o aprendizado\r\n",
        "valores_pop = info.select(\"max\")\r\n",
        "plt.figure(figsize = (12,6))\r\n",
        "plt.plot(valores_pop)\r\n",
        "plt.show()"
      ],
      "execution_count": null,
      "outputs": [
        {
          "output_type": "display_data",
          "data": {
            "text/plain": [
              "<Figure size 864x432 with 1 Axes>"
            ],
            "image/svg+xml": "<?xml version=\"1.0\" encoding=\"utf-8\" standalone=\"no\"?>\n<!DOCTYPE svg PUBLIC \"-//W3C//DTD SVG 1.1//EN\"\n  \"http://www.w3.org/Graphics/SVG/1.1/DTD/svg11.dtd\">\n<!-- Created with matplotlib (https://matplotlib.org/) -->\n<svg height=\"357.238125pt\" version=\"1.1\" viewBox=\"0 0 713.265625 357.238125\" width=\"713.265625pt\" xmlns=\"http://www.w3.org/2000/svg\" xmlns:xlink=\"http://www.w3.org/1999/xlink\">\n <defs>\n  <style type=\"text/css\">\n*{stroke-linecap:butt;stroke-linejoin:round;}\n  </style>\n </defs>\n <g id=\"figure_1\">\n  <g id=\"patch_1\">\n   <path d=\"M 0 357.238125 \nL 713.265625 357.238125 \nL 713.265625 0 \nL 0 0 \nz\n\" style=\"fill:none;\"/>\n  </g>\n  <g id=\"axes_1\">\n   <g id=\"patch_2\">\n    <path d=\"M 36.465625 333.36 \nL 706.065625 333.36 \nL 706.065625 7.2 \nL 36.465625 7.2 \nz\n\" style=\"fill:#ffffff;\"/>\n   </g>\n   <g id=\"matplotlib.axis_1\">\n    <g id=\"xtick_1\">\n     <g id=\"line2d_1\">\n      <defs>\n       <path d=\"M 0 0 \nL 0 3.5 \n\" id=\"m852df3dd83\" style=\"stroke:#000000;stroke-width:0.8;\"/>\n      </defs>\n      <g>\n       <use style=\"stroke:#000000;stroke-width:0.8;\" x=\"66.901989\" xlink:href=\"#m852df3dd83\" y=\"333.36\"/>\n      </g>\n     </g>\n     <g id=\"text_1\">\n      <!-- 0 -->\n      <defs>\n       <path d=\"M 31.78125 66.40625 \nQ 24.171875 66.40625 20.328125 58.90625 \nQ 16.5 51.421875 16.5 36.375 \nQ 16.5 21.390625 20.328125 13.890625 \nQ 24.171875 6.390625 31.78125 6.390625 \nQ 39.453125 6.390625 43.28125 13.890625 \nQ 47.125 21.390625 47.125 36.375 \nQ 47.125 51.421875 43.28125 58.90625 \nQ 39.453125 66.40625 31.78125 66.40625 \nz\nM 31.78125 74.21875 \nQ 44.046875 74.21875 50.515625 64.515625 \nQ 56.984375 54.828125 56.984375 36.375 \nQ 56.984375 17.96875 50.515625 8.265625 \nQ 44.046875 -1.421875 31.78125 -1.421875 \nQ 19.53125 -1.421875 13.0625 8.265625 \nQ 6.59375 17.96875 6.59375 36.375 \nQ 6.59375 54.828125 13.0625 64.515625 \nQ 19.53125 74.21875 31.78125 74.21875 \nz\n\" id=\"DejaVuSans-48\"/>\n      </defs>\n      <g transform=\"translate(63.720739 347.958438)scale(0.1 -0.1)\">\n       <use xlink:href=\"#DejaVuSans-48\"/>\n      </g>\n     </g>\n    </g>\n    <g id=\"xtick_2\">\n     <g id=\"line2d_2\">\n      <g>\n       <use style=\"stroke:#000000;stroke-width:0.8;\" x=\"188.647443\" xlink:href=\"#m852df3dd83\" y=\"333.36\"/>\n      </g>\n     </g>\n     <g id=\"text_2\">\n      <!-- 50 -->\n      <defs>\n       <path d=\"M 10.796875 72.90625 \nL 49.515625 72.90625 \nL 49.515625 64.59375 \nL 19.828125 64.59375 \nL 19.828125 46.734375 \nQ 21.96875 47.46875 24.109375 47.828125 \nQ 26.265625 48.1875 28.421875 48.1875 \nQ 40.625 48.1875 47.75 41.5 \nQ 54.890625 34.8125 54.890625 23.390625 \nQ 54.890625 11.625 47.5625 5.09375 \nQ 40.234375 -1.421875 26.90625 -1.421875 \nQ 22.3125 -1.421875 17.546875 -0.640625 \nQ 12.796875 0.140625 7.71875 1.703125 \nL 7.71875 11.625 \nQ 12.109375 9.234375 16.796875 8.0625 \nQ 21.484375 6.890625 26.703125 6.890625 \nQ 35.15625 6.890625 40.078125 11.328125 \nQ 45.015625 15.765625 45.015625 23.390625 \nQ 45.015625 31 40.078125 35.4375 \nQ 35.15625 39.890625 26.703125 39.890625 \nQ 22.75 39.890625 18.8125 39.015625 \nQ 14.890625 38.140625 10.796875 36.28125 \nz\n\" id=\"DejaVuSans-53\"/>\n      </defs>\n      <g transform=\"translate(182.284943 347.958438)scale(0.1 -0.1)\">\n       <use xlink:href=\"#DejaVuSans-53\"/>\n       <use x=\"63.623047\" xlink:href=\"#DejaVuSans-48\"/>\n      </g>\n     </g>\n    </g>\n    <g id=\"xtick_3\">\n     <g id=\"line2d_3\">\n      <g>\n       <use style=\"stroke:#000000;stroke-width:0.8;\" x=\"310.392898\" xlink:href=\"#m852df3dd83\" y=\"333.36\"/>\n      </g>\n     </g>\n     <g id=\"text_3\">\n      <!-- 100 -->\n      <defs>\n       <path d=\"M 12.40625 8.296875 \nL 28.515625 8.296875 \nL 28.515625 63.921875 \nL 10.984375 60.40625 \nL 10.984375 69.390625 \nL 28.421875 72.90625 \nL 38.28125 72.90625 \nL 38.28125 8.296875 \nL 54.390625 8.296875 \nL 54.390625 0 \nL 12.40625 0 \nz\n\" id=\"DejaVuSans-49\"/>\n      </defs>\n      <g transform=\"translate(300.849148 347.958438)scale(0.1 -0.1)\">\n       <use xlink:href=\"#DejaVuSans-49\"/>\n       <use x=\"63.623047\" xlink:href=\"#DejaVuSans-48\"/>\n       <use x=\"127.246094\" xlink:href=\"#DejaVuSans-48\"/>\n      </g>\n     </g>\n    </g>\n    <g id=\"xtick_4\">\n     <g id=\"line2d_4\">\n      <g>\n       <use style=\"stroke:#000000;stroke-width:0.8;\" x=\"432.138352\" xlink:href=\"#m852df3dd83\" y=\"333.36\"/>\n      </g>\n     </g>\n     <g id=\"text_4\">\n      <!-- 150 -->\n      <g transform=\"translate(422.594602 347.958438)scale(0.1 -0.1)\">\n       <use xlink:href=\"#DejaVuSans-49\"/>\n       <use x=\"63.623047\" xlink:href=\"#DejaVuSans-53\"/>\n       <use x=\"127.246094\" xlink:href=\"#DejaVuSans-48\"/>\n      </g>\n     </g>\n    </g>\n    <g id=\"xtick_5\">\n     <g id=\"line2d_5\">\n      <g>\n       <use style=\"stroke:#000000;stroke-width:0.8;\" x=\"553.883807\" xlink:href=\"#m852df3dd83\" y=\"333.36\"/>\n      </g>\n     </g>\n     <g id=\"text_5\">\n      <!-- 200 -->\n      <defs>\n       <path d=\"M 19.1875 8.296875 \nL 53.609375 8.296875 \nL 53.609375 0 \nL 7.328125 0 \nL 7.328125 8.296875 \nQ 12.9375 14.109375 22.625 23.890625 \nQ 32.328125 33.6875 34.8125 36.53125 \nQ 39.546875 41.84375 41.421875 45.53125 \nQ 43.3125 49.21875 43.3125 52.78125 \nQ 43.3125 58.59375 39.234375 62.25 \nQ 35.15625 65.921875 28.609375 65.921875 \nQ 23.96875 65.921875 18.8125 64.3125 \nQ 13.671875 62.703125 7.8125 59.421875 \nL 7.8125 69.390625 \nQ 13.765625 71.78125 18.9375 73 \nQ 24.125 74.21875 28.421875 74.21875 \nQ 39.75 74.21875 46.484375 68.546875 \nQ 53.21875 62.890625 53.21875 53.421875 \nQ 53.21875 48.921875 51.53125 44.890625 \nQ 49.859375 40.875 45.40625 35.40625 \nQ 44.1875 33.984375 37.640625 27.21875 \nQ 31.109375 20.453125 19.1875 8.296875 \nz\n\" id=\"DejaVuSans-50\"/>\n      </defs>\n      <g transform=\"translate(544.340057 347.958438)scale(0.1 -0.1)\">\n       <use xlink:href=\"#DejaVuSans-50\"/>\n       <use x=\"63.623047\" xlink:href=\"#DejaVuSans-48\"/>\n       <use x=\"127.246094\" xlink:href=\"#DejaVuSans-48\"/>\n      </g>\n     </g>\n    </g>\n    <g id=\"xtick_6\">\n     <g id=\"line2d_6\">\n      <g>\n       <use style=\"stroke:#000000;stroke-width:0.8;\" x=\"675.629261\" xlink:href=\"#m852df3dd83\" y=\"333.36\"/>\n      </g>\n     </g>\n     <g id=\"text_6\">\n      <!-- 250 -->\n      <g transform=\"translate(666.085511 347.958438)scale(0.1 -0.1)\">\n       <use xlink:href=\"#DejaVuSans-50\"/>\n       <use x=\"63.623047\" xlink:href=\"#DejaVuSans-53\"/>\n       <use x=\"127.246094\" xlink:href=\"#DejaVuSans-48\"/>\n      </g>\n     </g>\n    </g>\n   </g>\n   <g id=\"matplotlib.axis_2\">\n    <g id=\"ytick_1\">\n     <g id=\"line2d_7\">\n      <defs>\n       <path d=\"M 0 0 \nL -3.5 0 \n\" id=\"md123416618\" style=\"stroke:#000000;stroke-width:0.8;\"/>\n      </defs>\n      <g>\n       <use style=\"stroke:#000000;stroke-width:0.8;\" x=\"36.465625\" xlink:href=\"#md123416618\" y=\"283.101332\"/>\n      </g>\n     </g>\n     <g id=\"text_7\">\n      <!-- 79.4 -->\n      <defs>\n       <path d=\"M 8.203125 72.90625 \nL 55.078125 72.90625 \nL 55.078125 68.703125 \nL 28.609375 0 \nL 18.3125 0 \nL 43.21875 64.59375 \nL 8.203125 64.59375 \nz\n\" id=\"DejaVuSans-55\"/>\n       <path d=\"M 10.984375 1.515625 \nL 10.984375 10.5 \nQ 14.703125 8.734375 18.5 7.8125 \nQ 22.3125 6.890625 25.984375 6.890625 \nQ 35.75 6.890625 40.890625 13.453125 \nQ 46.046875 20.015625 46.78125 33.40625 \nQ 43.953125 29.203125 39.59375 26.953125 \nQ 35.25 24.703125 29.984375 24.703125 \nQ 19.046875 24.703125 12.671875 31.3125 \nQ 6.296875 37.9375 6.296875 49.421875 \nQ 6.296875 60.640625 12.9375 67.421875 \nQ 19.578125 74.21875 30.609375 74.21875 \nQ 43.265625 74.21875 49.921875 64.515625 \nQ 56.59375 54.828125 56.59375 36.375 \nQ 56.59375 19.140625 48.40625 8.859375 \nQ 40.234375 -1.421875 26.421875 -1.421875 \nQ 22.703125 -1.421875 18.890625 -0.6875 \nQ 15.09375 0.046875 10.984375 1.515625 \nz\nM 30.609375 32.421875 \nQ 37.25 32.421875 41.125 36.953125 \nQ 45.015625 41.5 45.015625 49.421875 \nQ 45.015625 57.28125 41.125 61.84375 \nQ 37.25 66.40625 30.609375 66.40625 \nQ 23.96875 66.40625 20.09375 61.84375 \nQ 16.21875 57.28125 16.21875 49.421875 \nQ 16.21875 41.5 20.09375 36.953125 \nQ 23.96875 32.421875 30.609375 32.421875 \nz\n\" id=\"DejaVuSans-57\"/>\n       <path d=\"M 10.6875 12.40625 \nL 21 12.40625 \nL 21 0 \nL 10.6875 0 \nz\n\" id=\"DejaVuSans-46\"/>\n       <path d=\"M 37.796875 64.3125 \nL 12.890625 25.390625 \nL 37.796875 25.390625 \nz\nM 35.203125 72.90625 \nL 47.609375 72.90625 \nL 47.609375 25.390625 \nL 58.015625 25.390625 \nL 58.015625 17.1875 \nL 47.609375 17.1875 \nL 47.609375 0 \nL 37.796875 0 \nL 37.796875 17.1875 \nL 4.890625 17.1875 \nL 4.890625 26.703125 \nz\n\" id=\"DejaVuSans-52\"/>\n      </defs>\n      <g transform=\"translate(7.2 286.900551)scale(0.1 -0.1)\">\n       <use xlink:href=\"#DejaVuSans-55\"/>\n       <use x=\"63.623047\" xlink:href=\"#DejaVuSans-57\"/>\n       <use x=\"127.246094\" xlink:href=\"#DejaVuSans-46\"/>\n       <use x=\"159.033203\" xlink:href=\"#DejaVuSans-52\"/>\n      </g>\n     </g>\n    </g>\n    <g id=\"ytick_2\">\n     <g id=\"line2d_8\">\n      <g>\n       <use style=\"stroke:#000000;stroke-width:0.8;\" x=\"36.465625\" xlink:href=\"#md123416618\" y=\"216.053672\"/>\n      </g>\n     </g>\n     <g id=\"text_8\">\n      <!-- 79.6 -->\n      <defs>\n       <path d=\"M 33.015625 40.375 \nQ 26.375 40.375 22.484375 35.828125 \nQ 18.609375 31.296875 18.609375 23.390625 \nQ 18.609375 15.53125 22.484375 10.953125 \nQ 26.375 6.390625 33.015625 6.390625 \nQ 39.65625 6.390625 43.53125 10.953125 \nQ 47.40625 15.53125 47.40625 23.390625 \nQ 47.40625 31.296875 43.53125 35.828125 \nQ 39.65625 40.375 33.015625 40.375 \nz\nM 52.59375 71.296875 \nL 52.59375 62.3125 \nQ 48.875 64.0625 45.09375 64.984375 \nQ 41.3125 65.921875 37.59375 65.921875 \nQ 27.828125 65.921875 22.671875 59.328125 \nQ 17.53125 52.734375 16.796875 39.40625 \nQ 19.671875 43.65625 24.015625 45.921875 \nQ 28.375 48.1875 33.59375 48.1875 \nQ 44.578125 48.1875 50.953125 41.515625 \nQ 57.328125 34.859375 57.328125 23.390625 \nQ 57.328125 12.15625 50.6875 5.359375 \nQ 44.046875 -1.421875 33.015625 -1.421875 \nQ 20.359375 -1.421875 13.671875 8.265625 \nQ 6.984375 17.96875 6.984375 36.375 \nQ 6.984375 53.65625 15.1875 63.9375 \nQ 23.390625 74.21875 37.203125 74.21875 \nQ 40.921875 74.21875 44.703125 73.484375 \nQ 48.484375 72.75 52.59375 71.296875 \nz\n\" id=\"DejaVuSans-54\"/>\n      </defs>\n      <g transform=\"translate(7.2 219.852891)scale(0.1 -0.1)\">\n       <use xlink:href=\"#DejaVuSans-55\"/>\n       <use x=\"63.623047\" xlink:href=\"#DejaVuSans-57\"/>\n       <use x=\"127.246094\" xlink:href=\"#DejaVuSans-46\"/>\n       <use x=\"159.033203\" xlink:href=\"#DejaVuSans-54\"/>\n      </g>\n     </g>\n    </g>\n    <g id=\"ytick_3\">\n     <g id=\"line2d_9\">\n      <g>\n       <use style=\"stroke:#000000;stroke-width:0.8;\" x=\"36.465625\" xlink:href=\"#md123416618\" y=\"149.006012\"/>\n      </g>\n     </g>\n     <g id=\"text_9\">\n      <!-- 79.8 -->\n      <defs>\n       <path d=\"M 31.78125 34.625 \nQ 24.75 34.625 20.71875 30.859375 \nQ 16.703125 27.09375 16.703125 20.515625 \nQ 16.703125 13.921875 20.71875 10.15625 \nQ 24.75 6.390625 31.78125 6.390625 \nQ 38.8125 6.390625 42.859375 10.171875 \nQ 46.921875 13.96875 46.921875 20.515625 \nQ 46.921875 27.09375 42.890625 30.859375 \nQ 38.875 34.625 31.78125 34.625 \nz\nM 21.921875 38.8125 \nQ 15.578125 40.375 12.03125 44.71875 \nQ 8.5 49.078125 8.5 55.328125 \nQ 8.5 64.0625 14.71875 69.140625 \nQ 20.953125 74.21875 31.78125 74.21875 \nQ 42.671875 74.21875 48.875 69.140625 \nQ 55.078125 64.0625 55.078125 55.328125 \nQ 55.078125 49.078125 51.53125 44.71875 \nQ 48 40.375 41.703125 38.8125 \nQ 48.828125 37.15625 52.796875 32.3125 \nQ 56.78125 27.484375 56.78125 20.515625 \nQ 56.78125 9.90625 50.3125 4.234375 \nQ 43.84375 -1.421875 31.78125 -1.421875 \nQ 19.734375 -1.421875 13.25 4.234375 \nQ 6.78125 9.90625 6.78125 20.515625 \nQ 6.78125 27.484375 10.78125 32.3125 \nQ 14.796875 37.15625 21.921875 38.8125 \nz\nM 18.3125 54.390625 \nQ 18.3125 48.734375 21.84375 45.5625 \nQ 25.390625 42.390625 31.78125 42.390625 \nQ 38.140625 42.390625 41.71875 45.5625 \nQ 45.3125 48.734375 45.3125 54.390625 \nQ 45.3125 60.0625 41.71875 63.234375 \nQ 38.140625 66.40625 31.78125 66.40625 \nQ 25.390625 66.40625 21.84375 63.234375 \nQ 18.3125 60.0625 18.3125 54.390625 \nz\n\" id=\"DejaVuSans-56\"/>\n      </defs>\n      <g transform=\"translate(7.2 152.805231)scale(0.1 -0.1)\">\n       <use xlink:href=\"#DejaVuSans-55\"/>\n       <use x=\"63.623047\" xlink:href=\"#DejaVuSans-57\"/>\n       <use x=\"127.246094\" xlink:href=\"#DejaVuSans-46\"/>\n       <use x=\"159.033203\" xlink:href=\"#DejaVuSans-56\"/>\n      </g>\n     </g>\n    </g>\n    <g id=\"ytick_4\">\n     <g id=\"line2d_10\">\n      <g>\n       <use style=\"stroke:#000000;stroke-width:0.8;\" x=\"36.465625\" xlink:href=\"#md123416618\" y=\"81.958352\"/>\n      </g>\n     </g>\n     <g id=\"text_10\">\n      <!-- 80.0 -->\n      <g transform=\"translate(7.2 85.757571)scale(0.1 -0.1)\">\n       <use xlink:href=\"#DejaVuSans-56\"/>\n       <use x=\"63.623047\" xlink:href=\"#DejaVuSans-48\"/>\n       <use x=\"127.246094\" xlink:href=\"#DejaVuSans-46\"/>\n       <use x=\"159.033203\" xlink:href=\"#DejaVuSans-48\"/>\n      </g>\n     </g>\n    </g>\n    <g id=\"ytick_5\">\n     <g id=\"line2d_11\">\n      <g>\n       <use style=\"stroke:#000000;stroke-width:0.8;\" x=\"36.465625\" xlink:href=\"#md123416618\" y=\"14.910692\"/>\n      </g>\n     </g>\n     <g id=\"text_11\">\n      <!-- 80.2 -->\n      <g transform=\"translate(7.2 18.709911)scale(0.1 -0.1)\">\n       <use xlink:href=\"#DejaVuSans-56\"/>\n       <use x=\"63.623047\" xlink:href=\"#DejaVuSans-48\"/>\n       <use x=\"127.246094\" xlink:href=\"#DejaVuSans-46\"/>\n       <use x=\"159.033203\" xlink:href=\"#DejaVuSans-50\"/>\n      </g>\n     </g>\n    </g>\n   </g>\n   <g id=\"line2d_12\">\n    <path clip-path=\"url(#pd08647d32c)\" d=\"M 66.901989 95.683679 \nL 69.336898 104.831527 \nL 71.771807 131.799806 \nL 74.206716 113.813567 \nL 76.641625 122.286413 \nL 79.076534 65.952835 \nL 81.511443 111.934154 \nL 83.946352 95.816399 \nL 86.381261 22.025455 \nL 88.81617 72.722638 \nL 91.25108 137.27532 \nL 93.685989 143.904255 \nL 96.120898 184.542646 \nL 98.555807 41.938509 \nL 100.990716 225.57387 \nL 103.425625 110.206135 \nL 105.860534 80.756724 \nL 108.295443 185.744677 \nL 110.730352 187.000446 \nL 113.165261 197.801757 \nL 115.60017 181.162807 \nL 118.03508 163.100805 \nL 120.469989 176.645538 \nL 122.904898 176.645538 \nL 125.339807 181.429422 \nL 127.774716 199.175094 \nL 130.209625 159.702427 \nL 132.644534 129.009886 \nL 135.079443 116.931887 \nL 137.514352 140.967434 \nL 139.949261 134.212616 \nL 142.38417 200.333879 \nL 144.81908 220.229065 \nL 147.253989 180.502086 \nL 149.688898 207.21954 \nL 152.123807 171.513107 \nL 154.558716 175.483033 \nL 156.993625 182.495581 \nL 159.428534 229.082742 \nL 161.863443 191.178018 \nL 164.298352 202.079163 \nL 166.733261 202.079163 \nL 169.16817 234.277796 \nL 171.60308 208.837098 \nL 174.037989 266.238812 \nL 176.472898 256.24157 \nL 178.907807 252.308387 \nL 181.342716 282.919633 \nL 183.777625 282.919633 \nL 186.212534 245.341029 \nL 188.647443 239.333089 \nL 191.082352 251.431303 \nL 193.517261 216.971353 \nL 195.95217 280.94099 \nL 198.38708 299.387276 \nL 200.821989 254.199734 \nL 203.256898 254.199734 \nL 208.126716 281.641068 \nL 210.561625 226.690247 \nL 212.996534 226.705601 \nL 215.431443 266.671638 \nL 217.866352 258.551999 \nL 220.301261 227.715909 \nL 222.73617 235.835548 \nL 225.17108 209.764836 \nL 227.605989 234.663253 \nL 230.040898 234.669455 \nL 232.475807 252.044957 \nL 234.910716 235.299334 \nL 237.345625 192.717667 \nL 239.780534 216.548316 \nL 242.215443 215.207765 \nL 244.650352 216.548316 \nL 247.085261 197.001711 \nL 249.52017 205.929408 \nL 254.389989 205.936113 \nL 256.824898 253.28212 \nL 259.259807 216.171006 \nL 261.694716 205.929408 \nL 264.129625 226.812743 \nL 266.564534 226.812743 \nL 268.999443 226.676636 \nL 271.434352 234.311085 \nL 273.869261 221.615711 \nL 276.30417 221.615711 \nL 278.73908 203.244552 \nL 281.173989 213.728728 \nL 283.608898 263.682888 \nL 286.043807 243.760514 \nL 288.478716 260.266073 \nL 290.913625 245.928098 \nL 300.653261 245.928098 \nL 303.08817 231.795524 \nL 305.52308 302.208373 \nL 307.957989 287.325838 \nL 310.392898 290.237215 \nL 312.827807 287.716927 \nL 315.262716 295.131962 \nL 317.697625 293.783365 \nL 320.132534 253.295731 \nL 322.567443 253.295731 \nL 325.002352 291.268072 \nL 327.437261 269.314959 \nL 329.87217 276.152915 \nL 332.30708 263.029375 \nL 334.741989 248.137888 \nL 337.176898 292.710335 \nL 339.611807 270.509681 \nL 342.046716 299.192301 \nL 344.481625 188.593532 \nL 346.916534 200.665731 \nL 349.351443 238.473538 \nL 351.786352 270.051578 \nL 354.221261 260.144549 \nL 356.65617 273.343517 \nL 359.09108 246.046974 \nL 361.525989 243.631447 \nL 363.960898 273.628671 \nL 366.395807 280.74112 \nL 368.830716 242.950545 \nL 371.265625 238.332436 \nL 373.700534 238.332436 \nL 376.135443 194.364257 \nL 378.570352 265.723216 \nL 381.005261 259.649603 \nL 383.44017 224.750189 \nL 385.87508 244.770587 \nL 388.309989 241.588002 \nL 390.744898 222.705135 \nL 393.179807 237.146631 \nL 395.614716 256.686331 \nL 398.049625 256.807419 \nL 400.484534 277.487566 \nL 402.919443 282.158843 \nL 405.354352 316.040641 \nL 407.789261 294.162956 \nL 410.22417 295.581919 \nL 412.65908 296.192388 \nL 415.093989 272.733987 \nL 417.528898 293.515275 \nL 419.963807 273.93528 \nL 422.398716 250.17845 \nL 424.833625 264.768088 \nL 427.268534 270.30646 \nL 429.703443 251.019463 \nL 432.138352 251.019463 \nL 434.573261 301.045197 \nL 437.00817 277.540466 \nL 439.44308 295.321103 \nL 441.877989 301.045197 \nL 444.312898 280.381812 \nL 446.747807 280.381812 \nL 449.182716 298.525512 \nL 451.617625 282.791907 \nL 454.052534 315.103482 \nL 456.487443 258.911978 \nL 458.922352 255.531167 \nL 461.357261 262.55109 \nL 463.79217 247.481492 \nL 466.22708 238.674044 \nL 468.661989 243.0365 \nL 471.096898 243.0365 \nL 473.531807 245.964304 \nL 475.966716 241.267213 \nL 478.401625 262.353803 \nL 480.836534 233.34637 \nL 483.271443 280.129311 \nL 485.706352 210.735418 \nL 488.141261 266.166099 \nL 490.57617 278.703006 \nL 493.01108 264.987301 \nL 495.445989 284.669745 \nL 497.880898 284.669745 \nL 500.315807 291.124322 \nL 502.750716 284.148617 \nL 505.185625 310.289594 \nL 507.620534 290.488006 \nL 510.055443 266.544248 \nL 512.490352 287.712133 \nL 514.925261 274.683398 \nL 517.36017 309.260446 \nL 519.79508 283.851394 \nL 522.229989 264.675495 \nL 524.664898 265.256095 \nL 527.099807 250.900151 \nL 529.534716 200.792351 \nL 531.969625 177.841501 \nL 534.404534 158.087081 \nL 536.839443 182.044953 \nL 539.274352 245.272674 \nL 541.709261 232.906437 \nL 544.14417 218.714392 \nL 546.57908 250.686672 \nL 549.013989 250.683822 \nL 551.448898 234.795806 \nL 553.883807 242.143291 \nL 556.318716 282.251335 \nL 558.753625 216.652307 \nL 561.188534 230.415013 \nL 563.623443 272.948305 \nL 566.058352 285.80989 \nL 568.493261 280.714603 \nL 570.92817 289.073971 \nL 573.36308 300.86923 \nL 575.797989 285.176658 \nL 578.232898 275.31378 \nL 580.667807 291.317889 \nL 583.102716 318.534545 \nL 585.537625 285.903187 \nL 587.972534 272.062572 \nL 590.407443 283.959945 \nL 592.842352 248.601456 \nL 595.277261 261.569278 \nL 597.71217 261.569278 \nL 600.14708 260.328025 \nL 602.581989 273.375566 \nL 605.016898 273.683013 \nL 607.451807 269.667629 \nL 609.886716 265.30933 \nL 612.321625 238.923998 \nL 614.756534 232.578406 \nL 617.191443 232.578406 \nL 619.626352 219.804184 \nL 622.061261 267.531592 \nL 624.49617 240.827481 \nL 626.93108 182.738696 \nL 629.365989 210.715606 \nL 631.800898 186.928504 \nL 634.235807 249.896079 \nL 636.670716 247.732853 \nL 639.105625 237.029231 \nL 641.540534 175.35829 \nL 643.975443 209.930913 \nL 646.410352 184.978791 \nL 648.845261 156.781865 \nL 651.28017 159.525656 \nL 653.71508 180.13614 \nL 656.149989 181.057174 \nL 661.019807 181.057174 \nL 663.454716 214.848826 \nL 665.889625 214.848826 \nL 668.324534 195.052568 \nL 673.194352 195.052568 \nL 675.629261 187.934521 \nL 675.629261 187.934521 \n\" style=\"fill:none;stroke:#1f77b4;stroke-linecap:square;stroke-width:1.5;\"/>\n   </g>\n   <g id=\"patch_3\">\n    <path d=\"M 36.465625 333.36 \nL 36.465625 7.2 \n\" style=\"fill:none;stroke:#000000;stroke-linecap:square;stroke-linejoin:miter;stroke-width:0.8;\"/>\n   </g>\n   <g id=\"patch_4\">\n    <path d=\"M 706.065625 333.36 \nL 706.065625 7.2 \n\" style=\"fill:none;stroke:#000000;stroke-linecap:square;stroke-linejoin:miter;stroke-width:0.8;\"/>\n   </g>\n   <g id=\"patch_5\">\n    <path d=\"M 36.465625 333.36 \nL 706.065625 333.36 \n\" style=\"fill:none;stroke:#000000;stroke-linecap:square;stroke-linejoin:miter;stroke-width:0.8;\"/>\n   </g>\n   <g id=\"patch_6\">\n    <path d=\"M 36.465625 7.2 \nL 706.065625 7.2 \n\" style=\"fill:none;stroke:#000000;stroke-linecap:square;stroke-linejoin:miter;stroke-width:0.8;\"/>\n   </g>\n  </g>\n </g>\n <defs>\n  <clipPath id=\"pd08647d32c\">\n   <rect height=\"326.16\" width=\"669.6\" x=\"36.465625\" y=\"7.2\"/>\n  </clipPath>\n </defs>\n</svg>\n"
          },
          "metadata": {
            "tags": [],
            "needs_background": "light"
          }
        }
      ]
    },
    {
      "cell_type": "code",
      "metadata": {
        "id": "2WQdZEZHvzMT"
      },
      "source": [
        ""
      ],
      "execution_count": null,
      "outputs": []
    }
  ]
}