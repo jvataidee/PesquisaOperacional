{
  "nbformat": 4,
  "nbformat_minor": 0,
  "metadata": {
    "colab": {
      "name": "otimização_caraga_caminhão.ipynb",
      "provenance": [],
      "include_colab_link": true
    },
    "kernelspec": {
      "name": "python3",
      "display_name": "Python 3"
    }
  },
  "cells": [
    {
      "cell_type": "markdown",
      "metadata": {
        "id": "view-in-github",
        "colab_type": "text"
      },
      "source": [
        "<a href=\"https://colab.research.google.com/github/jvataidee/PesquisaOperacional/blob/master/otimiza%C3%A7%C3%A3o_caraga_caminh%C3%A3o.ipynb\" target=\"_parent\"><img src=\"https://colab.research.google.com/assets/colab-badge.svg\" alt=\"Open In Colab\"/></a>"
      ]
    },
    {
      "cell_type": "markdown",
      "metadata": {
        "id": "3ttm_UoU_fbC"
      },
      "source": [
        "\r\n",
        "<p align=\"center\"><img src=\"https://static.wixstatic.com/media/bdd7cb_6ecb6c85550043f090237e5943d2647c~mv2.png/v1/fill/w_417,h_88,al_c,q_85,usm_0.66_1.00_0.01/Ativo%2023-8.webp\" height=\"75px\"></p>\r\n",
        "\r\n",
        "**by: [João Ataíde](https://www.joaoataide.com)**\r\n",
        "# **Otimização de Cargas com Algoritimo Genéticos**\r\n",
        "\r\n",
        "\r\n",
        "---\r\n",
        "\r\n",
        "\r\n",
        "<p align=\"center\"><img src=\"https://static.wixstatic.com/media/bdd7cb_f77572eb85d049688987c967d9038104~mv2.jpg\"></p>\r\n",
        "\r\n",
        "\r\n"
      ]
    },
    {
      "cell_type": "code",
      "metadata": {
        "id": "9SipqIz5_qVl",
        "colab": {
          "base_uri": "https://localhost:8080/"
        },
        "outputId": "52b45e59-7422-4c80-b8cc-9076af0a6736"
      },
      "source": [
        "!pip install deap -q"
      ],
      "execution_count": null,
      "outputs": [
        {
          "output_type": "stream",
          "text": [
            "\u001b[?25l\r\u001b[K     |██                              | 10kB 18.8MB/s eta 0:00:01\r\u001b[K     |████▏                           | 20kB 23.7MB/s eta 0:00:01\r\u001b[K     |██████▎                         | 30kB 25.9MB/s eta 0:00:01\r\u001b[K     |████████▍                       | 40kB 16.8MB/s eta 0:00:01\r\u001b[K     |██████████▍                     | 51kB 18.5MB/s eta 0:00:01\r\u001b[K     |████████████▌                   | 61kB 13.9MB/s eta 0:00:01\r\u001b[K     |██████████████▋                 | 71kB 15.2MB/s eta 0:00:01\r\u001b[K     |████████████████▊               | 81kB 16.4MB/s eta 0:00:01\r\u001b[K     |██████████████████▊             | 92kB 15.2MB/s eta 0:00:01\r\u001b[K     |████████████████████▉           | 102kB 14.3MB/s eta 0:00:01\r\u001b[K     |███████████████████████         | 112kB 14.3MB/s eta 0:00:01\r\u001b[K     |█████████████████████████       | 122kB 14.3MB/s eta 0:00:01\r\u001b[K     |███████████████████████████▏    | 133kB 14.3MB/s eta 0:00:01\r\u001b[K     |█████████████████████████████▏  | 143kB 14.3MB/s eta 0:00:01\r\u001b[K     |███████████████████████████████▎| 153kB 14.3MB/s eta 0:00:01\r\u001b[K     |████████████████████████████████| 163kB 14.3MB/s \n",
            "\u001b[?25h"
          ],
          "name": "stdout"
        }
      ]
    },
    {
      "cell_type": "code",
      "metadata": {
        "id": "qPY_LOpn_ecO"
      },
      "source": [
        "import numpy as np\r\n",
        "import random\r\n",
        "import pandas as pd\r\n",
        "from deap import base, creator, algorithms, tools\r\n",
        "import matplotlib.pyplot as plt\r\n",
        "import seaborn as sns\r\n",
        "\r\n",
        "#configurações de gráficos\r\n",
        "%matplotlib inline\r\n",
        "%config InlineBackend.figure_format = 'svg'"
      ],
      "execution_count": null,
      "outputs": []
    },
    {
      "cell_type": "markdown",
      "metadata": {
        "id": "CbFZHS9DH8kG"
      },
      "source": [
        "## Importando os dados"
      ]
    },
    {
      "cell_type": "markdown",
      "metadata": {
        "id": "_Eb15axFjjo7"
      },
      "source": [
        ""
      ]
    },
    {
      "cell_type": "code",
      "metadata": {
        "id": "hlTOpuhdHRGN"
      },
      "source": [
        "!pip install kaggle -q"
      ],
      "execution_count": null,
      "outputs": []
    },
    {
      "cell_type": "code",
      "metadata": {
        "id": "lDj-ssmKBLhG"
      },
      "source": [
        "from google.colab import files\r\n",
        "files.upload()"
      ],
      "execution_count": null,
      "outputs": []
    },
    {
      "cell_type": "code",
      "metadata": {
        "id": "DFNZfYZ1HWwK"
      },
      "source": [
        "!mkdir -p ~/.kaggle\r\n",
        "!cp kaggle.json ~/.kaggle/\r\n",
        "!chmod 600 ~/.kaggle/kaggle.json"
      ],
      "execution_count": null,
      "outputs": []
    },
    {
      "cell_type": "code",
      "metadata": {
        "colab": {
          "base_uri": "https://localhost:8080/"
        },
        "id": "jXM-6q_pHYzo",
        "outputId": "0a5f4e32-7d51-4c40-af4f-973dd04e8ba2"
      },
      "source": [
        "!kaggle datasets download -d olistbr/brazilian-ecommerce"
      ],
      "execution_count": null,
      "outputs": [
        {
          "output_type": "stream",
          "text": [
            "Downloading brazilian-ecommerce.zip to /content\n",
            " 59% 25.0M/42.7M [00:00<00:00, 23.1MB/s]\n",
            "100% 42.7M/42.7M [00:00<00:00, 46.3MB/s]\n"
          ],
          "name": "stdout"
        }
      ]
    },
    {
      "cell_type": "code",
      "metadata": {
        "colab": {
          "base_uri": "https://localhost:8080/"
        },
        "id": "BbzUJEvkHasY",
        "outputId": "dd183173-3654-43e0-a276-e376b0e9806d"
      },
      "source": [
        "!ls"
      ],
      "execution_count": null,
      "outputs": [
        {
          "output_type": "stream",
          "text": [
            "brazilian-ecommerce.zip  kaggle.json  sample_data\n"
          ],
          "name": "stdout"
        }
      ]
    },
    {
      "cell_type": "code",
      "metadata": {
        "id": "CczDJTQkHcx2"
      },
      "source": [
        "import zipfile\r\n",
        "zip_ref = zipfile.ZipFile('brazilian-ecommerce.zip', 'r')\r\n",
        "zip_ref.extractall('files')\r\n",
        "zip_ref.close()"
      ],
      "execution_count": null,
      "outputs": []
    },
    {
      "cell_type": "code",
      "metadata": {
        "id": "XxmhXYvNHzT3"
      },
      "source": [
        "df_items = pd.read_csv('/content/files/olist_order_items_dataset.csv')\r\n",
        "df_produto = pd.read_csv('/content/files/olist_products_dataset.csv')"
      ],
      "execution_count": null,
      "outputs": []
    },
    {
      "cell_type": "code",
      "metadata": {
        "colab": {
          "base_uri": "https://localhost:8080/",
          "height": 233
        },
        "id": "DqA0njSwIToJ",
        "outputId": "16dd812e-bb89-4fdd-8f0d-59f10d3ded26"
      },
      "source": [
        "print(df_items.shape)\r\n",
        "df_items.head()"
      ],
      "execution_count": null,
      "outputs": [
        {
          "output_type": "stream",
          "text": [
            "(112650, 7)\n"
          ],
          "name": "stdout"
        },
        {
          "output_type": "execute_result",
          "data": {
            "text/html": [
              "<div>\n",
              "<style scoped>\n",
              "    .dataframe tbody tr th:only-of-type {\n",
              "        vertical-align: middle;\n",
              "    }\n",
              "\n",
              "    .dataframe tbody tr th {\n",
              "        vertical-align: top;\n",
              "    }\n",
              "\n",
              "    .dataframe thead th {\n",
              "        text-align: right;\n",
              "    }\n",
              "</style>\n",
              "<table border=\"1\" class=\"dataframe\">\n",
              "  <thead>\n",
              "    <tr style=\"text-align: right;\">\n",
              "      <th></th>\n",
              "      <th>order_id</th>\n",
              "      <th>order_item_id</th>\n",
              "      <th>product_id</th>\n",
              "      <th>seller_id</th>\n",
              "      <th>shipping_limit_date</th>\n",
              "      <th>price</th>\n",
              "      <th>freight_value</th>\n",
              "    </tr>\n",
              "  </thead>\n",
              "  <tbody>\n",
              "    <tr>\n",
              "      <th>0</th>\n",
              "      <td>00010242fe8c5a6d1ba2dd792cb16214</td>\n",
              "      <td>1</td>\n",
              "      <td>4244733e06e7ecb4970a6e2683c13e61</td>\n",
              "      <td>48436dade18ac8b2bce089ec2a041202</td>\n",
              "      <td>2017-09-19 09:45:35</td>\n",
              "      <td>58.90</td>\n",
              "      <td>13.29</td>\n",
              "    </tr>\n",
              "    <tr>\n",
              "      <th>1</th>\n",
              "      <td>00018f77f2f0320c557190d7a144bdd3</td>\n",
              "      <td>1</td>\n",
              "      <td>e5f2d52b802189ee658865ca93d83a8f</td>\n",
              "      <td>dd7ddc04e1b6c2c614352b383efe2d36</td>\n",
              "      <td>2017-05-03 11:05:13</td>\n",
              "      <td>239.90</td>\n",
              "      <td>19.93</td>\n",
              "    </tr>\n",
              "    <tr>\n",
              "      <th>2</th>\n",
              "      <td>000229ec398224ef6ca0657da4fc703e</td>\n",
              "      <td>1</td>\n",
              "      <td>c777355d18b72b67abbeef9df44fd0fd</td>\n",
              "      <td>5b51032eddd242adc84c38acab88f23d</td>\n",
              "      <td>2018-01-18 14:48:30</td>\n",
              "      <td>199.00</td>\n",
              "      <td>17.87</td>\n",
              "    </tr>\n",
              "    <tr>\n",
              "      <th>3</th>\n",
              "      <td>00024acbcdf0a6daa1e931b038114c75</td>\n",
              "      <td>1</td>\n",
              "      <td>7634da152a4610f1595efa32f14722fc</td>\n",
              "      <td>9d7a1d34a5052409006425275ba1c2b4</td>\n",
              "      <td>2018-08-15 10:10:18</td>\n",
              "      <td>12.99</td>\n",
              "      <td>12.79</td>\n",
              "    </tr>\n",
              "    <tr>\n",
              "      <th>4</th>\n",
              "      <td>00042b26cf59d7ce69dfabb4e55b4fd9</td>\n",
              "      <td>1</td>\n",
              "      <td>ac6c3623068f30de03045865e4e10089</td>\n",
              "      <td>df560393f3a51e74553ab94004ba5c87</td>\n",
              "      <td>2017-02-13 13:57:51</td>\n",
              "      <td>199.90</td>\n",
              "      <td>18.14</td>\n",
              "    </tr>\n",
              "  </tbody>\n",
              "</table>\n",
              "</div>"
            ],
            "text/plain": [
              "                           order_id  order_item_id  ...   price freight_value\n",
              "0  00010242fe8c5a6d1ba2dd792cb16214              1  ...   58.90         13.29\n",
              "1  00018f77f2f0320c557190d7a144bdd3              1  ...  239.90         19.93\n",
              "2  000229ec398224ef6ca0657da4fc703e              1  ...  199.00         17.87\n",
              "3  00024acbcdf0a6daa1e931b038114c75              1  ...   12.99         12.79\n",
              "4  00042b26cf59d7ce69dfabb4e55b4fd9              1  ...  199.90         18.14\n",
              "\n",
              "[5 rows x 7 columns]"
            ]
          },
          "metadata": {
            "tags": []
          },
          "execution_count": 13
        }
      ]
    },
    {
      "cell_type": "code",
      "metadata": {
        "colab": {
          "base_uri": "https://localhost:8080/",
          "height": 213
        },
        "id": "RviMx3ejIavg",
        "outputId": "4fa2770d-b7a5-401e-ec49-a8307aabf038"
      },
      "source": [
        "print(df_produto.shape)\r\n",
        "df_produto.head()"
      ],
      "execution_count": null,
      "outputs": [
        {
          "output_type": "stream",
          "text": [
            "(32951, 6)\n"
          ],
          "name": "stdout"
        },
        {
          "output_type": "execute_result",
          "data": {
            "text/html": [
              "<div>\n",
              "<style scoped>\n",
              "    .dataframe tbody tr th:only-of-type {\n",
              "        vertical-align: middle;\n",
              "    }\n",
              "\n",
              "    .dataframe tbody tr th {\n",
              "        vertical-align: top;\n",
              "    }\n",
              "\n",
              "    .dataframe thead th {\n",
              "        text-align: right;\n",
              "    }\n",
              "</style>\n",
              "<table border=\"1\" class=\"dataframe\">\n",
              "  <thead>\n",
              "    <tr style=\"text-align: right;\">\n",
              "      <th></th>\n",
              "      <th>product_id</th>\n",
              "      <th>product_category_name</th>\n",
              "      <th>product_weight_g</th>\n",
              "      <th>product_length_cm</th>\n",
              "      <th>product_height_cm</th>\n",
              "      <th>product_width_cm</th>\n",
              "    </tr>\n",
              "  </thead>\n",
              "  <tbody>\n",
              "    <tr>\n",
              "      <th>0</th>\n",
              "      <td>1e9e8ef04dbcff4541ed26657ea517e5</td>\n",
              "      <td>perfumaria</td>\n",
              "      <td>225.0</td>\n",
              "      <td>16.0</td>\n",
              "      <td>10.0</td>\n",
              "      <td>14.0</td>\n",
              "    </tr>\n",
              "    <tr>\n",
              "      <th>1</th>\n",
              "      <td>3aa071139cb16b67ca9e5dea641aaa2f</td>\n",
              "      <td>artes</td>\n",
              "      <td>1000.0</td>\n",
              "      <td>30.0</td>\n",
              "      <td>18.0</td>\n",
              "      <td>20.0</td>\n",
              "    </tr>\n",
              "    <tr>\n",
              "      <th>2</th>\n",
              "      <td>96bd76ec8810374ed1b65e291975717f</td>\n",
              "      <td>esporte_lazer</td>\n",
              "      <td>154.0</td>\n",
              "      <td>18.0</td>\n",
              "      <td>9.0</td>\n",
              "      <td>15.0</td>\n",
              "    </tr>\n",
              "    <tr>\n",
              "      <th>3</th>\n",
              "      <td>cef67bcfe19066a932b7673e239eb23d</td>\n",
              "      <td>bebes</td>\n",
              "      <td>371.0</td>\n",
              "      <td>26.0</td>\n",
              "      <td>4.0</td>\n",
              "      <td>26.0</td>\n",
              "    </tr>\n",
              "    <tr>\n",
              "      <th>4</th>\n",
              "      <td>9dc1a7de274444849c219cff195d0b71</td>\n",
              "      <td>utilidades_domesticas</td>\n",
              "      <td>625.0</td>\n",
              "      <td>20.0</td>\n",
              "      <td>17.0</td>\n",
              "      <td>13.0</td>\n",
              "    </tr>\n",
              "  </tbody>\n",
              "</table>\n",
              "</div>"
            ],
            "text/plain": [
              "                         product_id  ... product_width_cm\n",
              "0  1e9e8ef04dbcff4541ed26657ea517e5  ...             14.0\n",
              "1  3aa071139cb16b67ca9e5dea641aaa2f  ...             20.0\n",
              "2  96bd76ec8810374ed1b65e291975717f  ...             15.0\n",
              "3  cef67bcfe19066a932b7673e239eb23d  ...             26.0\n",
              "4  9dc1a7de274444849c219cff195d0b71  ...             13.0\n",
              "\n",
              "[5 rows x 6 columns]"
            ]
          },
          "metadata": {
            "tags": []
          },
          "execution_count": 15
        }
      ]
    },
    {
      "cell_type": "markdown",
      "metadata": {
        "id": "X7qy4NVajoce"
      },
      "source": [
        "### Prepararo do dataset"
      ]
    },
    {
      "cell_type": "code",
      "metadata": {
        "id": "AQSPy2fJIliS"
      },
      "source": [
        "#Escolher variáleis as necesárias\r\n",
        "df_items = df_items.iloc[:, [2,5,6]]\r\n",
        "df_produto = df_produto.iloc[:, [0,1,5,6,7,8]]"
      ],
      "execution_count": null,
      "outputs": []
    },
    {
      "cell_type": "code",
      "metadata": {
        "id": "vtV1QFbxJa9f"
      },
      "source": [
        "#Indexar o id do produto\r\n",
        "df_items = df_items.set_index('product_id')\r\n",
        "df_produto = df_produto.set_index('product_id')"
      ],
      "execution_count": null,
      "outputs": []
    },
    {
      "cell_type": "code",
      "metadata": {
        "id": "bBPusWH_Jh_U"
      },
      "source": [
        " #Realizar um join entre as tabelas\r\n",
        " df = df_items.join(df_produto)"
      ],
      "execution_count": null,
      "outputs": []
    },
    {
      "cell_type": "code",
      "metadata": {
        "id": "ZeaGGHHOiEqy"
      },
      "source": [
        "#Calcular o volume e preço total de cada produto\r\n",
        "df[\"volume\"] = df[\"product_length_cm\"]*df[\"product_height_cm\"]*df[\"product_width_cm\"]\r\n",
        "df[\"preco\"] =  df[\"price\"]+df[\"freight_value\"]\r\n",
        "df = df.reset_index()"
      ],
      "execution_count": null,
      "outputs": []
    },
    {
      "cell_type": "code",
      "metadata": {
        "colab": {
          "base_uri": "https://localhost:8080/",
          "height": 195
        },
        "id": "7GtIcblOv_Dp",
        "outputId": "88c86bb6-9da2-4fa1-81bd-8595ac28c1f2"
      },
      "source": [
        "#Escolher dataset final\r\n",
        "produtos = df.iloc[:, [0,3, 4 ,8,9]]\r\n",
        "produtos.head()"
      ],
      "execution_count": null,
      "outputs": [
        {
          "output_type": "execute_result",
          "data": {
            "text/html": [
              "<div>\n",
              "<style scoped>\n",
              "    .dataframe tbody tr th:only-of-type {\n",
              "        vertical-align: middle;\n",
              "    }\n",
              "\n",
              "    .dataframe tbody tr th {\n",
              "        vertical-align: top;\n",
              "    }\n",
              "\n",
              "    .dataframe thead th {\n",
              "        text-align: right;\n",
              "    }\n",
              "</style>\n",
              "<table border=\"1\" class=\"dataframe\">\n",
              "  <thead>\n",
              "    <tr style=\"text-align: right;\">\n",
              "      <th></th>\n",
              "      <th>product_id</th>\n",
              "      <th>product_category_name</th>\n",
              "      <th>product_weight_g</th>\n",
              "      <th>volume</th>\n",
              "      <th>preco</th>\n",
              "    </tr>\n",
              "  </thead>\n",
              "  <tbody>\n",
              "    <tr>\n",
              "      <th>0</th>\n",
              "      <td>00066f42aeeb9f3007548bb9d3f33c38</td>\n",
              "      <td>perfumaria</td>\n",
              "      <td>300.0</td>\n",
              "      <td>5120.0</td>\n",
              "      <td>120.24</td>\n",
              "    </tr>\n",
              "    <tr>\n",
              "      <th>1</th>\n",
              "      <td>00088930e925c41fd95ebfe695fd2655</td>\n",
              "      <td>automotivo</td>\n",
              "      <td>1225.0</td>\n",
              "      <td>14300.0</td>\n",
              "      <td>143.83</td>\n",
              "    </tr>\n",
              "    <tr>\n",
              "      <th>2</th>\n",
              "      <td>0009406fd7479715e4bef61dd91f2462</td>\n",
              "      <td>cama_mesa_banho</td>\n",
              "      <td>300.0</td>\n",
              "      <td>23625.0</td>\n",
              "      <td>242.10</td>\n",
              "    </tr>\n",
              "    <tr>\n",
              "      <th>3</th>\n",
              "      <td>000b8f95fcb9e0096488278317764d19</td>\n",
              "      <td>utilidades_domesticas</td>\n",
              "      <td>550.0</td>\n",
              "      <td>5472.0</td>\n",
              "      <td>78.50</td>\n",
              "    </tr>\n",
              "    <tr>\n",
              "      <th>4</th>\n",
              "      <td>000b8f95fcb9e0096488278317764d19</td>\n",
              "      <td>utilidades_domesticas</td>\n",
              "      <td>550.0</td>\n",
              "      <td>5472.0</td>\n",
              "      <td>78.50</td>\n",
              "    </tr>\n",
              "  </tbody>\n",
              "</table>\n",
              "</div>"
            ],
            "text/plain": [
              "                         product_id  product_category_name  ...   volume   preco\n",
              "0  00066f42aeeb9f3007548bb9d3f33c38             perfumaria  ...   5120.0  120.24\n",
              "1  00088930e925c41fd95ebfe695fd2655             automotivo  ...  14300.0  143.83\n",
              "2  0009406fd7479715e4bef61dd91f2462        cama_mesa_banho  ...  23625.0  242.10\n",
              "3  000b8f95fcb9e0096488278317764d19  utilidades_domesticas  ...   5472.0   78.50\n",
              "4  000b8f95fcb9e0096488278317764d19  utilidades_domesticas  ...   5472.0   78.50\n",
              "\n",
              "[5 rows x 5 columns]"
            ]
          },
          "metadata": {
            "tags": []
          },
          "execution_count": 24
        }
      ]
    },
    {
      "cell_type": "markdown",
      "metadata": {
        "id": "0Ox8-AQFIfUL"
      },
      "source": [
        "## Criando o Algoritimo Genético"
      ]
    },
    {
      "cell_type": "markdown",
      "metadata": {
        "id": "Rd_p3UEGKB2l"
      },
      "source": [
        "Tipo de caminhão VUC\r\n",
        "<p align=\"center\"><img src=\"http://www.guiadotrc.com.br/figuras/vuc-reforcado.gif?gtgggf\"></p>\r\n",
        "\r\n",
        "\r\n",
        "\r\n",
        "<p align=\"center\"><img src=\"https://www.truckpad.com.br/uploads/2017/01/329981fc-medidas-carrocerias-3.png\"></p>"
      ]
    },
    {
      "cell_type": "code",
      "metadata": {
        "id": "C3s-lNJIJ6R1"
      },
      "source": [
        "#lmimte de espaço no caminhão\r\n",
        "limtie_espacos = 2.2*7.2*3.5*100  #grandeza em centimetros\r\n",
        "limtie_peso = 4e+6   #grandeza em gramas"
      ],
      "execution_count": null,
      "outputs": []
    },
    {
      "cell_type": "code",
      "metadata": {
        "id": "voGQQBTm_w-m"
      },
      "source": [
        "#Criar Classe do Produto\r\n",
        "class Produto():\r\n",
        "    def __init__(self, nome, pesos, volume, valores):\r\n",
        "        self.nome = nome\r\n",
        "        self.pesos = pesos \r\n",
        "        self.volume = volume\r\n",
        "        self.valor = valor"
      ],
      "execution_count": null,
      "outputs": []
    },
    {
      "cell_type": "code",
      "metadata": {
        "id": "6qodsgcAvKU8"
      },
      "source": [
        "#Criando listas de produtos\r\n",
        "lista_produtos = []\r\n",
        "\r\n",
        "for i in range(len(produtos)):\r\n",
        "  lista_produtos.append(produtos.loc[i])"
      ],
      "execution_count": null,
      "outputs": []
    },
    {
      "cell_type": "code",
      "metadata": {
        "id": "7HPHeJJnmpd0"
      },
      "source": [
        "#Transformar em listas\r\n",
        "espacos = list(produtos.volume)\r\n",
        "valores = list(produtos.preco)\r\n",
        "nome = list(produtos.product_id)\r\n",
        "pesos = list(produtos.product_weight_g)"
      ],
      "execution_count": null,
      "outputs": []
    },
    {
      "cell_type": "code",
      "metadata": {
        "id": "2JxUNH2-hMrn"
      },
      "source": [
        "#Criar a função de avaliação\r\n",
        "def avaliacao(individual):\r\n",
        "    nota = 0 \r\n",
        "    soma_espacos = 0\r\n",
        "    soma_pesos = 0\r\n",
        "\r\n",
        "    for i in range(len(individual)):\r\n",
        "        if individual[i] == 1:\r\n",
        "            nota += valores[i]\r\n",
        "            soma_espacos += espacos[i]\r\n",
        "            soma_pesos += pesos[i]\r\n",
        "            \r\n",
        "    if soma_espacos > limtie_espacos and soma_pesos > limtie_peso:\r\n",
        "      nota = 1\r\n",
        "\r\n",
        "    return nota / 100000, "
      ],
      "execution_count": null,
      "outputs": []
    },
    {
      "cell_type": "code",
      "metadata": {
        "id": "LzRdnrDu_9ej",
        "colab": {
          "base_uri": "https://localhost:8080/"
        },
        "outputId": "1bb54d6b-d837-461e-8b93-fb8e252ad8ff"
      },
      "source": [
        "#Criar a toolbox\r\n",
        "toolbox = base.Toolbox()\r\n",
        "\r\n",
        "#Criando parâmetros na toolbox\r\n",
        "creator.create(\"FitnessMax\",  base.Fitness, weights = (1.0, ))\r\n",
        "creator.create(\"Individual\", list, fitness = creator.FitnessMax)\r\n",
        "\r\n",
        "#Registrando na toolbox\r\n",
        "toolbox.register(\"attr_bool\", random.randint, 0, 1)\r\n",
        "toolbox.register(\"individual\", tools.initRepeat, creator.Individual, toolbox.attr_bool, n = len(espacos))\r\n",
        "toolbox.register(\"population\", tools.initRepeat, list, toolbox.individual)\r\n",
        "toolbox.register(\"evaluate\", avaliacao)\r\n",
        "toolbox.register(\"mate\", tools.cxOnePoint)\r\n",
        "toolbox.register(\"mutate\", tools.mutFlipBit, indpb = 0.05)\r\n",
        "toolbox.register(\"select\", tools.selRoulette)"
      ],
      "execution_count": null,
      "outputs": [
        {
          "output_type": "stream",
          "text": [
            "/usr/local/lib/python3.6/dist-packages/deap/creator.py:141: RuntimeWarning: A class named 'FitnessMax' has already been created and it will be overwritten. Consider deleting previous creation of that class or rename it.\n",
            "  RuntimeWarning)\n",
            "/usr/local/lib/python3.6/dist-packages/deap/creator.py:141: RuntimeWarning: A class named 'Individual' has already been created and it will be overwritten. Consider deleting previous creation of that class or rename it.\n",
            "  RuntimeWarning)\n"
          ],
          "name": "stderr"
        }
      ]
    },
    {
      "cell_type": "code",
      "metadata": {
        "id": "XJkScplGASPx",
        "colab": {
          "base_uri": "https://localhost:8080/"
        },
        "outputId": "011e66b2-68ce-4ded-cda9-9239dc5447bf"
      },
      "source": [
        "#Iniciando a toolbox\r\n",
        "if __name__ == \"__main__\":\r\n",
        "    population = toolbox.population(n = 25)\r\n",
        "    probabilidade_crossover = 1.0\r\n",
        "    probabilidade_mutação = 0.03\r\n",
        "    numero_gerações = 250\r\n",
        "    \r\n",
        "    estatisticas = tools.Statistics( key = lambda individuo: individuo.fitness.values)\r\n",
        "    estatisticas.register(\"max\", np.max)\r\n",
        "    estatisticas.register(\"min\", np.min)\r\n",
        "    estatisticas.register(\"med\", np.mean)\r\n",
        "    estatisticas.register(\"std\", np.std)\r\n",
        "    \r\n",
        "    populacao, info = algorithms.eaSimple(population, toolbox, \r\n",
        "                                          probabilidade_crossover, \r\n",
        "                                          probabilidade_mutação,\r\n",
        "                                          numero_gerações, estatisticas)"
      ],
      "execution_count": null,
      "outputs": [
        {
          "output_type": "stream",
          "text": [
            "gen\tnevals\tmax    \tmin    \tmed    \tstd     \n",
            "0  \t25    \t79.7944\t78.2896\t79.2876\t0.371402\n",
            "1  \t24    \t79.8643\t78.2896\t79.186 \t0.365236\n",
            "2  \t24    \t80.2109\t78.5556\t79.1805\t0.365251\n",
            "3  \t24    \t79.7509\t78.6029\t79.2424\t0.328178\n",
            "4  \t24    \t79.7792\t78.5828\t79.3426\t0.299677\n",
            "5  \t24    \t79.8127\t78.8723\t79.3466\t0.236362\n",
            "6  \t24    \t79.9476\t78.9296\t79.3656\t0.218191\n",
            "7  \t24    \t79.8604\t78.4893\t79.3369\t0.280012\n",
            "8  \t24    \t79.8437\t78.883 \t79.3804\t0.23262 \n",
            "9  \t24    \t79.8437\t78.6182\t79.327 \t0.249222\n",
            "10 \t24    \t79.8437\t78.825 \t79.3847\t0.277061\n",
            "11 \t24    \t79.8075\t78.7612\t79.3875\t0.264474\n",
            "12 \t24    \t79.7933\t78.9399\t79.3552\t0.222219\n",
            "13 \t24    \t79.6845\t78.7612\t79.285 \t0.249896\n",
            "14 \t24    \t79.7575\t78.6697\t79.2326\t0.287975\n",
            "15 \t24    \t79.7138\t78.6765\t79.2986\t0.298294\n",
            "16 \t24    \t79.9068\t78.6489\t79.2547\t0.330859\n",
            "17 \t24    \t79.6497\t78.6783\t79.2203\t0.294788\n",
            "18 \t24    \t79.6162\t78.6191\t79.2382\t0.28465 \n",
            "19 \t24    \t79.6162\t78.7823\t79.3218\t0.212632\n",
            "20 \t24    \t79.9009\t78.7163\t79.2912\t0.271411\n",
            "21 \t24    \t79.8324\t78.7964\t79.2809\t0.296603\n",
            "22 \t24    \t79.7301\t78.9089\t79.3811\t0.219751\n",
            "23 \t24    \t79.7   \t78.9982\t79.3468\t0.201973\n",
            "24 \t24    \t79.8562\t78.8645\t79.3671\t0.234443\n",
            "25 \t24    \t79.736 \t78.9565\t79.4112\t0.165101\n",
            "26 \t24    \t79.708 \t79.0896\t79.4186\t0.138484\n",
            "27 \t24    \t79.9773\t79.0751\t79.4558\t0.205165\n",
            "28 \t24    \t80.0042\t78.9421\t79.4819\t0.220715\n",
            "29 \t24    \t79.9631\t79.1434\t79.5788\t0.184873\n",
            "30 \t24    \t80.0042\t79.3192\t79.6386\t0.168301\n",
            "31 \t24    \t80.0403\t79.3003\t79.6736\t0.206699\n",
            "32 \t24    \t80.019 \t79.1804\t79.6405\t0.187296\n",
            "33 \t24    \t79.9498\t79.3911\t79.6589\t0.131805\n",
            "34 \t24    \t79.8761\t79.3228\t79.6533\t0.123271\n",
            "35 \t24    \t79.8375\t79.3445\t79.6239\t0.119562\n",
            "36 \t24    \t79.8286\t79.3709\t79.6173\t0.11932 \n",
            "37 \t24    \t79.893 \t79.4325\t79.6704\t0.115496\n",
            "38 \t24    \t79.893 \t79.4348\t79.6727\t0.11028 \n",
            "39 \t24    \t79.893 \t79.4687\t79.6865\t0.114394\n",
            "40 \t24    \t79.893 \t79.4913\t79.686 \t0.0993948\n",
            "41 \t24    \t79.8731\t79.3645\t79.6941\t0.111759 \n",
            "42 \t24    \t79.9791\t79.46  \t79.7072\t0.123142 \n",
            "43 \t24    \t79.9091\t79.4164\t79.7106\t0.131012 \n",
            "44 \t24    \t80.0433\t79.3999\t79.7183\t0.151783 \n",
            "45 \t24    \t79.9563\t79.2798\t79.7175\t0.146581 \n",
            "46 \t24    \t79.9683\t79.5775\t79.7437\t0.124754 \n",
            "47 \t24    \t80.0308\t79.4167\t79.7777\t0.168155 \n",
            "48 \t24    \t80.155 \t79.5242\t79.798 \t0.163074 \n",
            "49 \t24    \t80.15  \t79.6136\t79.8225\t0.13111  \n",
            "50 \t24    \t80.0498\t79.5785\t79.8218\t0.129502 \n",
            "51 \t24    \t80.0339\t79.4538\t79.835 \t0.143942 \n",
            "52 \t24    \t80.092 \t79.6735\t79.8535\t0.110378 \n",
            "53 \t24    \t80.092 \t79.6024\t79.872 \t0.13902  \n",
            "54 \t24    \t80.0986\t79.7036\t79.9344\t0.101667 \n",
            "55 \t24    \t80.1141\t79.8   \t79.9475\t0.0790249\n",
            "56 \t24    \t80.092 \t79.7855\t79.9529\t0.077096 \n",
            "57 \t24    \t80.0902\t79.8495\t79.9897\t0.0665976\n",
            "58 \t24    \t80.1657\t79.7289\t79.9758\t0.0952137\n",
            "59 \t24    \t80.1426\t79.7584\t79.965 \t0.0772862\n",
            "60 \t24    \t80.1987\t79.7814\t79.9802\t0.101582 \n",
            "61 \t24    \t80.0825\t79.6717\t79.9667\t0.109573 \n",
            "62 \t24    \t80.3225\t79.6767\t79.9587\t0.126321 \n",
            "63 \t24    \t80.2934\t79.7534\t79.9752\t0.146008 \n",
            "64 \t24    \t80.3627\t79.7414\t79.952 \t0.151677 \n",
            "65 \t24    \t80.3627\t79.7791\t79.9613\t0.162737 \n",
            "66 \t24    \t80.3227\t79.6819\t79.9498\t0.156663 \n",
            "67 \t24    \t80.4018\t79.7432\t79.9769\t0.137942 \n",
            "68 \t24    \t80.1285\t79.7668\t79.9446\t0.104077 \n",
            "69 \t24    \t80.1555\t79.7298\t79.9437\t0.101634 \n",
            "70 \t24    \t80.1555\t79.8209\t79.9721\t0.0848194\n",
            "71 \t24    \t80.2184\t79.7473\t79.9632\t0.0965105\n",
            "72 \t24    \t80.2859\t79.6525\t79.9563\t0.136903 \n",
            "73 \t24    \t80.1262\t79.6374\t79.9191\t0.145601 \n",
            "74 \t24    \t80.1268\t79.6879\t79.9385\t0.147229 \n",
            "75 \t24    \t80.2063\t79.6879\t79.9601\t0.148002 \n",
            "76 \t24    \t80.2832\t79.761 \t79.9999\t0.139668 \n",
            "77 \t24    \t80.2227\t79.6542\t79.9572\t0.155299 \n",
            "78 \t24    \t80.1247\t79.6879\t79.9561\t0.113483 \n",
            "79 \t24    \t80.1444\t79.7877\t79.9468\t0.107698 \n",
            "80 \t24    \t80.1427\t79.6986\t79.9398\t0.109293 \n",
            "81 \t24    \t80.2471\t79.6986\t79.9539\t0.136863 \n",
            "82 \t24    \t80.3018\t79.5221\t79.9581\t0.161753 \n",
            "83 \t24    \t80.2759\t79.7289\t79.9599\t0.132937 \n",
            "84 \t24    \t80.2228\t79.6242\t79.9724\t0.122229 \n",
            "85 \t24    \t80.1879\t79.7426\t79.9341\t0.133954 \n",
            "86 \t24    \t80.2295\t79.7245\t79.9588\t0.127186 \n",
            "87 \t24    \t80.1907\t79.6142\t79.9626\t0.156988 \n",
            "88 \t24    \t80.308 \t79.6528\t79.9285\t0.1728   \n",
            "89 \t24    \t80.2996\t79.7502\t79.9544\t0.120151 \n",
            "90 \t24    \t80.2996\t79.7502\t79.9843\t0.132253 \n",
            "91 \t24    \t80.308 \t79.6503\t79.9777\t0.14868  \n",
            "92 \t24    \t80.26  \t79.3719\t79.9386\t0.210016 \n",
            "93 \t24    \t80.3576\t79.5178\t79.9841\t0.191593 \n",
            "94 \t24    \t80.4248\t79.6027\t80.0047\t0.181318 \n",
            "95 \t24    \t80.4064\t79.7211\t80.0592\t0.152668 \n",
            "96 \t24    \t80.4265\t79.8285\t80.0891\t0.165789 \n",
            "97 \t24    \t80.4265\t79.7449\t80.1098\t0.155457 \n",
            "98 \t24    \t80.4106\t79.7449\t80.1291\t0.180083 \n",
            "99 \t24    \t80.4719\t79.7544\t80.1546\t0.163233 \n",
            "100\t24    \t80.4628\t79.7143\t80.1246\t0.166677 \n",
            "101\t24    \t80.3376\t79.7044\t80.1114\t0.161166 \n",
            "102\t24    \t80.361 \t79.665 \t80.1503\t0.163889 \n",
            "103\t24    \t80.3665\t79.7062\t80.1588\t0.174704 \n",
            "104\t24    \t80.3922\t79.7777\t80.14  \t0.151237 \n",
            "105\t24    \t80.3294\t79.7874\t80.1455\t0.130582 \n",
            "106\t24    \t80.3548\t79.8206\t80.1623\t0.128407 \n",
            "107\t24    \t80.3505\t79.8936\t80.188 \t0.112898 \n",
            "108\t24    \t80.4579\t79.8582\t80.2164\t0.132683 \n",
            "109\t24    \t80.4797\t79.7964\t80.2499\t0.1685   \n",
            "110\t24    \t80.4825\t80.0109\t80.2498\t0.12265  \n",
            "111\t24    \t80.5532\t79.9131\t80.1966\t0.14766  \n",
            "112\t24    \t80.5871\t79.8926\t80.2277\t0.186622 \n",
            "113\t24    \t80.5223\t79.8868\t80.2478\t0.167656 \n"
          ],
          "name": "stdout"
        }
      ]
    },
    {
      "cell_type": "code",
      "metadata": {
        "colab": {
          "base_uri": "https://localhost:8080/"
        },
        "id": "MtQZmWsukvkn",
        "outputId": "6f5bf7b1-6eaa-438f-9ef1-f03c6c052164"
      },
      "source": [
        "#Identificando o melhor indivíduo\r\n",
        "melhores = tools.selBest(populacao, 1)\r\n",
        "\r\n",
        "for individuo in melhores:\r\n",
        "\r\n",
        "    df_otimizado = []\r\n",
        "    soma = 0\r\n",
        "    indi = 0\r\n",
        "    for i in range (len(lista_produtos)):\r\n",
        "        if individuo[i] == 1:\r\n",
        "            soma += valores[i]\r\n",
        "            indi += individuo[i]\r\n",
        "            df_otimizado.append(lista_produtos[i])\r\n",
        "\r\n",
        "    print(\"---\")\r\n",
        "    print(\"Valor total do Indivíduo: R$\", soma)\r\n",
        "    print(\"Número Indivíduo:\", indi)"
      ],
      "execution_count": null,
      "outputs": [
        {
          "output_type": "stream",
          "text": [
            "---\n",
            "Valor total do Indivíduo: R$ 7958484.079999713\n",
            "Número Indivíduo: 56361\n"
          ],
          "name": "stdout"
        }
      ]
    },
    {
      "cell_type": "code",
      "metadata": {
        "colab": {
          "base_uri": "https://localhost:8080/",
          "height": 195
        },
        "id": "t2I3RQ6kmITu",
        "outputId": "2517a4a2-567f-45a3-bd1a-8e154d16b42e"
      },
      "source": [
        "df_otimizado = pd.DataFrame(df_otimizado)\r\n",
        "df_otimizado.head()"
      ],
      "execution_count": null,
      "outputs": [
        {
          "output_type": "execute_result",
          "data": {
            "text/html": [
              "<div>\n",
              "<style scoped>\n",
              "    .dataframe tbody tr th:only-of-type {\n",
              "        vertical-align: middle;\n",
              "    }\n",
              "\n",
              "    .dataframe tbody tr th {\n",
              "        vertical-align: top;\n",
              "    }\n",
              "\n",
              "    .dataframe thead th {\n",
              "        text-align: right;\n",
              "    }\n",
              "</style>\n",
              "<table border=\"1\" class=\"dataframe\">\n",
              "  <thead>\n",
              "    <tr style=\"text-align: right;\">\n",
              "      <th></th>\n",
              "      <th>product_id</th>\n",
              "      <th>product_category_name</th>\n",
              "      <th>product_weight_g</th>\n",
              "      <th>volume</th>\n",
              "      <th>preco</th>\n",
              "    </tr>\n",
              "  </thead>\n",
              "  <tbody>\n",
              "    <tr>\n",
              "      <th>2</th>\n",
              "      <td>0009406fd7479715e4bef61dd91f2462</td>\n",
              "      <td>cama_mesa_banho</td>\n",
              "      <td>300.0</td>\n",
              "      <td>23625.0</td>\n",
              "      <td>242.10</td>\n",
              "    </tr>\n",
              "    <tr>\n",
              "      <th>3</th>\n",
              "      <td>000b8f95fcb9e0096488278317764d19</td>\n",
              "      <td>utilidades_domesticas</td>\n",
              "      <td>550.0</td>\n",
              "      <td>5472.0</td>\n",
              "      <td>78.50</td>\n",
              "    </tr>\n",
              "    <tr>\n",
              "      <th>11</th>\n",
              "      <td>001795ec6f1b187d37335e1c4704762e</td>\n",
              "      <td>consoles_games</td>\n",
              "      <td>600.0</td>\n",
              "      <td>12000.0</td>\n",
              "      <td>48.24</td>\n",
              "    </tr>\n",
              "    <tr>\n",
              "      <th>12</th>\n",
              "      <td>001795ec6f1b187d37335e1c4704762e</td>\n",
              "      <td>consoles_games</td>\n",
              "      <td>600.0</td>\n",
              "      <td>12000.0</td>\n",
              "      <td>55.01</td>\n",
              "    </tr>\n",
              "    <tr>\n",
              "      <th>14</th>\n",
              "      <td>001795ec6f1b187d37335e1c4704762e</td>\n",
              "      <td>consoles_games</td>\n",
              "      <td>600.0</td>\n",
              "      <td>12000.0</td>\n",
              "      <td>48.24</td>\n",
              "    </tr>\n",
              "  </tbody>\n",
              "</table>\n",
              "</div>"
            ],
            "text/plain": [
              "                          product_id  product_category_name  ...   volume   preco\n",
              "2   0009406fd7479715e4bef61dd91f2462        cama_mesa_banho  ...  23625.0  242.10\n",
              "3   000b8f95fcb9e0096488278317764d19  utilidades_domesticas  ...   5472.0   78.50\n",
              "11  001795ec6f1b187d37335e1c4704762e         consoles_games  ...  12000.0   48.24\n",
              "12  001795ec6f1b187d37335e1c4704762e         consoles_games  ...  12000.0   55.01\n",
              "14  001795ec6f1b187d37335e1c4704762e         consoles_games  ...  12000.0   48.24\n",
              "\n",
              "[5 rows x 5 columns]"
            ]
          },
          "metadata": {
            "tags": []
          },
          "execution_count": 59
        }
      ]
    },
    {
      "cell_type": "code",
      "metadata": {
        "id": "PH23egY8AgN0",
        "colab": {
          "base_uri": "https://localhost:8080/",
          "height": 497
        },
        "outputId": "0fc3f374-7946-4ae3-e09d-1a748dde8023"
      },
      "source": [
        "#Plotando o aprendizado\r\n",
        "valores_pop = info.select(\"max\")\r\n",
        "plt.figure(figsize = (12,6))\r\n",
        "plt.plot(valores_pop)\r\n",
        "plt.show()"
      ],
      "execution_count": null,
      "outputs": [
        {
          "output_type": "display_data",
          "data": {
            "text/plain": [
              "<Figure size 864x432 with 1 Axes>"
            ],
            "image/svg+xml": "<?xml version=\"1.0\" encoding=\"utf-8\" standalone=\"no\"?>\n<!DOCTYPE svg PUBLIC \"-//W3C//DTD SVG 1.1//EN\"\n  \"http://www.w3.org/Graphics/SVG/1.1/DTD/svg11.dtd\">\n<!-- Created with matplotlib (https://matplotlib.org/) -->\n<svg height=\"357.238125pt\" version=\"1.1\" viewBox=\"0 0 713.265625 357.238125\" width=\"713.265625pt\" xmlns=\"http://www.w3.org/2000/svg\" xmlns:xlink=\"http://www.w3.org/1999/xlink\">\n <defs>\n  <style type=\"text/css\">\n*{stroke-linecap:butt;stroke-linejoin:round;}\n  </style>\n </defs>\n <g id=\"figure_1\">\n  <g id=\"patch_1\">\n   <path d=\"M 0 357.238125 \nL 713.265625 357.238125 \nL 713.265625 0 \nL 0 0 \nz\n\" style=\"fill:none;\"/>\n  </g>\n  <g id=\"axes_1\">\n   <g id=\"patch_2\">\n    <path d=\"M 36.465625 333.36 \nL 706.065625 333.36 \nL 706.065625 7.2 \nL 36.465625 7.2 \nz\n\" style=\"fill:#ffffff;\"/>\n   </g>\n   <g id=\"matplotlib.axis_1\">\n    <g id=\"xtick_1\">\n     <g id=\"line2d_1\">\n      <defs>\n       <path d=\"M 0 0 \nL 0 3.5 \n\" id=\"m0c671111ab\" style=\"stroke:#000000;stroke-width:0.8;\"/>\n      </defs>\n      <g>\n       <use style=\"stroke:#000000;stroke-width:0.8;\" x=\"66.901989\" xlink:href=\"#m0c671111ab\" y=\"333.36\"/>\n      </g>\n     </g>\n     <g id=\"text_1\">\n      <!-- 0 -->\n      <defs>\n       <path d=\"M 31.78125 66.40625 \nQ 24.171875 66.40625 20.328125 58.90625 \nQ 16.5 51.421875 16.5 36.375 \nQ 16.5 21.390625 20.328125 13.890625 \nQ 24.171875 6.390625 31.78125 6.390625 \nQ 39.453125 6.390625 43.28125 13.890625 \nQ 47.125 21.390625 47.125 36.375 \nQ 47.125 51.421875 43.28125 58.90625 \nQ 39.453125 66.40625 31.78125 66.40625 \nz\nM 31.78125 74.21875 \nQ 44.046875 74.21875 50.515625 64.515625 \nQ 56.984375 54.828125 56.984375 36.375 \nQ 56.984375 17.96875 50.515625 8.265625 \nQ 44.046875 -1.421875 31.78125 -1.421875 \nQ 19.53125 -1.421875 13.0625 8.265625 \nQ 6.59375 17.96875 6.59375 36.375 \nQ 6.59375 54.828125 13.0625 64.515625 \nQ 19.53125 74.21875 31.78125 74.21875 \nz\n\" id=\"DejaVuSans-48\"/>\n      </defs>\n      <g transform=\"translate(63.720739 347.958438)scale(0.1 -0.1)\">\n       <use xlink:href=\"#DejaVuSans-48\"/>\n      </g>\n     </g>\n    </g>\n    <g id=\"xtick_2\">\n     <g id=\"line2d_2\">\n      <g>\n       <use style=\"stroke:#000000;stroke-width:0.8;\" x=\"188.647443\" xlink:href=\"#m0c671111ab\" y=\"333.36\"/>\n      </g>\n     </g>\n     <g id=\"text_2\">\n      <!-- 50 -->\n      <defs>\n       <path d=\"M 10.796875 72.90625 \nL 49.515625 72.90625 \nL 49.515625 64.59375 \nL 19.828125 64.59375 \nL 19.828125 46.734375 \nQ 21.96875 47.46875 24.109375 47.828125 \nQ 26.265625 48.1875 28.421875 48.1875 \nQ 40.625 48.1875 47.75 41.5 \nQ 54.890625 34.8125 54.890625 23.390625 \nQ 54.890625 11.625 47.5625 5.09375 \nQ 40.234375 -1.421875 26.90625 -1.421875 \nQ 22.3125 -1.421875 17.546875 -0.640625 \nQ 12.796875 0.140625 7.71875 1.703125 \nL 7.71875 11.625 \nQ 12.109375 9.234375 16.796875 8.0625 \nQ 21.484375 6.890625 26.703125 6.890625 \nQ 35.15625 6.890625 40.078125 11.328125 \nQ 45.015625 15.765625 45.015625 23.390625 \nQ 45.015625 31 40.078125 35.4375 \nQ 35.15625 39.890625 26.703125 39.890625 \nQ 22.75 39.890625 18.8125 39.015625 \nQ 14.890625 38.140625 10.796875 36.28125 \nz\n\" id=\"DejaVuSans-53\"/>\n      </defs>\n      <g transform=\"translate(182.284943 347.958438)scale(0.1 -0.1)\">\n       <use xlink:href=\"#DejaVuSans-53\"/>\n       <use x=\"63.623047\" xlink:href=\"#DejaVuSans-48\"/>\n      </g>\n     </g>\n    </g>\n    <g id=\"xtick_3\">\n     <g id=\"line2d_3\">\n      <g>\n       <use style=\"stroke:#000000;stroke-width:0.8;\" x=\"310.392898\" xlink:href=\"#m0c671111ab\" y=\"333.36\"/>\n      </g>\n     </g>\n     <g id=\"text_3\">\n      <!-- 100 -->\n      <defs>\n       <path d=\"M 12.40625 8.296875 \nL 28.515625 8.296875 \nL 28.515625 63.921875 \nL 10.984375 60.40625 \nL 10.984375 69.390625 \nL 28.421875 72.90625 \nL 38.28125 72.90625 \nL 38.28125 8.296875 \nL 54.390625 8.296875 \nL 54.390625 0 \nL 12.40625 0 \nz\n\" id=\"DejaVuSans-49\"/>\n      </defs>\n      <g transform=\"translate(300.849148 347.958438)scale(0.1 -0.1)\">\n       <use xlink:href=\"#DejaVuSans-49\"/>\n       <use x=\"63.623047\" xlink:href=\"#DejaVuSans-48\"/>\n       <use x=\"127.246094\" xlink:href=\"#DejaVuSans-48\"/>\n      </g>\n     </g>\n    </g>\n    <g id=\"xtick_4\">\n     <g id=\"line2d_4\">\n      <g>\n       <use style=\"stroke:#000000;stroke-width:0.8;\" x=\"432.138352\" xlink:href=\"#m0c671111ab\" y=\"333.36\"/>\n      </g>\n     </g>\n     <g id=\"text_4\">\n      <!-- 150 -->\n      <g transform=\"translate(422.594602 347.958438)scale(0.1 -0.1)\">\n       <use xlink:href=\"#DejaVuSans-49\"/>\n       <use x=\"63.623047\" xlink:href=\"#DejaVuSans-53\"/>\n       <use x=\"127.246094\" xlink:href=\"#DejaVuSans-48\"/>\n      </g>\n     </g>\n    </g>\n    <g id=\"xtick_5\">\n     <g id=\"line2d_5\">\n      <g>\n       <use style=\"stroke:#000000;stroke-width:0.8;\" x=\"553.883807\" xlink:href=\"#m0c671111ab\" y=\"333.36\"/>\n      </g>\n     </g>\n     <g id=\"text_5\">\n      <!-- 200 -->\n      <defs>\n       <path d=\"M 19.1875 8.296875 \nL 53.609375 8.296875 \nL 53.609375 0 \nL 7.328125 0 \nL 7.328125 8.296875 \nQ 12.9375 14.109375 22.625 23.890625 \nQ 32.328125 33.6875 34.8125 36.53125 \nQ 39.546875 41.84375 41.421875 45.53125 \nQ 43.3125 49.21875 43.3125 52.78125 \nQ 43.3125 58.59375 39.234375 62.25 \nQ 35.15625 65.921875 28.609375 65.921875 \nQ 23.96875 65.921875 18.8125 64.3125 \nQ 13.671875 62.703125 7.8125 59.421875 \nL 7.8125 69.390625 \nQ 13.765625 71.78125 18.9375 73 \nQ 24.125 74.21875 28.421875 74.21875 \nQ 39.75 74.21875 46.484375 68.546875 \nQ 53.21875 62.890625 53.21875 53.421875 \nQ 53.21875 48.921875 51.53125 44.890625 \nQ 49.859375 40.875 45.40625 35.40625 \nQ 44.1875 33.984375 37.640625 27.21875 \nQ 31.109375 20.453125 19.1875 8.296875 \nz\n\" id=\"DejaVuSans-50\"/>\n      </defs>\n      <g transform=\"translate(544.340057 347.958438)scale(0.1 -0.1)\">\n       <use xlink:href=\"#DejaVuSans-50\"/>\n       <use x=\"63.623047\" xlink:href=\"#DejaVuSans-48\"/>\n       <use x=\"127.246094\" xlink:href=\"#DejaVuSans-48\"/>\n      </g>\n     </g>\n    </g>\n    <g id=\"xtick_6\">\n     <g id=\"line2d_6\">\n      <g>\n       <use style=\"stroke:#000000;stroke-width:0.8;\" x=\"675.629261\" xlink:href=\"#m0c671111ab\" y=\"333.36\"/>\n      </g>\n     </g>\n     <g id=\"text_6\">\n      <!-- 250 -->\n      <g transform=\"translate(666.085511 347.958438)scale(0.1 -0.1)\">\n       <use xlink:href=\"#DejaVuSans-50\"/>\n       <use x=\"63.623047\" xlink:href=\"#DejaVuSans-53\"/>\n       <use x=\"127.246094\" xlink:href=\"#DejaVuSans-48\"/>\n      </g>\n     </g>\n    </g>\n   </g>\n   <g id=\"matplotlib.axis_2\">\n    <g id=\"ytick_1\">\n     <g id=\"line2d_7\">\n      <defs>\n       <path d=\"M 0 0 \nL -3.5 0 \n\" id=\"m93f75d5dda\" style=\"stroke:#000000;stroke-width:0.8;\"/>\n      </defs>\n      <g>\n       <use style=\"stroke:#000000;stroke-width:0.8;\" x=\"36.465625\" xlink:href=\"#m93f75d5dda\" y=\"323.433897\"/>\n      </g>\n     </g>\n     <g id=\"text_7\">\n      <!-- 79.4 -->\n      <defs>\n       <path d=\"M 8.203125 72.90625 \nL 55.078125 72.90625 \nL 55.078125 68.703125 \nL 28.609375 0 \nL 18.3125 0 \nL 43.21875 64.59375 \nL 8.203125 64.59375 \nz\n\" id=\"DejaVuSans-55\"/>\n       <path d=\"M 10.984375 1.515625 \nL 10.984375 10.5 \nQ 14.703125 8.734375 18.5 7.8125 \nQ 22.3125 6.890625 25.984375 6.890625 \nQ 35.75 6.890625 40.890625 13.453125 \nQ 46.046875 20.015625 46.78125 33.40625 \nQ 43.953125 29.203125 39.59375 26.953125 \nQ 35.25 24.703125 29.984375 24.703125 \nQ 19.046875 24.703125 12.671875 31.3125 \nQ 6.296875 37.9375 6.296875 49.421875 \nQ 6.296875 60.640625 12.9375 67.421875 \nQ 19.578125 74.21875 30.609375 74.21875 \nQ 43.265625 74.21875 49.921875 64.515625 \nQ 56.59375 54.828125 56.59375 36.375 \nQ 56.59375 19.140625 48.40625 8.859375 \nQ 40.234375 -1.421875 26.421875 -1.421875 \nQ 22.703125 -1.421875 18.890625 -0.6875 \nQ 15.09375 0.046875 10.984375 1.515625 \nz\nM 30.609375 32.421875 \nQ 37.25 32.421875 41.125 36.953125 \nQ 45.015625 41.5 45.015625 49.421875 \nQ 45.015625 57.28125 41.125 61.84375 \nQ 37.25 66.40625 30.609375 66.40625 \nQ 23.96875 66.40625 20.09375 61.84375 \nQ 16.21875 57.28125 16.21875 49.421875 \nQ 16.21875 41.5 20.09375 36.953125 \nQ 23.96875 32.421875 30.609375 32.421875 \nz\n\" id=\"DejaVuSans-57\"/>\n       <path d=\"M 10.6875 12.40625 \nL 21 12.40625 \nL 21 0 \nL 10.6875 0 \nz\n\" id=\"DejaVuSans-46\"/>\n       <path d=\"M 37.796875 64.3125 \nL 12.890625 25.390625 \nL 37.796875 25.390625 \nz\nM 35.203125 72.90625 \nL 47.609375 72.90625 \nL 47.609375 25.390625 \nL 58.015625 25.390625 \nL 58.015625 17.1875 \nL 47.609375 17.1875 \nL 47.609375 0 \nL 37.796875 0 \nL 37.796875 17.1875 \nL 4.890625 17.1875 \nL 4.890625 26.703125 \nz\n\" id=\"DejaVuSans-52\"/>\n      </defs>\n      <g transform=\"translate(7.2 327.233116)scale(0.1 -0.1)\">\n       <use xlink:href=\"#DejaVuSans-55\"/>\n       <use x=\"63.623047\" xlink:href=\"#DejaVuSans-57\"/>\n       <use x=\"127.246094\" xlink:href=\"#DejaVuSans-46\"/>\n       <use x=\"159.033203\" xlink:href=\"#DejaVuSans-52\"/>\n      </g>\n     </g>\n    </g>\n    <g id=\"ytick_2\">\n     <g id=\"line2d_8\">\n      <g>\n       <use style=\"stroke:#000000;stroke-width:0.8;\" x=\"36.465625\" xlink:href=\"#m93f75d5dda\" y=\"262.409783\"/>\n      </g>\n     </g>\n     <g id=\"text_8\">\n      <!-- 79.6 -->\n      <defs>\n       <path d=\"M 33.015625 40.375 \nQ 26.375 40.375 22.484375 35.828125 \nQ 18.609375 31.296875 18.609375 23.390625 \nQ 18.609375 15.53125 22.484375 10.953125 \nQ 26.375 6.390625 33.015625 6.390625 \nQ 39.65625 6.390625 43.53125 10.953125 \nQ 47.40625 15.53125 47.40625 23.390625 \nQ 47.40625 31.296875 43.53125 35.828125 \nQ 39.65625 40.375 33.015625 40.375 \nz\nM 52.59375 71.296875 \nL 52.59375 62.3125 \nQ 48.875 64.0625 45.09375 64.984375 \nQ 41.3125 65.921875 37.59375 65.921875 \nQ 27.828125 65.921875 22.671875 59.328125 \nQ 17.53125 52.734375 16.796875 39.40625 \nQ 19.671875 43.65625 24.015625 45.921875 \nQ 28.375 48.1875 33.59375 48.1875 \nQ 44.578125 48.1875 50.953125 41.515625 \nQ 57.328125 34.859375 57.328125 23.390625 \nQ 57.328125 12.15625 50.6875 5.359375 \nQ 44.046875 -1.421875 33.015625 -1.421875 \nQ 20.359375 -1.421875 13.671875 8.265625 \nQ 6.984375 17.96875 6.984375 36.375 \nQ 6.984375 53.65625 15.1875 63.9375 \nQ 23.390625 74.21875 37.203125 74.21875 \nQ 40.921875 74.21875 44.703125 73.484375 \nQ 48.484375 72.75 52.59375 71.296875 \nz\n\" id=\"DejaVuSans-54\"/>\n      </defs>\n      <g transform=\"translate(7.2 266.209002)scale(0.1 -0.1)\">\n       <use xlink:href=\"#DejaVuSans-55\"/>\n       <use x=\"63.623047\" xlink:href=\"#DejaVuSans-57\"/>\n       <use x=\"127.246094\" xlink:href=\"#DejaVuSans-46\"/>\n       <use x=\"159.033203\" xlink:href=\"#DejaVuSans-54\"/>\n      </g>\n     </g>\n    </g>\n    <g id=\"ytick_3\">\n     <g id=\"line2d_9\">\n      <g>\n       <use style=\"stroke:#000000;stroke-width:0.8;\" x=\"36.465625\" xlink:href=\"#m93f75d5dda\" y=\"201.385669\"/>\n      </g>\n     </g>\n     <g id=\"text_9\">\n      <!-- 79.8 -->\n      <defs>\n       <path d=\"M 31.78125 34.625 \nQ 24.75 34.625 20.71875 30.859375 \nQ 16.703125 27.09375 16.703125 20.515625 \nQ 16.703125 13.921875 20.71875 10.15625 \nQ 24.75 6.390625 31.78125 6.390625 \nQ 38.8125 6.390625 42.859375 10.171875 \nQ 46.921875 13.96875 46.921875 20.515625 \nQ 46.921875 27.09375 42.890625 30.859375 \nQ 38.875 34.625 31.78125 34.625 \nz\nM 21.921875 38.8125 \nQ 15.578125 40.375 12.03125 44.71875 \nQ 8.5 49.078125 8.5 55.328125 \nQ 8.5 64.0625 14.71875 69.140625 \nQ 20.953125 74.21875 31.78125 74.21875 \nQ 42.671875 74.21875 48.875 69.140625 \nQ 55.078125 64.0625 55.078125 55.328125 \nQ 55.078125 49.078125 51.53125 44.71875 \nQ 48 40.375 41.703125 38.8125 \nQ 48.828125 37.15625 52.796875 32.3125 \nQ 56.78125 27.484375 56.78125 20.515625 \nQ 56.78125 9.90625 50.3125 4.234375 \nQ 43.84375 -1.421875 31.78125 -1.421875 \nQ 19.734375 -1.421875 13.25 4.234375 \nQ 6.78125 9.90625 6.78125 20.515625 \nQ 6.78125 27.484375 10.78125 32.3125 \nQ 14.796875 37.15625 21.921875 38.8125 \nz\nM 18.3125 54.390625 \nQ 18.3125 48.734375 21.84375 45.5625 \nQ 25.390625 42.390625 31.78125 42.390625 \nQ 38.140625 42.390625 41.71875 45.5625 \nQ 45.3125 48.734375 45.3125 54.390625 \nQ 45.3125 60.0625 41.71875 63.234375 \nQ 38.140625 66.40625 31.78125 66.40625 \nQ 25.390625 66.40625 21.84375 63.234375 \nQ 18.3125 60.0625 18.3125 54.390625 \nz\n\" id=\"DejaVuSans-56\"/>\n      </defs>\n      <g transform=\"translate(7.2 205.184888)scale(0.1 -0.1)\">\n       <use xlink:href=\"#DejaVuSans-55\"/>\n       <use x=\"63.623047\" xlink:href=\"#DejaVuSans-57\"/>\n       <use x=\"127.246094\" xlink:href=\"#DejaVuSans-46\"/>\n       <use x=\"159.033203\" xlink:href=\"#DejaVuSans-56\"/>\n      </g>\n     </g>\n    </g>\n    <g id=\"ytick_4\">\n     <g id=\"line2d_10\">\n      <g>\n       <use style=\"stroke:#000000;stroke-width:0.8;\" x=\"36.465625\" xlink:href=\"#m93f75d5dda\" y=\"140.361555\"/>\n      </g>\n     </g>\n     <g id=\"text_10\">\n      <!-- 80.0 -->\n      <g transform=\"translate(7.2 144.160774)scale(0.1 -0.1)\">\n       <use xlink:href=\"#DejaVuSans-56\"/>\n       <use x=\"63.623047\" xlink:href=\"#DejaVuSans-48\"/>\n       <use x=\"127.246094\" xlink:href=\"#DejaVuSans-46\"/>\n       <use x=\"159.033203\" xlink:href=\"#DejaVuSans-48\"/>\n      </g>\n     </g>\n    </g>\n    <g id=\"ytick_5\">\n     <g id=\"line2d_11\">\n      <g>\n       <use style=\"stroke:#000000;stroke-width:0.8;\" x=\"36.465625\" xlink:href=\"#m93f75d5dda\" y=\"79.337441\"/>\n      </g>\n     </g>\n     <g id=\"text_11\">\n      <!-- 80.2 -->\n      <g transform=\"translate(7.2 83.13666)scale(0.1 -0.1)\">\n       <use xlink:href=\"#DejaVuSans-56\"/>\n       <use x=\"63.623047\" xlink:href=\"#DejaVuSans-48\"/>\n       <use x=\"127.246094\" xlink:href=\"#DejaVuSans-46\"/>\n       <use x=\"159.033203\" xlink:href=\"#DejaVuSans-50\"/>\n      </g>\n     </g>\n    </g>\n    <g id=\"ytick_6\">\n     <g id=\"line2d_12\">\n      <g>\n       <use style=\"stroke:#000000;stroke-width:0.8;\" x=\"36.465625\" xlink:href=\"#m93f75d5dda\" y=\"18.313327\"/>\n      </g>\n     </g>\n     <g id=\"text_12\">\n      <!-- 80.4 -->\n      <g transform=\"translate(7.2 22.112546)scale(0.1 -0.1)\">\n       <use xlink:href=\"#DejaVuSans-56\"/>\n       <use x=\"63.623047\" xlink:href=\"#DejaVuSans-48\"/>\n       <use x=\"127.246094\" xlink:href=\"#DejaVuSans-46\"/>\n       <use x=\"159.033203\" xlink:href=\"#DejaVuSans-52\"/>\n      </g>\n     </g>\n    </g>\n   </g>\n   <g id=\"line2d_13\">\n    <path clip-path=\"url(#p7f868ff8e5)\" d=\"M 66.901989 22.025455 \nL 69.336898 105.454084 \nL 71.771807 162.276535 \nL 79.076534 162.276535 \nL 81.511443 98.306482 \nL 83.946352 184.178608 \nL 86.381261 184.178608 \nL 88.81617 190.899316 \nL 91.25108 184.178608 \nL 93.685989 190.158971 \nL 96.120898 153.879556 \nL 98.555807 153.879556 \nL 100.990716 121.467513 \nL 103.425625 129.969332 \nL 105.860534 112.576879 \nL 108.295443 90.810554 \nL 110.730352 96.123344 \nL 113.165261 86.597419 \nL 115.60017 132.257492 \nL 118.03508 145.11573 \nL 120.469989 125.530132 \nL 122.904898 90.810554 \nL 125.339807 119.926776 \nL 127.774716 102.024925 \nL 130.209625 102.024925 \nL 132.644534 100.375199 \nL 135.079443 116.527733 \nL 139.949261 116.527733 \nL 142.38417 119.654304 \nL 144.81908 119.654304 \nL 147.253989 122.884768 \nL 149.688898 122.884768 \nL 152.123807 162.442643 \nL 154.558716 192.170936 \nL 156.993625 192.170936 \nL 159.428534 187.840391 \nL 161.863443 262.477947 \nL 164.298352 224.773801 \nL 166.733261 259.615489 \nL 169.16817 285.297701 \nL 171.60308 313.99008 \nL 174.037989 297.519885 \nL 178.907807 318.534545 \nL 181.342716 296.363234 \nL 183.777625 282.355057 \nL 186.212534 278.033451 \nL 188.647443 303.177461 \nL 191.082352 295.46087 \nL 193.517261 300.980959 \nL 195.95217 288.932816 \nL 198.38708 281.514907 \nL 200.821989 246.525359 \nL 203.256898 294.176709 \nL 205.691807 278.273795 \nL 208.126716 282.992942 \nL 210.561625 265.278954 \nL 212.996534 242.416758 \nL 215.431443 270.071238 \nL 217.866352 241.696337 \nL 220.301261 260.355955 \nL 222.73617 261.333013 \nL 225.17108 266.46926 \nL 227.605989 228.928537 \nL 230.040898 236.543126 \nL 232.475807 236.543126 \nL 234.910716 234.622209 \nL 237.345625 231.175445 \nL 239.780534 236.837811 \nL 242.215443 257.886432 \nL 244.650352 255.070809 \nL 247.085261 257.886432 \nL 249.52017 264.331097 \nL 251.95508 264.324445 \nL 254.389989 274.78468 \nL 256.824898 271.426676 \nL 259.259807 272.753645 \nL 261.694716 239.614317 \nL 264.129625 216.994264 \nL 266.564534 219.124342 \nL 268.999443 225.029493 \nL 271.434352 209.339247 \nL 273.869261 201.724475 \nL 276.30417 199.003501 \nL 278.73908 210.041085 \nL 281.173989 200.475708 \nL 283.608898 198.581794 \nL 286.043807 210.862805 \nL 288.478716 210.862805 \nL 290.913625 174.860439 \nL 293.348534 174.860439 \nL 295.783443 199.960939 \nL 298.218352 168.678239 \nL 300.653261 208.938715 \nL 303.08817 216.763532 \nL 305.52308 213.59037 \nL 307.957989 213.59037 \nL 310.392898 199.432074 \nL 312.827807 208.706152 \nL 315.262716 186.008081 \nL 317.697625 186.008081 \nL 320.132534 187.038808 \nL 322.567443 160.556936 \nL 325.002352 160.556936 \nL 327.437261 168.064031 \nL 329.87217 166.376379 \nL 332.30708 182.651907 \nL 334.741989 154.309288 \nL 337.176898 143.024159 \nL 339.611807 165.344858 \nL 342.046716 131.393878 \nL 344.481625 126.021621 \nL 346.916534 132.793863 \nL 349.351443 157.12912 \nL 351.786352 139.855482 \nL 354.221261 149.753075 \nL 356.65617 157.150906 \nL 359.09108 145.331573 \nL 361.525989 144.74864 \nL 363.960898 144.74864 \nL 366.395807 141.067909 \nL 368.830716 116.4924 \nL 371.265625 122.032413 \nL 373.700534 127.973965 \nL 376.135443 127.658318 \nL 378.570352 128.491053 \nL 381.005261 127.51723 \nL 383.44017 118.904775 \nL 385.87508 145.410355 \nL 388.309989 158.541768 \nL 390.744898 147.891687 \nL 393.179807 127.590978 \nL 395.614716 119.163517 \nL 398.049625 116.199027 \nL 400.484534 140.766877 \nL 402.919443 158.771798 \nL 405.354352 127.558055 \nL 407.789261 142.262182 \nL 410.22417 146.411913 \nL 412.65908 106.093616 \nL 415.093989 126.427095 \nL 417.528898 126.427095 \nL 419.963807 104.86276 \nL 422.398716 72.784458 \nL 424.833625 173.33685 \nL 427.268534 155.779969 \nL 429.703443 123.500867 \nL 432.138352 159.762158 \nL 434.573261 159.495056 \nL 437.00817 164.89746 \nL 439.44308 154.801203 \nL 441.877989 132.836183 \nL 444.312898 113.786255 \nL 446.747807 135.51026 \nL 449.182716 168.596406 \nL 451.617625 146.258285 \nL 454.052534 112.644189 \nL 456.487443 150.757959 \nL 458.922352 171.997859 \nL 461.357261 135.947895 \nL 463.79217 87.361319 \nL 466.22708 104.473609 \nL 468.661989 129.829007 \nL 471.096898 102.298283 \nL 473.531807 131.330078 \nL 475.966716 135.25701 \nL 478.401625 174.134954 \nL 480.836534 118.182829 \nL 483.271443 175.396445 \nL 485.706352 169.234443 \nL 488.141261 211.034405 \nL 490.57617 228.492367 \nL 493.01108 241.492853 \nL 495.445989 245.849456 \nL 497.880898 224.774747 \nL 500.315807 230.007107 \nL 502.750716 259.154513 \nL 505.185625 256.244547 \nL 507.620534 267.350661 \nL 510.055443 262.589591 \nL 512.490352 223.312671 \nL 514.925261 248.147898 \nL 517.36017 241.958772 \nL 519.79508 178.614765 \nL 524.664898 178.614765 \nL 527.099807 177.503638 \nL 529.534716 159.035087 \nL 531.969625 203.033747 \nL 534.404534 201.143953 \nL 536.839443 195.378089 \nL 539.274352 223.447717 \nL 541.709261 214.233137 \nL 544.14417 194.641406 \nL 546.57908 193.226806 \nL 549.013989 194.19889 \nL 551.448898 172.398147 \nL 553.883807 194.466023 \nL 556.318716 206.092306 \nL 558.753625 204.315345 \nL 561.188534 214.041857 \nL 563.623443 185.148525 \nL 566.058352 224.456842 \nL 568.493261 240.938601 \nL 570.92817 240.938601 \nL 573.36308 260.076251 \nL 575.797989 244.197533 \nL 578.232898 240.203627 \nL 580.667807 258.773173 \nL 583.102716 234.743982 \nL 585.537625 219.189058 \nL 587.972534 238.58963 \nL 590.407443 229.362266 \nL 592.842352 247.165502 \nL 595.277261 244.449715 \nL 597.71217 244.449715 \nL 600.14708 255.480861 \nL 602.581989 229.599802 \nL 605.016898 226.454345 \nL 607.451807 197.572089 \nL 609.886716 214.468995 \nL 612.321625 229.559892 \nL 614.756534 229.559892 \nL 617.191443 242.137481 \nL 619.626352 255.668754 \nL 622.061261 196.157794 \nL 624.49617 281.894538 \nL 626.93108 252.651112 \nL 629.365989 254.669423 \nL 631.800898 245.60182 \nL 634.235807 232.629619 \nL 636.670716 235.801011 \nL 639.105625 235.801011 \nL 641.540534 232.567069 \nL 643.975443 230.908128 \nL 646.410352 232.567069 \nL 648.845261 227.111086 \nL 651.28017 227.111086 \nL 653.71508 224.964868 \nL 656.149989 223.440669 \nL 658.584898 249.695439 \nL 661.019807 223.290092 \nL 663.454716 201.414594 \nL 665.889625 253.384011 \nL 668.324534 280.437466 \nL 670.759443 249.317914 \nL 673.194352 267.035167 \nL 675.629261 267.035167 \nL 675.629261 267.035167 \n\" style=\"fill:none;stroke:#1f77b4;stroke-linecap:square;stroke-width:1.5;\"/>\n   </g>\n   <g id=\"patch_3\">\n    <path d=\"M 36.465625 333.36 \nL 36.465625 7.2 \n\" style=\"fill:none;stroke:#000000;stroke-linecap:square;stroke-linejoin:miter;stroke-width:0.8;\"/>\n   </g>\n   <g id=\"patch_4\">\n    <path d=\"M 706.065625 333.36 \nL 706.065625 7.2 \n\" style=\"fill:none;stroke:#000000;stroke-linecap:square;stroke-linejoin:miter;stroke-width:0.8;\"/>\n   </g>\n   <g id=\"patch_5\">\n    <path d=\"M 36.465625 333.36 \nL 706.065625 333.36 \n\" style=\"fill:none;stroke:#000000;stroke-linecap:square;stroke-linejoin:miter;stroke-width:0.8;\"/>\n   </g>\n   <g id=\"patch_6\">\n    <path d=\"M 36.465625 7.2 \nL 706.065625 7.2 \n\" style=\"fill:none;stroke:#000000;stroke-linecap:square;stroke-linejoin:miter;stroke-width:0.8;\"/>\n   </g>\n  </g>\n </g>\n <defs>\n  <clipPath id=\"p7f868ff8e5\">\n   <rect height=\"326.16\" width=\"669.6\" x=\"36.465625\" y=\"7.2\"/>\n  </clipPath>\n </defs>\n</svg>\n"
          },
          "metadata": {
            "tags": [],
            "needs_background": "light"
          }
        }
      ]
    }
  ]
}