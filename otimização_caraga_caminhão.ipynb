{
  "nbformat": 4,
  "nbformat_minor": 0,
  "metadata": {
    "colab": {
      "name": "otimização_caraga_caminhão.ipynb",
      "provenance": [],
      "include_colab_link": true
    },
    "kernelspec": {
      "name": "python3",
      "display_name": "Python 3"
    }
  },
  "cells": [
    {
      "cell_type": "markdown",
      "metadata": {
        "id": "view-in-github",
        "colab_type": "text"
      },
      "source": [
        "<a href=\"https://colab.research.google.com/github/jvataidee/PesquisaOperacional/blob/master/otimiza%C3%A7%C3%A3o_caraga_caminh%C3%A3o.ipynb\" target=\"_parent\"><img src=\"https://colab.research.google.com/assets/colab-badge.svg\" alt=\"Open In Colab\"/></a>"
      ]
    },
    {
      "cell_type": "markdown",
      "metadata": {
        "id": "3ttm_UoU_fbC"
      },
      "source": [
        "\r\n",
        "<p align=\"center\"><img src=\"https://static.wixstatic.com/media/bdd7cb_6ecb6c85550043f090237e5943d2647c~mv2.png/v1/fill/w_417,h_88,al_c,q_85,usm_0.66_1.00_0.01/Ativo%2023-8.webp\" height=\"75px\"></p>\r\n",
        "\r\n",
        "**by: [João Ataíde](https://www.joaoataide.com)**\r\n",
        "# **Otimização de Cargas com Algoritimo Genéticos**\r\n",
        "\r\n",
        "\r\n",
        "---\r\n",
        "\r\n",
        "\r\n",
        "<p align=\"center\"><img src=\"https://static.wixstatic.com/media/bdd7cb_f77572eb85d049688987c967d9038104~mv2.jpg\"></p>\r\n",
        "\r\n",
        "\r\n"
      ]
    },
    {
      "cell_type": "code",
      "metadata": {
        "id": "9SipqIz5_qVl"
      },
      "source": [
        "!pip install deap -q"
      ],
      "execution_count": 133,
      "outputs": []
    },
    {
      "cell_type": "code",
      "metadata": {
        "id": "qPY_LOpn_ecO"
      },
      "source": [
        "import numpy as np\r\n",
        "import random\r\n",
        "import pandas as pd\r\n",
        "from deap import base, creator, algorithms, tools\r\n",
        "import matplotlib.pyplot as plt\r\n",
        "import seaborn as sns\r\n",
        "\r\n",
        "#configurações de gráficos\r\n",
        "%matplotlib inline\r\n",
        "%config InlineBackend.figure_format = 'svg'"
      ],
      "execution_count": 134,
      "outputs": []
    },
    {
      "cell_type": "markdown",
      "metadata": {
        "id": "CbFZHS9DH8kG"
      },
      "source": [
        "## Importando os dados"
      ]
    },
    {
      "cell_type": "markdown",
      "metadata": {
        "id": "_Eb15axFjjo7"
      },
      "source": [
        ""
      ]
    },
    {
      "cell_type": "code",
      "metadata": {
        "id": "hlTOpuhdHRGN"
      },
      "source": [
        "!pip install kaggle -q"
      ],
      "execution_count": 135,
      "outputs": []
    },
    {
      "cell_type": "code",
      "metadata": {
        "id": "lDj-ssmKBLhG"
      },
      "source": [
        "from google.colab import files\r\n",
        "files.upload()"
      ],
      "execution_count": null,
      "outputs": []
    },
    {
      "cell_type": "code",
      "metadata": {
        "id": "DFNZfYZ1HWwK"
      },
      "source": [
        "!mkdir -p ~/.kaggle\r\n",
        "!cp kaggle.json ~/.kaggle/\r\n",
        "!chmod 600 ~/.kaggle/kaggle.json"
      ],
      "execution_count": 137,
      "outputs": []
    },
    {
      "cell_type": "code",
      "metadata": {
        "colab": {
          "base_uri": "https://localhost:8080/"
        },
        "id": "jXM-6q_pHYzo",
        "outputId": "48f3e868-185c-4c0c-f779-fdf1894f13e6"
      },
      "source": [
        "!kaggle datasets download -d olistbr/brazilian-ecommerce"
      ],
      "execution_count": 138,
      "outputs": [
        {
          "output_type": "stream",
          "text": [
            "brazilian-ecommerce.zip: Skipping, found more recently modified local copy (use --force to force download)\n"
          ],
          "name": "stdout"
        }
      ]
    },
    {
      "cell_type": "code",
      "metadata": {
        "colab": {
          "base_uri": "https://localhost:8080/"
        },
        "id": "BbzUJEvkHasY",
        "outputId": "d4a4da94-9e4c-4d4c-949a-16e37c083b9e"
      },
      "source": [
        "!ls"
      ],
      "execution_count": 139,
      "outputs": [
        {
          "output_type": "stream",
          "text": [
            " brazilian-ecommerce.zip   files  'kaggle (1).json'   kaggle.json   sample_data\n"
          ],
          "name": "stdout"
        }
      ]
    },
    {
      "cell_type": "code",
      "metadata": {
        "id": "CczDJTQkHcx2"
      },
      "source": [
        "import zipfile\r\n",
        "zip_ref = zipfile.ZipFile('brazilian-ecommerce.zip', 'r')\r\n",
        "zip_ref.extractall('files')\r\n",
        "zip_ref.close()"
      ],
      "execution_count": 140,
      "outputs": []
    },
    {
      "cell_type": "code",
      "metadata": {
        "id": "XxmhXYvNHzT3"
      },
      "source": [
        "df_items = pd.read_csv('/content/files/olist_order_items_dataset.csv')\r\n",
        "df_produto = pd.read_csv('/content/files/olist_products_dataset.csv')"
      ],
      "execution_count": 169,
      "outputs": []
    },
    {
      "cell_type": "code",
      "metadata": {
        "colab": {
          "base_uri": "https://localhost:8080/",
          "height": 213
        },
        "id": "DqA0njSwIToJ",
        "outputId": "c2de0710-bc49-414a-8688-26217bedcc7f"
      },
      "source": [
        "print(df_items.shape)\r\n",
        "df_items.head()"
      ],
      "execution_count": 142,
      "outputs": [
        {
          "output_type": "stream",
          "text": [
            "(112650, 7)\n"
          ],
          "name": "stdout"
        },
        {
          "output_type": "execute_result",
          "data": {
            "text/html": [
              "<div>\n",
              "<style scoped>\n",
              "    .dataframe tbody tr th:only-of-type {\n",
              "        vertical-align: middle;\n",
              "    }\n",
              "\n",
              "    .dataframe tbody tr th {\n",
              "        vertical-align: top;\n",
              "    }\n",
              "\n",
              "    .dataframe thead th {\n",
              "        text-align: right;\n",
              "    }\n",
              "</style>\n",
              "<table border=\"1\" class=\"dataframe\">\n",
              "  <thead>\n",
              "    <tr style=\"text-align: right;\">\n",
              "      <th></th>\n",
              "      <th>order_id</th>\n",
              "      <th>order_item_id</th>\n",
              "      <th>product_id</th>\n",
              "      <th>seller_id</th>\n",
              "      <th>shipping_limit_date</th>\n",
              "      <th>price</th>\n",
              "      <th>freight_value</th>\n",
              "    </tr>\n",
              "  </thead>\n",
              "  <tbody>\n",
              "    <tr>\n",
              "      <th>0</th>\n",
              "      <td>00010242fe8c5a6d1ba2dd792cb16214</td>\n",
              "      <td>1</td>\n",
              "      <td>4244733e06e7ecb4970a6e2683c13e61</td>\n",
              "      <td>48436dade18ac8b2bce089ec2a041202</td>\n",
              "      <td>2017-09-19 09:45:35</td>\n",
              "      <td>58.90</td>\n",
              "      <td>13.29</td>\n",
              "    </tr>\n",
              "    <tr>\n",
              "      <th>1</th>\n",
              "      <td>00018f77f2f0320c557190d7a144bdd3</td>\n",
              "      <td>1</td>\n",
              "      <td>e5f2d52b802189ee658865ca93d83a8f</td>\n",
              "      <td>dd7ddc04e1b6c2c614352b383efe2d36</td>\n",
              "      <td>2017-05-03 11:05:13</td>\n",
              "      <td>239.90</td>\n",
              "      <td>19.93</td>\n",
              "    </tr>\n",
              "    <tr>\n",
              "      <th>2</th>\n",
              "      <td>000229ec398224ef6ca0657da4fc703e</td>\n",
              "      <td>1</td>\n",
              "      <td>c777355d18b72b67abbeef9df44fd0fd</td>\n",
              "      <td>5b51032eddd242adc84c38acab88f23d</td>\n",
              "      <td>2018-01-18 14:48:30</td>\n",
              "      <td>199.00</td>\n",
              "      <td>17.87</td>\n",
              "    </tr>\n",
              "    <tr>\n",
              "      <th>3</th>\n",
              "      <td>00024acbcdf0a6daa1e931b038114c75</td>\n",
              "      <td>1</td>\n",
              "      <td>7634da152a4610f1595efa32f14722fc</td>\n",
              "      <td>9d7a1d34a5052409006425275ba1c2b4</td>\n",
              "      <td>2018-08-15 10:10:18</td>\n",
              "      <td>12.99</td>\n",
              "      <td>12.79</td>\n",
              "    </tr>\n",
              "    <tr>\n",
              "      <th>4</th>\n",
              "      <td>00042b26cf59d7ce69dfabb4e55b4fd9</td>\n",
              "      <td>1</td>\n",
              "      <td>ac6c3623068f30de03045865e4e10089</td>\n",
              "      <td>df560393f3a51e74553ab94004ba5c87</td>\n",
              "      <td>2017-02-13 13:57:51</td>\n",
              "      <td>199.90</td>\n",
              "      <td>18.14</td>\n",
              "    </tr>\n",
              "  </tbody>\n",
              "</table>\n",
              "</div>"
            ],
            "text/plain": [
              "                           order_id  order_item_id  ...   price freight_value\n",
              "0  00010242fe8c5a6d1ba2dd792cb16214              1  ...   58.90         13.29\n",
              "1  00018f77f2f0320c557190d7a144bdd3              1  ...  239.90         19.93\n",
              "2  000229ec398224ef6ca0657da4fc703e              1  ...  199.00         17.87\n",
              "3  00024acbcdf0a6daa1e931b038114c75              1  ...   12.99         12.79\n",
              "4  00042b26cf59d7ce69dfabb4e55b4fd9              1  ...  199.90         18.14\n",
              "\n",
              "[5 rows x 7 columns]"
            ]
          },
          "metadata": {
            "tags": []
          },
          "execution_count": 142
        }
      ]
    },
    {
      "cell_type": "code",
      "metadata": {
        "colab": {
          "base_uri": "https://localhost:8080/",
          "height": 233
        },
        "id": "RviMx3ejIavg",
        "outputId": "5417cbc6-c4a7-47cd-976f-f44b695a38f8"
      },
      "source": [
        "print(df_produto.shape)\r\n",
        "df_produto.head()"
      ],
      "execution_count": 143,
      "outputs": [
        {
          "output_type": "stream",
          "text": [
            "(32951, 9)\n"
          ],
          "name": "stdout"
        },
        {
          "output_type": "execute_result",
          "data": {
            "text/html": [
              "<div>\n",
              "<style scoped>\n",
              "    .dataframe tbody tr th:only-of-type {\n",
              "        vertical-align: middle;\n",
              "    }\n",
              "\n",
              "    .dataframe tbody tr th {\n",
              "        vertical-align: top;\n",
              "    }\n",
              "\n",
              "    .dataframe thead th {\n",
              "        text-align: right;\n",
              "    }\n",
              "</style>\n",
              "<table border=\"1\" class=\"dataframe\">\n",
              "  <thead>\n",
              "    <tr style=\"text-align: right;\">\n",
              "      <th></th>\n",
              "      <th>product_id</th>\n",
              "      <th>product_category_name</th>\n",
              "      <th>product_name_lenght</th>\n",
              "      <th>product_description_lenght</th>\n",
              "      <th>product_photos_qty</th>\n",
              "      <th>product_weight_g</th>\n",
              "      <th>product_length_cm</th>\n",
              "      <th>product_height_cm</th>\n",
              "      <th>product_width_cm</th>\n",
              "    </tr>\n",
              "  </thead>\n",
              "  <tbody>\n",
              "    <tr>\n",
              "      <th>0</th>\n",
              "      <td>1e9e8ef04dbcff4541ed26657ea517e5</td>\n",
              "      <td>perfumaria</td>\n",
              "      <td>40.0</td>\n",
              "      <td>287.0</td>\n",
              "      <td>1.0</td>\n",
              "      <td>225.0</td>\n",
              "      <td>16.0</td>\n",
              "      <td>10.0</td>\n",
              "      <td>14.0</td>\n",
              "    </tr>\n",
              "    <tr>\n",
              "      <th>1</th>\n",
              "      <td>3aa071139cb16b67ca9e5dea641aaa2f</td>\n",
              "      <td>artes</td>\n",
              "      <td>44.0</td>\n",
              "      <td>276.0</td>\n",
              "      <td>1.0</td>\n",
              "      <td>1000.0</td>\n",
              "      <td>30.0</td>\n",
              "      <td>18.0</td>\n",
              "      <td>20.0</td>\n",
              "    </tr>\n",
              "    <tr>\n",
              "      <th>2</th>\n",
              "      <td>96bd76ec8810374ed1b65e291975717f</td>\n",
              "      <td>esporte_lazer</td>\n",
              "      <td>46.0</td>\n",
              "      <td>250.0</td>\n",
              "      <td>1.0</td>\n",
              "      <td>154.0</td>\n",
              "      <td>18.0</td>\n",
              "      <td>9.0</td>\n",
              "      <td>15.0</td>\n",
              "    </tr>\n",
              "    <tr>\n",
              "      <th>3</th>\n",
              "      <td>cef67bcfe19066a932b7673e239eb23d</td>\n",
              "      <td>bebes</td>\n",
              "      <td>27.0</td>\n",
              "      <td>261.0</td>\n",
              "      <td>1.0</td>\n",
              "      <td>371.0</td>\n",
              "      <td>26.0</td>\n",
              "      <td>4.0</td>\n",
              "      <td>26.0</td>\n",
              "    </tr>\n",
              "    <tr>\n",
              "      <th>4</th>\n",
              "      <td>9dc1a7de274444849c219cff195d0b71</td>\n",
              "      <td>utilidades_domesticas</td>\n",
              "      <td>37.0</td>\n",
              "      <td>402.0</td>\n",
              "      <td>4.0</td>\n",
              "      <td>625.0</td>\n",
              "      <td>20.0</td>\n",
              "      <td>17.0</td>\n",
              "      <td>13.0</td>\n",
              "    </tr>\n",
              "  </tbody>\n",
              "</table>\n",
              "</div>"
            ],
            "text/plain": [
              "                         product_id  ... product_width_cm\n",
              "0  1e9e8ef04dbcff4541ed26657ea517e5  ...             14.0\n",
              "1  3aa071139cb16b67ca9e5dea641aaa2f  ...             20.0\n",
              "2  96bd76ec8810374ed1b65e291975717f  ...             15.0\n",
              "3  cef67bcfe19066a932b7673e239eb23d  ...             26.0\n",
              "4  9dc1a7de274444849c219cff195d0b71  ...             13.0\n",
              "\n",
              "[5 rows x 9 columns]"
            ]
          },
          "metadata": {
            "tags": []
          },
          "execution_count": 143
        }
      ]
    },
    {
      "cell_type": "markdown",
      "metadata": {
        "id": "X7qy4NVajoce"
      },
      "source": [
        "### Prepararo do dataset"
      ]
    },
    {
      "cell_type": "code",
      "metadata": {
        "id": "AQSPy2fJIliS"
      },
      "source": [
        "#Escolher variáleis as necesárias\r\n",
        "df_items = df_items.iloc[:, [2,5,6]]\r\n",
        "df_produto = df_produto.iloc[:, [0,1,5,6,7,8]]"
      ],
      "execution_count": 170,
      "outputs": []
    },
    {
      "cell_type": "code",
      "metadata": {
        "id": "vtV1QFbxJa9f"
      },
      "source": [
        "#Indexar o id do produto\r\n",
        "df_items = df_items.set_index('product_id')\r\n",
        "df_produto = df_produto.set_index('product_id')"
      ],
      "execution_count": 171,
      "outputs": []
    },
    {
      "cell_type": "code",
      "metadata": {
        "id": "bBPusWH_Jh_U"
      },
      "source": [
        " #Realizar um join entre as tabelas\r\n",
        " df = df_items.join(df_produto)"
      ],
      "execution_count": 172,
      "outputs": []
    },
    {
      "cell_type": "code",
      "metadata": {
        "id": "ZeaGGHHOiEqy"
      },
      "source": [
        "#Calcular o volume e preço total de cada produto\r\n",
        "df[\"volume\"] = df[\"product_length_cm\"]*df[\"product_height_cm\"]*df[\"product_width_cm\"]\r\n",
        "df[\"preco\"] =  df[\"price\"]+df[\"freight_value\"]\r\n",
        "df = df.reset_index()"
      ],
      "execution_count": 173,
      "outputs": []
    },
    {
      "cell_type": "code",
      "metadata": {
        "colab": {
          "base_uri": "https://localhost:8080/",
          "height": 195
        },
        "id": "7GtIcblOv_Dp",
        "outputId": "5e4f5ccf-318c-490e-c331-90c1ba59406d"
      },
      "source": [
        "#Escolher dataset final\r\n",
        "produtos = df.iloc[:, [0,3, 4 ,8,9]]\r\n",
        "produtos.head()"
      ],
      "execution_count": 174,
      "outputs": [
        {
          "output_type": "execute_result",
          "data": {
            "text/html": [
              "<div>\n",
              "<style scoped>\n",
              "    .dataframe tbody tr th:only-of-type {\n",
              "        vertical-align: middle;\n",
              "    }\n",
              "\n",
              "    .dataframe tbody tr th {\n",
              "        vertical-align: top;\n",
              "    }\n",
              "\n",
              "    .dataframe thead th {\n",
              "        text-align: right;\n",
              "    }\n",
              "</style>\n",
              "<table border=\"1\" class=\"dataframe\">\n",
              "  <thead>\n",
              "    <tr style=\"text-align: right;\">\n",
              "      <th></th>\n",
              "      <th>product_id</th>\n",
              "      <th>product_category_name</th>\n",
              "      <th>product_weight_g</th>\n",
              "      <th>volume</th>\n",
              "      <th>preco</th>\n",
              "    </tr>\n",
              "  </thead>\n",
              "  <tbody>\n",
              "    <tr>\n",
              "      <th>0</th>\n",
              "      <td>00066f42aeeb9f3007548bb9d3f33c38</td>\n",
              "      <td>perfumaria</td>\n",
              "      <td>300.0</td>\n",
              "      <td>5120.0</td>\n",
              "      <td>120.24</td>\n",
              "    </tr>\n",
              "    <tr>\n",
              "      <th>1</th>\n",
              "      <td>00088930e925c41fd95ebfe695fd2655</td>\n",
              "      <td>automotivo</td>\n",
              "      <td>1225.0</td>\n",
              "      <td>14300.0</td>\n",
              "      <td>143.83</td>\n",
              "    </tr>\n",
              "    <tr>\n",
              "      <th>2</th>\n",
              "      <td>0009406fd7479715e4bef61dd91f2462</td>\n",
              "      <td>cama_mesa_banho</td>\n",
              "      <td>300.0</td>\n",
              "      <td>23625.0</td>\n",
              "      <td>242.10</td>\n",
              "    </tr>\n",
              "    <tr>\n",
              "      <th>3</th>\n",
              "      <td>000b8f95fcb9e0096488278317764d19</td>\n",
              "      <td>utilidades_domesticas</td>\n",
              "      <td>550.0</td>\n",
              "      <td>5472.0</td>\n",
              "      <td>78.50</td>\n",
              "    </tr>\n",
              "    <tr>\n",
              "      <th>4</th>\n",
              "      <td>000b8f95fcb9e0096488278317764d19</td>\n",
              "      <td>utilidades_domesticas</td>\n",
              "      <td>550.0</td>\n",
              "      <td>5472.0</td>\n",
              "      <td>78.50</td>\n",
              "    </tr>\n",
              "  </tbody>\n",
              "</table>\n",
              "</div>"
            ],
            "text/plain": [
              "                         product_id  product_category_name  ...   volume   preco\n",
              "0  00066f42aeeb9f3007548bb9d3f33c38             perfumaria  ...   5120.0  120.24\n",
              "1  00088930e925c41fd95ebfe695fd2655             automotivo  ...  14300.0  143.83\n",
              "2  0009406fd7479715e4bef61dd91f2462        cama_mesa_banho  ...  23625.0  242.10\n",
              "3  000b8f95fcb9e0096488278317764d19  utilidades_domesticas  ...   5472.0   78.50\n",
              "4  000b8f95fcb9e0096488278317764d19  utilidades_domesticas  ...   5472.0   78.50\n",
              "\n",
              "[5 rows x 5 columns]"
            ]
          },
          "metadata": {
            "tags": []
          },
          "execution_count": 174
        }
      ]
    },
    {
      "cell_type": "markdown",
      "metadata": {
        "id": "0Ox8-AQFIfUL"
      },
      "source": [
        "## Criando o Algoritimo Genético"
      ]
    },
    {
      "cell_type": "markdown",
      "metadata": {
        "id": "Rd_p3UEGKB2l"
      },
      "source": [
        "Tipo de caminhão VUC\r\n",
        "<p align=\"center\"><img src=\"http://www.guiadotrc.com.br/figuras/vuc-reforcado.gif?gtgggf\"></p>\r\n",
        "\r\n",
        "\r\n",
        "\r\n",
        "<p align=\"center\"><img src=\"https://www.truckpad.com.br/uploads/2017/01/329981fc-medidas-carrocerias-3.png\"></p>"
      ]
    },
    {
      "cell_type": "code",
      "metadata": {
        "id": "C3s-lNJIJ6R1"
      },
      "source": [
        "#lmimte de espaço no caminhão\r\n",
        "limtie_espacos = 2.2*7.2*3.5*100  #grandeza em centimetros\r\n",
        "limtie_peso = 4e+6   #grandeza em gramas"
      ],
      "execution_count": 175,
      "outputs": []
    },
    {
      "cell_type": "code",
      "metadata": {
        "id": "voGQQBTm_w-m"
      },
      "source": [
        "#Criar Classe do Produto\r\n",
        "class Produto():\r\n",
        "    def __init__(self, nome, pesos, volume, valores):\r\n",
        "        self.nome = nome\r\n",
        "        self.pesos = pesos \r\n",
        "        self.volume = volume\r\n",
        "        self.valor = valor"
      ],
      "execution_count": 176,
      "outputs": []
    },
    {
      "cell_type": "code",
      "metadata": {
        "id": "6qodsgcAvKU8"
      },
      "source": [
        "#Criando listas de produtos\r\n",
        "lista_produtos = []\r\n",
        "\r\n",
        "for i in range(len(produtos)):\r\n",
        "  lista_produtos.append(produtos.loc[i])"
      ],
      "execution_count": 177,
      "outputs": []
    },
    {
      "cell_type": "code",
      "metadata": {
        "id": "7HPHeJJnmpd0"
      },
      "source": [
        "#Transformar em listas\r\n",
        "espacos = list(produtos.volume)\r\n",
        "valores = list(produtos.preco)\r\n",
        "nome = list(produtos.product_id)\r\n",
        "pesos = list(produtos.product_weight_g)"
      ],
      "execution_count": 178,
      "outputs": []
    },
    {
      "cell_type": "code",
      "metadata": {
        "id": "2JxUNH2-hMrn"
      },
      "source": [
        "#Criar a função de avaliação\r\n",
        "def avaliacao(individual):\r\n",
        "    nota = 0 \r\n",
        "    soma_espacos = 0\r\n",
        "    soma_pesos = 0\r\n",
        "\r\n",
        "    for i in range(len(individual)):\r\n",
        "        if individual[i] == 1:\r\n",
        "            nota += valores[i]\r\n",
        "            soma_espacos += espacos[i]\r\n",
        "            soma_pesos += pesos[i]\r\n",
        "            \r\n",
        "    if soma_espacos > limtie_espacos and soma_pesos > limtie_peso:\r\n",
        "      nota = 1\r\n",
        "\r\n",
        "    return nota / 100000, "
      ],
      "execution_count": 179,
      "outputs": []
    },
    {
      "cell_type": "code",
      "metadata": {
        "id": "LzRdnrDu_9ej"
      },
      "source": [
        "#Criar a toolbox\r\n",
        "toolbox = base.Toolbox()\r\n",
        "\r\n",
        "#Criando parâmetros na toolbox\r\n",
        "creator.create(\"FitnessMax\",  base.Fitness, weights = (1.0, ))\r\n",
        "creator.create(\"Individual\", list, fitness = creator.FitnessMax)\r\n",
        "\r\n",
        "#Registrando na toolbox\r\n",
        "toolbox.register(\"attr_bool\", random.randint, 0, 1)\r\n",
        "toolbox.register(\"individual\", tools.initRepeat, creator.Individual, toolbox.attr_bool, n = len(espacos))\r\n",
        "toolbox.register(\"population\", tools.initRepeat, list, toolbox.individual)\r\n",
        "toolbox.register(\"evaluate\", avaliacao)\r\n",
        "toolbox.register(\"mate\", tools.cxOnePoint)\r\n",
        "toolbox.register(\"mutate\", tools.mutFlipBit, indpb = 0.05)\r\n",
        "toolbox.register(\"select\", tools.selRoulette)"
      ],
      "execution_count": null,
      "outputs": []
    },
    {
      "cell_type": "code",
      "metadata": {
        "id": "XJkScplGASPx",
        "colab": {
          "base_uri": "https://localhost:8080/"
        },
        "outputId": "50497be3-4ecf-4896-f77e-c6a37fe225f6"
      },
      "source": [
        "#Iniciando a toolbox\r\n",
        "if __name__ == \"__main__\":\r\n",
        "    population = toolbox.population(n = 24)\r\n",
        "    probabilidade_crossover = 5.0\r\n",
        "    probabilidade_mutação = 0.03\r\n",
        "    numero_gerações = 250\r\n",
        "    \r\n",
        "    estatisticas = tools.Statistics( key = lambda individuo: individuo.fitness.values)\r\n",
        "    estatisticas.register(\"max\", np.max)\r\n",
        "    estatisticas.register(\"min\", np.min)\r\n",
        "    estatisticas.register(\"med\", np.mean)\r\n",
        "    estatisticas.register(\"std\", np.std)\r\n",
        "    \r\n",
        "    populacao, info = algorithms.eaSimple(population, toolbox, \r\n",
        "                                          probabilidade_crossover, \r\n",
        "                                          probabilidade_mutação,\r\n",
        "                                          numero_gerações, estatisticas)"
      ],
      "execution_count": 181,
      "outputs": [
        {
          "output_type": "stream",
          "text": [
            "gen\tnevals\tmax    \tmin    \tmed    \tstd     \n",
            "0  \t24    \t80.5387\t78.0217\t79.1141\t0.515631\n",
            "1  \t24    \t80.2798\t78.53  \t79.212 \t0.426762\n",
            "2  \t24    \t79.9195\t78.4214\t79.0989\t0.350674\n",
            "3  \t24    \t79.6193\t78.4137\t79.0792\t0.308868\n",
            "4  \t24    \t79.7415\t78.598 \t79.1462\t0.308654\n",
            "5  \t24    \t79.8293\t78.7173\t79.2017\t0.271295\n",
            "6  \t24    \t79.5867\t78.718 \t79.1473\t0.203826\n",
            "7  \t24    \t79.7402\t78.7045\t79.1637\t0.231724\n",
            "8  \t24    \t80.0889\t78.9228\t79.2351\t0.280823\n",
            "9  \t24    \t79.8132\t78.7728\t79.2176\t0.261805\n",
            "10 \t24    \t79.6355\t78.6872\t79.1635\t0.237934\n",
            "11 \t24    \t79.5254\t78.7979\t79.1658\t0.181442\n",
            "12 \t24    \t79.5201\t78.7406\t79.1319\t0.191937\n",
            "13 \t24    \t79.4829\t78.7101\t79.1944\t0.207276\n",
            "14 \t24    \t79.6204\t78.8156\t79.1396\t0.221743\n",
            "15 \t24    \t79.5486\t78.6049\t79.105 \t0.23208 \n",
            "16 \t24    \t79.4594\t78.4575\t79.0542\t0.280349\n",
            "17 \t24    \t79.564 \t78.4575\t79.0961\t0.305902\n",
            "18 \t24    \t79.543 \t78.4823\t79.0448\t0.242588\n",
            "19 \t24    \t79.5909\t78.517 \t79.0816\t0.236093\n",
            "20 \t24    \t79.6361\t78.7585\t79.0619\t0.225111\n",
            "21 \t24    \t79.5429\t78.5986\t79.0029\t0.252352\n",
            "22 \t24    \t79.4256\t78.7077\t79.0291\t0.214188\n",
            "23 \t24    \t79.3126\t78.6347\t79.0709\t0.211629\n",
            "24 \t24    \t79.4018\t78.7413\t79.1393\t0.191747\n",
            "25 \t24    \t79.4018\t78.7217\t79.1336\t0.197546\n",
            "26 \t24    \t79.49  \t78.8128\t79.1452\t0.155521\n",
            "27 \t24    \t79.4587\t78.7574\t79.1042\t0.175379\n",
            "28 \t24    \t79.4848\t78.8729\t79.1365\t0.161436\n",
            "29 \t24    \t79.329 \t78.7994\t79.1102\t0.162469\n",
            "30 \t24    \t79.3275\t78.7994\t79.1655\t0.130906\n",
            "31 \t24    \t79.3234\t78.8729\t79.1752\t0.120554\n",
            "32 \t24    \t79.4132\t79.0149\t79.1834\t0.118285\n",
            "33 \t24    \t79.434 \t78.9549\t79.1829\t0.124135\n",
            "34 \t24    \t79.4382\t79.0107\t79.1981\t0.122303\n",
            "35 \t24    \t79.4038\t79.0107\t79.1799\t0.109561\n",
            "36 \t24    \t79.434 \t78.9145\t79.159 \t0.120897\n",
            "37 \t24    \t79.4802\t78.9754\t79.173 \t0.139601\n",
            "38 \t24    \t79.434 \t78.9844\t79.1722\t0.130912\n",
            "39 \t24    \t79.3813\t78.8506\t79.1678\t0.138255\n",
            "40 \t24    \t79.3555\t78.9488\t79.1564\t0.126299\n",
            "41 \t24    \t79.4193\t78.9288\t79.1563\t0.15571 \n",
            "42 \t24    \t79.3962\t78.9161\t79.1193\t0.137668\n",
            "43 \t24    \t79.3927\t78.826 \t79.1056\t0.170811\n",
            "44 \t24    \t79.3792\t78.8663\t79.1344\t0.1567  \n",
            "45 \t24    \t79.6518\t78.8762\t79.1511\t0.18519 \n",
            "46 \t24    \t79.4312\t78.8762\t79.1314\t0.160615\n",
            "47 \t24    \t79.5245\t78.8663\t79.1717\t0.17768 \n",
            "48 \t24    \t79.5541\t78.8133\t79.1064\t0.192839\n",
            "49 \t24    \t79.495 \t78.8782\t79.1223\t0.161638\n",
            "50 \t24    \t79.4816\t78.8826\t79.0944\t0.150314\n",
            "51 \t24    \t79.4099\t78.7214\t79.0512\t0.176685\n",
            "52 \t24    \t79.2426\t78.7944\t79.0078\t0.11491 \n",
            "53 \t24    \t79.4809\t78.7776\t79.0669\t0.191158\n",
            "54 \t24    \t79.4809\t78.8011\t79.116 \t0.210116\n",
            "55 \t24    \t79.3938\t78.7838\t79.0263\t0.204599\n",
            "56 \t24    \t79.3329\t78.7465\t78.9952\t0.178063\n",
            "57 \t24    \t79.41  \t78.7293\t79.0244\t0.190118\n",
            "58 \t24    \t79.4396\t78.7184\t79.1404\t0.186786\n",
            "59 \t24    \t79.7158\t78.8347\t79.1744\t0.171378\n",
            "60 \t24    \t79.7604\t78.7763\t79.1854\t0.248294\n",
            "61 \t24    \t79.7315\t78.7128\t79.1888\t0.262458\n",
            "62 \t24    \t79.5766\t78.6752\t79.1844\t0.235984\n",
            "63 \t24    \t79.6794\t78.7128\t79.1603\t0.228752\n",
            "64 \t24    \t79.5091\t78.7128\t79.1386\t0.227612\n",
            "65 \t24    \t79.7127\t78.6965\t79.158 \t0.262338\n",
            "66 \t24    \t79.5154\t78.7741\t79.138 \t0.210869\n",
            "67 \t24    \t79.6531\t78.7128\t79.1848\t0.241248\n",
            "68 \t24    \t79.537 \t78.86  \t79.1609\t0.200861\n",
            "69 \t24    \t79.5638\t78.9048\t79.1019\t0.180325\n",
            "70 \t24    \t79.5946\t78.8894\t79.094 \t0.176998\n",
            "71 \t24    \t79.6605\t78.881 \t79.1651\t0.228677\n",
            "72 \t24    \t79.554 \t78.8267\t79.1608\t0.23874 \n",
            "73 \t24    \t79.5694\t78.8422\t79.2049\t0.211585\n",
            "74 \t24    \t79.5569\t78.5957\t79.1838\t0.268808\n",
            "75 \t24    \t79.659 \t78.8195\t79.1613\t0.241711\n",
            "76 \t24    \t79.5903\t78.8605\t79.2456\t0.235868\n",
            "77 \t24    \t79.5903\t78.8774\t79.2847\t0.20188 \n",
            "78 \t24    \t79.7746\t78.8881\t79.3246\t0.240364\n",
            "79 \t24    \t79.8496\t78.867 \t79.3066\t0.233154\n",
            "80 \t24    \t79.6448\t78.9204\t79.3244\t0.190084\n",
            "81 \t24    \t79.5719\t78.8008\t79.2973\t0.223871\n",
            "82 \t24    \t79.6327\t78.7452\t79.3585\t0.186259\n",
            "83 \t24    \t79.6794\t78.8319\t79.3525\t0.173149\n",
            "84 \t24    \t79.5844\t78.8294\t79.3443\t0.188976\n",
            "85 \t24    \t79.697 \t78.7742\t79.3309\t0.220134\n",
            "86 \t24    \t79.792 \t78.7272\t79.3173\t0.249535\n",
            "87 \t24    \t79.8908\t79.001 \t79.437 \t0.223742\n",
            "88 \t24    \t79.8136\t79.1429\t79.4571\t0.163349\n",
            "89 \t24    \t79.8609\t79.1606\t79.413 \t0.171985\n",
            "90 \t24    \t79.8752\t79.1105\t79.4282\t0.203994\n",
            "91 \t24    \t80.097 \t78.9636\t79.4091\t0.247963\n",
            "92 \t24    \t80.1429\t78.9947\t79.456 \t0.280415\n",
            "93 \t24    \t80.1429\t79.0299\t79.5426\t0.260973\n",
            "94 \t24    \t80.0304\t79.0299\t79.5346\t0.273697\n",
            "95 \t24    \t79.959 \t79.0123\t79.4351\t0.223115\n",
            "96 \t24    \t79.8729\t79.1136\t79.4535\t0.156787\n",
            "97 \t24    \t79.7872\t79.2459\t79.4651\t0.125325\n",
            "98 \t24    \t79.6819\t79.2379\t79.4751\t0.119307\n",
            "99 \t24    \t79.6273\t79.2299\t79.4447\t0.104494\n",
            "100\t24    \t79.6765\t79.2063\t79.4556\t0.121334\n",
            "101\t24    \t79.682 \t79.2188\t79.4481\t0.121542\n",
            "102\t24    \t79.6715\t79.1308\t79.4475\t0.138889\n",
            "103\t24    \t79.6517\t79.0836\t79.4341\t0.151   \n",
            "104\t24    \t79.8159\t79.0535\t79.4216\t0.20122 \n",
            "105\t24    \t79.5993\t79.0535\t79.3988\t0.147956\n",
            "106\t24    \t79.7226\t79.2146\t79.4507\t0.144224\n",
            "107\t24    \t79.6405\t79.0509\t79.384 \t0.149169\n",
            "108\t24    \t79.7426\t79.1658\t79.4182\t0.13716 \n",
            "109\t24    \t79.6365\t79.1937\t79.4115\t0.10935 \n",
            "110\t24    \t79.5833\t79.2284\t79.4119\t0.105547\n",
            "111\t24    \t79.65  \t79.1897\t79.4226\t0.131299\n",
            "112\t24    \t79.6809\t79.1168\t79.4164\t0.140371\n",
            "113\t24    \t79.6809\t79.1248\t79.4037\t0.149147\n",
            "114\t24    \t79.6809\t79.0499\t79.4249\t0.149449\n",
            "115\t24    \t79.691 \t79.1108\t79.4556\t0.150501\n",
            "116\t24    \t79.8175\t79.2203\t79.519 \t0.154619\n",
            "117\t24    \t79.7701\t79.0783\t79.5648\t0.163882\n",
            "118\t24    \t79.8072\t79.3008\t79.567 \t0.126151\n",
            "119\t24    \t79.7814\t79.4596\t79.6066\t0.0897411\n",
            "120\t24    \t79.9783\t79.5018\t79.6501\t0.108607 \n",
            "121\t24    \t80.078 \t79.48  \t79.6344\t0.125421 \n",
            "122\t24    \t79.9937\t79.5011\t79.6209\t0.115504 \n",
            "123\t24    \t79.8878\t79.3548\t79.6389\t0.13152  \n",
            "124\t24    \t79.8803\t79.3518\t79.6444\t0.135584 \n",
            "125\t24    \t79.7652\t79.3657\t79.6149\t0.117531 \n",
            "126\t24    \t79.8917\t79.2361\t79.5815\t0.152138 \n",
            "127\t24    \t79.9756\t79.2167\t79.6071\t0.17324  \n",
            "128\t24    \t79.9915\t79.3493\t79.6233\t0.132487 \n",
            "129\t24    \t79.8413\t79.2371\t79.6227\t0.148129 \n",
            "130\t24    \t79.887 \t79.2655\t79.6428\t0.140954 \n",
            "131\t24    \t79.8259\t79.2979\t79.6265\t0.134676 \n",
            "132\t24    \t79.8367\t79.3282\t79.6273\t0.141647 \n",
            "133\t24    \t79.8656\t79.2845\t79.6342\t0.143726 \n",
            "134\t24    \t79.9207\t79.4275\t79.6611\t0.136622 \n",
            "135\t24    \t79.8822\t79.3867\t79.6327\t0.123872 \n",
            "136\t24    \t79.8231\t79.4464\t79.6333\t0.107991 \n",
            "137\t24    \t79.8375\t79.4603\t79.6406\t0.120898 \n",
            "138\t24    \t79.8256\t79.3767\t79.6056\t0.117827 \n",
            "139\t24    \t79.8919\t79.4149\t79.6738\t0.111727 \n",
            "140\t24    \t79.8844\t79.3974\t79.6305\t0.117863 \n",
            "141\t24    \t79.9913\t79.3677\t79.6558\t0.123782 \n",
            "142\t24    \t79.9315\t79.3827\t79.6657\t0.107582 \n",
            "143\t24    \t79.8965\t79.3631\t79.662 \t0.110464 \n",
            "144\t24    \t79.93  \t79.3909\t79.6599\t0.116051 \n",
            "145\t24    \t79.9004\t79.1954\t79.6691\t0.137377 \n",
            "146\t24    \t79.8476\t79.3661\t79.6783\t0.110622 \n",
            "147\t24    \t79.9108\t79.3944\t79.6896\t0.119618 \n",
            "148\t24    \t79.9108\t79.3209\t79.695 \t0.117818 \n",
            "149\t24    \t79.9075\t79.5551\t79.7084\t0.0918182\n",
            "150\t24    \t79.9423\t79.5169\t79.716 \t0.0935604\n",
            "151\t24    \t79.8552\t79.4147\t79.6799\t0.107696 \n",
            "152\t24    \t79.8163\t79.468 \t79.6878\t0.0745836\n",
            "153\t24    \t79.8655\t79.5869\t79.7024\t0.0725589\n",
            "154\t24    \t79.8821\t79.5033\t79.695 \t0.0921509\n",
            "155\t24    \t79.8788\t79.543 \t79.7086\t0.09379  \n",
            "156\t24    \t79.8582\t79.5137\t79.7038\t0.0925938\n",
            "157\t24    \t79.867 \t79.3458\t79.6391\t0.109018 \n",
            "158\t24    \t79.8882\t79.4622\t79.6886\t0.117597 \n",
            "159\t24    \t79.9287\t79.3899\t79.6659\t0.122202 \n",
            "160\t24    \t79.9042\t79.3899\t79.666 \t0.13108  \n",
            "161\t24    \t79.9042\t79.4976\t79.6789\t0.104012 \n",
            "162\t24    \t79.8881\t79.4978\t79.7052\t0.100922 \n",
            "163\t24    \t79.9049\t79.4581\t79.698 \t0.11109  \n",
            "164\t24    \t79.892 \t79.4498\t79.678 \t0.113981 \n",
            "165\t24    \t79.9361\t79.4183\t79.7102\t0.13169  \n",
            "166\t24    \t79.9381\t79.502 \t79.7002\t0.0974494\n",
            "167\t24    \t79.9302\t79.4892\t79.7235\t0.0962193\n",
            "168\t24    \t79.9762\t79.5116\t79.7346\t0.131616 \n",
            "169\t24    \t79.9513\t79.4746\t79.7605\t0.111384 \n",
            "170\t24    \t80.1416\t79.5252\t79.7684\t0.154652 \n",
            "171\t24    \t80.0859\t79.4194\t79.7366\t0.145605 \n",
            "172\t24    \t80.0851\t79.3383\t79.7479\t0.137858 \n",
            "173\t24    \t80.0538\t79.6264\t79.789 \t0.11273  \n",
            "174\t24    \t79.99  \t79.4525\t79.7268\t0.111215 \n",
            "175\t24    \t79.924 \t79.5396\t79.7364\t0.0939368\n",
            "176\t24    \t80.0445\t79.5448\t79.7139\t0.100124 \n",
            "177\t24    \t79.9602\t79.4923\t79.7286\t0.106199 \n",
            "178\t24    \t79.928 \t79.454 \t79.7063\t0.11601  \n",
            "179\t24    \t79.9293\t79.454 \t79.6955\t0.121325 \n",
            "180\t24    \t79.938 \t79.4267\t79.72  \t0.105754 \n",
            "181\t24    \t79.938 \t79.486 \t79.7295\t0.102283 \n",
            "182\t24    \t79.938 \t79.5922\t79.7339\t0.0964259\n",
            "183\t24    \t79.938 \t79.4958\t79.733 \t0.10709  \n",
            "184\t24    \t79.8985\t79.5021\t79.7279\t0.104934 \n",
            "185\t24    \t79.9337\t79.5602\t79.7118\t0.0910054\n",
            "186\t24    \t79.9087\t79.5309\t79.7058\t0.105064 \n",
            "187\t24    \t79.9373\t79.4504\t79.6914\t0.134248 \n",
            "188\t24    \t79.9373\t79.4901\t79.7266\t0.130805 \n",
            "189\t24    \t79.9463\t79.434 \t79.7221\t0.136345 \n",
            "190\t24    \t79.9361\t79.5169\t79.7294\t0.121612 \n",
            "191\t24    \t79.9592\t79.3643\t79.7075\t0.138841 \n",
            "192\t24    \t79.9142\t79.4255\t79.7442\t0.121795 \n",
            "193\t24    \t79.9475\t79.4017\t79.7269\t0.136898 \n",
            "194\t24    \t80.0549\t79.4578\t79.7574\t0.149811 \n",
            "195\t24    \t80.0878\t79.5529\t79.7597\t0.127978 \n",
            "196\t24    \t80.0878\t79.3527\t79.7469\t0.166525 \n",
            "197\t24    \t80.0241\t79.5678\t79.794 \t0.119664 \n",
            "198\t24    \t79.9777\t79.5946\t79.8164\t0.113996 \n",
            "199\t24    \t80.0218\t79.6237\t79.8087\t0.124719 \n",
            "200\t24    \t80.0072\t79.5303\t79.7658\t0.120795 \n",
            "201\t24    \t80.0471\t79.5303\t79.803 \t0.135011 \n",
            "202\t24    \t80.17  \t79.5144\t79.7512\t0.137729 \n",
            "203\t24    \t80.17  \t79.5004\t79.7331\t0.163262 \n",
            "204\t24    \t80.029 \t79.4739\t79.6982\t0.137332 \n",
            "205\t24    \t79.9229\t79.3789\t79.6855\t0.12739  \n",
            "206\t24    \t79.9766\t79.4444\t79.6684\t0.163364 \n",
            "207\t24    \t79.9655\t79.3874\t79.6498\t0.149368 \n",
            "208\t24    \t79.9981\t79.4139\t79.6112\t0.151333 \n",
            "209\t24    \t79.8426\t79.3812\t79.5889\t0.124595 \n",
            "210\t24    \t79.8499\t79.3852\t79.5957\t0.129939 \n",
            "211\t24    \t80.0472\t79.4034\t79.6094\t0.156624 \n",
            "212\t24    \t79.9093\t79.3598\t79.5851\t0.130202 \n",
            "213\t24    \t79.8163\t79.3167\t79.5865\t0.138521 \n",
            "214\t24    \t80.0001\t79.3598\t79.632 \t0.163271 \n",
            "215\t24    \t79.9241\t79.4215\t79.6299\t0.12166  \n",
            "216\t24    \t79.8098\t79.4724\t79.6462\t0.0949936\n",
            "217\t24    \t79.8098\t79.4341\t79.6828\t0.0740516\n",
            "218\t24    \t79.7934\t79.5304\t79.6869\t0.0721427\n",
            "219\t24    \t79.826 \t79.4943\t79.6901\t0.0828202\n",
            "220\t24    \t79.8622\t79.5001\t79.6818\t0.0904031\n",
            "221\t24    \t79.7791\t79.3202\t79.6661\t0.108858 \n",
            "222\t24    \t79.8868\t79.4272\t79.6616\t0.103084 \n",
            "223\t24    \t79.8   \t79.4937\t79.675 \t0.0829236\n",
            "224\t24    \t79.865 \t79.4765\t79.6679\t0.0974193\n",
            "225\t24    \t79.8191\t79.4968\t79.6733\t0.077902 \n",
            "226\t24    \t79.8278\t79.5226\t79.674 \t0.0779515\n",
            "227\t24    \t79.8747\t79.5264\t79.6745\t0.081533 \n",
            "228\t24    \t79.8797\t79.4225\t79.6723\t0.0953178\n",
            "229\t24    \t79.8311\t79.559 \t79.6624\t0.0679049\n",
            "230\t24    \t79.7772\t79.4097\t79.6476\t0.078563 \n",
            "231\t24    \t79.7822\t79.5104\t79.662 \t0.0744529\n",
            "232\t24    \t79.8168\t79.553 \t79.6792\t0.0624014\n",
            "233\t24    \t79.8466\t79.4956\t79.6667\t0.0843745\n",
            "234\t24    \t79.8175\t79.5066\t79.6637\t0.0751116\n",
            "235\t24    \t79.799 \t79.4856\t79.6463\t0.0799149\n",
            "236\t24    \t79.802 \t79.4581\t79.6563\t0.088233 \n",
            "237\t24    \t79.8498\t79.4747\t79.6536\t0.0907097\n",
            "238\t24    \t79.7852\t79.4784\t79.6446\t0.0657825\n",
            "239\t24    \t79.782 \t79.5246\t79.6588\t0.0740276\n",
            "240\t24    \t79.7744\t79.5141\t79.6619\t0.0707598\n",
            "241\t24    \t79.9281\t79.5545\t79.6817\t0.0869748\n",
            "242\t24    \t79.8837\t79.4755\t79.6968\t0.103064 \n",
            "243\t24    \t79.9333\t79.5474\t79.7043\t0.103814 \n",
            "244\t24    \t80.0352\t79.5063\t79.6904\t0.137663 \n",
            "245\t24    \t79.932 \t79.5014\t79.6649\t0.106096 \n",
            "246\t24    \t80.0072\t79.5512\t79.6957\t0.105701 \n",
            "247\t24    \t80.0936\t79.4533\t79.6842\t0.139152 \n",
            "248\t24    \t79.8951\t79.4989\t79.6529\t0.114088 \n",
            "249\t24    \t79.849 \t79.3833\t79.6659\t0.127716 \n",
            "250\t24    \t79.9017\t79.4326\t79.6888\t0.112437 \n"
          ],
          "name": "stdout"
        }
      ]
    },
    {
      "cell_type": "code",
      "metadata": {
        "colab": {
          "base_uri": "https://localhost:8080/"
        },
        "id": "MtQZmWsukvkn",
        "outputId": "2c35c4bc-1e2e-4a8b-9bba-a63fe69ae9e7"
      },
      "source": [
        "#Identificando o melhor indivíduo\r\n",
        "melhores = tools.selBest(populacao, 1)\r\n",
        "\r\n",
        "for individuo in melhores:\r\n",
        "    df_otimizado = []\r\n",
        "    soma = 0\r\n",
        "    indi = 0\r\n",
        "    for i in range (len(lista_produtos)):\r\n",
        "        if individuo[i] == 1:\r\n",
        "            soma += valores[i]\r\n",
        "            indi += individuo[i]\r\n",
        "            df_otimizado.append(lista_produtos[i])\r\n",
        "\r\n",
        "    print(\"---\")\r\n",
        "    print(individuo.fitness)\r\n",
        "    print(\"Valor total do Indivíduo: R$\", soma)\r\n",
        "    print(\"Número Indivíduo:\", indi)"
      ],
      "execution_count": 182,
      "outputs": [
        {
          "output_type": "stream",
          "text": [
            "---\n",
            "(79.90174549999695,)\n",
            "Valor total do Indivíduo: R$ 7990174.549999695\n",
            "Número Indivíduo: 56669\n"
          ],
          "name": "stdout"
        }
      ]
    },
    {
      "cell_type": "code",
      "metadata": {
        "colab": {
          "base_uri": "https://localhost:8080/",
          "height": 195
        },
        "id": "t2I3RQ6kmITu",
        "outputId": "9fb9d541-eae7-4016-a645-f3996ab068cc"
      },
      "source": [
        "df_otimizado = pd.DataFrame(df_otimizado)\r\n",
        "df_otimizado.head()"
      ],
      "execution_count": 183,
      "outputs": [
        {
          "output_type": "execute_result",
          "data": {
            "text/html": [
              "<div>\n",
              "<style scoped>\n",
              "    .dataframe tbody tr th:only-of-type {\n",
              "        vertical-align: middle;\n",
              "    }\n",
              "\n",
              "    .dataframe tbody tr th {\n",
              "        vertical-align: top;\n",
              "    }\n",
              "\n",
              "    .dataframe thead th {\n",
              "        text-align: right;\n",
              "    }\n",
              "</style>\n",
              "<table border=\"1\" class=\"dataframe\">\n",
              "  <thead>\n",
              "    <tr style=\"text-align: right;\">\n",
              "      <th></th>\n",
              "      <th>product_id</th>\n",
              "      <th>product_category_name</th>\n",
              "      <th>product_weight_g</th>\n",
              "      <th>volume</th>\n",
              "      <th>preco</th>\n",
              "    </tr>\n",
              "  </thead>\n",
              "  <tbody>\n",
              "    <tr>\n",
              "      <th>0</th>\n",
              "      <td>00066f42aeeb9f3007548bb9d3f33c38</td>\n",
              "      <td>perfumaria</td>\n",
              "      <td>300.0</td>\n",
              "      <td>5120.0</td>\n",
              "      <td>120.24</td>\n",
              "    </tr>\n",
              "    <tr>\n",
              "      <th>2</th>\n",
              "      <td>0009406fd7479715e4bef61dd91f2462</td>\n",
              "      <td>cama_mesa_banho</td>\n",
              "      <td>300.0</td>\n",
              "      <td>23625.0</td>\n",
              "      <td>242.10</td>\n",
              "    </tr>\n",
              "    <tr>\n",
              "      <th>3</th>\n",
              "      <td>000b8f95fcb9e0096488278317764d19</td>\n",
              "      <td>utilidades_domesticas</td>\n",
              "      <td>550.0</td>\n",
              "      <td>5472.0</td>\n",
              "      <td>78.50</td>\n",
              "    </tr>\n",
              "    <tr>\n",
              "      <th>5</th>\n",
              "      <td>000d9be29b5207b54e86aa1b1ac54872</td>\n",
              "      <td>relogios_presentes</td>\n",
              "      <td>250.0</td>\n",
              "      <td>3630.0</td>\n",
              "      <td>218.27</td>\n",
              "    </tr>\n",
              "    <tr>\n",
              "      <th>7</th>\n",
              "      <td>00126f27c813603687e6ce486d909d01</td>\n",
              "      <td>cool_stuff</td>\n",
              "      <td>700.0</td>\n",
              "      <td>1875.0</td>\n",
              "      <td>262.24</td>\n",
              "    </tr>\n",
              "  </tbody>\n",
              "</table>\n",
              "</div>"
            ],
            "text/plain": [
              "                         product_id  product_category_name  ...   volume   preco\n",
              "0  00066f42aeeb9f3007548bb9d3f33c38             perfumaria  ...   5120.0  120.24\n",
              "2  0009406fd7479715e4bef61dd91f2462        cama_mesa_banho  ...  23625.0  242.10\n",
              "3  000b8f95fcb9e0096488278317764d19  utilidades_domesticas  ...   5472.0   78.50\n",
              "5  000d9be29b5207b54e86aa1b1ac54872     relogios_presentes  ...   3630.0  218.27\n",
              "7  00126f27c813603687e6ce486d909d01             cool_stuff  ...   1875.0  262.24\n",
              "\n",
              "[5 rows x 5 columns]"
            ]
          },
          "metadata": {
            "tags": []
          },
          "execution_count": 183
        }
      ]
    },
    {
      "cell_type": "code",
      "metadata": {
        "id": "PH23egY8AgN0",
        "colab": {
          "base_uri": "https://localhost:8080/",
          "height": 501
        },
        "outputId": "eebb18a8-50e7-4bfb-bc00-afe2c8545f77"
      },
      "source": [
        "#Plotando o aprendizado\r\n",
        "valores_pop = info.select(\"max\")\r\n",
        "plt.figure(figsize = (12,6))\r\n",
        "plt.plot(valores_pop)\r\n",
        "plt.show()"
      ],
      "execution_count": 184,
      "outputs": [
        {
          "output_type": "display_data",
          "data": {
            "text/plain": [
              "<Figure size 864x432 with 1 Axes>"
            ],
            "image/svg+xml": "<?xml version=\"1.0\" encoding=\"utf-8\" standalone=\"no\"?>\n<!DOCTYPE svg PUBLIC \"-//W3C//DTD SVG 1.1//EN\"\n  \"http://www.w3.org/Graphics/SVG/1.1/DTD/svg11.dtd\">\n<!-- Created with matplotlib (https://matplotlib.org/) -->\n<svg height=\"360.239134pt\" version=\"1.1\" viewBox=\"0 0 713.265625 360.239134\" width=\"713.265625pt\" xmlns=\"http://www.w3.org/2000/svg\" xmlns:xlink=\"http://www.w3.org/1999/xlink\">\n <defs>\n  <style type=\"text/css\">\n*{stroke-linecap:butt;stroke-linejoin:round;}\n  </style>\n </defs>\n <g id=\"figure_1\">\n  <g id=\"patch_1\">\n   <path d=\"M 0 360.239134 \nL 713.265625 360.239134 \nL 713.265625 0 \nL 0 0 \nz\n\" style=\"fill:none;\"/>\n  </g>\n  <g id=\"axes_1\">\n   <g id=\"patch_2\">\n    <path d=\"M 36.465625 336.361009 \nL 706.065625 336.361009 \nL 706.065625 10.201009 \nL 36.465625 10.201009 \nz\n\" style=\"fill:#ffffff;\"/>\n   </g>\n   <g id=\"matplotlib.axis_1\">\n    <g id=\"xtick_1\">\n     <g id=\"line2d_1\">\n      <defs>\n       <path d=\"M 0 0 \nL 0 3.5 \n\" id=\"m4181df18ae\" style=\"stroke:#000000;stroke-width:0.8;\"/>\n      </defs>\n      <g>\n       <use style=\"stroke:#000000;stroke-width:0.8;\" x=\"66.901989\" xlink:href=\"#m4181df18ae\" y=\"336.361009\"/>\n      </g>\n     </g>\n     <g id=\"text_1\">\n      <!-- 0 -->\n      <defs>\n       <path d=\"M 31.78125 66.40625 \nQ 24.171875 66.40625 20.328125 58.90625 \nQ 16.5 51.421875 16.5 36.375 \nQ 16.5 21.390625 20.328125 13.890625 \nQ 24.171875 6.390625 31.78125 6.390625 \nQ 39.453125 6.390625 43.28125 13.890625 \nQ 47.125 21.390625 47.125 36.375 \nQ 47.125 51.421875 43.28125 58.90625 \nQ 39.453125 66.40625 31.78125 66.40625 \nz\nM 31.78125 74.21875 \nQ 44.046875 74.21875 50.515625 64.515625 \nQ 56.984375 54.828125 56.984375 36.375 \nQ 56.984375 17.96875 50.515625 8.265625 \nQ 44.046875 -1.421875 31.78125 -1.421875 \nQ 19.53125 -1.421875 13.0625 8.265625 \nQ 6.59375 17.96875 6.59375 36.375 \nQ 6.59375 54.828125 13.0625 64.515625 \nQ 19.53125 74.21875 31.78125 74.21875 \nz\n\" id=\"DejaVuSans-48\"/>\n      </defs>\n      <g transform=\"translate(63.720739 350.959446)scale(0.1 -0.1)\">\n       <use xlink:href=\"#DejaVuSans-48\"/>\n      </g>\n     </g>\n    </g>\n    <g id=\"xtick_2\">\n     <g id=\"line2d_2\">\n      <g>\n       <use style=\"stroke:#000000;stroke-width:0.8;\" x=\"188.647443\" xlink:href=\"#m4181df18ae\" y=\"336.361009\"/>\n      </g>\n     </g>\n     <g id=\"text_2\">\n      <!-- 50 -->\n      <defs>\n       <path d=\"M 10.796875 72.90625 \nL 49.515625 72.90625 \nL 49.515625 64.59375 \nL 19.828125 64.59375 \nL 19.828125 46.734375 \nQ 21.96875 47.46875 24.109375 47.828125 \nQ 26.265625 48.1875 28.421875 48.1875 \nQ 40.625 48.1875 47.75 41.5 \nQ 54.890625 34.8125 54.890625 23.390625 \nQ 54.890625 11.625 47.5625 5.09375 \nQ 40.234375 -1.421875 26.90625 -1.421875 \nQ 22.3125 -1.421875 17.546875 -0.640625 \nQ 12.796875 0.140625 7.71875 1.703125 \nL 7.71875 11.625 \nQ 12.109375 9.234375 16.796875 8.0625 \nQ 21.484375 6.890625 26.703125 6.890625 \nQ 35.15625 6.890625 40.078125 11.328125 \nQ 45.015625 15.765625 45.015625 23.390625 \nQ 45.015625 31 40.078125 35.4375 \nQ 35.15625 39.890625 26.703125 39.890625 \nQ 22.75 39.890625 18.8125 39.015625 \nQ 14.890625 38.140625 10.796875 36.28125 \nz\n\" id=\"DejaVuSans-53\"/>\n      </defs>\n      <g transform=\"translate(182.284943 350.959446)scale(0.1 -0.1)\">\n       <use xlink:href=\"#DejaVuSans-53\"/>\n       <use x=\"63.623047\" xlink:href=\"#DejaVuSans-48\"/>\n      </g>\n     </g>\n    </g>\n    <g id=\"xtick_3\">\n     <g id=\"line2d_3\">\n      <g>\n       <use style=\"stroke:#000000;stroke-width:0.8;\" x=\"310.392898\" xlink:href=\"#m4181df18ae\" y=\"336.361009\"/>\n      </g>\n     </g>\n     <g id=\"text_3\">\n      <!-- 100 -->\n      <defs>\n       <path d=\"M 12.40625 8.296875 \nL 28.515625 8.296875 \nL 28.515625 63.921875 \nL 10.984375 60.40625 \nL 10.984375 69.390625 \nL 28.421875 72.90625 \nL 38.28125 72.90625 \nL 38.28125 8.296875 \nL 54.390625 8.296875 \nL 54.390625 0 \nL 12.40625 0 \nz\n\" id=\"DejaVuSans-49\"/>\n      </defs>\n      <g transform=\"translate(300.849148 350.959446)scale(0.1 -0.1)\">\n       <use xlink:href=\"#DejaVuSans-49\"/>\n       <use x=\"63.623047\" xlink:href=\"#DejaVuSans-48\"/>\n       <use x=\"127.246094\" xlink:href=\"#DejaVuSans-48\"/>\n      </g>\n     </g>\n    </g>\n    <g id=\"xtick_4\">\n     <g id=\"line2d_4\">\n      <g>\n       <use style=\"stroke:#000000;stroke-width:0.8;\" x=\"432.138352\" xlink:href=\"#m4181df18ae\" y=\"336.361009\"/>\n      </g>\n     </g>\n     <g id=\"text_4\">\n      <!-- 150 -->\n      <g transform=\"translate(422.594602 350.959446)scale(0.1 -0.1)\">\n       <use xlink:href=\"#DejaVuSans-49\"/>\n       <use x=\"63.623047\" xlink:href=\"#DejaVuSans-53\"/>\n       <use x=\"127.246094\" xlink:href=\"#DejaVuSans-48\"/>\n      </g>\n     </g>\n    </g>\n    <g id=\"xtick_5\">\n     <g id=\"line2d_5\">\n      <g>\n       <use style=\"stroke:#000000;stroke-width:0.8;\" x=\"553.883807\" xlink:href=\"#m4181df18ae\" y=\"336.361009\"/>\n      </g>\n     </g>\n     <g id=\"text_5\">\n      <!-- 200 -->\n      <defs>\n       <path d=\"M 19.1875 8.296875 \nL 53.609375 8.296875 \nL 53.609375 0 \nL 7.328125 0 \nL 7.328125 8.296875 \nQ 12.9375 14.109375 22.625 23.890625 \nQ 32.328125 33.6875 34.8125 36.53125 \nQ 39.546875 41.84375 41.421875 45.53125 \nQ 43.3125 49.21875 43.3125 52.78125 \nQ 43.3125 58.59375 39.234375 62.25 \nQ 35.15625 65.921875 28.609375 65.921875 \nQ 23.96875 65.921875 18.8125 64.3125 \nQ 13.671875 62.703125 7.8125 59.421875 \nL 7.8125 69.390625 \nQ 13.765625 71.78125 18.9375 73 \nQ 24.125 74.21875 28.421875 74.21875 \nQ 39.75 74.21875 46.484375 68.546875 \nQ 53.21875 62.890625 53.21875 53.421875 \nQ 53.21875 48.921875 51.53125 44.890625 \nQ 49.859375 40.875 45.40625 35.40625 \nQ 44.1875 33.984375 37.640625 27.21875 \nQ 31.109375 20.453125 19.1875 8.296875 \nz\n\" id=\"DejaVuSans-50\"/>\n      </defs>\n      <g transform=\"translate(544.340057 350.959446)scale(0.1 -0.1)\">\n       <use xlink:href=\"#DejaVuSans-50\"/>\n       <use x=\"63.623047\" xlink:href=\"#DejaVuSans-48\"/>\n       <use x=\"127.246094\" xlink:href=\"#DejaVuSans-48\"/>\n      </g>\n     </g>\n    </g>\n    <g id=\"xtick_6\">\n     <g id=\"line2d_6\">\n      <g>\n       <use style=\"stroke:#000000;stroke-width:0.8;\" x=\"675.629261\" xlink:href=\"#m4181df18ae\" y=\"336.361009\"/>\n      </g>\n     </g>\n     <g id=\"text_6\">\n      <!-- 250 -->\n      <g transform=\"translate(666.085511 350.959446)scale(0.1 -0.1)\">\n       <use xlink:href=\"#DejaVuSans-50\"/>\n       <use x=\"63.623047\" xlink:href=\"#DejaVuSans-53\"/>\n       <use x=\"127.246094\" xlink:href=\"#DejaVuSans-48\"/>\n      </g>\n     </g>\n    </g>\n   </g>\n   <g id=\"matplotlib.axis_2\">\n    <g id=\"ytick_1\">\n     <g id=\"line2d_7\">\n      <defs>\n       <path d=\"M 0 0 \nL -3.5 0 \n\" id=\"m1c1b834537\" style=\"stroke:#000000;stroke-width:0.8;\"/>\n      </defs>\n      <g>\n       <use style=\"stroke:#000000;stroke-width:0.8;\" x=\"36.465625\" xlink:href=\"#m1c1b834537\" y=\"331.274744\"/>\n      </g>\n     </g>\n     <g id=\"text_7\">\n      <!-- 79.2 -->\n      <defs>\n       <path d=\"M 8.203125 72.90625 \nL 55.078125 72.90625 \nL 55.078125 68.703125 \nL 28.609375 0 \nL 18.3125 0 \nL 43.21875 64.59375 \nL 8.203125 64.59375 \nz\n\" id=\"DejaVuSans-55\"/>\n       <path d=\"M 10.984375 1.515625 \nL 10.984375 10.5 \nQ 14.703125 8.734375 18.5 7.8125 \nQ 22.3125 6.890625 25.984375 6.890625 \nQ 35.75 6.890625 40.890625 13.453125 \nQ 46.046875 20.015625 46.78125 33.40625 \nQ 43.953125 29.203125 39.59375 26.953125 \nQ 35.25 24.703125 29.984375 24.703125 \nQ 19.046875 24.703125 12.671875 31.3125 \nQ 6.296875 37.9375 6.296875 49.421875 \nQ 6.296875 60.640625 12.9375 67.421875 \nQ 19.578125 74.21875 30.609375 74.21875 \nQ 43.265625 74.21875 49.921875 64.515625 \nQ 56.59375 54.828125 56.59375 36.375 \nQ 56.59375 19.140625 48.40625 8.859375 \nQ 40.234375 -1.421875 26.421875 -1.421875 \nQ 22.703125 -1.421875 18.890625 -0.6875 \nQ 15.09375 0.046875 10.984375 1.515625 \nz\nM 30.609375 32.421875 \nQ 37.25 32.421875 41.125 36.953125 \nQ 45.015625 41.5 45.015625 49.421875 \nQ 45.015625 57.28125 41.125 61.84375 \nQ 37.25 66.40625 30.609375 66.40625 \nQ 23.96875 66.40625 20.09375 61.84375 \nQ 16.21875 57.28125 16.21875 49.421875 \nQ 16.21875 41.5 20.09375 36.953125 \nQ 23.96875 32.421875 30.609375 32.421875 \nz\n\" id=\"DejaVuSans-57\"/>\n       <path d=\"M 10.6875 12.40625 \nL 21 12.40625 \nL 21 0 \nL 10.6875 0 \nz\n\" id=\"DejaVuSans-46\"/>\n      </defs>\n      <g transform=\"translate(7.2 335.073963)scale(0.1 -0.1)\">\n       <use xlink:href=\"#DejaVuSans-55\"/>\n       <use x=\"63.623047\" xlink:href=\"#DejaVuSans-57\"/>\n       <use x=\"127.246094\" xlink:href=\"#DejaVuSans-46\"/>\n       <use x=\"159.033203\" xlink:href=\"#DejaVuSans-50\"/>\n      </g>\n     </g>\n    </g>\n    <g id=\"ytick_2\">\n     <g id=\"line2d_8\">\n      <g>\n       <use style=\"stroke:#000000;stroke-width:0.8;\" x=\"36.465625\" xlink:href=\"#m1c1b834537\" y=\"285.521097\"/>\n      </g>\n     </g>\n     <g id=\"text_8\">\n      <!-- 79.4 -->\n      <defs>\n       <path d=\"M 37.796875 64.3125 \nL 12.890625 25.390625 \nL 37.796875 25.390625 \nz\nM 35.203125 72.90625 \nL 47.609375 72.90625 \nL 47.609375 25.390625 \nL 58.015625 25.390625 \nL 58.015625 17.1875 \nL 47.609375 17.1875 \nL 47.609375 0 \nL 37.796875 0 \nL 37.796875 17.1875 \nL 4.890625 17.1875 \nL 4.890625 26.703125 \nz\n\" id=\"DejaVuSans-52\"/>\n      </defs>\n      <g transform=\"translate(7.2 289.320316)scale(0.1 -0.1)\">\n       <use xlink:href=\"#DejaVuSans-55\"/>\n       <use x=\"63.623047\" xlink:href=\"#DejaVuSans-57\"/>\n       <use x=\"127.246094\" xlink:href=\"#DejaVuSans-46\"/>\n       <use x=\"159.033203\" xlink:href=\"#DejaVuSans-52\"/>\n      </g>\n     </g>\n    </g>\n    <g id=\"ytick_3\">\n     <g id=\"line2d_9\">\n      <g>\n       <use style=\"stroke:#000000;stroke-width:0.8;\" x=\"36.465625\" xlink:href=\"#m1c1b834537\" y=\"239.767451\"/>\n      </g>\n     </g>\n     <g id=\"text_9\">\n      <!-- 79.6 -->\n      <defs>\n       <path d=\"M 33.015625 40.375 \nQ 26.375 40.375 22.484375 35.828125 \nQ 18.609375 31.296875 18.609375 23.390625 \nQ 18.609375 15.53125 22.484375 10.953125 \nQ 26.375 6.390625 33.015625 6.390625 \nQ 39.65625 6.390625 43.53125 10.953125 \nQ 47.40625 15.53125 47.40625 23.390625 \nQ 47.40625 31.296875 43.53125 35.828125 \nQ 39.65625 40.375 33.015625 40.375 \nz\nM 52.59375 71.296875 \nL 52.59375 62.3125 \nQ 48.875 64.0625 45.09375 64.984375 \nQ 41.3125 65.921875 37.59375 65.921875 \nQ 27.828125 65.921875 22.671875 59.328125 \nQ 17.53125 52.734375 16.796875 39.40625 \nQ 19.671875 43.65625 24.015625 45.921875 \nQ 28.375 48.1875 33.59375 48.1875 \nQ 44.578125 48.1875 50.953125 41.515625 \nQ 57.328125 34.859375 57.328125 23.390625 \nQ 57.328125 12.15625 50.6875 5.359375 \nQ 44.046875 -1.421875 33.015625 -1.421875 \nQ 20.359375 -1.421875 13.671875 8.265625 \nQ 6.984375 17.96875 6.984375 36.375 \nQ 6.984375 53.65625 15.1875 63.9375 \nQ 23.390625 74.21875 37.203125 74.21875 \nQ 40.921875 74.21875 44.703125 73.484375 \nQ 48.484375 72.75 52.59375 71.296875 \nz\n\" id=\"DejaVuSans-54\"/>\n      </defs>\n      <g transform=\"translate(7.2 243.56667)scale(0.1 -0.1)\">\n       <use xlink:href=\"#DejaVuSans-55\"/>\n       <use x=\"63.623047\" xlink:href=\"#DejaVuSans-57\"/>\n       <use x=\"127.246094\" xlink:href=\"#DejaVuSans-46\"/>\n       <use x=\"159.033203\" xlink:href=\"#DejaVuSans-54\"/>\n      </g>\n     </g>\n    </g>\n    <g id=\"ytick_4\">\n     <g id=\"line2d_10\">\n      <g>\n       <use style=\"stroke:#000000;stroke-width:0.8;\" x=\"36.465625\" xlink:href=\"#m1c1b834537\" y=\"194.013805\"/>\n      </g>\n     </g>\n     <g id=\"text_10\">\n      <!-- 79.8 -->\n      <defs>\n       <path d=\"M 31.78125 34.625 \nQ 24.75 34.625 20.71875 30.859375 \nQ 16.703125 27.09375 16.703125 20.515625 \nQ 16.703125 13.921875 20.71875 10.15625 \nQ 24.75 6.390625 31.78125 6.390625 \nQ 38.8125 6.390625 42.859375 10.171875 \nQ 46.921875 13.96875 46.921875 20.515625 \nQ 46.921875 27.09375 42.890625 30.859375 \nQ 38.875 34.625 31.78125 34.625 \nz\nM 21.921875 38.8125 \nQ 15.578125 40.375 12.03125 44.71875 \nQ 8.5 49.078125 8.5 55.328125 \nQ 8.5 64.0625 14.71875 69.140625 \nQ 20.953125 74.21875 31.78125 74.21875 \nQ 42.671875 74.21875 48.875 69.140625 \nQ 55.078125 64.0625 55.078125 55.328125 \nQ 55.078125 49.078125 51.53125 44.71875 \nQ 48 40.375 41.703125 38.8125 \nQ 48.828125 37.15625 52.796875 32.3125 \nQ 56.78125 27.484375 56.78125 20.515625 \nQ 56.78125 9.90625 50.3125 4.234375 \nQ 43.84375 -1.421875 31.78125 -1.421875 \nQ 19.734375 -1.421875 13.25 4.234375 \nQ 6.78125 9.90625 6.78125 20.515625 \nQ 6.78125 27.484375 10.78125 32.3125 \nQ 14.796875 37.15625 21.921875 38.8125 \nz\nM 18.3125 54.390625 \nQ 18.3125 48.734375 21.84375 45.5625 \nQ 25.390625 42.390625 31.78125 42.390625 \nQ 38.140625 42.390625 41.71875 45.5625 \nQ 45.3125 48.734375 45.3125 54.390625 \nQ 45.3125 60.0625 41.71875 63.234375 \nQ 38.140625 66.40625 31.78125 66.40625 \nQ 25.390625 66.40625 21.84375 63.234375 \nQ 18.3125 60.0625 18.3125 54.390625 \nz\n\" id=\"DejaVuSans-56\"/>\n      </defs>\n      <g transform=\"translate(7.2 197.813023)scale(0.1 -0.1)\">\n       <use xlink:href=\"#DejaVuSans-55\"/>\n       <use x=\"63.623047\" xlink:href=\"#DejaVuSans-57\"/>\n       <use x=\"127.246094\" xlink:href=\"#DejaVuSans-46\"/>\n       <use x=\"159.033203\" xlink:href=\"#DejaVuSans-56\"/>\n      </g>\n     </g>\n    </g>\n    <g id=\"ytick_5\">\n     <g id=\"line2d_11\">\n      <g>\n       <use style=\"stroke:#000000;stroke-width:0.8;\" x=\"36.465625\" xlink:href=\"#m1c1b834537\" y=\"148.260158\"/>\n      </g>\n     </g>\n     <g id=\"text_11\">\n      <!-- 80.0 -->\n      <g transform=\"translate(7.2 152.059377)scale(0.1 -0.1)\">\n       <use xlink:href=\"#DejaVuSans-56\"/>\n       <use x=\"63.623047\" xlink:href=\"#DejaVuSans-48\"/>\n       <use x=\"127.246094\" xlink:href=\"#DejaVuSans-46\"/>\n       <use x=\"159.033203\" xlink:href=\"#DejaVuSans-48\"/>\n      </g>\n     </g>\n    </g>\n    <g id=\"ytick_6\">\n     <g id=\"line2d_12\">\n      <g>\n       <use style=\"stroke:#000000;stroke-width:0.8;\" x=\"36.465625\" xlink:href=\"#m1c1b834537\" y=\"102.506512\"/>\n      </g>\n     </g>\n     <g id=\"text_12\">\n      <!-- 80.2 -->\n      <g transform=\"translate(7.2 106.30573)scale(0.1 -0.1)\">\n       <use xlink:href=\"#DejaVuSans-56\"/>\n       <use x=\"63.623047\" xlink:href=\"#DejaVuSans-48\"/>\n       <use x=\"127.246094\" xlink:href=\"#DejaVuSans-46\"/>\n       <use x=\"159.033203\" xlink:href=\"#DejaVuSans-50\"/>\n      </g>\n     </g>\n    </g>\n    <g id=\"ytick_7\">\n     <g id=\"line2d_13\">\n      <g>\n       <use style=\"stroke:#000000;stroke-width:0.8;\" x=\"36.465625\" xlink:href=\"#m1c1b834537\" y=\"56.752865\"/>\n      </g>\n     </g>\n     <g id=\"text_13\">\n      <!-- 80.4 -->\n      <g transform=\"translate(7.2 60.552084)scale(0.1 -0.1)\">\n       <use xlink:href=\"#DejaVuSans-56\"/>\n       <use x=\"63.623047\" xlink:href=\"#DejaVuSans-48\"/>\n       <use x=\"127.246094\" xlink:href=\"#DejaVuSans-46\"/>\n       <use x=\"159.033203\" xlink:href=\"#DejaVuSans-52\"/>\n      </g>\n     </g>\n    </g>\n    <g id=\"ytick_8\">\n     <g id=\"line2d_14\">\n      <g>\n       <use style=\"stroke:#000000;stroke-width:0.8;\" x=\"36.465625\" xlink:href=\"#m1c1b834537\" y=\"10.999219\"/>\n      </g>\n     </g>\n     <g id=\"text_14\">\n      <!-- 80.6 -->\n      <g transform=\"translate(7.2 14.798438)scale(0.1 -0.1)\">\n       <use xlink:href=\"#DejaVuSans-56\"/>\n       <use x=\"63.623047\" xlink:href=\"#DejaVuSans-48\"/>\n       <use x=\"127.246094\" xlink:href=\"#DejaVuSans-46\"/>\n       <use x=\"159.033203\" xlink:href=\"#DejaVuSans-54\"/>\n      </g>\n     </g>\n    </g>\n   </g>\n   <g id=\"line2d_15\">\n    <path clip-path=\"url(#p09c82b31a3)\" d=\"M 66.901989 25.026463 \nL 69.336898 84.262131 \nL 71.771807 166.683321 \nL 74.206716 235.353116 \nL 76.641625 207.398119 \nL 79.076534 187.303643 \nL 81.511443 242.80833 \nL 83.946352 207.683873 \nL 86.381261 127.922296 \nL 88.81617 190.997061 \nL 91.25108 231.638263 \nL 93.685989 256.83745 \nL 96.120898 258.052026 \nL 98.555807 266.548181 \nL 100.990716 235.093945 \nL 103.425625 251.51701 \nL 105.860534 271.936291 \nL 108.295443 248.002192 \nL 110.730352 252.816116 \nL 113.165261 241.856654 \nL 115.60017 231.510954 \nL 118.03508 252.835333 \nL 122.904898 305.504186 \nL 125.339807 285.10602 \nL 127.774716 285.10602 \nL 130.209625 264.925963 \nL 132.644534 272.091464 \nL 135.079443 266.12981 \nL 137.514352 301.768263 \nL 139.949261 302.104118 \nL 142.38417 303.045499 \nL 144.81908 282.491177 \nL 147.253989 277.737647 \nL 149.688898 276.777598 \nL 152.123807 284.648004 \nL 154.558716 277.737647 \nL 156.993625 267.166771 \nL 159.428534 277.737647 \nL 161.863443 289.803913 \nL 164.298352 295.690669 \nL 166.733261 281.099396 \nL 169.16817 286.392636 \nL 171.60308 287.183854 \nL 174.037989 290.282085 \nL 176.472898 227.919201 \nL 178.907807 278.394098 \nL 181.342716 257.028929 \nL 183.777625 250.274433 \nL 186.212534 263.790723 \nL 188.647443 266.858894 \nL 191.082352 283.256933 \nL 193.517261 321.535554 \nL 195.95217 267.016195 \nL 198.38708 267.016195 \nL 200.821989 286.946827 \nL 203.256898 300.875495 \nL 205.691807 283.223692 \nL 208.126716 276.458856 \nL 210.561625 213.284028 \nL 212.996534 203.071402 \nL 215.431443 209.689095 \nL 217.866352 245.120307 \nL 220.301261 221.605518 \nL 222.73617 260.552143 \nL 225.17108 213.988314 \nL 227.605989 259.110171 \nL 230.040898 227.614802 \nL 232.475807 254.169807 \nL 234.910716 248.057806 \nL 237.345625 241.001084 \nL 239.780534 225.91876 \nL 242.215443 250.299895 \nL 244.650352 246.76888 \nL 247.085261 249.634934 \nL 249.52017 226.278338 \nL 251.95508 241.996569 \nL 254.389989 241.996569 \nL 256.824898 199.825982 \nL 259.259807 182.659923 \nL 261.694716 229.52902 \nL 264.129625 246.184652 \nL 266.564534 232.286432 \nL 268.999443 221.597054 \nL 271.434352 243.330791 \nL 273.869261 217.568651 \nL 278.73908 173.232087 \nL 281.173989 190.897066 \nL 283.608898 180.083878 \nL 286.043807 176.806956 \nL 288.478716 126.060969 \nL 290.913625 115.566684 \nL 293.348534 115.566684 \nL 295.783443 141.308052 \nL 298.218352 157.642309 \nL 303.08817 196.933345 \nL 305.52308 221.02296 \nL 307.957989 233.520912 \nL 310.392898 222.273682 \nL 312.827807 221.011338 \nL 315.262716 223.410591 \nL 317.697625 227.951091 \nL 320.132534 190.372798 \nL 322.567443 239.927772 \nL 325.002352 211.715204 \nL 327.437261 230.510116 \nL 329.87217 207.151026 \nL 332.30708 231.409106 \nL 334.741989 243.586142 \nL 337.176898 228.330389 \nL 339.611807 221.252117 \nL 344.481625 221.252117 \nL 346.916534 218.948329 \nL 349.351443 189.99938 \nL 351.786352 200.844504 \nL 354.221261 192.364797 \nL 356.65617 198.275436 \nL 359.09108 153.214454 \nL 361.525989 130.425799 \nL 363.960898 149.697349 \nL 366.395807 173.922715 \nL 368.830716 175.639255 \nL 371.265625 201.980567 \nL 373.700534 173.025646 \nL 376.135443 153.831946 \nL 378.570352 150.203155 \nL 381.005261 184.558447 \nL 383.44017 174.115086 \nL 385.87508 188.092185 \nL 388.309989 185.625743 \nL 390.744898 179.003406 \nL 393.179807 166.410103 \nL 395.614716 175.214272 \nL 398.049625 188.721229 \nL 400.484534 185.445428 \nL 402.919443 188.161112 \nL 405.354352 172.981059 \nL 407.789261 174.701785 \nL 410.22417 150.261125 \nL 412.65908 163.930096 \nL 415.093989 171.936847 \nL 417.528898 164.276497 \nL 419.963807 171.034608 \nL 422.398716 183.133816 \nL 424.833625 168.657774 \nL 427.268534 168.657774 \nL 429.703443 169.426252 \nL 432.138352 161.470563 \nL 434.573261 181.395246 \nL 437.00817 190.287742 \nL 439.44308 179.020243 \nL 441.877989 175.241907 \nL 444.312898 175.991809 \nL 446.747807 180.708164 \nL 449.182716 178.697337 \nL 451.617625 173.829469 \nL 454.052534 164.561885 \nL 456.487443 170.183201 \nL 458.922352 170.183201 \nL 461.357261 173.850836 \nL 463.79217 170.014027 \nL 466.22708 172.961797 \nL 468.661989 162.874948 \nL 471.096898 162.412333 \nL 473.531807 164.219396 \nL 475.966716 153.710721 \nL 478.401625 159.408743 \nL 480.836534 115.864312 \nL 483.271443 128.597666 \nL 485.706352 128.78823 \nL 488.141261 135.959588 \nL 493.01108 165.656518 \nL 495.445989 138.076151 \nL 497.880898 157.364379 \nL 500.315807 164.737579 \nL 502.750716 164.440775 \nL 505.185625 162.447083 \nL 512.490352 162.447083 \nL 514.925261 171.483634 \nL 517.36017 163.430535 \nL 519.79508 169.15157 \nL 522.229989 162.60372 \nL 524.664898 162.60372 \nL 527.099807 160.555833 \nL 529.534716 162.881674 \nL 531.969625 157.599141 \nL 534.404534 167.88591 \nL 536.839443 160.259326 \nL 539.274352 135.708743 \nL 541.709261 128.185105 \nL 544.14417 128.185105 \nL 546.57908 142.737556 \nL 549.013989 153.354392 \nL 551.448898 143.271501 \nL 553.883807 146.614285 \nL 556.318716 137.481766 \nL 558.753625 109.367157 \nL 561.188534 109.367157 \nL 563.623443 141.622722 \nL 566.058352 165.899127 \nL 568.493261 153.604985 \nL 570.92817 156.150443 \nL 573.36308 148.685987 \nL 575.797989 184.277749 \nL 578.232898 182.609296 \nL 580.667807 137.471677 \nL 583.102716 169.01845 \nL 585.537625 190.281771 \nL 587.972534 148.231471 \nL 590.407443 165.63339 \nL 592.842352 191.77469 \nL 595.277261 191.77469 \nL 597.71217 195.523835 \nL 600.14708 188.057458 \nL 602.581989 179.77344 \nL 605.016898 198.799979 \nL 607.451807 174.155372 \nL 609.886716 194.009618 \nL 612.321625 179.146455 \nL 614.756534 189.641975 \nL 617.191443 187.642792 \nL 619.626352 176.920448 \nL 622.061261 175.79063 \nL 624.49617 186.904969 \nL 626.93108 199.224962 \nL 629.365989 198.076042 \nL 631.800898 190.173793 \nL 634.235807 183.351718 \nL 636.670716 190.001507 \nL 639.105625 194.240354 \nL 641.540534 193.547666 \nL 643.975443 182.63 \nL 646.410352 197.410738 \nL 648.845261 198.141012 \nL 651.28017 199.865376 \nL 653.71508 164.710241 \nL 656.149989 174.865652 \nL 658.584898 163.528058 \nL 661.019807 140.204885 \nL 663.454716 163.826647 \nL 665.889625 146.618929 \nL 668.324534 126.855916 \nL 670.759443 172.258998 \nL 673.194352 182.794461 \nL 675.629261 170.737666 \nL 675.629261 170.737666 \n\" style=\"fill:none;stroke:#1f77b4;stroke-linecap:square;stroke-width:1.5;\"/>\n   </g>\n   <g id=\"patch_3\">\n    <path d=\"M 36.465625 336.361009 \nL 36.465625 10.201009 \n\" style=\"fill:none;stroke:#000000;stroke-linecap:square;stroke-linejoin:miter;stroke-width:0.8;\"/>\n   </g>\n   <g id=\"patch_4\">\n    <path d=\"M 706.065625 336.361009 \nL 706.065625 10.201009 \n\" style=\"fill:none;stroke:#000000;stroke-linecap:square;stroke-linejoin:miter;stroke-width:0.8;\"/>\n   </g>\n   <g id=\"patch_5\">\n    <path d=\"M 36.465625 336.361009 \nL 706.065625 336.361009 \n\" style=\"fill:none;stroke:#000000;stroke-linecap:square;stroke-linejoin:miter;stroke-width:0.8;\"/>\n   </g>\n   <g id=\"patch_6\">\n    <path d=\"M 36.465625 10.201009 \nL 706.065625 10.201009 \n\" style=\"fill:none;stroke:#000000;stroke-linecap:square;stroke-linejoin:miter;stroke-width:0.8;\"/>\n   </g>\n  </g>\n </g>\n <defs>\n  <clipPath id=\"p09c82b31a3\">\n   <rect height=\"326.16\" width=\"669.6\" x=\"36.465625\" y=\"10.201009\"/>\n  </clipPath>\n </defs>\n</svg>\n"
          },
          "metadata": {
            "tags": [],
            "needs_background": "light"
          }
        }
      ]
    },
    {
      "cell_type": "code",
      "metadata": {
        "id": "2WQdZEZHvzMT"
      },
      "source": [
        ""
      ],
      "execution_count": null,
      "outputs": []
    }
  ]
}