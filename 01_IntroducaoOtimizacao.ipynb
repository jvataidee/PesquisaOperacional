{
  "nbformat": 4,
  "nbformat_minor": 0,
  "metadata": {
    "colab": {
      "name": "01-IntroducaoOtimizacao.ipynb",
      "provenance": [],
      "authorship_tag": "ABX9TyPUY3uyOHJu85nKLsST6ASP",
      "include_colab_link": true
    },
    "kernelspec": {
      "name": "python3",
      "display_name": "Python 3"
    },
    "language_info": {
      "name": "python"
    }
  },
  "cells": [
    {
      "cell_type": "markdown",
      "metadata": {
        "id": "view-in-github",
        "colab_type": "text"
      },
      "source": [
        "<a href=\"https://colab.research.google.com/github/jvataidee/PesquisaOperacional/blob/master/01_IntroducaoOtimizacao.ipynb\" target=\"_parent\"><img src=\"https://colab.research.google.com/assets/colab-badge.svg\" alt=\"Open In Colab\"/></a>"
      ]
    },
    {
      "cell_type": "code",
      "metadata": {
        "colab": {
          "base_uri": "https://localhost:8080/"
        },
        "id": "tbqYkGLsAAC0",
        "outputId": "e3fb83ef-6823-421f-9fba-a32e9629dffc"
      },
      "source": [
        "!pip install pyomo -q"
      ],
      "execution_count": 1,
      "outputs": [
        {
          "output_type": "stream",
          "text": [
            "\u001b[K     |████████████████████████████████| 9.5MB 6.6MB/s \n",
            "\u001b[K     |████████████████████████████████| 51kB 7.7MB/s \n",
            "\u001b[K     |████████████████████████████████| 256kB 47.0MB/s \n",
            "\u001b[K     |████████████████████████████████| 163kB 47.4MB/s \n",
            "\u001b[?25h"
          ],
          "name": "stdout"
        }
      ]
    },
    {
      "cell_type": "code",
      "metadata": {
        "id": "OtEFseG2Anum"
      },
      "source": [
        "import pyomo"
      ],
      "execution_count": null,
      "outputs": []
    },
    {
      "cell_type": "code",
      "metadata": {
        "id": "36c4qR7PAWJ_"
      },
      "source": [
        "# Crinado Função\n",
        "\n",
        "#01 - Variáveis de Decisão\n",
        "\n",
        "#02 - Função Objetivo \n",
        "\n",
        "#03 - Restrições"
      ],
      "execution_count": null,
      "outputs": []
    }
  ]
}