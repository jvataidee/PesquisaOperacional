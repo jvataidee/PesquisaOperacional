{
  "nbformat": 4,
  "nbformat_minor": 0,
  "metadata": {
    "colab": {
      "name": "metodos_sobreclassificacao.ipynb",
      "provenance": [],
      "collapsed_sections": [],
      "toc_visible": true,
      "include_colab_link": true
    },
    "kernelspec": {
      "name": "python3",
      "display_name": "Python 3"
    },
    "language_info": {
      "name": "python"
    }
  },
  "cells": [
    {
      "cell_type": "markdown",
      "metadata": {
        "id": "view-in-github",
        "colab_type": "text"
      },
      "source": [
        "<a href=\"https://colab.research.google.com/github/jvataidee/PesquisaOperacional/blob/master/metodos_sobreclassificacao.ipynb\" target=\"_parent\"><img src=\"https://colab.research.google.com/assets/colab-badge.svg\" alt=\"Open In Colab\"/></a>"
      ]
    },
    {
      "cell_type": "markdown",
      "source": [
        "# Métodos de Sobreclassificação"
      ],
      "metadata": {
        "id": "43E1aMp56OtK"
      }
    },
    {
      "cell_type": "code",
      "source": [
        "!pip install pyDecision -q"
      ],
      "metadata": {
        "colab": {
          "base_uri": "https://localhost:8080/"
        },
        "id": "p5R6qbZs7jPC",
        "outputId": "ca0c8d4e-1c11-494b-d9c8-21b225e9e263"
      },
      "execution_count": 1,
      "outputs": [
        {
          "output_type": "stream",
          "name": "stdout",
          "text": [
            "\u001b[?25l\r\u001b[K     |█████                           | 10 kB 22.1 MB/s eta 0:00:01\r\u001b[K     |██████████                      | 20 kB 16.0 MB/s eta 0:00:01\r\u001b[K     |███████████████                 | 30 kB 11.9 MB/s eta 0:00:01\r\u001b[K     |███████████████████▉            | 40 kB 10.1 MB/s eta 0:00:01\r\u001b[K     |████████████████████████▉       | 51 kB 4.4 MB/s eta 0:00:01\r\u001b[K     |█████████████████████████████▉  | 61 kB 5.1 MB/s eta 0:00:01\r\u001b[K     |████████████████████████████████| 65 kB 2.3 MB/s \n",
            "\u001b[?25h"
          ]
        }
      ]
    },
    {
      "cell_type": "code",
      "execution_count": 2,
      "metadata": {
        "id": "DwVTAjSI6OGZ"
      },
      "outputs": [],
      "source": [
        "import numpy as np\n",
        "import pandas as pd"
      ]
    },
    {
      "cell_type": "markdown",
      "source": [
        "## ELECTRE I"
      ],
      "metadata": {
        "id": "1Jlq5NqX71uh"
      }
    },
    {
      "cell_type": "code",
      "source": [
        "from pyDecision.algorithm import electre_i"
      ],
      "metadata": {
        "id": "egasHcwE7z9c"
      },
      "execution_count": null,
      "outputs": []
    },
    {
      "cell_type": "code",
      "source": [
        "ds = pd.read_excel(\"/content/dados.xlsx\", 0)\n",
        "ds_list = np.array(ds.iloc[:,1:])\n",
        "print(f\"DADOS: \\n {ds_list} \\n\")\n",
        "\n",
        "pesos = pd.read_excel(\"/content/dados.xlsx\", 1)\n",
        "pesos_list = np.array(pesos.iloc[:1,:])[0].tolist()\n",
        "print(f\"W (PESOS): \\n {pesos_list}\")"
      ],
      "metadata": {
        "colab": {
          "base_uri": "https://localhost:8080/"
        },
        "id": "8i3UfU3Q7sNu",
        "outputId": "c6f44a96-65a7-427e-aa6f-1277a9d5f650"
      },
      "execution_count": null,
      "outputs": [
        {
          "output_type": "stream",
          "name": "stdout",
          "text": [
            "DADOS: \n",
            " [[2 9 4 4 4]\n",
            " [5 6 7 8 7]\n",
            " [3 1 1 2 2]\n",
            " [1 2 3 2 1]\n",
            " [8 6 5 5 5]] \n",
            "\n",
            "W (PESOS): \n",
            " [2, 1, 3, 2, 2]\n"
          ]
        }
      ]
    },
    {
      "cell_type": "code",
      "source": [
        "p = 1.00\n",
        "q = 0.40\n",
        "\n",
        "concordance, discordance, dominance, kernel, dominated = electre_i(ds_list, W = pesos_list, remove_cycles = True, c_hat = p, d_hat = q, graph = True)"
      ],
      "metadata": {
        "colab": {
          "base_uri": "https://localhost:8080/",
          "height": 251
        },
        "id": "iztR3LHl8u3n",
        "outputId": "17dfbb31-5324-4930-91a5-394866259486"
      },
      "execution_count": null,
      "outputs": [
        {
          "output_type": "display_data",
          "data": {
            "text/plain": [
              "<Figure size 432x288 with 1 Axes>"
            ],
            "image/png": "[encoded data removed]"
          },
          "metadata": {
            "needs_background": "light"
          }
        }
      ]
    },
    {
      "cell_type": "code",
      "source": [
        "concordance"
      ],
      "metadata": {
        "colab": {
          "base_uri": "https://localhost:8080/"
        },
        "id": "xQe3PGwpAfXH",
        "outputId": "d2083837-3e02-4991-e165-0af1659a04cc"
      },
      "execution_count": null,
      "outputs": [
        {
          "output_type": "execute_result",
          "data": {
            "text/plain": [
              "array([[1. , 0.1, 0.8, 1. , 0.1],\n",
              "       [0.9, 1. , 1. , 1. , 0.8],\n",
              "       [0.2, 0. , 1. , 0.6, 0. ],\n",
              "       [0. , 0. , 0.6, 1. , 0. ],\n",
              "       [0.9, 0.3, 1. , 1. , 1. ]])"
            ]
          },
          "metadata": {},
          "execution_count": 74
        }
      ]
    },
    {
      "cell_type": "code",
      "source": [
        "discordance"
      ],
      "metadata": {
        "colab": {
          "base_uri": "https://localhost:8080/"
        },
        "id": "miKdHWaLAi-F",
        "outputId": "4c214a29-88f2-4e1c-e999-abefda5d3b28"
      },
      "execution_count": null,
      "outputs": [
        {
          "output_type": "execute_result",
          "data": {
            "text/plain": [
              "array([[0.   , 0.5  , 0.125, 0.   , 0.75 ],\n",
              "       [0.375, 0.   , 0.   , 0.   , 0.375],\n",
              "       [1.   , 0.75 , 0.   , 0.25 , 0.625],\n",
              "       [0.875, 0.75 , 0.25 , 0.   , 0.875],\n",
              "       [0.375, 0.375, 0.   , 0.   , 0.   ]])"
            ]
          },
          "metadata": {},
          "execution_count": 75
        }
      ]
    },
    {
      "cell_type": "code",
      "source": [
        "dominance"
      ],
      "metadata": {
        "colab": {
          "base_uri": "https://localhost:8080/"
        },
        "id": "K5VKGTGlAksC",
        "outputId": "11ca52d8-639d-4059-ecfa-c0ac0c17c649"
      },
      "execution_count": null,
      "outputs": [
        {
          "output_type": "execute_result",
          "data": {
            "text/plain": [
              "array([[0., 0., 0., 1., 0.],\n",
              "       [0., 0., 1., 1., 0.],\n",
              "       [0., 0., 0., 0., 0.],\n",
              "       [0., 0., 0., 0., 0.],\n",
              "       [0., 0., 1., 1., 0.]])"
            ]
          },
          "metadata": {},
          "execution_count": 76
        }
      ]
    },
    {
      "cell_type": "code",
      "source": [
        "kernel"
      ],
      "metadata": {
        "colab": {
          "base_uri": "https://localhost:8080/"
        },
        "id": "0yacawlUAmNJ",
        "outputId": "59fbd648-72d7-4fe3-d0e4-c0dbec4ac2d9"
      },
      "execution_count": null,
      "outputs": [
        {
          "output_type": "execute_result",
          "data": {
            "text/plain": [
              "['a1', 'a2', 'a5']"
            ]
          },
          "metadata": {},
          "execution_count": 77
        }
      ]
    },
    {
      "cell_type": "code",
      "source": [
        "dominated"
      ],
      "metadata": {
        "colab": {
          "base_uri": "https://localhost:8080/"
        },
        "id": "hjbeDcbJAnis",
        "outputId": "45509a20-b677-4f72-9d2b-d997ded445ea"
      },
      "execution_count": null,
      "outputs": [
        {
          "output_type": "execute_result",
          "data": {
            "text/plain": [
              "['a3', 'a4']"
            ]
          },
          "metadata": {},
          "execution_count": 78
        }
      ]
    },
    {
      "cell_type": "markdown",
      "source": [
        "## ELECTRE II"
      ],
      "metadata": {
        "id": "LVHGRQo4Avgs"
      }
    },
    {
      "cell_type": "code",
      "source": [
        "from pyDecision.algorithm import electre_ii"
      ],
      "metadata": {
        "id": "TWfSUiUcAzYs"
      },
      "execution_count": null,
      "outputs": []
    },
    {
      "cell_type": "code",
      "source": [
        "ds = pd.read_excel(\"/content/dados.xlsx\", 2)\n",
        "ds_list = np.array(ds.iloc[:,2:])\n",
        "print(f\"DADOS: \\n {ds_list} \\n\")\n",
        "\n",
        "pesos = pd.read_excel(\"/content/dados.xlsx\", 3)\n",
        "pesos_list = np.array(pesos.iloc[:1,:])[0].tolist()\n",
        "print(f\"W (PESOS): \\n {pesos_list}\")"
      ],
      "metadata": {
        "colab": {
          "base_uri": "https://localhost:8080/"
        },
        "id": "VQji70WyAzfG",
        "outputId": "9ce27e4a-3b40-4500-fcda-4a7f4f462b66"
      },
      "execution_count": null,
      "outputs": [
        {
          "output_type": "stream",
          "name": "stdout",
          "text": [
            "DADOS: \n",
            " [[2.5440e+03 6.0700e+02 1.6500e+02 5.8900e+03 2.0000e+00 1.0000e+00]\n",
            " [2.2170e+03 1.2000e+03 1.0000e+02 5.2130e+03 4.0000e+00 4.0000e+00]\n",
            " [1.9100e+03 4.7000e+03 1.5000e+01 5.2910e+03 4.0000e+00 5.0000e+00]\n",
            " [1.7310e+03 1.7000e+02 4.0000e+00 5.9210e+03 0.0000e+00 1.0000e+00]\n",
            " [1.5050e+03 1.0000e+03 1.7000e+00 5.8820e+03 3.0000e+00 5.0000e+00]\n",
            " [1.2330e+03 2.0000e+02 5.5000e+00 5.1775e+03 3.0000e+00 4.0000e+00]\n",
            " [1.1650e+03 1.3000e+03 2.0000e+00 4.4730e+03 2.0000e+00 3.0000e+00]\n",
            " [1.0860e+03 3.0000e+02 4.0000e+00 6.1760e+03 4.0000e+00 6.0000e+00]\n",
            " [9.7200e+02 5.0000e+02 2.3000e+00 5.1010e+03 2.0000e+00 4.0000e+00]\n",
            " [8.7500e+02 7.5000e+02 4.0000e+00 4.0130e+03 0.0000e+00 3.0000e+00]\n",
            " [7.5500e+02 4.5000e+02 2.7000e+01 5.1910e+03 4.0000e+00 5.0000e+00]\n",
            " [5.3900e+02 4.7000e+02 1.0000e+00 5.9700e+03 0.0000e+00 3.0000e+00]\n",
            " [2.5200e+02 1.4000e+02 7.3000e+00 6.9930e+03 5.0000e+00 5.0000e+00]\n",
            " [2.2000e+02 3.0000e+02 1.1000e+01 5.5120e+03 7.0000e+00 6.0000e+00]\n",
            " [3.5000e+02 2.1000e+03 2.5000e+01 3.5210e+03 5.0000e+00 4.0000e+00]\n",
            " [3.8900e+02 2.4000e+02 4.5000e+00 6.3820e+03 6.0000e+00 5.0000e+00]\n",
            " [7.5500e+02 5.0000e+02 1.8000e+01 3.4880e+03 4.0000e+00 4.0000e+00]] \n",
            "\n",
            "W (PESOS): \n",
            " [1.8, 3.0, 1.6, 1.4, 2.6, 2.3]\n"
          ]
        }
      ]
    },
    {
      "cell_type": "code",
      "source": [
        "c_minus = 1\n",
        "c_zero  = 3\n",
        "c_plus  = 5\n",
        "\n",
        "d_minus = 25\n",
        "d_plus  = 50\n",
        "\n",
        "concordance, discordance, dominance_s, dominance_w, rank_D, rank_A, rank_N, rank_P = electre_ii(ds_list, W = pesos_list, c_minus = c_minus, c_zero = c_zero, c_plus = c_plus, d_minus = d_minus, d_plus = d_plus, graph = True)"
      ],
      "metadata": {
        "colab": {
          "base_uri": "https://localhost:8080/",
          "height": 261
        },
        "id": "zYuV7Zu6BDZw",
        "outputId": "7879a205-9e5f-4442-8a78-723d7f5ca74d"
      },
      "execution_count": null,
      "outputs": [
        {
          "output_type": "display_data",
          "data": {
            "text/plain": [
              "<Figure size 432x288 with 1 Axes>"
            ],
            "image/png": "[encoded data removed]"
          },
          "metadata": {
            "needs_background": "light"
          }
        }
      ]
    },
    {
      "cell_type": "code",
      "source": [
        "concordance"
      ],
      "metadata": {
        "colab": {
          "base_uri": "https://localhost:8080/"
        },
        "id": "fPOkkTrVCe_B",
        "outputId": "85ae0a67-7da4-4c68-98a0-ae57774f7d4e"
      },
      "execution_count": null,
      "outputs": [
        {
          "output_type": "execute_result",
          "data": {
            "text/plain": [
              "array([[1.        , 0.37795276, 0.37795276, 0.88976378, 0.37795276,\n",
              "        0.61417323, 0.58267717, 0.50393701, 0.81889764, 0.58267717,\n",
              "        0.61417323, 0.70866142, 0.50393701, 0.61417323, 0.37795276,\n",
              "        0.50393701, 0.61417323],\n",
              "       [0.62204724, 1.        , 0.47244094, 0.88976378, 0.70866142,\n",
              "        1.        , 0.76377953, 0.70866142, 1.        , 1.        ,\n",
              "        0.81889764, 0.88976378, 0.50393701, 0.50393701, 0.55905512,\n",
              "        0.50393701, 1.        ],\n",
              "       [0.62204724, 0.73228346, 1.        , 0.88976378, 0.88976378,\n",
              "        1.        , 1.        , 0.70866142, 1.        , 1.        ,\n",
              "        0.87401575, 0.88976378, 0.68503937, 0.50393701, 0.66929134,\n",
              "        0.68503937, 0.87401575],\n",
              "       [0.29133858, 0.11023622, 0.11023622, 1.        , 0.37795276,\n",
              "        0.2519685 , 0.37795276, 0.26771654, 0.37795276, 0.58267717,\n",
              "        0.2519685 , 0.47244094, 0.37795276, 0.2519685 , 0.2519685 ,\n",
              "        0.14173228, 0.2519685 ],\n",
              "       [0.62204724, 0.29133858, 0.29133858, 0.62204724, 1.        ,\n",
              "        0.87401575, 0.63779528, 0.37795276, 0.87401575, 0.87401575,\n",
              "        0.66929134, 0.88976378, 0.55905512, 0.48818898, 0.43307087,\n",
              "        0.55905512, 0.66929134],\n",
              "       [0.38582677, 0.18110236, 0.        , 0.7480315 , 0.33070866,\n",
              "        1.        , 0.76377953, 0.26771654, 0.76377953, 0.76377953,\n",
              "        0.14173228, 0.65354331, 0.37795276, 0.14173228, 0.43307087,\n",
              "        0.26771654, 0.43307087],\n",
              "       [0.62204724, 0.23622047, 0.        , 0.62204724, 0.36220472,\n",
              "        0.23622047, 1.        , 0.37795276, 0.58267717, 0.87401575,\n",
              "        0.37795276, 0.88976378, 0.37795276, 0.37795276, 0.2519685 ,\n",
              "        0.37795276, 0.48818898],\n",
              "       [0.49606299, 0.49606299, 0.49606299, 0.85826772, 0.62204724,\n",
              "        0.73228346, 0.62204724, 1.        , 0.76377953, 0.76377953,\n",
              "        0.63779528, 0.76377953, 0.55905512, 0.66929134, 0.43307087,\n",
              "        0.55905512, 0.63779528],\n",
              "       [0.38582677, 0.18110236, 0.        , 0.62204724, 0.12598425,\n",
              "        0.41732283, 0.62204724, 0.23622047, 1.        , 0.63779528,\n",
              "        0.37795276, 0.88976378, 0.37795276, 0.37795276, 0.43307087,\n",
              "        0.37795276, 0.66929134],\n",
              "       [0.41732283, 0.        , 0.        , 0.7480315 , 0.12598425,\n",
              "        0.23622047, 0.30708661, 0.36220472, 0.36220472, 1.        ,\n",
              "        0.37795276, 0.88976378, 0.37795276, 0.37795276, 0.2519685 ,\n",
              "        0.37795276, 0.48818898],\n",
              "       [0.38582677, 0.38582677, 0.51181102, 0.7480315 , 0.51181102,\n",
              "        0.85826772, 0.62204724, 0.56692913, 0.62204724, 0.62204724,\n",
              "        1.        , 0.65354331, 0.68503937, 0.50393701, 0.55905512,\n",
              "        0.68503937, 0.76377953],\n",
              "       [0.29133858, 0.11023622, 0.11023622, 0.73228346, 0.11023622,\n",
              "        0.34645669, 0.29133858, 0.23622047, 0.11023622, 0.49606299,\n",
              "        0.34645669, 1.        , 0.37795276, 0.48818898, 0.2519685 ,\n",
              "        0.37795276, 0.11023622],\n",
              "       [0.49606299, 0.49606299, 0.49606299, 0.62204724, 0.62204724,\n",
              "        0.62204724, 0.62204724, 0.44094488, 0.62204724, 0.62204724,\n",
              "        0.49606299, 0.62204724, 1.        , 0.2519685 , 0.49606299,\n",
              "        0.41732283, 0.49606299],\n",
              "       [0.38582677, 0.49606299, 0.49606299, 0.7480315 , 0.51181102,\n",
              "        0.85826772, 0.62204724, 0.7480315 , 0.62204724, 0.62204724,\n",
              "        0.49606299, 0.51181102, 0.7480315 , 1.        , 0.49606299,\n",
              "        0.7480315 , 0.49606299],\n",
              "       [0.62204724, 0.62204724, 0.33070866, 0.7480315 , 0.56692913,\n",
              "        0.7480315 , 0.7480315 , 0.56692913, 0.7480315 , 0.7480315 ,\n",
              "        0.44094488, 0.7480315 , 0.70866142, 0.50393701, 1.        ,\n",
              "        0.36220472, 0.85826772],\n",
              "       [0.49606299, 0.49606299, 0.49606299, 0.85826772, 0.62204724,\n",
              "        0.73228346, 0.62204724, 0.44094488, 0.62204724, 0.62204724,\n",
              "        0.49606299, 0.62204724, 0.76377953, 0.2519685 , 0.63779528,\n",
              "        1.        , 0.49606299],\n",
              "       [0.38582677, 0.38582677, 0.33070866, 0.7480315 , 0.33070866,\n",
              "        0.7480315 , 0.51181102, 0.56692913, 0.7480315 , 0.51181102,\n",
              "        0.58267717, 0.88976378, 0.50393701, 0.50393701, 0.32283465,\n",
              "        0.50393701, 1.        ]])"
            ]
          },
          "metadata": {},
          "execution_count": 108
        }
      ]
    },
    {
      "cell_type": "code",
      "source": [
        "discordance"
      ],
      "metadata": {
        "colab": {
          "base_uri": "https://localhost:8080/"
        },
        "id": "TRvkNxOhCfBu",
        "outputId": "f7ee19c9-cb74-4c4e-ec5d-82525356b769"
      },
      "execution_count": null,
      "outputs": [
        {
          "output_type": "execute_result",
          "data": {
            "text/plain": [
              "array([[0.00000000e+00, 1.30043860e-01, 8.97587719e-01, 6.79824561e-03,\n",
              "        8.61842105e-02, 6.57894737e-04, 1.51973684e-01, 6.27192982e-02,\n",
              "        6.57894737e-04, 3.13596491e-02, 8.77192982e-04, 1.75438596e-02,\n",
              "        2.41885965e-01, 1.09649123e-03, 3.27412281e-01, 1.07894737e-01,\n",
              "        6.57894737e-04],\n",
              "       [1.48464912e-01, 0.00000000e+00, 7.67543860e-01, 1.55263158e-01,\n",
              "        1.46710526e-01, 0.00000000e+00, 2.19298246e-02, 2.11184211e-01,\n",
              "        0.00000000e+00, 0.00000000e+00, 2.19298246e-04, 1.66008772e-01,\n",
              "        3.90350877e-01, 6.55701754e-02, 1.97368421e-01, 2.56359649e-01,\n",
              "        0.00000000e+00],\n",
              "       [1.39035088e-01, 6.73245614e-02, 0.00000000e+00, 1.38157895e-01,\n",
              "        1.29605263e-01, 0.00000000e+00, 0.00000000e+00, 1.94078947e-01,\n",
              "        0.00000000e+00, 0.00000000e+00, 2.63157895e-03, 1.48903509e-01,\n",
              "        3.73245614e-01, 4.84649123e-02, 2.19298246e-03, 2.39254386e-01,\n",
              "        6.57894737e-04],\n",
              "       [1.78289474e-01, 2.25877193e-01, 9.93421053e-01, 0.00000000e+00,\n",
              "        1.82017544e-01, 6.57894737e-03, 2.47807018e-01, 5.59210526e-02,\n",
              "        7.23684211e-02, 1.27192982e-01, 6.14035088e-02, 6.57894737e-02,\n",
              "        2.35087719e-01, 2.85087719e-02, 4.23245614e-01, 1.01096491e-01,\n",
              "        7.23684211e-02],\n",
              "       [2.27850877e-01, 1.56140351e-01, 8.11403509e-01, 4.95614035e-02,\n",
              "        0.00000000e+00, 8.33333333e-04, 6.57894737e-02, 6.44736842e-02,\n",
              "        1.31578947e-04, 5.04385965e-04, 5.54824561e-03, 1.92982456e-02,\n",
              "        2.43640351e-01, 2.03947368e-03, 2.41228070e-01, 1.09649123e-01,\n",
              "        3.57456140e-03],\n",
              "       [2.87500000e-01, 2.19298246e-01, 9.86842105e-01, 1.63048246e-01,\n",
              "        1.75438596e-01, 0.00000000e+00, 2.41228070e-01, 2.18969298e-01,\n",
              "        6.57894737e-02, 1.20614035e-01, 5.48245614e-02, 1.73793860e-01,\n",
              "        3.98135965e-01, 7.33552632e-02, 4.16666667e-01, 2.64144737e-01,\n",
              "        6.57894737e-02],\n",
              "       [3.10745614e-01, 2.30701754e-01, 7.45614035e-01, 3.17543860e-01,\n",
              "        3.08991228e-01, 1.54495614e-01, 0.00000000e+00, 3.73464912e-01,\n",
              "        1.37719298e-01, 4.38596491e-04, 1.57456140e-01, 3.28289474e-01,\n",
              "        5.52631579e-01, 2.27850877e-01, 1.75438596e-01, 4.18640351e-01,\n",
              "        3.50877193e-03],\n",
              "       [3.19736842e-01, 2.48026316e-01, 9.64912281e-01, 1.41447368e-01,\n",
              "        1.53508772e-01, 3.22368421e-02, 2.19298246e-01, 0.00000000e+00,\n",
              "        4.38596491e-02, 9.86842105e-02, 3.28947368e-02, 3.72807018e-02,\n",
              "        1.79166667e-01, 1.53508772e-03, 3.94736842e-01, 4.51754386e-02,\n",
              "        4.38596491e-02],\n",
              "       [3.44736842e-01, 2.73026316e-01, 9.21052632e-01, 1.79824561e-01,\n",
              "        1.71271930e-01, 5.72368421e-02, 1.75438596e-01, 2.35745614e-01,\n",
              "        0.00000000e+00, 5.48245614e-02, 1.97368421e-02, 1.90570175e-01,\n",
              "        4.14912281e-01, 9.01315789e-02, 3.50877193e-01, 2.80921053e-01,\n",
              "        3.44298246e-03],\n",
              "       [4.11622807e-01, 2.94298246e-01, 8.66228070e-01, 4.18421053e-01,\n",
              "        4.09868421e-01, 2.55372807e-01, 1.20614035e-01, 4.74342105e-01,\n",
              "        2.38596491e-01, 0.00000000e+00, 2.58333333e-01, 4.29166667e-01,\n",
              "        6.53508772e-01, 3.28728070e-01, 2.96052632e-01, 5.19517544e-01,\n",
              "        3.07017544e-03],\n",
              "       [3.92324561e-01, 3.20614035e-01, 9.32017544e-01, 2.14035088e-01,\n",
              "        1.64473684e-01, 1.04824561e-01, 1.86403509e-01, 2.16008772e-01,\n",
              "        4.75877193e-02, 6.57894737e-02, 0.00000000e+00, 1.70833333e-01,\n",
              "        3.95175439e-01, 7.03947368e-02, 3.61842105e-01, 2.61184211e-01,\n",
              "        1.09649123e-02],\n",
              "       [4.39692982e-01, 3.67982456e-01, 9.27631579e-01, 2.61403509e-01,\n",
              "        2.11842105e-01, 1.52192982e-01, 1.82017544e-01, 1.19956140e-01,\n",
              "        9.49561404e-02, 7.36842105e-02, 4.73684211e-02, 0.00000000e+00,\n",
              "        2.24342105e-01, 2.19298246e-03, 3.57456140e-01, 9.03508772e-02,\n",
              "        4.73684211e-02],\n",
              "       [5.02631579e-01, 4.30921053e-01, 1.00000000e+00, 3.24342105e-01,\n",
              "        2.74780702e-01, 2.15131579e-01, 2.54385965e-01, 1.82894737e-01,\n",
              "        1.57894737e-01, 1.36622807e-01, 1.10307018e-01, 7.23684211e-02,\n",
              "        0.00000000e+00, 3.50877193e-02, 4.29824561e-01, 3.00438596e-02,\n",
              "        1.10307018e-01],\n",
              "       [5.09649123e-01, 4.37938596e-01, 9.64912281e-01, 3.31359649e-01,\n",
              "        2.81798246e-01, 2.22149123e-01, 2.19298246e-01, 1.89912281e-01,\n",
              "        1.64912281e-01, 1.43640351e-01, 1.17324561e-01, 1.00438596e-01,\n",
              "        3.24780702e-01, 0.00000000e+00, 3.94736842e-01, 1.90789474e-01,\n",
              "        1.17324561e-01],\n",
              "       [5.19517544e-01, 4.09429825e-01, 5.70175439e-01, 5.26315789e-01,\n",
              "        5.17763158e-01, 3.63267544e-01, 2.08771930e-01, 5.82236842e-01,\n",
              "        3.46491228e-01, 1.15131579e-01, 3.66228070e-01, 5.37061404e-01,\n",
              "        7.61403509e-01, 4.36622807e-01, 0.00000000e+00, 6.27412281e-01,\n",
              "        8.88157895e-02],\n",
              "       [4.72587719e-01, 4.00877193e-01, 9.78070175e-01, 2.94298246e-01,\n",
              "        2.44736842e-01, 1.85087719e-01, 2.32456140e-01, 1.52850877e-01,\n",
              "        1.27850877e-01, 1.11842105e-01, 8.02631579e-02, 5.04385965e-02,\n",
              "        1.33991228e-01, 1.31578947e-02, 4.07894737e-01, 0.00000000e+00,\n",
              "        8.02631579e-02],\n",
              "       [5.26754386e-01, 3.78289474e-01, 9.21052632e-01, 5.33552632e-01,\n",
              "        5.25000000e-01, 3.70504386e-01, 2.16008772e-01, 5.89473684e-01,\n",
              "        3.53728070e-01, 1.15131579e-01, 3.73464912e-01, 5.44298246e-01,\n",
              "        7.68640351e-01, 4.43859649e-01, 3.50877193e-01, 6.34649123e-01,\n",
              "        0.00000000e+00]])"
            ]
          },
          "metadata": {},
          "execution_count": 109
        }
      ]
    },
    {
      "cell_type": "code",
      "source": [
        "dominance_s"
      ],
      "metadata": {
        "colab": {
          "base_uri": "https://localhost:8080/"
        },
        "id": "Gf5_Tin9CfEZ",
        "outputId": "ee771c1d-568e-422b-a013-034ea7e4286c"
      },
      "execution_count": null,
      "outputs": [
        {
          "output_type": "execute_result",
          "data": {
            "text/plain": [
              "array([[0., 0., 0., 0., 0., 0., 0., 0., 0., 0., 0., 0., 0., 0., 0., 0.,\n",
              "        0.],\n",
              "       [0., 0., 0., 0., 0., 0., 0., 0., 0., 0., 0., 0., 0., 0., 0., 0.,\n",
              "        0.],\n",
              "       [0., 0., 0., 0., 0., 0., 0., 0., 0., 0., 0., 0., 0., 0., 0., 0.,\n",
              "        0.],\n",
              "       [0., 0., 0., 0., 0., 0., 0., 0., 0., 0., 0., 0., 0., 0., 0., 0.,\n",
              "        0.],\n",
              "       [0., 0., 0., 0., 0., 0., 0., 0., 0., 0., 0., 0., 0., 0., 0., 0.,\n",
              "        0.],\n",
              "       [0., 0., 0., 0., 0., 0., 0., 0., 0., 0., 0., 0., 0., 0., 0., 0.,\n",
              "        0.],\n",
              "       [0., 0., 0., 0., 0., 0., 0., 0., 0., 0., 0., 0., 0., 0., 0., 0.,\n",
              "        0.],\n",
              "       [0., 0., 0., 0., 0., 0., 0., 0., 0., 0., 0., 0., 0., 0., 0., 0.,\n",
              "        0.],\n",
              "       [0., 0., 0., 0., 0., 0., 0., 0., 0., 0., 0., 0., 0., 0., 0., 0.,\n",
              "        0.],\n",
              "       [0., 0., 0., 0., 0., 0., 0., 0., 0., 0., 0., 0., 0., 0., 0., 0.,\n",
              "        0.],\n",
              "       [0., 0., 0., 0., 0., 0., 0., 0., 0., 0., 0., 0., 0., 0., 0., 0.,\n",
              "        0.],\n",
              "       [0., 0., 0., 0., 0., 0., 0., 0., 0., 0., 0., 0., 0., 0., 0., 0.,\n",
              "        0.],\n",
              "       [0., 0., 0., 0., 0., 0., 0., 0., 0., 0., 0., 0., 0., 0., 0., 0.,\n",
              "        0.],\n",
              "       [0., 0., 0., 0., 0., 0., 0., 0., 0., 0., 0., 0., 0., 0., 0., 0.,\n",
              "        0.],\n",
              "       [0., 0., 0., 0., 0., 0., 0., 0., 0., 0., 0., 0., 0., 0., 0., 0.,\n",
              "        0.],\n",
              "       [0., 0., 0., 0., 0., 0., 0., 0., 0., 0., 0., 0., 0., 0., 0., 0.,\n",
              "        0.],\n",
              "       [0., 0., 0., 0., 0., 0., 0., 0., 0., 0., 0., 0., 0., 0., 0., 0.,\n",
              "        0.]])"
            ]
          },
          "metadata": {},
          "execution_count": 110
        }
      ]
    },
    {
      "cell_type": "code",
      "source": [
        "dominance_w"
      ],
      "metadata": {
        "colab": {
          "base_uri": "https://localhost:8080/"
        },
        "id": "FhaY1RZnCfG_",
        "outputId": "8316c909-8073-4a4d-ab02-a796bb7deef9"
      },
      "execution_count": null,
      "outputs": [
        {
          "output_type": "execute_result",
          "data": {
            "text/plain": [
              "array([[0., 0., 0., 0., 0., 0., 0., 0., 0., 0., 0., 0., 0., 0., 0., 0.,\n",
              "        0.],\n",
              "       [0., 0., 0., 0., 0., 1., 0., 0., 1., 1., 0., 0., 0., 0., 0., 0.,\n",
              "        1.],\n",
              "       [0., 0., 0., 0., 0., 1., 1., 0., 1., 1., 0., 0., 0., 0., 0., 0.,\n",
              "        0.],\n",
              "       [0., 0., 0., 0., 0., 0., 0., 0., 0., 0., 0., 0., 0., 0., 0., 0.,\n",
              "        0.],\n",
              "       [0., 0., 0., 0., 0., 0., 0., 0., 0., 0., 0., 0., 0., 0., 0., 0.,\n",
              "        0.],\n",
              "       [0., 0., 0., 0., 0., 0., 0., 0., 0., 0., 0., 0., 0., 0., 0., 0.,\n",
              "        0.],\n",
              "       [0., 0., 0., 0., 0., 0., 0., 0., 0., 0., 0., 0., 0., 0., 0., 0.,\n",
              "        0.],\n",
              "       [0., 0., 0., 0., 0., 0., 0., 0., 0., 0., 0., 0., 0., 0., 0., 0.,\n",
              "        0.],\n",
              "       [0., 0., 0., 0., 0., 0., 0., 0., 0., 0., 0., 0., 0., 0., 0., 0.,\n",
              "        0.],\n",
              "       [0., 0., 0., 0., 0., 0., 0., 0., 0., 0., 0., 0., 0., 0., 0., 0.,\n",
              "        0.],\n",
              "       [0., 0., 0., 0., 0., 0., 0., 0., 0., 0., 0., 0., 0., 0., 0., 0.,\n",
              "        0.],\n",
              "       [0., 0., 0., 0., 0., 0., 0., 0., 0., 0., 0., 0., 0., 0., 0., 0.,\n",
              "        0.],\n",
              "       [0., 0., 0., 0., 0., 0., 0., 0., 0., 0., 0., 0., 0., 0., 0., 0.,\n",
              "        0.],\n",
              "       [0., 0., 0., 0., 0., 0., 0., 0., 0., 0., 0., 0., 0., 0., 0., 0.,\n",
              "        0.],\n",
              "       [0., 0., 0., 0., 0., 0., 0., 0., 0., 0., 0., 0., 0., 0., 0., 0.,\n",
              "        0.],\n",
              "       [0., 0., 0., 0., 0., 0., 0., 0., 0., 0., 0., 0., 0., 0., 0., 0.,\n",
              "        0.],\n",
              "       [0., 0., 0., 0., 0., 0., 0., 0., 0., 0., 0., 0., 0., 0., 0., 0.,\n",
              "        0.]])"
            ]
          },
          "metadata": {},
          "execution_count": 112
        }
      ]
    },
    {
      "cell_type": "code",
      "source": [
        "for i in range(0, len(rank_D)):\n",
        "  print(str(i+1), rank_D[i])"
      ],
      "metadata": {
        "colab": {
          "base_uri": "https://localhost:8080/"
        },
        "id": "kwlbDsE1CfJn",
        "outputId": "349bf31e-4478-4f6d-ebee-f8373c19ad09"
      },
      "execution_count": null,
      "outputs": [
        {
          "output_type": "stream",
          "name": "stdout",
          "text": [
            "1 ['a2', 'a3']\n",
            "2 ['a1', 'a4', 'a5', 'a8', 'a11', 'a12', 'a13', 'a14', 'a15', 'a16', 'a6', 'a7', 'a9', 'a10', 'a17']\n"
          ]
        }
      ]
    },
    {
      "cell_type": "markdown",
      "source": [
        "##ELECTRE III"
      ],
      "metadata": {
        "id": "Mfkzj-i2CwNZ"
      }
    },
    {
      "cell_type": "code",
      "source": [
        "from pyDecision.algorithm import electre_iii"
      ],
      "metadata": {
        "id": "aAGu8uc_C1vw"
      },
      "execution_count": null,
      "outputs": []
    },
    {
      "cell_type": "code",
      "source": [
        "ds = pd.read_excel(\"/content/dados.xlsx\", 4)\n",
        "ds_list = np.array(ds.iloc[:,2:])\n",
        "print(f\"DADOS: \\n {ds_list} \\n\")"
      ],
      "metadata": {
        "colab": {
          "base_uri": "https://localhost:8080/"
        },
        "id": "yX9ubv0mC2yk",
        "outputId": "f7d3f969-c05e-421a-cbcf-8872636b1c8d"
      },
      "execution_count": null,
      "outputs": [
        {
          "output_type": "stream",
          "name": "stdout",
          "text": [
            "DADOS: \n",
            " [[2.5440e+03 6.0700e+02 1.6500e+02 5.8900e+03 2.0000e+00 1.0000e+00]\n",
            " [2.2170e+03 1.2000e+03 1.0000e+02 5.2130e+03 4.0000e+00 4.0000e+00]\n",
            " [1.9100e+03 4.7000e+03 1.5000e+01 5.2910e+03 4.0000e+00 5.0000e+00]\n",
            " [1.7310e+03 1.7000e+02 4.0000e+00 5.9210e+03 0.0000e+00 1.0000e+00]\n",
            " [1.5050e+03 1.0000e+03 1.7000e+00 5.8820e+03 3.0000e+00 5.0000e+00]\n",
            " [1.2330e+03 2.0000e+02 5.5000e+00 5.1775e+03 3.0000e+00 4.0000e+00]\n",
            " [1.1650e+03 1.3000e+03 2.0000e+00 4.4730e+03 2.0000e+00 3.0000e+00]\n",
            " [1.0860e+03 3.0000e+02 4.0000e+00 6.1760e+03 4.0000e+00 6.0000e+00]\n",
            " [9.7200e+02 5.0000e+02 2.3000e+00 5.1010e+03 2.0000e+00 4.0000e+00]\n",
            " [8.7500e+02 7.5000e+02 4.0000e+00 4.0130e+03 0.0000e+00 3.0000e+00]\n",
            " [7.5500e+02 4.5000e+02 2.7000e+01 5.1910e+03 4.0000e+00 5.0000e+00]\n",
            " [5.3900e+02 4.7000e+02 1.0000e+00 5.9700e+03 0.0000e+00 3.0000e+00]\n",
            " [2.5200e+02 1.4000e+02 7.3000e+00 6.9930e+03 5.0000e+00 5.0000e+00]\n",
            " [2.2000e+02 3.0000e+02 1.1000e+01 5.5120e+03 7.0000e+00 6.0000e+00]\n",
            " [3.5000e+02 2.1000e+03 2.5000e+01 3.5210e+03 5.0000e+00 4.0000e+00]\n",
            " [3.8900e+02 2.4000e+02 4.5000e+00 6.3820e+03 6.0000e+00 5.0000e+00]\n",
            " [7.5500e+02 5.0000e+02 1.8000e+01 3.4880e+03 4.0000e+00 4.0000e+00]] \n",
            "\n"
          ]
        }
      ]
    },
    {
      "cell_type": "code",
      "source": [
        "ds = pd.read_excel(\"/content/dados.xlsx\", 5)\n",
        "W = np.array(ds.iloc[ 0: 1,1:])[0].tolist()\n",
        "Q = np.array(ds.iloc[ 1: 2,1:])[0].tolist()\n",
        "P = np.array(ds.iloc[-2:-1,1:])[0].tolist()\n",
        "V = np.array(ds.iloc[-1:  ,1:])[0].tolist()\n",
        "\n",
        "print(f\"W: \\n {W}\")\n",
        "print(f\"Q: \\n {Q}\")\n",
        "print(f\"P: \\n {P}\")\n",
        "print(f\"V: \\n {V}\")"
      ],
      "metadata": {
        "colab": {
          "base_uri": "https://localhost:8080/"
        },
        "id": "ML5REp16C8Jc",
        "outputId": "b997654a-2ca8-4a3a-e784-cfb61cb6729e"
      },
      "execution_count": null,
      "outputs": [
        {
          "output_type": "stream",
          "name": "stdout",
          "text": [
            "W: \n",
            " [1.8, 3.0, 1.6, 1.4, 2.6, 2.3]\n",
            "Q: \n",
            " [100.0, 50.0, 1.0, 500.0, 1.0, 1.0]\n",
            "P: \n",
            " [200.0, 100.0, 5.0, 1000.0, 2.0, 3.0]\n",
            "V: \n",
            " [400.0, 300.0, 10.0, 3000.0, 4.0, 5.0]\n"
          ]
        }
      ]
    },
    {
      "cell_type": "code",
      "source": [
        "global_concordance, credibility, rank_D, rank_A, rank_N, rank_P = electre_iii(ds_list, P = P, Q = Q, V = V, W = W, graph = True)"
      ],
      "metadata": {
        "colab": {
          "base_uri": "https://localhost:8080/",
          "height": 261
        },
        "id": "ltORKf8GDLMD",
        "outputId": "60e95f28-14e0-4f91-a1fc-23be49ba8feb"
      },
      "execution_count": null,
      "outputs": [
        {
          "output_type": "display_data",
          "data": {
            "text/plain": [
              "<Figure size 432x288 with 1 Axes>"
            ],
            "image/png": "[encoded data removed]"
          },
          "metadata": {
            "needs_background": "light"
          }
        }
      ]
    },
    {
      "cell_type": "code",
      "source": [
        "global_concordance"
      ],
      "metadata": {
        "colab": {
          "base_uri": "https://localhost:8080/"
        },
        "id": "eHVzuuLbENTU",
        "outputId": "b47717a1-a98b-4ef3-d878-410a332ed1ec"
      },
      "execution_count": null,
      "outputs": [
        {
          "output_type": "execute_result",
          "data": {
            "text/plain": [
              "array([[0.81889764, 0.69291339, 0.69291339, 0.34645669],\n",
              "       [0.75748031, 0.81889764, 0.48818898, 0.34645669],\n",
              "       [0.81889764, 0.81889764, 0.81889764, 0.34645669],\n",
              "       [0.81889764, 0.81889764, 0.81889764, 0.81889764]])"
            ]
          },
          "metadata": {},
          "execution_count": 136
        }
      ]
    },
    {
      "cell_type": "code",
      "source": [
        "credibility"
      ],
      "metadata": {
        "colab": {
          "base_uri": "https://localhost:8080/"
        },
        "id": "Ev5uwo2sEO1A",
        "outputId": "60ee55dd-4459-4209-81bd-d038a28c2213"
      },
      "execution_count": null,
      "outputs": [
        {
          "output_type": "execute_result",
          "data": {
            "text/plain": [
              "array([[0.        , 0.        , 0.        , 0.        ],\n",
              "       [0.75748031, 0.        , 0.        , 0.        ],\n",
              "       [0.81889764, 0.81889764, 0.        , 0.        ],\n",
              "       [0.81889764, 0.81889764, 0.81889764, 0.        ]])"
            ]
          },
          "metadata": {},
          "execution_count": 137
        }
      ]
    },
    {
      "cell_type": "code",
      "source": [
        "for i in range(0, len(rank_D)):\n",
        "  print(str(i+1), rank_D[i])"
      ],
      "metadata": {
        "colab": {
          "base_uri": "https://localhost:8080/"
        },
        "id": "O5jWmZGSEQsP",
        "outputId": "b0148e58-a820-478b-a388-d82803256949"
      },
      "execution_count": null,
      "outputs": [
        {
          "output_type": "stream",
          "name": "stdout",
          "text": [
            "1 a4\n",
            "2 a3\n",
            "3 a2\n",
            "4 a1\n"
          ]
        }
      ]
    },
    {
      "cell_type": "markdown",
      "source": [
        "## PROMETHEE I II III"
      ],
      "metadata": {
        "id": "Od6EsWRL45Y9"
      }
    },
    {
      "cell_type": "code",
      "source": [
        "from pyDecision.algorithm import promethee_i, promethee_ii, promethee_iii"
      ],
      "metadata": {
        "id": "1odZCP1i5AE2"
      },
      "execution_count": 3,
      "outputs": []
    },
    {
      "cell_type": "code",
      "source": [
        "ds = pd.read_excel(\"/content/dados2.xlsx\")\n",
        "ds_list = np.array(ds.iloc[:,2:])\n",
        "print(f\"DADOS: \\n {ds_list} \\n\")"
      ],
      "metadata": {
        "id": "60d83IRb5QWh",
        "outputId": "69908776-eda7-458c-94d7-f63a28e34633",
        "colab": {
          "base_uri": "https://localhost:8080/"
        }
      },
      "execution_count": 4,
      "outputs": [
        {
          "output_type": "stream",
          "name": "stdout",
          "text": [
            "DADOS: \n",
            " [[ 29.   38.   24.   25.5]\n",
            " [  9.    8.5   8.    7. ]\n",
            " [  2.    4.    3.    3. ]\n",
            " [110.   90.   75.   85. ]] \n",
            "\n"
          ]
        }
      ]
    },
    {
      "cell_type": "code",
      "source": [
        "''' 't1' = Usual; 't2' = U-Shape; 't3' = V-Shape;\n",
        "'t4' = Level; 't5' = V-Shape with Indifference;\n",
        " 't6' = Gaussian; 't7' = C-Form'''\n",
        "Q = [ 0.2,  0.2,  0.2,  0.2]\n",
        "S = [ 0.3,  0.3,  0.3,  0.3]\n",
        "P = [ 0.5,  0.5,  0.5,  0.5]\n",
        "W = [5.00, 2.14, 5.98, 4.48]\n",
        "F = ['t1', 't1', 't1', 't1']"
      ],
      "metadata": {
        "id": "11uKCAC05v0J"
      },
      "execution_count": 27,
      "outputs": []
    },
    {
      "cell_type": "code",
      "source": [
        "p1 = promethee_i(ds_list, W = W, Q = Q, S = S, P = P, F = F, graph = True)\n",
        "\n",
        "# Rank - Partial\n",
        "for i in range(0, p1.shape[0]):\n",
        "  print('a'+str(i+1), p1[i])"
      ],
      "metadata": {
        "id": "gb9e_eP15kLE",
        "outputId": "aad362b9-4eab-4e8c-a9cf-51aa5a3c8e1a",
        "colab": {
          "base_uri": "https://localhost:8080/",
          "height": 330
        }
      },
      "execution_count": 28,
      "outputs": [
        {
          "output_type": "display_data",
          "data": {
            "text/plain": [
              "<Figure size 432x288 with 1 Axes>"
            ],
            "image/png": "[encoded data removed]"
          },
          "metadata": {
            "needs_background": "light"
          }
        },
        {
          "output_type": "stream",
          "name": "stdout",
          "text": [
            "a1 ['-' 'P+' 'P+' '-']\n",
            "a2 ['-' '-' 'P+' '-']\n",
            "a3 ['-' '-' '-' '-']\n",
            "a4 ['P+' 'P+' 'P+' '-']\n"
          ]
        }
      ]
    },
    {
      "cell_type": "code",
      "source": [
        "p2 = promethee_ii(ds_list, W = W, Q = Q, S = S, P = P, F = F, sort = True, topn = 10, graph = True)"
      ],
      "metadata": {
        "id": "8VbZf-oi6L6q",
        "outputId": "d8559f26-2643-43e5-9066-7a282f49b566",
        "colab": {
          "base_uri": "https://localhost:8080/",
          "height": 330
        }
      },
      "execution_count": 33,
      "outputs": [
        {
          "output_type": "stream",
          "name": "stdout",
          "text": [
            "a4: 1.0\n",
            "a1: 0.333\n",
            "a2: -0.333\n",
            "a3: -1.0\n"
          ]
        },
        {
          "output_type": "display_data",
          "data": {
            "text/plain": [
              "<Figure size 432x288 with 1 Axes>"
            ],
            "image/png": "[encoded data removed]"
          },
          "metadata": {
            "needs_background": "light"
          }
        }
      ]
    },
    {
      "cell_type": "code",
      "source": [
        "p3 =  promethee_iii(ds_list, W = W, Q = Q, S = S, P = P, F = F, lmbd = 0.20, graph = True)\n",
        "\n",
        "# Rank - Partial\n",
        "for i in range(0, p3.shape[0]):\n",
        "  print('a'+str(i+1), p3[i])"
      ],
      "metadata": {
        "id": "vBVrej8-6c_F",
        "outputId": "40f89052-1cd1-4991-f2f8-f0624677a8b3",
        "colab": {
          "base_uri": "https://localhost:8080/",
          "height": 330
        }
      },
      "execution_count": 36,
      "outputs": [
        {
          "output_type": "display_data",
          "data": {
            "text/plain": [
              "<Figure size 432x288 with 1 Axes>"
            ],
            "image/png": "[encoded data removed]"
          },
          "metadata": {
            "needs_background": "light"
          }
        },
        {
          "output_type": "stream",
          "name": "stdout",
          "text": [
            "a1 ['-' 'P+' 'P+' '-']\n",
            "a2 ['-' '-' 'P+' '-']\n",
            "a3 ['-' '-' '-' '-']\n",
            "a4 ['P+' 'P+' 'P+' '-']\n"
          ]
        }
      ]
    },
    {
      "cell_type": "code",
      "source": [
        ""
      ],
      "metadata": {
        "id": "qSEYP49u6rFa"
      },
      "execution_count": null,
      "outputs": []
    }
  ]
}