{
  "nbformat": 4,
  "nbformat_minor": 0,
  "metadata": {
    "colab": {
      "provenance": [],
      "authorship_tag": "ABX9TyPz6CQLbfMmkducB6pBOcWo",
      "include_colab_link": true
    },
    "kernelspec": {
      "name": "python3",
      "display_name": "Python 3"
    },
    "language_info": {
      "name": "python"
    }
  },
  "cells": [
    {
      "cell_type": "markdown",
      "metadata": {
        "id": "view-in-github",
        "colab_type": "text"
      },
      "source": [
        "<a href=\"https://colab.research.google.com/github/jvataidee/PesquisaOperacional/blob/master/cadeias_de_markov.ipynb\" target=\"_parent\"><img src=\"https://colab.research.google.com/assets/colab-badge.svg\" alt=\"Open In Colab\"/></a>"
      ]
    },
    {
      "cell_type": "markdown",
      "source": [
        "# Cadeias de Markov com Python\n",
        "---"
      ],
      "metadata": {
        "id": "KU76PrMV-VSQ"
      }
    },
    {
      "cell_type": "markdown",
      "source": [],
      "metadata": {
        "id": "V9YEqMm1Ia7A"
      }
    },
    {
      "cell_type": "code",
      "execution_count": 2,
      "metadata": {
        "id": "2i_q03vT-Cg8"
      },
      "outputs": [],
      "source": [
        "# Importando bibliotecas\n",
        "import numpy as np\n",
        "import random as rm"
      ]
    },
    {
      "cell_type": "code",
      "source": [
        "estados_desenvolvimento = [\"Amostra\", \"Treino\", \"Validação\",\"Produção\"]\n",
        "sequencias = [[\"Amostra - Amostra\", \"Amostra - Treino\", \"Amostra - Validação\", \"Amostra - Produção\"],\n",
        "              [\"Treino - Amostra\", \"Treino - Treino\", \"Treino - Validação\", \"Treino - Produção\"],\n",
        "              [\"Validação - Amostra\", \"Validação - Treino\", \"Validação - Validação\", \"Validação - Produção\"],\n",
        "              [\"Produção - Amostra\", \"Produção - Treino\", \"Produção - Validação\", \"Produção - Produção\"]]\n",
        "\n",
        "prob_sequencia = [[0.4, 0.4, 0.2, 0],\n",
        "                  [0.4, 0.2, 0.4, 0],\n",
        "                  [0.2, 0.4, 0.1, 0.3],\n",
        "                  [0.2, 0.4, 0.2, 0.2]]"
      ],
      "metadata": {
        "id": "MRyc-iMw-mOQ"
      },
      "execution_count": 21,
      "outputs": []
    },
    {
      "cell_type": "code",
      "source": [
        "for idex, value in enumerate(sequencias):\n",
        "    print(value[0], \"Prob:\", prob_sequencia[idex][0])\n",
        "    print(value[1], \"Prob:\", prob_sequencia[idex][1])\n",
        "    print(value[2], \"Prob:\", prob_sequencia[idex][2])\n",
        "    print(value[3], \"Prob:\", prob_sequencia[idex][3])\n",
        "\n",
        "    print(\"Probabilidade Total\", prob_sequencia[idex][0]+prob_sequencia[idex][1]+prob_sequencia[idex][2]+prob_sequencia[idex][3], \"\\n\")"
      ],
      "metadata": {
        "colab": {
          "base_uri": "https://localhost:8080/"
        },
        "id": "frsNkthCE_WD",
        "outputId": "faed56e5-6070-4f38-f952-bb8ab7cf866c"
      },
      "execution_count": 54,
      "outputs": [
        {
          "output_type": "stream",
          "name": "stdout",
          "text": [
            "Amostra - Amostra Prob: 0.4\n",
            "Amostra - Treino Prob: 0.4\n",
            "Amostra - Validação Prob: 0.2\n",
            "Amostra - Produção Prob: 0\n",
            "Probabilidade Total 1.0 \n",
            "\n",
            "Treino - Amostra Prob: 0.4\n",
            "Treino - Treino Prob: 0.2\n",
            "Treino - Validação Prob: 0.4\n",
            "Treino - Produção Prob: 0\n",
            "Probabilidade Total 1.0 \n",
            "\n",
            "Validação - Amostra Prob: 0.2\n",
            "Validação - Treino Prob: 0.4\n",
            "Validação - Validação Prob: 0.1\n",
            "Validação - Produção Prob: 0.3\n",
            "Probabilidade Total 1.0 \n",
            "\n",
            "Produção - Amostra Prob: 0.2\n",
            "Produção - Treino Prob: 0.4\n",
            "Produção - Validação Prob: 0.2\n",
            "Produção - Produção Prob: 0.2\n",
            "Probabilidade Total 1.0 \n",
            "\n"
          ]
        }
      ]
    },
    {
      "cell_type": "code",
      "source": [
        "#Criando classe de Markov\n",
        "class MarkovChain(object):\n",
        "    def __init__(self, transition_matrix, states):\n",
        "        self.transition_matrix = np.atleast_2d(transition_matrix)\n",
        "        self.states = states\n",
        "        self.index_dict = {self.states[index]: index for index in range(len(self.states))}\n",
        "        self.states_dict = {index: self.states[index] for index in range(len(self.states))}\n",
        "\n",
        "    #Definir função do estado futuro\n",
        "    def next_state(self,current_state):\n",
        "        return np.random.choice( self.states,\n",
        "            p = self.transition_matrix[self.index_dict[current_state], :])\n",
        "\n",
        "    #Gerar estados d problema\n",
        "    def generate_states(self, current_state, no = 10):\n",
        "        future_states = []\n",
        "        for i in range(no):\n",
        "            next_state = self.next_state(current_state)\n",
        "            future_states.append(next_state)\n",
        "\n",
        "            current_state = next_state\n",
        "\n",
        "        return future_states"
      ],
      "metadata": {
        "id": "i_3TBGJfCnEZ"
      },
      "execution_count": 56,
      "outputs": []
    },
    {
      "cell_type": "code",
      "source": [
        "atividades_modelo = MarkovChain(transition_matrix = prob_sequencia,\n",
        "                                states = estados_desenvolvimento)"
      ],
      "metadata": {
        "id": "zdWelxwbEOBc"
      },
      "execution_count": 57,
      "outputs": []
    },
    {
      "cell_type": "code",
      "source": [
        "atividades_modelo.next_state(current_state='Treino')"
      ],
      "metadata": {
        "colab": {
          "base_uri": "https://localhost:8080/",
          "height": 35
        },
        "id": "t2RQRB0SEcFz",
        "outputId": "207ba442-2329-433b-b77b-2df15d594172"
      },
      "execution_count": 63,
      "outputs": [
        {
          "output_type": "execute_result",
          "data": {
            "text/plain": [
              "'Validação'"
            ],
            "application/vnd.google.colaboratory.intrinsic+json": {
              "type": "string"
            }
          },
          "metadata": {},
          "execution_count": 63
        }
      ]
    },
    {
      "cell_type": "code",
      "source": [
        "numero_semanas  = 10\n",
        "atividades_modelo.generate_states(current_state='Treino', no = numero_semanas)"
      ],
      "metadata": {
        "colab": {
          "base_uri": "https://localhost:8080/"
        },
        "id": "SjHD8xnOEguR",
        "outputId": "6db89978-f830-46a1-a879-7812f9c2b5be"
      },
      "execution_count": 64,
      "outputs": [
        {
          "output_type": "execute_result",
          "data": {
            "text/plain": [
              "['Amostra',\n",
              " 'Amostra',\n",
              " 'Amostra',\n",
              " 'Treino',\n",
              " 'Amostra',\n",
              " 'Treino',\n",
              " 'Validação',\n",
              " 'Produção',\n",
              " 'Treino',\n",
              " 'Validação']"
            ]
          },
          "metadata": {},
          "execution_count": 64
        }
      ]
    }
  ]
}