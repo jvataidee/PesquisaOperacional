{
  "nbformat": 4,
  "nbformat_minor": 0,
  "metadata": {
    "colab": {
      "name": "analytic_hierarchy_process.ipynb",
      "provenance": [],
      "collapsed_sections": [],
      "toc_visible": true,
      "include_colab_link": true
    },
    "kernelspec": {
      "name": "python3",
      "display_name": "Python 3"
    },
    "accelerator": "GPU"
  },
  "cells": [
    {
      "cell_type": "markdown",
      "metadata": {
        "id": "view-in-github",
        "colab_type": "text"
      },
      "source": [
        "<a href=\"https://colab.research.google.com/github/jvataidee/PesquisaOperacional/blob/master/analytic_hierarchy_process.ipynb\" target=\"_parent\"><img src=\"https://colab.research.google.com/assets/colab-badge.svg\" alt=\"Open In Colab\"/></a>"
      ]
    },
    {
      "cell_type": "markdown",
      "metadata": {
        "id": "kLI0gJtzDGuQ"
      },
      "source": [
        "**by: [João Ataíde](https://www.joaoataide.com)**\n",
        "# **Métodos de Agregação e Síntese**\n",
        "\n",
        "---\n",
        "\n"
      ]
    },
    {
      "cell_type": "code",
      "source": [
        "#importar bibliotecas\n",
        "import pandas as pd\n",
        "import numpy as np\n",
        "import os\n",
        "import networkx as nx\n",
        "import matplotlib.pyplot as plt"
      ],
      "metadata": {
        "id": "dTSRYPl7ORJW"
      },
      "execution_count": 1,
      "outputs": []
    },
    {
      "cell_type": "markdown",
      "source": [
        "# **Métodos Cardinais**"
      ],
      "metadata": {
        "id": "LcwcnkLh9tUA"
      }
    },
    {
      "cell_type": "markdown",
      "source": [
        "## **Analytic Hierarchy Process AHP**"
      ],
      "metadata": {
        "id": "35fmgelwQqVk"
      }
    },
    {
      "cell_type": "code",
      "source": [
        "# coding=UTF-8\n",
        "import numpy as np\n",
        "\n",
        "\n",
        "class AHP():\n",
        "\n",
        "    def __init__(self, metodo, precisao, alternativas, criterios,\n",
        "                 subCriterios, matrizesPreferencias):\n",
        "        \n",
        "        self.metodo = metodo\n",
        "        self.precisao = precisao\n",
        "        self.alternativas = alternativas\n",
        "        self.criterios = criterios\n",
        "        self.subCriterios = subCriterios\n",
        "        self.matrizesPreferencias = matrizesPreferencias\n",
        "\n",
        "        self.prioridadesGlobais = []\n",
        "\n",
        "    @staticmethod\n",
        "    def aproximado(matriz, precisao):\n",
        "        soma_colunas = matriz.sum(axis=0)\n",
        "        matriz_norm = np.divide(matriz, soma_colunas)\n",
        "        media_linhas = matriz_norm.mean(axis=1)\n",
        "\n",
        "        return media_linhas.round(precisao)\n",
        "\n",
        "    @staticmethod\n",
        "    def geometrico(matriz, precisao):\n",
        "        media_geometrica = [np.prod(linha) ** (1 / len(linha)) for linha in matriz]\n",
        "        media_geometrica_norm = media_geometrica / sum(media_geometrica)\n",
        "\n",
        "        return media_geometrica_norm.round(precisao)\n",
        "\n",
        "    @staticmethod\n",
        "    def autovalor(matriz, precisao, interacao=100, autovetor_anterior=None):\n",
        "        matriz_quadrada = np.linalg.matrix_power(matriz, 2)\n",
        "        soma_linhas = np.sum(matriz_quadrada, axis=1)\n",
        "        soma_coluna = np.sum(soma_linhas, axis=0)\n",
        "        autovetor_atual = np.divide(soma_linhas, soma_coluna)\n",
        "\n",
        "        if autovetor_anterior is None:\n",
        "            autovetor_anterior = np.zeros(matriz.shape[0])\n",
        "\n",
        "        diferenca = np.subtract(autovetor_atual, autovetor_anterior).round(precisao)\n",
        "        if not np.any(diferenca):\n",
        "            return autovetor_atual.round(precisao)\n",
        "\n",
        "        interacao -= 1\n",
        "        if interacao > 0:\n",
        "            return AHP.autovalor(matriz_quadrada, precisao, interacao, autovetor_atual)\n",
        "        else:\n",
        "            return autovetor_atual.round(precisao)\n",
        "\n",
        "    @staticmethod\n",
        "    def consistencia(matriz):\n",
        "        if matriz.shape[0] and matriz.shape[1] > 2:\n",
        "            # Teorema de Perron-Frobenius\n",
        "            lambda_max = np.real(np.linalg.eigvals(matriz).max())\n",
        "            ic = (lambda_max - len(matriz)) / (len(matriz) - 1)\n",
        "            ri = {3: 0.52, 4: 0.89, 5: 1.11, 6: 1.25, 7: 1.35, 8: 1.40, 9: 1.45,\n",
        "                  10: 1.49, 11: 1.52, 12: 1.54, 13: 1.56, 14: 1.58, 15: 1.59}\n",
        "            rc = ic / ri[len(matriz)]\n",
        "        else:\n",
        "            lambda_max = 0\n",
        "            ic = 0\n",
        "            rc = 0\n",
        "\n",
        "        return lambda_max, ic, rc\n",
        "\n",
        "    def VetorPrioridadesLocais(self):\n",
        "        vetor_prioridades_locais = {}\n",
        "        for criterio in self.matrizesPreferencias:\n",
        "            matriz = np.array(self.matrizesPreferencias[criterio])\n",
        "            if self.metodo == 'aproximado':\n",
        "                prioridades_locais = self.aproximado(matriz, self.precisao)\n",
        "            elif self.metodo == 'geometrico':\n",
        "                prioridades_locais = self.geometrico(matriz, self.precisao)\n",
        "            else:\n",
        "                if matriz.shape[0] and matriz.shape[1] >= 2:\n",
        "                    prioridades_locais = self.autovalor(matriz, self.precisao)\n",
        "                else:\n",
        "                    prioridades_locais = self.aproximado(matriz, self.precisao)\n",
        "\n",
        "            vetor_prioridades_locais[criterio] = prioridades_locais\n",
        "\n",
        "            lambda_max, ic, rc = self.consistencia(matriz)\n",
        "\n",
        "        return vetor_prioridades_locais\n",
        "\n",
        "    def VetorPrioridadesGlobais(self, prioridades, pesos, criterios):\n",
        "        for criterio in criterios:\n",
        "            peso = pesos[criterios.index(criterio)]\n",
        "            prioridades_locais = prioridades[criterio]\n",
        "            prioridade_global = np.round(peso * prioridades_locais, self.precisao)\n",
        "\n",
        "            if criterio in self.subCriterios:\n",
        "                self.VetorPrioridadesGlobais(prioridades, prioridade_global, self.subCriterios[criterio])\n",
        "            else:\n",
        "                self.prioridadesGlobais.append(prioridade_global)\n",
        "\n",
        "    def Resultado(self):\n",
        "        prioridades = self.VetorPrioridadesLocais()\n",
        "        self.VetorPrioridadesGlobais(prioridades, prioridades['criterios'], self.criterios)\n",
        "        prioridades = np.array(self.prioridadesGlobais)\n",
        "        prioridades = prioridades.sum(axis=0).round(self.precisao)\n",
        "\n",
        "        return dict(zip(self.alternativas, prioridades))\n"
      ],
      "metadata": {
        "id": "37r63RVynnly"
      },
      "execution_count": 2,
      "outputs": []
    },
    {
      "cell_type": "markdown",
      "source": [
        "### **Método aproximado**"
      ],
      "metadata": {
        "id": "NKuCvWORVn0Y"
      }
    },
    {
      "cell_type": "code",
      "source": [
        "matriz = np.array([[1, 6, 3],\n",
        "                   [1/6, 1, 1/2],\n",
        "                   [1/3, 2, 1]])\n",
        "\n",
        "precisao = 2\n",
        "AHP.aproximado(matriz, precisao)"
      ],
      "metadata": {
        "colab": {
          "base_uri": "https://localhost:8080/"
        },
        "id": "cvZbvR83VBFH",
        "outputId": "275878fb-62a9-4de0-bcac-e1e63e572d69"
      },
      "execution_count": 3,
      "outputs": [
        {
          "output_type": "execute_result",
          "data": {
            "text/plain": [
              "array([0.67, 0.11, 0.22])"
            ]
          },
          "metadata": {},
          "execution_count": 3
        }
      ]
    },
    {
      "cell_type": "markdown",
      "source": [
        "### **Método geométrico**"
      ],
      "metadata": {
        "id": "XfmnFBPFVyak"
      }
    },
    {
      "cell_type": "code",
      "source": [
        "matriz = np.array([[1, 6, 3],\n",
        "                   [1/6, 1, 1/2],\n",
        "                   [1/3, 2, 1]])\n",
        "\n",
        "precisao = 2\n",
        "AHP.geometrico(matriz, precisao)"
      ],
      "metadata": {
        "colab": {
          "base_uri": "https://localhost:8080/"
        },
        "id": "rZ1QU_atWjjO",
        "outputId": "57c86840-a143-4e05-b878-4b999ef494c8"
      },
      "execution_count": 4,
      "outputs": [
        {
          "output_type": "execute_result",
          "data": {
            "text/plain": [
              "array([0.67, 0.11, 0.22])"
            ]
          },
          "metadata": {},
          "execution_count": 4
        }
      ]
    },
    {
      "cell_type": "markdown",
      "source": [
        "### **Método Autovalor**"
      ],
      "metadata": {
        "id": "--GADlacWnaU"
      }
    },
    {
      "cell_type": "code",
      "source": [
        "matriz = np.array([[1, 6, 3],\n",
        "                   [1/6, 1, 1/2],\n",
        "                   [1/3, 2, 1]])\n",
        "\n",
        "precisao = 2\n",
        "AHP.autovalor(matriz, precisao, interacao=100)"
      ],
      "metadata": {
        "colab": {
          "base_uri": "https://localhost:8080/"
        },
        "id": "YXJfhNTGWvh4",
        "outputId": "8b77ba22-04e9-437d-9712-da07a6d405b1"
      },
      "execution_count": 5,
      "outputs": [
        {
          "output_type": "execute_result",
          "data": {
            "text/plain": [
              "array([0.67, 0.11, 0.22])"
            ]
          },
          "metadata": {},
          "execution_count": 5
        }
      ]
    },
    {
      "cell_type": "markdown",
      "source": [
        "### **Calculos Consistência**"
      ],
      "metadata": {
        "id": "5kS-Cls4ckCl"
      }
    },
    {
      "cell_type": "code",
      "source": [
        "matriz = np.array([[1, 6, 3],\n",
        "                   [1/6, 1, 1/2],\n",
        "                   [1/3, 2, 1]])\n",
        "\n",
        "\n",
        "AHP.consistencia(matriz)"
      ],
      "metadata": {
        "colab": {
          "base_uri": "https://localhost:8080/"
        },
        "id": "Q6ZKyihdcsAq",
        "outputId": "58ec8807-7ed8-4d0e-c517-86c23f8b06f8"
      },
      "execution_count": 6,
      "outputs": [
        {
          "output_type": "execute_result",
          "data": {
            "text/plain": [
              "(3.0, 0.0, 0.0)"
            ]
          },
          "metadata": {},
          "execution_count": 6
        }
      ]
    },
    {
      "cell_type": "markdown",
      "source": [
        "Se RC < 10% é consistente."
      ],
      "metadata": {
        "id": "Qop1t0MUectU"
      }
    },
    {
      "cell_type": "markdown",
      "source": [
        "### **Exemplo do Lider**"
      ],
      "metadata": {
        "id": "CDPKH3_PhMgQ"
      }
    },
    {
      "cell_type": "code",
      "source": [
        "lider = AHP(\n",
        "    metodo='',\n",
        "    precisao=3,\n",
        "    alternativas=['Tom', 'Dick', 'Harry'],\n",
        "    criterios=['Experiência', 'Educação', 'Carisma', 'Idade'],\n",
        "    subCriterios={},\n",
        "    matrizesPreferencias={\n",
        "        'Experiência': [\n",
        "            [1, 1 / 4, 4],\n",
        "            [4, 1, 9],\n",
        "            [1 / 4, 1 / 9, 1]\n",
        "        ],\n",
        "        'Educação': [\n",
        "            [1, 3, 1 / 5],\n",
        "            [1 / 3, 1, 1 / 7],\n",
        "            [5, 7, 1]\n",
        "        ],\n",
        "        'Carisma': [\n",
        "            [1, 5, 9],\n",
        "            [1 / 5, 1, 4],\n",
        "            [1 / 9, 1 / 4, 1]\n",
        "        ],\n",
        "        'Idade': [\n",
        "            [1, 1 / 3, 5],\n",
        "            [3, 1, 9],\n",
        "            [1 / 5, 1 / 9, 1]\n",
        "        ],\n",
        "        'criterios': [\n",
        "            [1, 4, 3, 7],\n",
        "            [1 / 4, 1, 1 / 3, 3],\n",
        "            [1 / 3, 3, 1, 5],\n",
        "            [1 / 7, 1 / 3, 1 / 5, 1]\n",
        "        ]\n",
        "    })"
      ],
      "metadata": {
        "id": "CedGkHKwhM_2"
      },
      "execution_count": 7,
      "outputs": []
    },
    {
      "cell_type": "code",
      "source": [
        "lider.VetorPrioridadesLocais()"
      ],
      "metadata": {
        "colab": {
          "base_uri": "https://localhost:8080/"
        },
        "id": "06plqhiMjD14",
        "outputId": "6fb76da5-cb69-4b2f-8bd3-f8490a8b8501"
      },
      "execution_count": 14,
      "outputs": [
        {
          "output_type": "execute_result",
          "data": {
            "text/plain": [
              "{'Carisma': array([0.743, 0.194, 0.063]),\n",
              " 'Educação': array([0.188, 0.081, 0.731]),\n",
              " 'Experiência': array([0.217, 0.717, 0.066]),\n",
              " 'Idade': array([0.265, 0.672, 0.063]),\n",
              " 'criterios': array([0.548, 0.127, 0.27 , 0.056])}"
            ]
          },
          "metadata": {},
          "execution_count": 14
        }
      ]
    },
    {
      "cell_type": "code",
      "source": [
        "resultado = lider.Resultado()\n",
        "resultado"
      ],
      "metadata": {
        "id": "i9RvcZssmDt6",
        "colab": {
          "base_uri": "https://localhost:8080/"
        },
        "outputId": "fd88b0c7-a555-42c7-df72-f0232f795947"
      },
      "execution_count": 9,
      "outputs": [
        {
          "output_type": "execute_result",
          "data": {
            "text/plain": [
              "{'Dick': 0.493, 'Harry': 0.15, 'Tom': 0.359}"
            ]
          },
          "metadata": {},
          "execution_count": 9
        }
      ]
    },
    {
      "cell_type": "code",
      "source": [
        "plt.bar(resultado.keys(), resultado.values())\n",
        "plt.ylabel('Prioridade')\n",
        "plt.show()"
      ],
      "metadata": {
        "colab": {
          "base_uri": "https://localhost:8080/",
          "height": 265
        },
        "id": "JgaQIOPapVxU",
        "outputId": "bc8ed221-3594-4c14-d2c6-e27ff1766f0d"
      },
      "execution_count": 10,
      "outputs": [
        {
          "output_type": "display_data",
          "data": {
            "image/png": "[encoded data removed]",
            "text/plain": [
              "<Figure size 432x288 with 1 Axes>"
            ]
          },
          "metadata": {
            "needs_background": "light"
          }
        }
      ]
    }
  ]
}