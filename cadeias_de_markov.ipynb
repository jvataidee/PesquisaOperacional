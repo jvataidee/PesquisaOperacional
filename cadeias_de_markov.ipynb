{
  "nbformat": 4,
  "nbformat_minor": 0,
  "metadata": {
    "colab": {
      "provenance": [],
      "authorship_tag": "ABX9TyOepBhjeChJ+xxukZstsetm",
      "include_colab_link": true
    },
    "kernelspec": {
      "name": "python3",
      "display_name": "Python 3"
    },
    "language_info": {
      "name": "python"
    }
  },
  "cells": [
    {
      "cell_type": "markdown",
      "metadata": {
        "id": "view-in-github",
        "colab_type": "text"
      },
      "source": [
        "<a href=\"https://colab.research.google.com/github/jvataidee/PesquisaOperacional/blob/master/cadeias_de_markov.ipynb\" target=\"_parent\"><img src=\"https://colab.research.google.com/assets/colab-badge.svg\" alt=\"Open In Colab\"/></a>"
      ]
    },
    {
      "cell_type": "markdown",
      "source": [
        "# Cadeias de Markov com Python\n",
        "---"
      ],
      "metadata": {
        "id": "KU76PrMV-VSQ"
      }
    },
    {
      "cell_type": "code",
      "execution_count": 72,
      "metadata": {
        "id": "2i_q03vT-Cg8"
      },
      "outputs": [],
      "source": [
        "import numpy as np\n",
        "import random as rm\n",
        "import pandas as pd\n",
        "import matplotlib.pyplot as plt"
      ]
    },
    {
      "cell_type": "code",
      "source": [
        "estados_desenvolvimento = [\"Amostra\", \"Treino\", \"Validação\",\"Produção\"]\n",
        "sequencias = [[\"Amostra - Amostra\", \"Amostra - Treino\", \"Amostra - Validação\", \"Amostra - Produção\"],\n",
        "              [\"Treino - Amostra\", \"Treino - Treino\", \"Treino - Validação\", \"Treino - Produção\"],\n",
        "              [\"Validação - Amostra\", \"Validação - Treino\", \"Validação - Validação\", \"Validação - Produção\"],\n",
        "              [\"Produção - Amostra\", \"Produção - Treino\", \"Produção - Validação\", \"Produção - Produção\"]]\n",
        "\n",
        "prob_sequencia = [[0.4, 0.4, 0.2, 0.0],\n",
        "                  [0.4, 0.2, 0.4, 0.0],\n",
        "                  [0.3, 0.4, 0.0, 0.3],\n",
        "                  [0.3, 0.5, 0.2, 0.0]]"
      ],
      "metadata": {
        "id": "MRyc-iMw-mOQ"
      },
      "execution_count": 119,
      "outputs": []
    },
    {
      "cell_type": "code",
      "source": [
        "for idex, value in enumerate(sequencias):\n",
        "    print(value[0], \"Prob:\", prob_sequencia[idex][0])\n",
        "    print(value[1], \"Prob:\", prob_sequencia[idex][1])\n",
        "    print(value[2], \"Prob:\", prob_sequencia[idex][2])\n",
        "    print(value[3], \"Prob:\", prob_sequencia[idex][3])\n",
        "\n",
        "    print(\"Probabilidade Total\", prob_sequencia[idex][0]+prob_sequencia[idex][1]+prob_sequencia[idex][2]+prob_sequencia[idex][3], \"\\n\")"
      ],
      "metadata": {
        "colab": {
          "base_uri": "https://localhost:8080/"
        },
        "id": "frsNkthCE_WD",
        "outputId": "0534731a-15f1-4d1f-e952-a342391fbb6f"
      },
      "execution_count": 120,
      "outputs": [
        {
          "output_type": "stream",
          "name": "stdout",
          "text": [
            "Amostra - Amostra Prob: 0.4\n",
            "Amostra - Treino Prob: 0.4\n",
            "Amostra - Validação Prob: 0.2\n",
            "Amostra - Produção Prob: 0.0\n",
            "Probabilidade Total 1.0 \n",
            "\n",
            "Treino - Amostra Prob: 0.4\n",
            "Treino - Treino Prob: 0.2\n",
            "Treino - Validação Prob: 0.4\n",
            "Treino - Produção Prob: 0.0\n",
            "Probabilidade Total 1.0 \n",
            "\n",
            "Validação - Amostra Prob: 0.3\n",
            "Validação - Treino Prob: 0.4\n",
            "Validação - Validação Prob: 0.0\n",
            "Validação - Produção Prob: 0.3\n",
            "Probabilidade Total 1.0 \n",
            "\n",
            "Produção - Amostra Prob: 0.3\n",
            "Produção - Treino Prob: 0.5\n",
            "Produção - Validação Prob: 0.2\n",
            "Produção - Produção Prob: 0.0\n",
            "Probabilidade Total 1.0 \n",
            "\n"
          ]
        }
      ]
    },
    {
      "cell_type": "code",
      "source": [
        "#Criando classe de Markov\n",
        "class MarkovChain(object):\n",
        "    def __init__(self, transition_matrix, states):\n",
        "        self.transition_matrix = np.atleast_2d(transition_matrix)\n",
        "        self.states = states\n",
        "        self.index_dict = {self.states[index]: index for index in range(len(self.states))}\n",
        "        self.states_dict = {index: self.states[index] for index in range(len(self.states))}\n",
        "\n",
        "    #Definir função do estado futuro\n",
        "    def next_state(self,current_state):\n",
        "        return np.random.choice( self.states,\n",
        "            p = self.transition_matrix[self.index_dict[current_state], :])\n",
        "\n",
        "    #Gerar estados d problema\n",
        "    def generate_states(self, current_state, no = 10):\n",
        "        future_states = []\n",
        "        epoc = []\n",
        "\n",
        "        for i in range(no):\n",
        "            next_state = self.next_state(current_state)\n",
        "            future_states.append(next_state)\n",
        "            epoc.append(i)\n",
        "            current_state = next_state\n",
        "\n",
        "        return future_states, epoc"
      ],
      "metadata": {
        "id": "i_3TBGJfCnEZ"
      },
      "execution_count": 121,
      "outputs": []
    },
    {
      "cell_type": "code",
      "source": [
        "atividades_modelo = MarkovChain(transition_matrix = prob_sequencia,\n",
        "                                states = estados_desenvolvimento)"
      ],
      "metadata": {
        "id": "zdWelxwbEOBc"
      },
      "execution_count": 122,
      "outputs": []
    },
    {
      "cell_type": "code",
      "source": [
        "atividades_modelo.next_state(current_state='Amostra')"
      ],
      "metadata": {
        "colab": {
          "base_uri": "https://localhost:8080/",
          "height": 35
        },
        "id": "t2RQRB0SEcFz",
        "outputId": "47cc9f53-66c1-4805-b22f-10f83bb10e01"
      },
      "execution_count": 123,
      "outputs": [
        {
          "output_type": "execute_result",
          "data": {
            "text/plain": [
              "'Treino'"
            ],
            "application/vnd.google.colaboratory.intrinsic+json": {
              "type": "string"
            }
          },
          "metadata": {},
          "execution_count": 123
        }
      ]
    },
    {
      "cell_type": "code",
      "source": [
        "numero_semanas  = 10\n",
        "resultado = atividades_modelo.generate_states(current_state='Amostra', no = numero_semanas)\n",
        "resultado[0]"
      ],
      "metadata": {
        "colab": {
          "base_uri": "https://localhost:8080/"
        },
        "id": "SjHD8xnOEguR",
        "outputId": "e835a12a-57c6-4d80-99c9-611a5f279425"
      },
      "execution_count": 128,
      "outputs": [
        {
          "output_type": "execute_result",
          "data": {
            "text/plain": [
              "['Treino',\n",
              " 'Validação',\n",
              " 'Produção',\n",
              " 'Treino',\n",
              " 'Validação',\n",
              " 'Produção',\n",
              " 'Amostra',\n",
              " 'Validação',\n",
              " 'Produção',\n",
              " 'Treino']"
            ]
          },
          "metadata": {},
          "execution_count": 128
        }
      ]
    },
    {
      "cell_type": "code",
      "source": [
        "resultado_count = pd.DataFrame(resultado[0]).value_counts()\n",
        "resultado_count"
      ],
      "metadata": {
        "colab": {
          "base_uri": "https://localhost:8080/"
        },
        "id": "zehzZ-ZXI-N1",
        "outputId": "b55dcf3d-4a09-4d1e-d181-44319256a235"
      },
      "execution_count": 129,
      "outputs": [
        {
          "output_type": "execute_result",
          "data": {
            "text/plain": [
              "Produção     3\n",
              "Treino       3\n",
              "Validação    3\n",
              "Amostra      1\n",
              "dtype: int64"
            ]
          },
          "metadata": {},
          "execution_count": 129
        }
      ]
    }
  ]
}