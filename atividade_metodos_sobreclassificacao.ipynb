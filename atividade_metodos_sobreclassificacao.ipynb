{
  "nbformat": 4,
  "nbformat_minor": 0,
  "metadata": {
    "colab": {
      "name": "atividade_metodos_sobreclassificacao.ipynb",
      "provenance": [],
      "collapsed_sections": [],
      "toc_visible": true,
      "include_colab_link": true
    },
    "kernelspec": {
      "name": "python3",
      "display_name": "Python 3"
    },
    "language_info": {
      "name": "python"
    }
  },
  "cells": [
    {
      "cell_type": "markdown",
      "metadata": {
        "id": "view-in-github",
        "colab_type": "text"
      },
      "source": [
        "<a href=\"https://colab.research.google.com/github/jvataidee/PesquisaOperacional/blob/master/atividade_metodos_sobreclassificacao.ipynb\" target=\"_parent\"><img src=\"https://colab.research.google.com/assets/colab-badge.svg\" alt=\"Open In Colab\"/></a>"
      ]
    },
    {
      "cell_type": "markdown",
      "source": [
        "# Atividade: Métodos de Sobreclassificação\n",
        "\n",
        "---\n"
      ],
      "metadata": {
        "id": "43E1aMp56OtK"
      }
    },
    {
      "cell_type": "markdown",
      "source": [
        "## Inportando bibliotecas"
      ],
      "metadata": {
        "id": "0OLLTBS0CC7X"
      }
    },
    {
      "cell_type": "code",
      "source": [
        "!pip install pyDecision -q"
      ],
      "metadata": {
        "colab": {
          "base_uri": "https://localhost:8080/"
        },
        "id": "p5R6qbZs7jPC",
        "outputId": "9ecbf3f4-4d84-46ed-eced-5f71aca7b5c8"
      },
      "execution_count": 1,
      "outputs": [
        {
          "output_type": "stream",
          "name": "stdout",
          "text": [
            "\u001b[?25l\r\u001b[K     |█████                           | 10 kB 16.4 MB/s eta 0:00:01\r\u001b[K     |██████████                      | 20 kB 21.1 MB/s eta 0:00:01\r\u001b[K     |███████████████                 | 30 kB 26.5 MB/s eta 0:00:01\r\u001b[K     |███████████████████▉            | 40 kB 29.8 MB/s eta 0:00:01\r\u001b[K     |████████████████████████▉       | 51 kB 18.9 MB/s eta 0:00:01\r\u001b[K     |█████████████████████████████▉  | 61 kB 21.4 MB/s eta 0:00:01\r\u001b[K     |████████████████████████████████| 65 kB 3.3 MB/s \n",
            "\u001b[?25h"
          ]
        }
      ]
    },
    {
      "cell_type": "code",
      "execution_count": 2,
      "metadata": {
        "id": "DwVTAjSI6OGZ"
      },
      "outputs": [],
      "source": [
        "import numpy as np\n",
        "import pandas as pd\n",
        "from pyDecision.algorithm import electre_iii"
      ]
    },
    {
      "cell_type": "markdown",
      "source": [
        "## Importando Dados\n",
        "\n",
        "Este problema é referente a aplicação práticas de um problema multicritério para tomada de decisão, tal problema tem como objetivo a compra de um novo notebook de alto desempenho para trabalho de visão computacional.\n",
        "\n",
        "De forma geral, a busca de tais alternativas foram feitas em sites brasileiros e levando em consideração algumas premissas, sendo elas:\n",
        "\n",
        "*  Notebooks de alto desempenho com de processador i7;\n",
        "*  Notebooks das marcas Asus, Avell e Dell, com suporte de no mínimo 1 ano;\n",
        "*  Slot para HD adicional para a máquina;\n",
        "*  Preço referente a aquisição sem desconto.\n",
        "\n",
        "Os critérios escolhidos para tal aquisição foram:\n",
        "\n",
        "*   Memória RAM (GB)\n",
        "*   Armazenamento (Tb)\n",
        "*   Placa de Vídeo (GB)\n",
        "*   Processador (Hz)\n",
        "*   Preço (R$)\n",
        "\n"
      ],
      "metadata": {
        "id": "viVikyjjCJqG"
      }
    },
    {
      "cell_type": "code",
      "source": [
        "ds = pd.read_excel(\"/content/dados.xlsx\", 0)\n",
        "ds_list = np.array(ds.iloc[:,2:])\n",
        "#print(f\"DADOS: \\n {ds_list} \\n\")"
      ],
      "metadata": {
        "id": "yX9ubv0mC2yk"
      },
      "execution_count": 27,
      "outputs": []
    },
    {
      "cell_type": "code",
      "source": [
        "ds"
      ],
      "metadata": {
        "colab": {
          "base_uri": "https://localhost:8080/",
          "height": 459
        },
        "id": "xfEOSpV_3Ma7",
        "outputId": "9a28b31e-7c27-42d7-ffcf-cd59b082c365"
      },
      "execution_count": 28,
      "outputs": [
        {
          "output_type": "execute_result",
          "data": {
            "text/plain": [
              "  Alternativas                        Notebook  RAM (GB)  Armazenamento (GB)  \\\n",
              "0           a1                   AVELL C62 MOB         8                 250   \n",
              "1           a2                   Avell A70 HYB         8                 250   \n",
              "2           a3                   AVELL A70 MOB        32                 500   \n",
              "3           a4                   AVELL A65 MOB        16                 500   \n",
              "4           a5                       ASUS M515         8                 256   \n",
              "5           a6  Novo Notebook Inspiron 15 3000         8                 256   \n",
              "6           a7            Notebook Vostro 3510         8                 256   \n",
              "7           a8  Novo Notebook Inspiron 15 3000         8                 256   \n",
              "8           a9            Notebook Inspiron 15         8                 512   \n",
              "9          a10            Notebook Vostro 5510        16                 256   \n",
              "\n",
              "   Placa de Vídeo (GB)  Processador i7 (HZ)  Preço (R$)  \n",
              "0                    4                  2.3        7773  \n",
              "1                    4                  2.3        9138  \n",
              "2                    4                  2.3        9264  \n",
              "3                    6                  2.3       15444  \n",
              "4                    2                  3.7        4099  \n",
              "5                    4                  2.8        5399  \n",
              "6                    4                  2.8        5528  \n",
              "7                    4                  2.8        5649  \n",
              "8                    4                  3.4        5799  \n",
              "9                    4                  3.4        7129  "
            ],
            "text/html": [
              "\n",
              "  <div id=\"df-477a0a2c-9a36-4dbd-946d-709ed72ac014\">\n",
              "    <div class=\"colab-df-container\">\n",
              "      <div>\n",
              "<style scoped>\n",
              "    .dataframe tbody tr th:only-of-type {\n",
              "        vertical-align: middle;\n",
              "    }\n",
              "\n",
              "    .dataframe tbody tr th {\n",
              "        vertical-align: top;\n",
              "    }\n",
              "\n",
              "    .dataframe thead th {\n",
              "        text-align: right;\n",
              "    }\n",
              "</style>\n",
              "<table border=\"1\" class=\"dataframe\">\n",
              "  <thead>\n",
              "    <tr style=\"text-align: right;\">\n",
              "      <th></th>\n",
              "      <th>Alternativas</th>\n",
              "      <th>Notebook</th>\n",
              "      <th>RAM (GB)</th>\n",
              "      <th>Armazenamento (GB)</th>\n",
              "      <th>Placa de Vídeo (GB)</th>\n",
              "      <th>Processador i7 (HZ)</th>\n",
              "      <th>Preço (R$)</th>\n",
              "    </tr>\n",
              "  </thead>\n",
              "  <tbody>\n",
              "    <tr>\n",
              "      <th>0</th>\n",
              "      <td>a1</td>\n",
              "      <td>AVELL C62 MOB</td>\n",
              "      <td>8</td>\n",
              "      <td>250</td>\n",
              "      <td>4</td>\n",
              "      <td>2.3</td>\n",
              "      <td>7773</td>\n",
              "    </tr>\n",
              "    <tr>\n",
              "      <th>1</th>\n",
              "      <td>a2</td>\n",
              "      <td>Avell A70 HYB</td>\n",
              "      <td>8</td>\n",
              "      <td>250</td>\n",
              "      <td>4</td>\n",
              "      <td>2.3</td>\n",
              "      <td>9138</td>\n",
              "    </tr>\n",
              "    <tr>\n",
              "      <th>2</th>\n",
              "      <td>a3</td>\n",
              "      <td>AVELL A70 MOB</td>\n",
              "      <td>32</td>\n",
              "      <td>500</td>\n",
              "      <td>4</td>\n",
              "      <td>2.3</td>\n",
              "      <td>9264</td>\n",
              "    </tr>\n",
              "    <tr>\n",
              "      <th>3</th>\n",
              "      <td>a4</td>\n",
              "      <td>AVELL A65 MOB</td>\n",
              "      <td>16</td>\n",
              "      <td>500</td>\n",
              "      <td>6</td>\n",
              "      <td>2.3</td>\n",
              "      <td>15444</td>\n",
              "    </tr>\n",
              "    <tr>\n",
              "      <th>4</th>\n",
              "      <td>a5</td>\n",
              "      <td>ASUS M515</td>\n",
              "      <td>8</td>\n",
              "      <td>256</td>\n",
              "      <td>2</td>\n",
              "      <td>3.7</td>\n",
              "      <td>4099</td>\n",
              "    </tr>\n",
              "    <tr>\n",
              "      <th>5</th>\n",
              "      <td>a6</td>\n",
              "      <td>Novo Notebook Inspiron 15 3000</td>\n",
              "      <td>8</td>\n",
              "      <td>256</td>\n",
              "      <td>4</td>\n",
              "      <td>2.8</td>\n",
              "      <td>5399</td>\n",
              "    </tr>\n",
              "    <tr>\n",
              "      <th>6</th>\n",
              "      <td>a7</td>\n",
              "      <td>Notebook Vostro 3510</td>\n",
              "      <td>8</td>\n",
              "      <td>256</td>\n",
              "      <td>4</td>\n",
              "      <td>2.8</td>\n",
              "      <td>5528</td>\n",
              "    </tr>\n",
              "    <tr>\n",
              "      <th>7</th>\n",
              "      <td>a8</td>\n",
              "      <td>Novo Notebook Inspiron 15 3000</td>\n",
              "      <td>8</td>\n",
              "      <td>256</td>\n",
              "      <td>4</td>\n",
              "      <td>2.8</td>\n",
              "      <td>5649</td>\n",
              "    </tr>\n",
              "    <tr>\n",
              "      <th>8</th>\n",
              "      <td>a9</td>\n",
              "      <td>Notebook Inspiron 15</td>\n",
              "      <td>8</td>\n",
              "      <td>512</td>\n",
              "      <td>4</td>\n",
              "      <td>3.4</td>\n",
              "      <td>5799</td>\n",
              "    </tr>\n",
              "    <tr>\n",
              "      <th>9</th>\n",
              "      <td>a10</td>\n",
              "      <td>Notebook Vostro 5510</td>\n",
              "      <td>16</td>\n",
              "      <td>256</td>\n",
              "      <td>4</td>\n",
              "      <td>3.4</td>\n",
              "      <td>7129</td>\n",
              "    </tr>\n",
              "  </tbody>\n",
              "</table>\n",
              "</div>\n",
              "      <button class=\"colab-df-convert\" onclick=\"convertToInteractive('df-477a0a2c-9a36-4dbd-946d-709ed72ac014')\"\n",
              "              title=\"Convert this dataframe to an interactive table.\"\n",
              "              style=\"display:none;\">\n",
              "        \n",
              "  <svg xmlns=\"http://www.w3.org/2000/svg\" height=\"24px\"viewBox=\"0 0 24 24\"\n",
              "       width=\"24px\">\n",
              "    <path d=\"M0 0h24v24H0V0z\" fill=\"none\"/>\n",
              "    <path d=\"M18.56 5.44l.94 2.06.94-2.06 2.06-.94-2.06-.94-.94-2.06-.94 2.06-2.06.94zm-11 1L8.5 8.5l.94-2.06 2.06-.94-2.06-.94L8.5 2.5l-.94 2.06-2.06.94zm10 10l.94 2.06.94-2.06 2.06-.94-2.06-.94-.94-2.06-.94 2.06-2.06.94z\"/><path d=\"M17.41 7.96l-1.37-1.37c-.4-.4-.92-.59-1.43-.59-.52 0-1.04.2-1.43.59L10.3 9.45l-7.72 7.72c-.78.78-.78 2.05 0 2.83L4 21.41c.39.39.9.59 1.41.59.51 0 1.02-.2 1.41-.59l7.78-7.78 2.81-2.81c.8-.78.8-2.07 0-2.86zM5.41 20L4 18.59l7.72-7.72 1.47 1.35L5.41 20z\"/>\n",
              "  </svg>\n",
              "      </button>\n",
              "      \n",
              "  <style>\n",
              "    .colab-df-container {\n",
              "      display:flex;\n",
              "      flex-wrap:wrap;\n",
              "      gap: 12px;\n",
              "    }\n",
              "\n",
              "    .colab-df-convert {\n",
              "      background-color: #E8F0FE;\n",
              "      border: none;\n",
              "      border-radius: 50%;\n",
              "      cursor: pointer;\n",
              "      display: none;\n",
              "      fill: #1967D2;\n",
              "      height: 32px;\n",
              "      padding: 0 0 0 0;\n",
              "      width: 32px;\n",
              "    }\n",
              "\n",
              "    .colab-df-convert:hover {\n",
              "      background-color: #E2EBFA;\n",
              "      box-shadow: 0px 1px 2px rgba(60, 64, 67, 0.3), 0px 1px 3px 1px rgba(60, 64, 67, 0.15);\n",
              "      fill: #174EA6;\n",
              "    }\n",
              "\n",
              "    [theme=dark] .colab-df-convert {\n",
              "      background-color: #3B4455;\n",
              "      fill: #D2E3FC;\n",
              "    }\n",
              "\n",
              "    [theme=dark] .colab-df-convert:hover {\n",
              "      background-color: #434B5C;\n",
              "      box-shadow: 0px 1px 3px 1px rgba(0, 0, 0, 0.15);\n",
              "      filter: drop-shadow(0px 1px 2px rgba(0, 0, 0, 0.3));\n",
              "      fill: #FFFFFF;\n",
              "    }\n",
              "  </style>\n",
              "\n",
              "      <script>\n",
              "        const buttonEl =\n",
              "          document.querySelector('#df-477a0a2c-9a36-4dbd-946d-709ed72ac014 button.colab-df-convert');\n",
              "        buttonEl.style.display =\n",
              "          google.colab.kernel.accessAllowed ? 'block' : 'none';\n",
              "\n",
              "        async function convertToInteractive(key) {\n",
              "          const element = document.querySelector('#df-477a0a2c-9a36-4dbd-946d-709ed72ac014');\n",
              "          const dataTable =\n",
              "            await google.colab.kernel.invokeFunction('convertToInteractive',\n",
              "                                                     [key], {});\n",
              "          if (!dataTable) return;\n",
              "\n",
              "          const docLinkHtml = 'Like what you see? Visit the ' +\n",
              "            '<a target=\"_blank\" href=https://colab.research.google.com/notebooks/data_table.ipynb>data table notebook</a>'\n",
              "            + ' to learn more about interactive tables.';\n",
              "          element.innerHTML = '';\n",
              "          dataTable['output_type'] = 'display_data';\n",
              "          await google.colab.output.renderOutput(dataTable, element);\n",
              "          const docLink = document.createElement('div');\n",
              "          docLink.innerHTML = docLinkHtml;\n",
              "          element.appendChild(docLink);\n",
              "        }\n",
              "      </script>\n",
              "    </div>\n",
              "  </div>\n",
              "  "
            ]
          },
          "metadata": {},
          "execution_count": 28
        }
      ]
    },
    {
      "cell_type": "markdown",
      "source": [
        "### Electre III\n",
        "\n",
        "Foi escolho o método do Electre III, pois o intuito era realizar um ranking dos melhores notebooks, com base em pseudos critérios, levando em consideração os pesos para cada critério estabelecido. Esse método ainda tem a vantagem das relações de discordância e concordância serem estabelecidos pelo decisor (comprador final no nosso caso) e ainda revelam o grau de rigor dessas relações.\n",
        "\n",
        "Os pesos e limiares de concordância (p), discordância(q), veto (v) e os pesos (w) foram geradas através de discussões com o usuário final, com o intuito de satisfazer os interesses deste.\n"
      ],
      "metadata": {
        "id": "nlfJPHwU2ZrE"
      }
    },
    {
      "cell_type": "code",
      "source": [
        "ds_pesos = pd.read_excel(\"/content/dados.xlsx\", 1)\n",
        "W = np.array(ds_pesos.iloc[ 0: 1,1:])[0].tolist()\n",
        "Q = np.array(ds_pesos.iloc[ 1: 2,1:])[0].tolist()\n",
        "P = np.array(ds_pesos.iloc[-2:-1,1:])[0].tolist()\n",
        "V = np.array(ds_pesos.iloc[-1:  ,1:])[0].tolist()\n",
        "\n",
        "print(f\"w: \\n {W}\")\n",
        "print(f\"q: \\n {Q}\")\n",
        "print(f\"p: \\n {P}\")\n",
        "print(f\"v: \\n {V}\")"
      ],
      "metadata": {
        "colab": {
          "base_uri": "https://localhost:8080/"
        },
        "id": "ML5REp16C8Jc",
        "outputId": "cafba037-0bae-4edc-f241-1192540b0528"
      },
      "execution_count": 29,
      "outputs": [
        {
          "output_type": "stream",
          "name": "stdout",
          "text": [
            "w: \n",
            " [2.7, 1.0, 4.0, 3.5, 2.5]\n",
            "q: \n",
            " [2.0, 150.0, 1.0, 1.5, 500.0]\n",
            "p: \n",
            " [4.0, 200.0, 2.0, 2.5, 750.0]\n",
            "v: \n",
            " [8.0, 400.0, 3.0, 3.0, 1500.0]\n"
          ]
        }
      ]
    },
    {
      "cell_type": "markdown",
      "source": [
        "#### Encontrando a solução"
      ],
      "metadata": {
        "id": "_R3-e2ZiB06o"
      }
    },
    {
      "cell_type": "code",
      "source": [
        "global_concordance, credibility, rank_D, rank_A, rank_N, rank_P = electre_iii(ds_list, P = P, Q = Q, V = V, W = W, graph = True)"
      ],
      "metadata": {
        "colab": {
          "base_uri": "https://localhost:8080/",
          "height": 261
        },
        "id": "ltORKf8GDLMD",
        "outputId": "bd120792-428b-4118-8894-bf858cbeded2"
      },
      "execution_count": 30,
      "outputs": [
        {
          "output_type": "display_data",
          "data": {
            "text/plain": [
              "<Figure size 432x288 with 1 Axes>"
            ],
            "image/png": "[encoded data removed]"
          },
          "metadata": {
            "needs_background": "light"
          }
        }
      ]
    },
    {
      "cell_type": "code",
      "source": [
        "global_concordance"
      ],
      "metadata": {
        "colab": {
          "base_uri": "https://localhost:8080/"
        },
        "id": "eHVzuuLbENTU",
        "outputId": "ed7e8ab5-7b75-4bbc-9e32-2863e86a941b"
      },
      "execution_count": 31,
      "outputs": [
        {
          "output_type": "execute_result",
          "data": {
            "text/plain": [
              "array([[1.        , 0.81751825, 0.54744526, 0.25547445, 1.        ,\n",
              "        1.        , 1.        , 1.        , 0.9270073 , 0.80291971],\n",
              "       [1.        , 1.        , 0.72992701, 0.25547445, 1.        ,\n",
              "        1.        , 1.        , 1.        , 0.9270073 , 0.80291971],\n",
              "       [1.        , 1.        , 1.        , 0.52554745, 1.        ,\n",
              "        1.        , 1.        , 1.        , 1.        , 1.        ],\n",
              "       [1.        , 1.        , 0.80291971, 1.        , 1.        ,\n",
              "        1.        , 1.        , 1.        , 1.        , 1.        ],\n",
              "       [0.52554745, 0.52554745, 0.25547445, 0.25547445, 1.        ,\n",
              "        0.52554745, 0.52554745, 0.52554745, 0.45255474, 0.32846715],\n",
              "       [0.81751825, 0.81751825, 0.54744526, 0.25547445, 1.        ,\n",
              "        1.        , 1.        , 1.        , 0.9270073 , 0.62043796],\n",
              "       [0.81751825, 0.81751825, 0.54744526, 0.25547445, 1.        ,\n",
              "        1.        , 1.        , 1.        , 0.9270073 , 0.62043796],\n",
              "       [0.81751825, 0.81751825, 0.54744526, 0.25547445, 1.        ,\n",
              "        1.        , 1.        , 1.        , 0.9270073 , 0.62043796],\n",
              "       [0.81751825, 0.81751825, 0.62043796, 0.32846715, 1.        ,\n",
              "        1.        , 1.        , 1.        , 1.        , 0.62043796],\n",
              "       [0.89489051, 0.81751825, 0.54744526, 0.45255474, 1.        ,\n",
              "        1.        , 1.        , 1.        , 0.9270073 , 1.        ]])"
            ]
          },
          "metadata": {},
          "execution_count": 31
        }
      ]
    },
    {
      "cell_type": "code",
      "source": [
        "credibility"
      ],
      "metadata": {
        "colab": {
          "base_uri": "https://localhost:8080/"
        },
        "id": "Ev5uwo2sEO1A",
        "outputId": "bb0c0bf6-07dc-492d-beab-3092896bf59a"
      },
      "execution_count": 32,
      "outputs": [
        {
          "output_type": "execute_result",
          "data": {
            "text/plain": [
              "array([[0.        , 0.8064    , 0.        , 0.        , 1.        ,\n",
              "        1.        , 1.        , 1.        , 0.9270073 , 0.        ],\n",
              "       [1.        , 0.        , 0.        , 0.        , 1.        ,\n",
              "        1.        , 1.        , 1.        , 0.9270073 , 0.        ],\n",
              "       [1.        , 1.        , 0.        , 0.        , 1.        ,\n",
              "        1.        , 1.        , 1.        , 1.        , 1.        ],\n",
              "       [1.        , 1.        , 0.        , 0.        , 1.        ,\n",
              "        1.        , 1.        , 1.        , 1.        , 1.        ],\n",
              "       [0.        , 0.        , 0.        , 0.        , 0.        ,\n",
              "        0.29538462, 0.10486154, 0.        , 0.        , 0.        ],\n",
              "       [0.        , 0.        , 0.        , 0.        , 1.        ,\n",
              "        0.        , 1.        , 1.        , 0.9270073 , 0.        ],\n",
              "       [0.        , 0.        , 0.        , 0.        , 1.        ,\n",
              "        1.        , 0.        , 1.        , 0.9270073 , 0.        ],\n",
              "       [0.        , 0.        , 0.        , 0.        , 1.        ,\n",
              "        1.        , 1.        , 0.        , 0.9270073 , 0.        ],\n",
              "       [0.        , 0.        , 0.        , 0.        , 1.        ,\n",
              "        1.        , 1.        , 1.        , 0.        , 0.        ],\n",
              "       [0.89489051, 0.        , 0.        , 0.        , 1.        ,\n",
              "        1.        , 1.        , 1.        , 0.9270073 , 0.        ]])"
            ]
          },
          "metadata": {},
          "execution_count": 32
        }
      ]
    },
    {
      "cell_type": "markdown",
      "source": [
        "#### Gerando Resultado Final"
      ],
      "metadata": {
        "id": "bO5A43JsB8ni"
      }
    },
    {
      "cell_type": "code",
      "source": [
        "rank_D_final = []\n",
        "rank = []\n",
        "k = 1\n",
        "for i in range(0, len(rank_D)):\n",
        "    splited = list(rank_D[i].split('; '))\n",
        "    for s in splited:\n",
        "        rank_D_final.append(s)\n",
        "        rank.append(k)\n",
        "    k += 1\n",
        "\n",
        "resultado = pd.DataFrame()\n",
        "resultado[\"Alternativas\"] = rank_D_final\n",
        "resultado[\"Resultado\"] = rank"
      ],
      "metadata": {
        "id": "fssLybfV8RfL"
      },
      "execution_count": 131,
      "outputs": []
    },
    {
      "cell_type": "code",
      "source": [
        "dic = ds.iloc[:, 0:2].set_index(\"Alternativas\")\n",
        "dic.join(resultado.set_index(\"Alternativas\"), on = \"Alternativas\").sort_values(\"Resultado\")"
      ],
      "metadata": {
        "colab": {
          "base_uri": "https://localhost:8080/",
          "height": 394
        },
        "id": "5qO9A3qY_O9d",
        "outputId": "af7037a8-3a54-4d4b-c568-8ae195cdccda"
      },
      "execution_count": 132,
      "outputs": [
        {
          "output_type": "execute_result",
          "data": {
            "text/plain": [
              "                                    Notebook  Resultado\n",
              "Alternativas                                           \n",
              "a3                             AVELL A70 MOB          1\n",
              "a4                             AVELL A65 MOB          1\n",
              "a2                             Avell A70 HYB          2\n",
              "a10                     Notebook Vostro 5510          2\n",
              "a1                             AVELL C62 MOB          3\n",
              "a6            Novo Notebook Inspiron 15 3000          4\n",
              "a7                      Notebook Vostro 3510          4\n",
              "a8            Novo Notebook Inspiron 15 3000          4\n",
              "a9                      Notebook Inspiron 15          4\n",
              "a5                                 ASUS M515          5"
            ],
            "text/html": [
              "\n",
              "  <div id=\"df-3718787e-7aad-4c66-ae7d-f1b7f0a8b3f8\">\n",
              "    <div class=\"colab-df-container\">\n",
              "      <div>\n",
              "<style scoped>\n",
              "    .dataframe tbody tr th:only-of-type {\n",
              "        vertical-align: middle;\n",
              "    }\n",
              "\n",
              "    .dataframe tbody tr th {\n",
              "        vertical-align: top;\n",
              "    }\n",
              "\n",
              "    .dataframe thead th {\n",
              "        text-align: right;\n",
              "    }\n",
              "</style>\n",
              "<table border=\"1\" class=\"dataframe\">\n",
              "  <thead>\n",
              "    <tr style=\"text-align: right;\">\n",
              "      <th></th>\n",
              "      <th>Notebook</th>\n",
              "      <th>Resultado</th>\n",
              "    </tr>\n",
              "    <tr>\n",
              "      <th>Alternativas</th>\n",
              "      <th></th>\n",
              "      <th></th>\n",
              "    </tr>\n",
              "  </thead>\n",
              "  <tbody>\n",
              "    <tr>\n",
              "      <th>a3</th>\n",
              "      <td>AVELL A70 MOB</td>\n",
              "      <td>1</td>\n",
              "    </tr>\n",
              "    <tr>\n",
              "      <th>a4</th>\n",
              "      <td>AVELL A65 MOB</td>\n",
              "      <td>1</td>\n",
              "    </tr>\n",
              "    <tr>\n",
              "      <th>a2</th>\n",
              "      <td>Avell A70 HYB</td>\n",
              "      <td>2</td>\n",
              "    </tr>\n",
              "    <tr>\n",
              "      <th>a10</th>\n",
              "      <td>Notebook Vostro 5510</td>\n",
              "      <td>2</td>\n",
              "    </tr>\n",
              "    <tr>\n",
              "      <th>a1</th>\n",
              "      <td>AVELL C62 MOB</td>\n",
              "      <td>3</td>\n",
              "    </tr>\n",
              "    <tr>\n",
              "      <th>a6</th>\n",
              "      <td>Novo Notebook Inspiron 15 3000</td>\n",
              "      <td>4</td>\n",
              "    </tr>\n",
              "    <tr>\n",
              "      <th>a7</th>\n",
              "      <td>Notebook Vostro 3510</td>\n",
              "      <td>4</td>\n",
              "    </tr>\n",
              "    <tr>\n",
              "      <th>a8</th>\n",
              "      <td>Novo Notebook Inspiron 15 3000</td>\n",
              "      <td>4</td>\n",
              "    </tr>\n",
              "    <tr>\n",
              "      <th>a9</th>\n",
              "      <td>Notebook Inspiron 15</td>\n",
              "      <td>4</td>\n",
              "    </tr>\n",
              "    <tr>\n",
              "      <th>a5</th>\n",
              "      <td>ASUS M515</td>\n",
              "      <td>5</td>\n",
              "    </tr>\n",
              "  </tbody>\n",
              "</table>\n",
              "</div>\n",
              "      <button class=\"colab-df-convert\" onclick=\"convertToInteractive('df-3718787e-7aad-4c66-ae7d-f1b7f0a8b3f8')\"\n",
              "              title=\"Convert this dataframe to an interactive table.\"\n",
              "              style=\"display:none;\">\n",
              "        \n",
              "  <svg xmlns=\"http://www.w3.org/2000/svg\" height=\"24px\"viewBox=\"0 0 24 24\"\n",
              "       width=\"24px\">\n",
              "    <path d=\"M0 0h24v24H0V0z\" fill=\"none\"/>\n",
              "    <path d=\"M18.56 5.44l.94 2.06.94-2.06 2.06-.94-2.06-.94-.94-2.06-.94 2.06-2.06.94zm-11 1L8.5 8.5l.94-2.06 2.06-.94-2.06-.94L8.5 2.5l-.94 2.06-2.06.94zm10 10l.94 2.06.94-2.06 2.06-.94-2.06-.94-.94-2.06-.94 2.06-2.06.94z\"/><path d=\"M17.41 7.96l-1.37-1.37c-.4-.4-.92-.59-1.43-.59-.52 0-1.04.2-1.43.59L10.3 9.45l-7.72 7.72c-.78.78-.78 2.05 0 2.83L4 21.41c.39.39.9.59 1.41.59.51 0 1.02-.2 1.41-.59l7.78-7.78 2.81-2.81c.8-.78.8-2.07 0-2.86zM5.41 20L4 18.59l7.72-7.72 1.47 1.35L5.41 20z\"/>\n",
              "  </svg>\n",
              "      </button>\n",
              "      \n",
              "  <style>\n",
              "    .colab-df-container {\n",
              "      display:flex;\n",
              "      flex-wrap:wrap;\n",
              "      gap: 12px;\n",
              "    }\n",
              "\n",
              "    .colab-df-convert {\n",
              "      background-color: #E8F0FE;\n",
              "      border: none;\n",
              "      border-radius: 50%;\n",
              "      cursor: pointer;\n",
              "      display: none;\n",
              "      fill: #1967D2;\n",
              "      height: 32px;\n",
              "      padding: 0 0 0 0;\n",
              "      width: 32px;\n",
              "    }\n",
              "\n",
              "    .colab-df-convert:hover {\n",
              "      background-color: #E2EBFA;\n",
              "      box-shadow: 0px 1px 2px rgba(60, 64, 67, 0.3), 0px 1px 3px 1px rgba(60, 64, 67, 0.15);\n",
              "      fill: #174EA6;\n",
              "    }\n",
              "\n",
              "    [theme=dark] .colab-df-convert {\n",
              "      background-color: #3B4455;\n",
              "      fill: #D2E3FC;\n",
              "    }\n",
              "\n",
              "    [theme=dark] .colab-df-convert:hover {\n",
              "      background-color: #434B5C;\n",
              "      box-shadow: 0px 1px 3px 1px rgba(0, 0, 0, 0.15);\n",
              "      filter: drop-shadow(0px 1px 2px rgba(0, 0, 0, 0.3));\n",
              "      fill: #FFFFFF;\n",
              "    }\n",
              "  </style>\n",
              "\n",
              "      <script>\n",
              "        const buttonEl =\n",
              "          document.querySelector('#df-3718787e-7aad-4c66-ae7d-f1b7f0a8b3f8 button.colab-df-convert');\n",
              "        buttonEl.style.display =\n",
              "          google.colab.kernel.accessAllowed ? 'block' : 'none';\n",
              "\n",
              "        async function convertToInteractive(key) {\n",
              "          const element = document.querySelector('#df-3718787e-7aad-4c66-ae7d-f1b7f0a8b3f8');\n",
              "          const dataTable =\n",
              "            await google.colab.kernel.invokeFunction('convertToInteractive',\n",
              "                                                     [key], {});\n",
              "          if (!dataTable) return;\n",
              "\n",
              "          const docLinkHtml = 'Like what you see? Visit the ' +\n",
              "            '<a target=\"_blank\" href=https://colab.research.google.com/notebooks/data_table.ipynb>data table notebook</a>'\n",
              "            + ' to learn more about interactive tables.';\n",
              "          element.innerHTML = '';\n",
              "          dataTable['output_type'] = 'display_data';\n",
              "          await google.colab.output.renderOutput(dataTable, element);\n",
              "          const docLink = document.createElement('div');\n",
              "          docLink.innerHTML = docLinkHtml;\n",
              "          element.appendChild(docLink);\n",
              "        }\n",
              "      </script>\n",
              "    </div>\n",
              "  </div>\n",
              "  "
            ]
          },
          "metadata": {},
          "execution_count": 132
        }
      ]
    }
  ]
}