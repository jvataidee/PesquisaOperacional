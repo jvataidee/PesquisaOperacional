{
  "nbformat": 4,
  "nbformat_minor": 0,
  "metadata": {
    "colab": {
      "name": "otimização_caraga_caminhão.ipynb",
      "provenance": [],
      "include_colab_link": true
    },
    "kernelspec": {
      "name": "python3",
      "display_name": "Python 3"
    }
  },
  "cells": [
    {
      "cell_type": "markdown",
      "metadata": {
        "id": "view-in-github",
        "colab_type": "text"
      },
      "source": [
        "<a href=\"https://colab.research.google.com/github/jvataidee/PesquisaOperacional/blob/master/otimiza%C3%A7%C3%A3o_caraga_caminh%C3%A3o.ipynb\" target=\"_parent\"><img src=\"https://colab.research.google.com/assets/colab-badge.svg\" alt=\"Open In Colab\"/></a>"
      ]
    },
    {
      "cell_type": "markdown",
      "metadata": {
        "id": "3ttm_UoU_fbC"
      },
      "source": [
        "\r\n",
        "<p align=\"center\"><img src=\"https://static.wixstatic.com/media/bdd7cb_6ecb6c85550043f090237e5943d2647c~mv2.png/v1/fill/w_417,h_88,al_c,q_85,usm_0.66_1.00_0.01/Ativo%2023-8.webp\" height=\"75px\"></p>\r\n",
        "\r\n",
        "**by: [João Ataíde](https://www.joaoataide.com)**\r\n",
        "# **Otimização da Carga de um caminhão**\r\n",
        "\r\n",
        "\r\n",
        "---\r\n",
        "\r\n",
        "\r\n",
        "<p align=\"center\"><img src=\"https://static.wixstatic.com/media/bdd7cb_c37cf789f470415781495054582faa05~mv2.jpg\"></p>\r\n",
        "\r\n",
        "\r\n"
      ]
    },
    {
      "cell_type": "code",
      "metadata": {
        "id": "9SipqIz5_qVl",
        "colab": {
          "base_uri": "https://localhost:8080/"
        },
        "outputId": "52b45e59-7422-4c80-b8cc-9076af0a6736"
      },
      "source": [
        "!pip install deap -q"
      ],
      "execution_count": 1,
      "outputs": [
        {
          "output_type": "stream",
          "text": [
            "\u001b[?25l\r\u001b[K     |██                              | 10kB 18.8MB/s eta 0:00:01\r\u001b[K     |████▏                           | 20kB 23.7MB/s eta 0:00:01\r\u001b[K     |██████▎                         | 30kB 25.9MB/s eta 0:00:01\r\u001b[K     |████████▍                       | 40kB 16.8MB/s eta 0:00:01\r\u001b[K     |██████████▍                     | 51kB 18.5MB/s eta 0:00:01\r\u001b[K     |████████████▌                   | 61kB 13.9MB/s eta 0:00:01\r\u001b[K     |██████████████▋                 | 71kB 15.2MB/s eta 0:00:01\r\u001b[K     |████████████████▊               | 81kB 16.4MB/s eta 0:00:01\r\u001b[K     |██████████████████▊             | 92kB 15.2MB/s eta 0:00:01\r\u001b[K     |████████████████████▉           | 102kB 14.3MB/s eta 0:00:01\r\u001b[K     |███████████████████████         | 112kB 14.3MB/s eta 0:00:01\r\u001b[K     |█████████████████████████       | 122kB 14.3MB/s eta 0:00:01\r\u001b[K     |███████████████████████████▏    | 133kB 14.3MB/s eta 0:00:01\r\u001b[K     |█████████████████████████████▏  | 143kB 14.3MB/s eta 0:00:01\r\u001b[K     |███████████████████████████████▎| 153kB 14.3MB/s eta 0:00:01\r\u001b[K     |████████████████████████████████| 163kB 14.3MB/s \n",
            "\u001b[?25h"
          ],
          "name": "stdout"
        }
      ]
    },
    {
      "cell_type": "code",
      "metadata": {
        "id": "qPY_LOpn_ecO"
      },
      "source": [
        "import numpy as np\r\n",
        "import random\r\n",
        "import pandas as pd\r\n",
        "from deap import base, creator, algorithms, tools\r\n",
        "import matplotlib.pyplot as plt\r\n",
        "import seaborn as sns\r\n",
        "\r\n",
        "#configurações de gráficos\r\n",
        "%matplotlib inline\r\n",
        "%config InlineBackend.figure_format = 'svg'"
      ],
      "execution_count": 51,
      "outputs": []
    },
    {
      "cell_type": "markdown",
      "metadata": {
        "id": "CbFZHS9DH8kG"
      },
      "source": [
        "## Importando os dados"
      ]
    },
    {
      "cell_type": "markdown",
      "metadata": {
        "id": "_Eb15axFjjo7"
      },
      "source": [
        ""
      ]
    },
    {
      "cell_type": "code",
      "metadata": {
        "id": "hlTOpuhdHRGN"
      },
      "source": [
        "!pip install kaggle -q"
      ],
      "execution_count": 3,
      "outputs": []
    },
    {
      "cell_type": "code",
      "metadata": {
        "id": "lDj-ssmKBLhG"
      },
      "source": [
        "from google.colab import files\r\n",
        "files.upload()"
      ],
      "execution_count": null,
      "outputs": []
    },
    {
      "cell_type": "code",
      "metadata": {
        "id": "DFNZfYZ1HWwK"
      },
      "source": [
        "!mkdir -p ~/.kaggle\r\n",
        "!cp kaggle.json ~/.kaggle/\r\n",
        "!chmod 600 ~/.kaggle/kaggle.json"
      ],
      "execution_count": 5,
      "outputs": []
    },
    {
      "cell_type": "code",
      "metadata": {
        "colab": {
          "base_uri": "https://localhost:8080/"
        },
        "id": "jXM-6q_pHYzo",
        "outputId": "0a5f4e32-7d51-4c40-af4f-973dd04e8ba2"
      },
      "source": [
        "!kaggle datasets download -d olistbr/brazilian-ecommerce"
      ],
      "execution_count": 9,
      "outputs": [
        {
          "output_type": "stream",
          "text": [
            "Downloading brazilian-ecommerce.zip to /content\n",
            " 59% 25.0M/42.7M [00:00<00:00, 23.1MB/s]\n",
            "100% 42.7M/42.7M [00:00<00:00, 46.3MB/s]\n"
          ],
          "name": "stdout"
        }
      ]
    },
    {
      "cell_type": "code",
      "metadata": {
        "colab": {
          "base_uri": "https://localhost:8080/"
        },
        "id": "BbzUJEvkHasY",
        "outputId": "dd183173-3654-43e0-a276-e376b0e9806d"
      },
      "source": [
        "!ls"
      ],
      "execution_count": 10,
      "outputs": [
        {
          "output_type": "stream",
          "text": [
            "brazilian-ecommerce.zip  kaggle.json  sample_data\n"
          ],
          "name": "stdout"
        }
      ]
    },
    {
      "cell_type": "code",
      "metadata": {
        "id": "CczDJTQkHcx2"
      },
      "source": [
        "import zipfile\r\n",
        "zip_ref = zipfile.ZipFile('brazilian-ecommerce.zip', 'r')\r\n",
        "zip_ref.extractall('files')\r\n",
        "zip_ref.close()"
      ],
      "execution_count": 11,
      "outputs": []
    },
    {
      "cell_type": "code",
      "metadata": {
        "id": "XxmhXYvNHzT3"
      },
      "source": [
        "df_items = pd.read_csv('/content/files/olist_order_items_dataset.csv')\r\n",
        "df_produto = pd.read_csv('/content/files/olist_products_dataset.csv')"
      ],
      "execution_count": 17,
      "outputs": []
    },
    {
      "cell_type": "code",
      "metadata": {
        "colab": {
          "base_uri": "https://localhost:8080/",
          "height": 233
        },
        "id": "DqA0njSwIToJ",
        "outputId": "16dd812e-bb89-4fdd-8f0d-59f10d3ded26"
      },
      "source": [
        "print(df_items.shape)\r\n",
        "df_items.head()"
      ],
      "execution_count": 13,
      "outputs": [
        {
          "output_type": "stream",
          "text": [
            "(112650, 7)\n"
          ],
          "name": "stdout"
        },
        {
          "output_type": "execute_result",
          "data": {
            "text/html": [
              "<div>\n",
              "<style scoped>\n",
              "    .dataframe tbody tr th:only-of-type {\n",
              "        vertical-align: middle;\n",
              "    }\n",
              "\n",
              "    .dataframe tbody tr th {\n",
              "        vertical-align: top;\n",
              "    }\n",
              "\n",
              "    .dataframe thead th {\n",
              "        text-align: right;\n",
              "    }\n",
              "</style>\n",
              "<table border=\"1\" class=\"dataframe\">\n",
              "  <thead>\n",
              "    <tr style=\"text-align: right;\">\n",
              "      <th></th>\n",
              "      <th>order_id</th>\n",
              "      <th>order_item_id</th>\n",
              "      <th>product_id</th>\n",
              "      <th>seller_id</th>\n",
              "      <th>shipping_limit_date</th>\n",
              "      <th>price</th>\n",
              "      <th>freight_value</th>\n",
              "    </tr>\n",
              "  </thead>\n",
              "  <tbody>\n",
              "    <tr>\n",
              "      <th>0</th>\n",
              "      <td>00010242fe8c5a6d1ba2dd792cb16214</td>\n",
              "      <td>1</td>\n",
              "      <td>4244733e06e7ecb4970a6e2683c13e61</td>\n",
              "      <td>48436dade18ac8b2bce089ec2a041202</td>\n",
              "      <td>2017-09-19 09:45:35</td>\n",
              "      <td>58.90</td>\n",
              "      <td>13.29</td>\n",
              "    </tr>\n",
              "    <tr>\n",
              "      <th>1</th>\n",
              "      <td>00018f77f2f0320c557190d7a144bdd3</td>\n",
              "      <td>1</td>\n",
              "      <td>e5f2d52b802189ee658865ca93d83a8f</td>\n",
              "      <td>dd7ddc04e1b6c2c614352b383efe2d36</td>\n",
              "      <td>2017-05-03 11:05:13</td>\n",
              "      <td>239.90</td>\n",
              "      <td>19.93</td>\n",
              "    </tr>\n",
              "    <tr>\n",
              "      <th>2</th>\n",
              "      <td>000229ec398224ef6ca0657da4fc703e</td>\n",
              "      <td>1</td>\n",
              "      <td>c777355d18b72b67abbeef9df44fd0fd</td>\n",
              "      <td>5b51032eddd242adc84c38acab88f23d</td>\n",
              "      <td>2018-01-18 14:48:30</td>\n",
              "      <td>199.00</td>\n",
              "      <td>17.87</td>\n",
              "    </tr>\n",
              "    <tr>\n",
              "      <th>3</th>\n",
              "      <td>00024acbcdf0a6daa1e931b038114c75</td>\n",
              "      <td>1</td>\n",
              "      <td>7634da152a4610f1595efa32f14722fc</td>\n",
              "      <td>9d7a1d34a5052409006425275ba1c2b4</td>\n",
              "      <td>2018-08-15 10:10:18</td>\n",
              "      <td>12.99</td>\n",
              "      <td>12.79</td>\n",
              "    </tr>\n",
              "    <tr>\n",
              "      <th>4</th>\n",
              "      <td>00042b26cf59d7ce69dfabb4e55b4fd9</td>\n",
              "      <td>1</td>\n",
              "      <td>ac6c3623068f30de03045865e4e10089</td>\n",
              "      <td>df560393f3a51e74553ab94004ba5c87</td>\n",
              "      <td>2017-02-13 13:57:51</td>\n",
              "      <td>199.90</td>\n",
              "      <td>18.14</td>\n",
              "    </tr>\n",
              "  </tbody>\n",
              "</table>\n",
              "</div>"
            ],
            "text/plain": [
              "                           order_id  order_item_id  ...   price freight_value\n",
              "0  00010242fe8c5a6d1ba2dd792cb16214              1  ...   58.90         13.29\n",
              "1  00018f77f2f0320c557190d7a144bdd3              1  ...  239.90         19.93\n",
              "2  000229ec398224ef6ca0657da4fc703e              1  ...  199.00         17.87\n",
              "3  00024acbcdf0a6daa1e931b038114c75              1  ...   12.99         12.79\n",
              "4  00042b26cf59d7ce69dfabb4e55b4fd9              1  ...  199.90         18.14\n",
              "\n",
              "[5 rows x 7 columns]"
            ]
          },
          "metadata": {
            "tags": []
          },
          "execution_count": 13
        }
      ]
    },
    {
      "cell_type": "code",
      "metadata": {
        "colab": {
          "base_uri": "https://localhost:8080/",
          "height": 213
        },
        "id": "RviMx3ejIavg",
        "outputId": "4fa2770d-b7a5-401e-ec49-a8307aabf038"
      },
      "source": [
        "print(df_produto.shape)\r\n",
        "df_produto.head()"
      ],
      "execution_count": 15,
      "outputs": [
        {
          "output_type": "stream",
          "text": [
            "(32951, 6)\n"
          ],
          "name": "stdout"
        },
        {
          "output_type": "execute_result",
          "data": {
            "text/html": [
              "<div>\n",
              "<style scoped>\n",
              "    .dataframe tbody tr th:only-of-type {\n",
              "        vertical-align: middle;\n",
              "    }\n",
              "\n",
              "    .dataframe tbody tr th {\n",
              "        vertical-align: top;\n",
              "    }\n",
              "\n",
              "    .dataframe thead th {\n",
              "        text-align: right;\n",
              "    }\n",
              "</style>\n",
              "<table border=\"1\" class=\"dataframe\">\n",
              "  <thead>\n",
              "    <tr style=\"text-align: right;\">\n",
              "      <th></th>\n",
              "      <th>product_id</th>\n",
              "      <th>product_category_name</th>\n",
              "      <th>product_weight_g</th>\n",
              "      <th>product_length_cm</th>\n",
              "      <th>product_height_cm</th>\n",
              "      <th>product_width_cm</th>\n",
              "    </tr>\n",
              "  </thead>\n",
              "  <tbody>\n",
              "    <tr>\n",
              "      <th>0</th>\n",
              "      <td>1e9e8ef04dbcff4541ed26657ea517e5</td>\n",
              "      <td>perfumaria</td>\n",
              "      <td>225.0</td>\n",
              "      <td>16.0</td>\n",
              "      <td>10.0</td>\n",
              "      <td>14.0</td>\n",
              "    </tr>\n",
              "    <tr>\n",
              "      <th>1</th>\n",
              "      <td>3aa071139cb16b67ca9e5dea641aaa2f</td>\n",
              "      <td>artes</td>\n",
              "      <td>1000.0</td>\n",
              "      <td>30.0</td>\n",
              "      <td>18.0</td>\n",
              "      <td>20.0</td>\n",
              "    </tr>\n",
              "    <tr>\n",
              "      <th>2</th>\n",
              "      <td>96bd76ec8810374ed1b65e291975717f</td>\n",
              "      <td>esporte_lazer</td>\n",
              "      <td>154.0</td>\n",
              "      <td>18.0</td>\n",
              "      <td>9.0</td>\n",
              "      <td>15.0</td>\n",
              "    </tr>\n",
              "    <tr>\n",
              "      <th>3</th>\n",
              "      <td>cef67bcfe19066a932b7673e239eb23d</td>\n",
              "      <td>bebes</td>\n",
              "      <td>371.0</td>\n",
              "      <td>26.0</td>\n",
              "      <td>4.0</td>\n",
              "      <td>26.0</td>\n",
              "    </tr>\n",
              "    <tr>\n",
              "      <th>4</th>\n",
              "      <td>9dc1a7de274444849c219cff195d0b71</td>\n",
              "      <td>utilidades_domesticas</td>\n",
              "      <td>625.0</td>\n",
              "      <td>20.0</td>\n",
              "      <td>17.0</td>\n",
              "      <td>13.0</td>\n",
              "    </tr>\n",
              "  </tbody>\n",
              "</table>\n",
              "</div>"
            ],
            "text/plain": [
              "                         product_id  ... product_width_cm\n",
              "0  1e9e8ef04dbcff4541ed26657ea517e5  ...             14.0\n",
              "1  3aa071139cb16b67ca9e5dea641aaa2f  ...             20.0\n",
              "2  96bd76ec8810374ed1b65e291975717f  ...             15.0\n",
              "3  cef67bcfe19066a932b7673e239eb23d  ...             26.0\n",
              "4  9dc1a7de274444849c219cff195d0b71  ...             13.0\n",
              "\n",
              "[5 rows x 6 columns]"
            ]
          },
          "metadata": {
            "tags": []
          },
          "execution_count": 15
        }
      ]
    },
    {
      "cell_type": "markdown",
      "metadata": {
        "id": "X7qy4NVajoce"
      },
      "source": [
        "### Prepararo do dataset"
      ]
    },
    {
      "cell_type": "code",
      "metadata": {
        "id": "AQSPy2fJIliS"
      },
      "source": [
        "#Escolher variáleis as necesárias\r\n",
        "df_items = df_items.iloc[:, [2,5,6]]\r\n",
        "df_produto = df_produto.iloc[:, [0,1,5,6,7,8]]"
      ],
      "execution_count": 18,
      "outputs": []
    },
    {
      "cell_type": "code",
      "metadata": {
        "id": "vtV1QFbxJa9f"
      },
      "source": [
        "#Indexar o id do produto\r\n",
        "df_items = df_items.set_index('product_id')\r\n",
        "df_produto = df_produto.set_index('product_id')"
      ],
      "execution_count": 19,
      "outputs": []
    },
    {
      "cell_type": "code",
      "metadata": {
        "id": "bBPusWH_Jh_U"
      },
      "source": [
        " #Realizar um join entre as tabelas\r\n",
        " df = df_items.join(df_produto)"
      ],
      "execution_count": 20,
      "outputs": []
    },
    {
      "cell_type": "code",
      "metadata": {
        "id": "ZeaGGHHOiEqy"
      },
      "source": [
        "#Calcular o volume e preço total de cada produto\r\n",
        "df[\"volume\"] = df[\"product_length_cm\"]*df[\"product_height_cm\"]*df[\"product_width_cm\"]\r\n",
        "df[\"preco\"] =  df[\"price\"]+df[\"freight_value\"]\r\n",
        "df = df.reset_index()"
      ],
      "execution_count": 21,
      "outputs": []
    },
    {
      "cell_type": "code",
      "metadata": {
        "colab": {
          "base_uri": "https://localhost:8080/",
          "height": 195
        },
        "id": "7GtIcblOv_Dp",
        "outputId": "88c86bb6-9da2-4fa1-81bd-8595ac28c1f2"
      },
      "source": [
        "#Escolher dataset final\r\n",
        "produtos = df.iloc[:, [0,3, 4 ,8,9]]\r\n",
        "produtos.head()"
      ],
      "execution_count": 24,
      "outputs": [
        {
          "output_type": "execute_result",
          "data": {
            "text/html": [
              "<div>\n",
              "<style scoped>\n",
              "    .dataframe tbody tr th:only-of-type {\n",
              "        vertical-align: middle;\n",
              "    }\n",
              "\n",
              "    .dataframe tbody tr th {\n",
              "        vertical-align: top;\n",
              "    }\n",
              "\n",
              "    .dataframe thead th {\n",
              "        text-align: right;\n",
              "    }\n",
              "</style>\n",
              "<table border=\"1\" class=\"dataframe\">\n",
              "  <thead>\n",
              "    <tr style=\"text-align: right;\">\n",
              "      <th></th>\n",
              "      <th>product_id</th>\n",
              "      <th>product_category_name</th>\n",
              "      <th>product_weight_g</th>\n",
              "      <th>volume</th>\n",
              "      <th>preco</th>\n",
              "    </tr>\n",
              "  </thead>\n",
              "  <tbody>\n",
              "    <tr>\n",
              "      <th>0</th>\n",
              "      <td>00066f42aeeb9f3007548bb9d3f33c38</td>\n",
              "      <td>perfumaria</td>\n",
              "      <td>300.0</td>\n",
              "      <td>5120.0</td>\n",
              "      <td>120.24</td>\n",
              "    </tr>\n",
              "    <tr>\n",
              "      <th>1</th>\n",
              "      <td>00088930e925c41fd95ebfe695fd2655</td>\n",
              "      <td>automotivo</td>\n",
              "      <td>1225.0</td>\n",
              "      <td>14300.0</td>\n",
              "      <td>143.83</td>\n",
              "    </tr>\n",
              "    <tr>\n",
              "      <th>2</th>\n",
              "      <td>0009406fd7479715e4bef61dd91f2462</td>\n",
              "      <td>cama_mesa_banho</td>\n",
              "      <td>300.0</td>\n",
              "      <td>23625.0</td>\n",
              "      <td>242.10</td>\n",
              "    </tr>\n",
              "    <tr>\n",
              "      <th>3</th>\n",
              "      <td>000b8f95fcb9e0096488278317764d19</td>\n",
              "      <td>utilidades_domesticas</td>\n",
              "      <td>550.0</td>\n",
              "      <td>5472.0</td>\n",
              "      <td>78.50</td>\n",
              "    </tr>\n",
              "    <tr>\n",
              "      <th>4</th>\n",
              "      <td>000b8f95fcb9e0096488278317764d19</td>\n",
              "      <td>utilidades_domesticas</td>\n",
              "      <td>550.0</td>\n",
              "      <td>5472.0</td>\n",
              "      <td>78.50</td>\n",
              "    </tr>\n",
              "  </tbody>\n",
              "</table>\n",
              "</div>"
            ],
            "text/plain": [
              "                         product_id  product_category_name  ...   volume   preco\n",
              "0  00066f42aeeb9f3007548bb9d3f33c38             perfumaria  ...   5120.0  120.24\n",
              "1  00088930e925c41fd95ebfe695fd2655             automotivo  ...  14300.0  143.83\n",
              "2  0009406fd7479715e4bef61dd91f2462        cama_mesa_banho  ...  23625.0  242.10\n",
              "3  000b8f95fcb9e0096488278317764d19  utilidades_domesticas  ...   5472.0   78.50\n",
              "4  000b8f95fcb9e0096488278317764d19  utilidades_domesticas  ...   5472.0   78.50\n",
              "\n",
              "[5 rows x 5 columns]"
            ]
          },
          "metadata": {
            "tags": []
          },
          "execution_count": 24
        }
      ]
    },
    {
      "cell_type": "markdown",
      "metadata": {
        "id": "0Ox8-AQFIfUL"
      },
      "source": [
        "## Criando o Algoritimo Genético"
      ]
    },
    {
      "cell_type": "markdown",
      "metadata": {
        "id": "Rd_p3UEGKB2l"
      },
      "source": [
        "Tipo de caminhão VUC\r\n",
        "<p align=\"center\"><img src=\"http://www.guiadotrc.com.br/figuras/vuc-reforcado.gif?gtgggf\"></p>\r\n",
        "\r\n",
        "\r\n",
        "\r\n",
        "<p align=\"center\"><img src=\"https://www.truckpad.com.br/uploads/2017/01/329981fc-medidas-carrocerias-3.png\"></p>"
      ]
    },
    {
      "cell_type": "code",
      "metadata": {
        "id": "C3s-lNJIJ6R1"
      },
      "source": [
        "#lmimte de espaço no caminhão\r\n",
        "limtie_espacos = 2.2*7.2*3.5*100  #grandeza em centimetros\r\n",
        "limtie_peso = 4e+6   #grandeza em gramas"
      ],
      "execution_count": 25,
      "outputs": []
    },
    {
      "cell_type": "code",
      "metadata": {
        "id": "voGQQBTm_w-m"
      },
      "source": [
        "#Criar Classe do Produto\r\n",
        "class Produto():\r\n",
        "    def __init__(self, nome, pesos, volume, valores):\r\n",
        "        self.nome = nome\r\n",
        "        self.pesos = pesos \r\n",
        "        self.volume = volume\r\n",
        "        self.valor = valor"
      ],
      "execution_count": 26,
      "outputs": []
    },
    {
      "cell_type": "code",
      "metadata": {
        "id": "6qodsgcAvKU8"
      },
      "source": [
        "#Criando listas de produtos\r\n",
        "lista_produtos = []\r\n",
        "\r\n",
        "for i in range(len(produtos)):\r\n",
        "  lista_produtos.append(produtos.loc[i])"
      ],
      "execution_count": 27,
      "outputs": []
    },
    {
      "cell_type": "code",
      "metadata": {
        "id": "7HPHeJJnmpd0"
      },
      "source": [
        "#Transformar em listas\r\n",
        "espacos = list(produtos.volume)\r\n",
        "valores = list(produtos.preco)\r\n",
        "nome = list(produtos.product_id)\r\n",
        "pesos = list(produtos.product_weight_g)"
      ],
      "execution_count": 28,
      "outputs": []
    },
    {
      "cell_type": "code",
      "metadata": {
        "id": "2JxUNH2-hMrn"
      },
      "source": [
        "#Criar a função de avaliação\r\n",
        "def avaliacao(individual):\r\n",
        "    nota = 0 \r\n",
        "    soma_espacos = 0\r\n",
        "    soma_pesos = 0\r\n",
        "\r\n",
        "    for i in range(len(individual)):\r\n",
        "        if individual[i] == 1:\r\n",
        "            nota += valores[i]\r\n",
        "            soma_espacos += espacos[i]\r\n",
        "            soma_pesos += pesos[i]\r\n",
        "            \r\n",
        "    if soma_espacos > limtie_espacos and soma_pesos > limtie_peso:\r\n",
        "      nota = 1\r\n",
        "\r\n",
        "    return nota / 100000, "
      ],
      "execution_count": 55,
      "outputs": []
    },
    {
      "cell_type": "code",
      "metadata": {
        "id": "LzRdnrDu_9ej",
        "colab": {
          "base_uri": "https://localhost:8080/"
        },
        "outputId": "1bb54d6b-d837-461e-8b93-fb8e252ad8ff"
      },
      "source": [
        "#Criar a toolbox\r\n",
        "toolbox = base.Toolbox()\r\n",
        "\r\n",
        "#Criando parâmetros na toolbox\r\n",
        "creator.create(\"FitnessMax\",  base.Fitness, weights = (1.0, ))\r\n",
        "creator.create(\"Individual\", list, fitness = creator.FitnessMax)\r\n",
        "\r\n",
        "#Registrando na toolbox\r\n",
        "toolbox.register(\"attr_bool\", random.randint, 0, 1)\r\n",
        "toolbox.register(\"individual\", tools.initRepeat, creator.Individual, toolbox.attr_bool, n = len(espacos))\r\n",
        "toolbox.register(\"population\", tools.initRepeat, list, toolbox.individual)\r\n",
        "toolbox.register(\"evaluate\", avaliacao)\r\n",
        "toolbox.register(\"mate\", tools.cxOnePoint)\r\n",
        "toolbox.register(\"mutate\", tools.mutFlipBit, indpb = 0.05)\r\n",
        "toolbox.register(\"select\", tools.selRoulette)"
      ],
      "execution_count": 56,
      "outputs": [
        {
          "output_type": "stream",
          "text": [
            "/usr/local/lib/python3.6/dist-packages/deap/creator.py:141: RuntimeWarning: A class named 'FitnessMax' has already been created and it will be overwritten. Consider deleting previous creation of that class or rename it.\n",
            "  RuntimeWarning)\n",
            "/usr/local/lib/python3.6/dist-packages/deap/creator.py:141: RuntimeWarning: A class named 'Individual' has already been created and it will be overwritten. Consider deleting previous creation of that class or rename it.\n",
            "  RuntimeWarning)\n"
          ],
          "name": "stderr"
        }
      ]
    },
    {
      "cell_type": "code",
      "metadata": {
        "id": "XJkScplGASPx",
        "colab": {
          "base_uri": "https://localhost:8080/"
        },
        "outputId": "603caf29-ef36-4b67-fc26-74b16a58d0a8"
      },
      "source": [
        "#Iniciando a toolbox\r\n",
        "if __name__ == \"__main__\":\r\n",
        "    population = toolbox.population(n = 25)\r\n",
        "    probabilidade_crossover = 1.0\r\n",
        "    probabilidade_mutação = 0.03\r\n",
        "    numero_gerações = 250\r\n",
        "    \r\n",
        "    estatisticas = tools.Statistics( key = lambda individuo: individuo.fitness.values)\r\n",
        "    estatisticas.register(\"max\", np.max)\r\n",
        "    estatisticas.register(\"min\", np.min)\r\n",
        "    estatisticas.register(\"med\", np.mean)\r\n",
        "    estatisticas.register(\"std\", np.std)\r\n",
        "    \r\n",
        "    populacao, info = algorithms.eaSimple(population, toolbox, \r\n",
        "                                          probabilidade_crossover, \r\n",
        "                                          probabilidade_mutação,\r\n",
        "                                          numero_gerações, estatisticas)"
      ],
      "execution_count": 57,
      "outputs": [
        {
          "output_type": "stream",
          "text": [
            "gen\tnevals\tmax    \tmin    \tmed    \tstd     \n",
            "0  \t25    \t80.3878\t78.0438\t79.1699\t0.516753\n",
            "1  \t24    \t80.1144\t78.5871\t79.2337\t0.41648 \n",
            "2  \t24    \t79.9282\t78.821 \t79.3563\t0.322705\n",
            "3  \t24    \t79.9282\t78.8435\t79.4091\t0.257722\n",
            "4  \t24    \t79.9282\t78.888 \t79.4596\t0.25615 \n",
            "5  \t24    \t79.9282\t78.8723\t79.4809\t0.276792\n",
            "6  \t24    \t80.1378\t78.7719\t79.461 \t0.317274\n",
            "7  \t24    \t79.8564\t78.8716\t79.415 \t0.226667\n",
            "8  \t24    \t79.8564\t79.1114\t79.438 \t0.213661\n",
            "9  \t25    \t79.8344\t78.9333\t79.4405\t0.257347\n",
            "10 \t24    \t79.8564\t78.9126\t79.4413\t0.262833\n",
            "11 \t25    \t79.8368\t79.0511\t79.5124\t0.22287 \n",
            "12 \t24    \t79.9557\t79.1433\t79.5859\t0.241531\n",
            "13 \t24    \t79.9557\t79.0139\t79.5685\t0.253126\n",
            "14 \t24    \t80.0619\t79.3216\t79.6645\t0.168721\n",
            "15 \t24    \t80.0341\t79.3606\t79.7036\t0.187608\n",
            "16 \t24    \t80.0911\t79.2914\t79.7225\t0.187802\n",
            "17 \t24    \t80.1624\t79.4987\t79.7697\t0.217102\n",
            "18 \t24    \t80.145 \t79.3205\t79.7369\t0.259192\n",
            "19 \t24    \t80.1762\t79.3205\t79.6995\t0.249571\n",
            "20 \t24    \t80.0266\t79.4209\t79.705 \t0.181059\n",
            "21 \t24    \t79.9844\t79.3868\t79.6818\t0.161746\n",
            "22 \t24    \t80.0486\t79.4255\t79.6973\t0.173524\n",
            "23 \t24    \t80.1624\t79.196 \t79.68  \t0.214683\n",
            "24 \t24    \t80.067 \t79.2258\t79.6735\t0.224819\n",
            "25 \t24    \t80.1256\t79.1626\t79.7204\t0.21773 \n",
            "26 \t24    \t80.1256\t79.0951\t79.6943\t0.254096\n",
            "27 \t24    \t80.1311\t79.2119\t79.6339\t0.266191\n",
            "28 \t24    \t80.0781\t79.227 \t79.594 \t0.279372\n",
            "29 \t24    \t80.0781\t79.0833\t79.6408\t0.288293\n",
            "30 \t24    \t80.0781\t79.0833\t79.6671\t0.322898\n",
            "31 \t24    \t80.0679\t79.0833\t79.5684\t0.291643\n",
            "32 \t24    \t80.0679\t79.2621\t79.6254\t0.263617\n",
            "33 \t24    \t80.0573\t79.073 \t79.5303\t0.238528\n",
            "34 \t24    \t80.0573\t79.1827\t79.5216\t0.228439\n",
            "35 \t24    \t79.9276\t79.0396\t79.4043\t0.187045\n",
            "36 \t24    \t79.8302\t79.0018\t79.3886\t0.181145\n",
            "37 \t24    \t79.8302\t79.097 \t79.3664\t0.149405\n",
            "38 \t24    \t79.8444\t78.788 \t79.3744\t0.199284\n",
            "39 \t24    \t79.5998\t78.8995\t79.4068\t0.151224\n",
            "40 \t24    \t79.7233\t78.9965\t79.3442\t0.178746\n",
            "41 \t24    \t79.6092\t78.9965\t79.3452\t0.148875\n",
            "42 \t24    \t79.525 \t79.0785\t79.2803\t0.125798\n",
            "43 \t24    \t79.431 \t79.0815\t79.2758\t0.102214\n",
            "44 \t24    \t79.4849\t79.0887\t79.2782\t0.115174\n",
            "45 \t24    \t79.4497\t79.0756\t79.2758\t0.113711\n",
            "46 \t24    \t79.4161\t79.075 \t79.2486\t0.107752\n",
            "47 \t24    \t79.4887\t79.0733\t79.2547\t0.117773\n",
            "48 \t24    \t79.5346\t78.9997\t79.247 \t0.118033\n",
            "49 \t24    \t79.5488\t79.0879\t79.2619\t0.119719\n",
            "50 \t24    \t79.4664\t79.0651\t79.2762\t0.103025\n",
            "51 \t24    \t79.4917\t79.0973\t79.2883\t0.0990294\n",
            "52 \t24    \t79.4736\t79.0834\t79.2946\t0.101693 \n",
            "53 \t24    \t79.5131\t79.0794\t79.2709\t0.110882 \n",
            "54 \t24    \t79.5374\t79.1424\t79.3159\t0.113226 \n",
            "55 \t24    \t79.6521\t79.0937\t79.3077\t0.127533 \n",
            "56 \t24    \t79.4959\t79.1845\t79.3425\t0.0922313\n",
            "57 \t24    \t79.548 \t79.1693\t79.3561\t0.11257  \n",
            "58 \t24    \t79.5325\t79.1051\t79.3332\t0.0975611\n",
            "59 \t24    \t79.5906\t79.1051\t79.3534\t0.115509 \n",
            "60 \t24    \t79.6655\t79.1465\t79.3697\t0.141301 \n",
            "61 \t24    \t79.5749\t79.0193\t79.3801\t0.127408 \n",
            "62 \t24    \t79.6679\t79.1927\t79.4084\t0.11151  \n",
            "63 \t24    \t79.6067\t79.0801\t79.3857\t0.128058 \n",
            "64 \t24    \t79.6035\t79.145 \t79.4143\t0.138807 \n",
            "65 \t24    \t79.5867\t79.1478\t79.4124\t0.126279 \n",
            "66 \t24    \t79.7097\t79.1716\t79.4167\t0.134859 \n",
            "67 \t24    \t79.6848\t78.9927\t79.4217\t0.139726 \n",
            "68 \t24    \t79.6848\t79.0438\t79.4502\t0.14997  \n",
            "69 \t24    \t79.6911\t79.0968\t79.4443\t0.130059 \n",
            "70 \t24    \t79.7024\t79.2168\t79.4362\t0.139417 \n",
            "71 \t24    \t79.6838\t79.0836\t79.4237\t0.154524 \n",
            "72 \t24    \t79.6148\t79.1637\t79.435 \t0.123765 \n",
            "73 \t24    \t79.6241\t79.0966\t79.4433\t0.142867 \n",
            "74 \t24    \t79.6148\t79.1017\t79.4268\t0.142179 \n",
            "75 \t24    \t79.5937\t79.0297\t79.4202\t0.137598 \n",
            "76 \t24    \t79.5937\t79.1859\t79.4309\t0.110154 \n",
            "77 \t24    \t79.5594\t79.1546\t79.4241\t0.133731 \n",
            "78 \t25    \t79.5704\t79.1384\t79.4583\t0.103077 \n",
            "79 \t24    \t79.5661\t79.125 \t79.4687\t0.103759 \n",
            "80 \t25    \t79.6747\t79.0385\t79.4538\t0.151033 \n",
            "81 \t24    \t79.7488\t78.9976\t79.4386\t0.179638 \n",
            "82 \t24    \t79.7419\t78.9976\t79.4107\t0.176091 \n",
            "83 \t24    \t79.7225\t78.9845\t79.3738\t0.195479 \n",
            "84 \t24    \t79.7739\t78.953 \t79.3396\t0.211599 \n",
            "85 \t24    \t79.7989\t78.9225\t79.381 \t0.205787 \n",
            "86 \t24    \t79.8078\t78.9592\t79.4574\t0.182665 \n",
            "87 \t24    \t79.7716\t79.2566\t79.4942\t0.129495 \n",
            "88 \t24    \t79.803 \t79.2366\t79.5063\t0.13659  \n",
            "89 \t24    \t79.8092\t79.2347\t79.4989\t0.132532 \n",
            "90 \t24    \t79.7689\t79.2516\t79.4917\t0.125919 \n",
            "91 \t24    \t79.7689\t79.2764\t79.4941\t0.115594 \n",
            "92 \t24    \t79.8869\t79.1713\t79.516 \t0.154458 \n",
            "93 \t24    \t79.8869\t79.2791\t79.5174\t0.155263 \n",
            "94 \t24    \t79.8047\t79.1831\t79.5263\t0.16543  \n",
            "95 \t24    \t79.9072\t79.1831\t79.4993\t0.1784   \n",
            "96 \t24    \t79.7752\t79.2401\t79.5327\t0.111544 \n",
            "97 \t24    \t79.7496\t79.3802\t79.5857\t0.0841091\n",
            "98 \t24    \t79.76  \t79.2229\t79.564 \t0.130761 \n",
            "99 \t24    \t79.76  \t79.2703\t79.5898\t0.114866 \n",
            "100\t24    \t79.8064\t79.4344\t79.6126\t0.0880248\n",
            "101\t24    \t79.776 \t79.4344\t79.6276\t0.0907782\n",
            "102\t24    \t79.8504\t79.3615\t79.6236\t0.105187 \n",
            "103\t24    \t79.8504\t79.4021\t79.6418\t0.104392 \n",
            "104\t24    \t79.847 \t79.4459\t79.6555\t0.105567 \n",
            "105\t24    \t79.9338\t79.3135\t79.6372\t0.132496 \n",
            "106\t24    \t79.9338\t79.5091\t79.6897\t0.122838 \n",
            "107\t24    \t79.9092\t79.5116\t79.6827\t0.110594 \n",
            "108\t24    \t79.9147\t79.4878\t79.6884\t0.0999599\n",
            "109\t24    \t79.8614\t79.4772\t79.6883\t0.0926983\n",
            "110\t24    \t79.9543\t79.4975\t79.6802\t0.103368 \n",
            "111\t24    \t79.9913\t79.5085\t79.6991\t0.102732 \n",
            "112\t24    \t79.9181\t79.5019\t79.7175\t0.107306 \n",
            "113\t25    \t80.0294\t79.2714\t79.7392\t0.14453  \n",
            "114\t24    \t80.047 \t79.3428\t79.7098\t0.168086 \n",
            "115\t24    \t80.0248\t79.445 \t79.7373\t0.142367 \n",
            "116\t24    \t79.945 \t79.5392\t79.7575\t0.119157 \n",
            "117\t24    \t80.0017\t79.5357\t79.7778\t0.120584 \n",
            "118\t24    \t79.9692\t79.5357\t79.723 \t0.123176 \n",
            "119\t24    \t79.945 \t79.5722\t79.7722\t0.10237  \n",
            "120\t24    \t79.9837\t79.5655\t79.7958\t0.121046 \n",
            "121\t25    \t79.9856\t79.5668\t79.8063\t0.121983 \n",
            "122\t24    \t79.9856\t79.5724\t79.7975\t0.122054 \n",
            "123\t24    \t79.9977\t79.5689\t79.8066\t0.131588 \n",
            "124\t24    \t80.0782\t79.558 \t79.8077\t0.161892 \n",
            "125\t24    \t80.0601\t79.547 \t79.7542\t0.169275 \n",
            "126\t24    \t80.0406\t79.4975\t79.8032\t0.171057 \n",
            "127\t24    \t80.0416\t79.4393\t79.8185\t0.163199 \n",
            "128\t24    \t80.0389\t79.5519\t79.8291\t0.153455 \n",
            "129\t24    \t80.0421\t79.5866\t79.8321\t0.114488 \n",
            "130\t24    \t80.0703\t79.5782\t79.8257\t0.10727  \n",
            "131\t24    \t79.9835\t79.6303\t79.8236\t0.100355 \n",
            "132\t24    \t79.9404\t79.6119\t79.8156\t0.080082 \n",
            "133\t24    \t79.9753\t79.6542\t79.8303\t0.0960053\n",
            "134\t24    \t80.0419\t79.6119\t79.8496\t0.109271 \n",
            "135\t24    \t80.0695\t79.7416\t79.86  \t0.0740572\n",
            "136\t24    \t80.0792\t79.5989\t79.845 \t0.113217 \n",
            "137\t24    \t79.9987\t79.5219\t79.8108\t0.0987886\n",
            "138\t24    \t79.9397\t79.5337\t79.7981\t0.110015 \n",
            "139\t24    \t80.042 \t79.5625\t79.7973\t0.115144 \n",
            "140\t24    \t79.9938\t79.5529\t79.8171\t0.107896 \n",
            "141\t24    \t79.9802\t79.477 \t79.791 \t0.112093 \n",
            "142\t24    \t80.1123\t79.4938\t79.7727\t0.12394  \n",
            "143\t24    \t80.0457\t79.4249\t79.7673\t0.138513 \n",
            "144\t24    \t80.0457\t79.3954\t79.7614\t0.143404 \n",
            "145\t25    \t80.1163\t79.3954\t79.7448\t0.156614 \n",
            "146\t24    \t80.2215\t79.6083\t79.7791\t0.120239 \n",
            "147\t24    \t79.8919\t79.6083\t79.7598\t0.0679726\n",
            "148\t24    \t79.9495\t79.4925\t79.7539\t0.105101 \n",
            "149\t24    \t80.0553\t79.5849\t79.7509\t0.110102 \n",
            "150\t24    \t79.9364\t79.588 \t79.7512\t0.103567 \n",
            "151\t24    \t79.9373\t79.4955\t79.7545\t0.104219 \n",
            "152\t24    \t79.9196\t79.5549\t79.7477\t0.0967028\n",
            "153\t24    \t79.9527\t79.482 \t79.748 \t0.1077   \n",
            "154\t25    \t80.0247\t79.4625\t79.7302\t0.136515 \n",
            "155\t24    \t80.0871\t79.4047\t79.7301\t0.172908 \n",
            "156\t24    \t80.0159\t79.3296\t79.7276\t0.161233 \n",
            "157\t24    \t79.9075\t79.3939\t79.6955\t0.131271 \n",
            "158\t24    \t79.9807\t79.3913\t79.7085\t0.133143 \n",
            "159\t24    \t80.0908\t79.4517\t79.7281\t0.138882 \n",
            "160\t24    \t79.9659\t79.3331\t79.7155\t0.138999 \n",
            "161\t24    \t79.8963\t79.3651\t79.6901\t0.13462  \n",
            "162\t24    \t80.0145\t79.2536\t79.6562\t0.178726 \n",
            "163\t24    \t80.1737\t79.4102\t79.6511\t0.180502 \n",
            "164\t24    \t80.1176\t79.212 \t79.6478\t0.206973 \n",
            "165\t24    \t80.0345\t79.4399\t79.6807\t0.173823 \n",
            "166\t24    \t80.1247\t79.3463\t79.6788\t0.188408 \n",
            "167\t24    \t80.0296\t79.1721\t79.6376\t0.215086 \n",
            "168\t24    \t80.0167\t79.3479\t79.6239\t0.177475 \n",
            "169\t24    \t79.8893\t79.2674\t79.5799\t0.167219 \n",
            "170\t24    \t80.0727\t79.3285\t79.5931\t0.172561 \n",
            "171\t24    \t79.8852\t79.3184\t79.581 \t0.135685 \n",
            "172\t24    \t79.9054\t79.2939\t79.5527\t0.140072 \n",
            "173\t24    \t79.7684\t79.3059\t79.5251\t0.119556 \n",
            "174\t24    \t79.7112\t79.3285\t79.5329\t0.109221 \n",
            "175\t24    \t79.6686\t79.3518\t79.522 \t0.0867333\n",
            "176\t24    \t79.6543\t79.4072\t79.4984\t0.0668944\n",
            "177\t24    \t79.7233\t79.3734\t79.4941\t0.0816099\n",
            "178\t24    \t79.7062\t79.3734\t79.4972\t0.0825636\n",
            "179\t24    \t79.6107\t79.308 \t79.472 \t0.0711897\n",
            "180\t24    \t79.6202\t79.3102\t79.4573\t0.0792599\n",
            "181\t24    \t79.5838\t79.2751\t79.4529\t0.0850364\n",
            "182\t24    \t79.5994\t78.9629\t79.4215\t0.12926  \n",
            "183\t24    \t79.7281\t79.3222\t79.4449\t0.0880012\n",
            "184\t24    \t79.6467\t79.2291\t79.4471\t0.104089 \n",
            "185\t24    \t79.667 \t79.1954\t79.4431\t0.122522 \n",
            "186\t24    \t79.8746\t79.1997\t79.4511\t0.147564 \n",
            "187\t24    \t79.8746\t79.2538\t79.4674\t0.152855 \n",
            "188\t24    \t79.8746\t79.2188\t79.5109\t0.155752 \n",
            "189\t24    \t79.8783\t79.3711\t79.5448\t0.123532 \n",
            "190\t24    \t79.9388\t79.3771\t79.5501\t0.140859 \n",
            "191\t24    \t79.7946\t79.2565\t79.5548\t0.153549 \n",
            "192\t25    \t79.8008\t78.9578\t79.5323\t0.193029 \n",
            "193\t24    \t79.8197\t79.2385\t79.5524\t0.164448 \n",
            "194\t24    \t79.7277\t79.3522\t79.5665\t0.112738 \n",
            "195\t24    \t79.7579\t79.0557\t79.5074\t0.124095 \n",
            "196\t24    \t79.8221\t79.1172\t79.5063\t0.137322 \n",
            "197\t24    \t79.8267\t79.3401\t79.5291\t0.128909 \n",
            "198\t24    \t79.8236\t79.3401\t79.5133\t0.140247 \n",
            "199\t24    \t79.895 \t79.3342\t79.5418\t0.153916 \n",
            "200\t24    \t79.8227\t79.2771\t79.5051\t0.134542 \n",
            "201\t24    \t79.7846\t79.3704\t79.5132\t0.119407 \n",
            "202\t24    \t79.7904\t79.2826\t79.5065\t0.112155 \n",
            "203\t24    \t79.7585\t79.3184\t79.5361\t0.104569 \n",
            "204\t24    \t79.8532\t79.3184\t79.5011\t0.111307 \n",
            "205\t24    \t79.7244\t79.2528\t79.4959\t0.0972654\n",
            "206\t24    \t79.6704\t79.2405\t79.4752\t0.0995155\n",
            "207\t24    \t79.6704\t79.2405\t79.4713\t0.0993834\n",
            "208\t24    \t79.6076\t79.2777\t79.4751\t0.0921591\n",
            "209\t24    \t79.6597\t79.2261\t79.4667\t0.0946776\n",
            "210\t24    \t79.6728\t79.2585\t79.4961\t0.0742374\n",
            "211\t24    \t79.6119\t79.2969\t79.4831\t0.0774778\n",
            "212\t24    \t79.6907\t79.2858\t79.492 \t0.095472 \n",
            "213\t24    \t79.7417\t79.2306\t79.5096\t0.106946 \n",
            "214\t24    \t79.6781\t79.2306\t79.4979\t0.103924 \n",
            "215\t24    \t79.7083\t79.2379\t79.5092\t0.109779 \n",
            "216\t24    \t79.65  \t79.3441\t79.5083\t0.0734783\n",
            "217\t24    \t79.6589\t79.314 \t79.5036\t0.064598 \n",
            "218\t24    \t79.6589\t79.3316\t79.5171\t0.0771379\n",
            "219\t24    \t79.6227\t79.1556\t79.5011\t0.115658 \n",
            "220\t24    \t79.7075\t79.2129\t79.5187\t0.121263 \n",
            "221\t24    \t79.7178\t79.2289\t79.5199\t0.136087 \n",
            "222\t24    \t79.8125\t78.9117\t79.4683\t0.193608 \n",
            "223\t24    \t79.7571\t79.1426\t79.4352\t0.156026 \n",
            "224\t24    \t79.7077\t79.1879\t79.4224\t0.137813 \n",
            "225\t24    \t79.7077\t79.0493\t79.4228\t0.17577  \n",
            "226\t24    \t79.6664\t78.9451\t79.3286\t0.206735 \n",
            "227\t24    \t79.6221\t78.8374\t79.3398\t0.187672 \n",
            "228\t25    \t79.8171\t78.9311\t79.3671\t0.18739  \n",
            "229\t24    \t79.5361\t79.0684\t79.2912\t0.144691 \n",
            "230\t24    \t79.632 \t78.7655\t79.2878\t0.204939 \n",
            "231\t24    \t79.6254\t78.7641\t79.2735\t0.212198 \n",
            "232\t25    \t79.6551\t78.9545\t79.3171\t0.192724 \n",
            "233\t24    \t79.6976\t79.0199\t79.3752\t0.193492 \n",
            "234\t24    \t79.6872\t79.0199\t79.2879\t0.170629 \n",
            "235\t24    \t79.6872\t78.981 \t79.2679\t0.1656   \n",
            "236\t24    \t79.6978\t78.9657\t79.259 \t0.193367 \n",
            "237\t24    \t79.7032\t79.0333\t79.3387\t0.215737 \n",
            "238\t24    \t79.6978\t79.0341\t79.3339\t0.202995 \n",
            "239\t24    \t79.7157\t79.036 \t79.3641\t0.213311 \n",
            "240\t24    \t79.7157\t79.0341\t79.4157\t0.209733 \n",
            "241\t24    \t79.7227\t78.9839\t79.4184\t0.20462  \n",
            "242\t24    \t79.7277\t79.0047\t79.3954\t0.213531 \n",
            "243\t24    \t79.6417\t79.113 \t79.4175\t0.169995 \n",
            "244\t24    \t79.7282\t78.9009\t79.3617\t0.197585 \n",
            "245\t24    \t79.7999\t78.8986\t79.3657\t0.184723 \n",
            "246\t24    \t79.6296\t79.1375\t79.3319\t0.141353 \n",
            "247\t24    \t79.5409\t79.176 \t79.3117\t0.0997524\n",
            "248\t24    \t79.6429\t79.176 \t79.3303\t0.121251 \n",
            "249\t24    \t79.5848\t79.0954\t79.3186\t0.124103 \n",
            "250\t24    \t79.5848\t79.1084\t79.3024\t0.10374  \n"
          ],
          "name": "stdout"
        }
      ]
    },
    {
      "cell_type": "code",
      "metadata": {
        "colab": {
          "base_uri": "https://localhost:8080/"
        },
        "id": "MtQZmWsukvkn",
        "outputId": "6f5bf7b1-6eaa-438f-9ef1-f03c6c052164"
      },
      "source": [
        "#Identificando o melhor indivíduo\r\n",
        "melhores = tools.selBest(populacao, 1)\r\n",
        "\r\n",
        "for individuo in melhores:\r\n",
        "\r\n",
        "    df_otimizado = []\r\n",
        "    soma = 0\r\n",
        "    indi = 0\r\n",
        "    for i in range (len(lista_produtos)):\r\n",
        "        if individuo[i] == 1:\r\n",
        "            soma += valores[i]\r\n",
        "            indi += individuo[i]\r\n",
        "            df_otimizado.append(lista_produtos[i])\r\n",
        "\r\n",
        "    print(\"---\")\r\n",
        "    print(\"Valor total do Indivíduo: R$\", soma)\r\n",
        "    print(\"Número Indivíduo:\", indi)"
      ],
      "execution_count": 58,
      "outputs": [
        {
          "output_type": "stream",
          "text": [
            "---\n",
            "Valor total do Indivíduo: R$ 7958484.079999713\n",
            "Número Indivíduo: 56361\n"
          ],
          "name": "stdout"
        }
      ]
    },
    {
      "cell_type": "code",
      "metadata": {
        "colab": {
          "base_uri": "https://localhost:8080/",
          "height": 195
        },
        "id": "t2I3RQ6kmITu",
        "outputId": "2517a4a2-567f-45a3-bd1a-8e154d16b42e"
      },
      "source": [
        "df_otimizado = pd.DataFrame(df_otimizado)\r\n",
        "df_otimizado.head()"
      ],
      "execution_count": 59,
      "outputs": [
        {
          "output_type": "execute_result",
          "data": {
            "text/html": [
              "<div>\n",
              "<style scoped>\n",
              "    .dataframe tbody tr th:only-of-type {\n",
              "        vertical-align: middle;\n",
              "    }\n",
              "\n",
              "    .dataframe tbody tr th {\n",
              "        vertical-align: top;\n",
              "    }\n",
              "\n",
              "    .dataframe thead th {\n",
              "        text-align: right;\n",
              "    }\n",
              "</style>\n",
              "<table border=\"1\" class=\"dataframe\">\n",
              "  <thead>\n",
              "    <tr style=\"text-align: right;\">\n",
              "      <th></th>\n",
              "      <th>product_id</th>\n",
              "      <th>product_category_name</th>\n",
              "      <th>product_weight_g</th>\n",
              "      <th>volume</th>\n",
              "      <th>preco</th>\n",
              "    </tr>\n",
              "  </thead>\n",
              "  <tbody>\n",
              "    <tr>\n",
              "      <th>2</th>\n",
              "      <td>0009406fd7479715e4bef61dd91f2462</td>\n",
              "      <td>cama_mesa_banho</td>\n",
              "      <td>300.0</td>\n",
              "      <td>23625.0</td>\n",
              "      <td>242.10</td>\n",
              "    </tr>\n",
              "    <tr>\n",
              "      <th>3</th>\n",
              "      <td>000b8f95fcb9e0096488278317764d19</td>\n",
              "      <td>utilidades_domesticas</td>\n",
              "      <td>550.0</td>\n",
              "      <td>5472.0</td>\n",
              "      <td>78.50</td>\n",
              "    </tr>\n",
              "    <tr>\n",
              "      <th>11</th>\n",
              "      <td>001795ec6f1b187d37335e1c4704762e</td>\n",
              "      <td>consoles_games</td>\n",
              "      <td>600.0</td>\n",
              "      <td>12000.0</td>\n",
              "      <td>48.24</td>\n",
              "    </tr>\n",
              "    <tr>\n",
              "      <th>12</th>\n",
              "      <td>001795ec6f1b187d37335e1c4704762e</td>\n",
              "      <td>consoles_games</td>\n",
              "      <td>600.0</td>\n",
              "      <td>12000.0</td>\n",
              "      <td>55.01</td>\n",
              "    </tr>\n",
              "    <tr>\n",
              "      <th>14</th>\n",
              "      <td>001795ec6f1b187d37335e1c4704762e</td>\n",
              "      <td>consoles_games</td>\n",
              "      <td>600.0</td>\n",
              "      <td>12000.0</td>\n",
              "      <td>48.24</td>\n",
              "    </tr>\n",
              "  </tbody>\n",
              "</table>\n",
              "</div>"
            ],
            "text/plain": [
              "                          product_id  product_category_name  ...   volume   preco\n",
              "2   0009406fd7479715e4bef61dd91f2462        cama_mesa_banho  ...  23625.0  242.10\n",
              "3   000b8f95fcb9e0096488278317764d19  utilidades_domesticas  ...   5472.0   78.50\n",
              "11  001795ec6f1b187d37335e1c4704762e         consoles_games  ...  12000.0   48.24\n",
              "12  001795ec6f1b187d37335e1c4704762e         consoles_games  ...  12000.0   55.01\n",
              "14  001795ec6f1b187d37335e1c4704762e         consoles_games  ...  12000.0   48.24\n",
              "\n",
              "[5 rows x 5 columns]"
            ]
          },
          "metadata": {
            "tags": []
          },
          "execution_count": 59
        }
      ]
    },
    {
      "cell_type": "code",
      "metadata": {
        "id": "PH23egY8AgN0",
        "colab": {
          "base_uri": "https://localhost:8080/",
          "height": 497
        },
        "outputId": "0fc3f374-7946-4ae3-e09d-1a748dde8023"
      },
      "source": [
        "#Plotando o aprendizado\r\n",
        "valores_pop = info.select(\"max\")\r\n",
        "plt.figure(figsize = (12,6))\r\n",
        "plt.plot(valores_pop)\r\n",
        "plt.show()"
      ],
      "execution_count": 60,
      "outputs": [
        {
          "output_type": "display_data",
          "data": {
            "text/plain": [
              "<Figure size 864x432 with 1 Axes>"
            ],
            "image/svg+xml": "<?xml version=\"1.0\" encoding=\"utf-8\" standalone=\"no\"?>\n<!DOCTYPE svg PUBLIC \"-//W3C//DTD SVG 1.1//EN\"\n  \"http://www.w3.org/Graphics/SVG/1.1/DTD/svg11.dtd\">\n<!-- Created with matplotlib (https://matplotlib.org/) -->\n<svg height=\"357.238125pt\" version=\"1.1\" viewBox=\"0 0 713.265625 357.238125\" width=\"713.265625pt\" xmlns=\"http://www.w3.org/2000/svg\" xmlns:xlink=\"http://www.w3.org/1999/xlink\">\n <defs>\n  <style type=\"text/css\">\n*{stroke-linecap:butt;stroke-linejoin:round;}\n  </style>\n </defs>\n <g id=\"figure_1\">\n  <g id=\"patch_1\">\n   <path d=\"M 0 357.238125 \nL 713.265625 357.238125 \nL 713.265625 0 \nL 0 0 \nz\n\" style=\"fill:none;\"/>\n  </g>\n  <g id=\"axes_1\">\n   <g id=\"patch_2\">\n    <path d=\"M 36.465625 333.36 \nL 706.065625 333.36 \nL 706.065625 7.2 \nL 36.465625 7.2 \nz\n\" style=\"fill:#ffffff;\"/>\n   </g>\n   <g id=\"matplotlib.axis_1\">\n    <g id=\"xtick_1\">\n     <g id=\"line2d_1\">\n      <defs>\n       <path d=\"M 0 0 \nL 0 3.5 \n\" id=\"m0c671111ab\" style=\"stroke:#000000;stroke-width:0.8;\"/>\n      </defs>\n      <g>\n       <use style=\"stroke:#000000;stroke-width:0.8;\" x=\"66.901989\" xlink:href=\"#m0c671111ab\" y=\"333.36\"/>\n      </g>\n     </g>\n     <g id=\"text_1\">\n      <!-- 0 -->\n      <defs>\n       <path d=\"M 31.78125 66.40625 \nQ 24.171875 66.40625 20.328125 58.90625 \nQ 16.5 51.421875 16.5 36.375 \nQ 16.5 21.390625 20.328125 13.890625 \nQ 24.171875 6.390625 31.78125 6.390625 \nQ 39.453125 6.390625 43.28125 13.890625 \nQ 47.125 21.390625 47.125 36.375 \nQ 47.125 51.421875 43.28125 58.90625 \nQ 39.453125 66.40625 31.78125 66.40625 \nz\nM 31.78125 74.21875 \nQ 44.046875 74.21875 50.515625 64.515625 \nQ 56.984375 54.828125 56.984375 36.375 \nQ 56.984375 17.96875 50.515625 8.265625 \nQ 44.046875 -1.421875 31.78125 -1.421875 \nQ 19.53125 -1.421875 13.0625 8.265625 \nQ 6.59375 17.96875 6.59375 36.375 \nQ 6.59375 54.828125 13.0625 64.515625 \nQ 19.53125 74.21875 31.78125 74.21875 \nz\n\" id=\"DejaVuSans-48\"/>\n      </defs>\n      <g transform=\"translate(63.720739 347.958438)scale(0.1 -0.1)\">\n       <use xlink:href=\"#DejaVuSans-48\"/>\n      </g>\n     </g>\n    </g>\n    <g id=\"xtick_2\">\n     <g id=\"line2d_2\">\n      <g>\n       <use style=\"stroke:#000000;stroke-width:0.8;\" x=\"188.647443\" xlink:href=\"#m0c671111ab\" y=\"333.36\"/>\n      </g>\n     </g>\n     <g id=\"text_2\">\n      <!-- 50 -->\n      <defs>\n       <path d=\"M 10.796875 72.90625 \nL 49.515625 72.90625 \nL 49.515625 64.59375 \nL 19.828125 64.59375 \nL 19.828125 46.734375 \nQ 21.96875 47.46875 24.109375 47.828125 \nQ 26.265625 48.1875 28.421875 48.1875 \nQ 40.625 48.1875 47.75 41.5 \nQ 54.890625 34.8125 54.890625 23.390625 \nQ 54.890625 11.625 47.5625 5.09375 \nQ 40.234375 -1.421875 26.90625 -1.421875 \nQ 22.3125 -1.421875 17.546875 -0.640625 \nQ 12.796875 0.140625 7.71875 1.703125 \nL 7.71875 11.625 \nQ 12.109375 9.234375 16.796875 8.0625 \nQ 21.484375 6.890625 26.703125 6.890625 \nQ 35.15625 6.890625 40.078125 11.328125 \nQ 45.015625 15.765625 45.015625 23.390625 \nQ 45.015625 31 40.078125 35.4375 \nQ 35.15625 39.890625 26.703125 39.890625 \nQ 22.75 39.890625 18.8125 39.015625 \nQ 14.890625 38.140625 10.796875 36.28125 \nz\n\" id=\"DejaVuSans-53\"/>\n      </defs>\n      <g transform=\"translate(182.284943 347.958438)scale(0.1 -0.1)\">\n       <use xlink:href=\"#DejaVuSans-53\"/>\n       <use x=\"63.623047\" xlink:href=\"#DejaVuSans-48\"/>\n      </g>\n     </g>\n    </g>\n    <g id=\"xtick_3\">\n     <g id=\"line2d_3\">\n      <g>\n       <use style=\"stroke:#000000;stroke-width:0.8;\" x=\"310.392898\" xlink:href=\"#m0c671111ab\" y=\"333.36\"/>\n      </g>\n     </g>\n     <g id=\"text_3\">\n      <!-- 100 -->\n      <defs>\n       <path d=\"M 12.40625 8.296875 \nL 28.515625 8.296875 \nL 28.515625 63.921875 \nL 10.984375 60.40625 \nL 10.984375 69.390625 \nL 28.421875 72.90625 \nL 38.28125 72.90625 \nL 38.28125 8.296875 \nL 54.390625 8.296875 \nL 54.390625 0 \nL 12.40625 0 \nz\n\" id=\"DejaVuSans-49\"/>\n      </defs>\n      <g transform=\"translate(300.849148 347.958438)scale(0.1 -0.1)\">\n       <use xlink:href=\"#DejaVuSans-49\"/>\n       <use x=\"63.623047\" xlink:href=\"#DejaVuSans-48\"/>\n       <use x=\"127.246094\" xlink:href=\"#DejaVuSans-48\"/>\n      </g>\n     </g>\n    </g>\n    <g id=\"xtick_4\">\n     <g id=\"line2d_4\">\n      <g>\n       <use style=\"stroke:#000000;stroke-width:0.8;\" x=\"432.138352\" xlink:href=\"#m0c671111ab\" y=\"333.36\"/>\n      </g>\n     </g>\n     <g id=\"text_4\">\n      <!-- 150 -->\n      <g transform=\"translate(422.594602 347.958438)scale(0.1 -0.1)\">\n       <use xlink:href=\"#DejaVuSans-49\"/>\n       <use x=\"63.623047\" xlink:href=\"#DejaVuSans-53\"/>\n       <use x=\"127.246094\" xlink:href=\"#DejaVuSans-48\"/>\n      </g>\n     </g>\n    </g>\n    <g id=\"xtick_5\">\n     <g id=\"line2d_5\">\n      <g>\n       <use style=\"stroke:#000000;stroke-width:0.8;\" x=\"553.883807\" xlink:href=\"#m0c671111ab\" y=\"333.36\"/>\n      </g>\n     </g>\n     <g id=\"text_5\">\n      <!-- 200 -->\n      <defs>\n       <path d=\"M 19.1875 8.296875 \nL 53.609375 8.296875 \nL 53.609375 0 \nL 7.328125 0 \nL 7.328125 8.296875 \nQ 12.9375 14.109375 22.625 23.890625 \nQ 32.328125 33.6875 34.8125 36.53125 \nQ 39.546875 41.84375 41.421875 45.53125 \nQ 43.3125 49.21875 43.3125 52.78125 \nQ 43.3125 58.59375 39.234375 62.25 \nQ 35.15625 65.921875 28.609375 65.921875 \nQ 23.96875 65.921875 18.8125 64.3125 \nQ 13.671875 62.703125 7.8125 59.421875 \nL 7.8125 69.390625 \nQ 13.765625 71.78125 18.9375 73 \nQ 24.125 74.21875 28.421875 74.21875 \nQ 39.75 74.21875 46.484375 68.546875 \nQ 53.21875 62.890625 53.21875 53.421875 \nQ 53.21875 48.921875 51.53125 44.890625 \nQ 49.859375 40.875 45.40625 35.40625 \nQ 44.1875 33.984375 37.640625 27.21875 \nQ 31.109375 20.453125 19.1875 8.296875 \nz\n\" id=\"DejaVuSans-50\"/>\n      </defs>\n      <g transform=\"translate(544.340057 347.958438)scale(0.1 -0.1)\">\n       <use xlink:href=\"#DejaVuSans-50\"/>\n       <use x=\"63.623047\" xlink:href=\"#DejaVuSans-48\"/>\n       <use x=\"127.246094\" xlink:href=\"#DejaVuSans-48\"/>\n      </g>\n     </g>\n    </g>\n    <g id=\"xtick_6\">\n     <g id=\"line2d_6\">\n      <g>\n       <use style=\"stroke:#000000;stroke-width:0.8;\" x=\"675.629261\" xlink:href=\"#m0c671111ab\" y=\"333.36\"/>\n      </g>\n     </g>\n     <g id=\"text_6\">\n      <!-- 250 -->\n      <g transform=\"translate(666.085511 347.958438)scale(0.1 -0.1)\">\n       <use xlink:href=\"#DejaVuSans-50\"/>\n       <use x=\"63.623047\" xlink:href=\"#DejaVuSans-53\"/>\n       <use x=\"127.246094\" xlink:href=\"#DejaVuSans-48\"/>\n      </g>\n     </g>\n    </g>\n   </g>\n   <g id=\"matplotlib.axis_2\">\n    <g id=\"ytick_1\">\n     <g id=\"line2d_7\">\n      <defs>\n       <path d=\"M 0 0 \nL -3.5 0 \n\" id=\"m93f75d5dda\" style=\"stroke:#000000;stroke-width:0.8;\"/>\n      </defs>\n      <g>\n       <use style=\"stroke:#000000;stroke-width:0.8;\" x=\"36.465625\" xlink:href=\"#m93f75d5dda\" y=\"323.433897\"/>\n      </g>\n     </g>\n     <g id=\"text_7\">\n      <!-- 79.4 -->\n      <defs>\n       <path d=\"M 8.203125 72.90625 \nL 55.078125 72.90625 \nL 55.078125 68.703125 \nL 28.609375 0 \nL 18.3125 0 \nL 43.21875 64.59375 \nL 8.203125 64.59375 \nz\n\" id=\"DejaVuSans-55\"/>\n       <path d=\"M 10.984375 1.515625 \nL 10.984375 10.5 \nQ 14.703125 8.734375 18.5 7.8125 \nQ 22.3125 6.890625 25.984375 6.890625 \nQ 35.75 6.890625 40.890625 13.453125 \nQ 46.046875 20.015625 46.78125 33.40625 \nQ 43.953125 29.203125 39.59375 26.953125 \nQ 35.25 24.703125 29.984375 24.703125 \nQ 19.046875 24.703125 12.671875 31.3125 \nQ 6.296875 37.9375 6.296875 49.421875 \nQ 6.296875 60.640625 12.9375 67.421875 \nQ 19.578125 74.21875 30.609375 74.21875 \nQ 43.265625 74.21875 49.921875 64.515625 \nQ 56.59375 54.828125 56.59375 36.375 \nQ 56.59375 19.140625 48.40625 8.859375 \nQ 40.234375 -1.421875 26.421875 -1.421875 \nQ 22.703125 -1.421875 18.890625 -0.6875 \nQ 15.09375 0.046875 10.984375 1.515625 \nz\nM 30.609375 32.421875 \nQ 37.25 32.421875 41.125 36.953125 \nQ 45.015625 41.5 45.015625 49.421875 \nQ 45.015625 57.28125 41.125 61.84375 \nQ 37.25 66.40625 30.609375 66.40625 \nQ 23.96875 66.40625 20.09375 61.84375 \nQ 16.21875 57.28125 16.21875 49.421875 \nQ 16.21875 41.5 20.09375 36.953125 \nQ 23.96875 32.421875 30.609375 32.421875 \nz\n\" id=\"DejaVuSans-57\"/>\n       <path d=\"M 10.6875 12.40625 \nL 21 12.40625 \nL 21 0 \nL 10.6875 0 \nz\n\" id=\"DejaVuSans-46\"/>\n       <path d=\"M 37.796875 64.3125 \nL 12.890625 25.390625 \nL 37.796875 25.390625 \nz\nM 35.203125 72.90625 \nL 47.609375 72.90625 \nL 47.609375 25.390625 \nL 58.015625 25.390625 \nL 58.015625 17.1875 \nL 47.609375 17.1875 \nL 47.609375 0 \nL 37.796875 0 \nL 37.796875 17.1875 \nL 4.890625 17.1875 \nL 4.890625 26.703125 \nz\n\" id=\"DejaVuSans-52\"/>\n      </defs>\n      <g transform=\"translate(7.2 327.233116)scale(0.1 -0.1)\">\n       <use xlink:href=\"#DejaVuSans-55\"/>\n       <use x=\"63.623047\" xlink:href=\"#DejaVuSans-57\"/>\n       <use x=\"127.246094\" xlink:href=\"#DejaVuSans-46\"/>\n       <use x=\"159.033203\" xlink:href=\"#DejaVuSans-52\"/>\n      </g>\n     </g>\n    </g>\n    <g id=\"ytick_2\">\n     <g id=\"line2d_8\">\n      <g>\n       <use style=\"stroke:#000000;stroke-width:0.8;\" x=\"36.465625\" xlink:href=\"#m93f75d5dda\" y=\"262.409783\"/>\n      </g>\n     </g>\n     <g id=\"text_8\">\n      <!-- 79.6 -->\n      <defs>\n       <path d=\"M 33.015625 40.375 \nQ 26.375 40.375 22.484375 35.828125 \nQ 18.609375 31.296875 18.609375 23.390625 \nQ 18.609375 15.53125 22.484375 10.953125 \nQ 26.375 6.390625 33.015625 6.390625 \nQ 39.65625 6.390625 43.53125 10.953125 \nQ 47.40625 15.53125 47.40625 23.390625 \nQ 47.40625 31.296875 43.53125 35.828125 \nQ 39.65625 40.375 33.015625 40.375 \nz\nM 52.59375 71.296875 \nL 52.59375 62.3125 \nQ 48.875 64.0625 45.09375 64.984375 \nQ 41.3125 65.921875 37.59375 65.921875 \nQ 27.828125 65.921875 22.671875 59.328125 \nQ 17.53125 52.734375 16.796875 39.40625 \nQ 19.671875 43.65625 24.015625 45.921875 \nQ 28.375 48.1875 33.59375 48.1875 \nQ 44.578125 48.1875 50.953125 41.515625 \nQ 57.328125 34.859375 57.328125 23.390625 \nQ 57.328125 12.15625 50.6875 5.359375 \nQ 44.046875 -1.421875 33.015625 -1.421875 \nQ 20.359375 -1.421875 13.671875 8.265625 \nQ 6.984375 17.96875 6.984375 36.375 \nQ 6.984375 53.65625 15.1875 63.9375 \nQ 23.390625 74.21875 37.203125 74.21875 \nQ 40.921875 74.21875 44.703125 73.484375 \nQ 48.484375 72.75 52.59375 71.296875 \nz\n\" id=\"DejaVuSans-54\"/>\n      </defs>\n      <g transform=\"translate(7.2 266.209002)scale(0.1 -0.1)\">\n       <use xlink:href=\"#DejaVuSans-55\"/>\n       <use x=\"63.623047\" xlink:href=\"#DejaVuSans-57\"/>\n       <use x=\"127.246094\" xlink:href=\"#DejaVuSans-46\"/>\n       <use x=\"159.033203\" xlink:href=\"#DejaVuSans-54\"/>\n      </g>\n     </g>\n    </g>\n    <g id=\"ytick_3\">\n     <g id=\"line2d_9\">\n      <g>\n       <use style=\"stroke:#000000;stroke-width:0.8;\" x=\"36.465625\" xlink:href=\"#m93f75d5dda\" y=\"201.385669\"/>\n      </g>\n     </g>\n     <g id=\"text_9\">\n      <!-- 79.8 -->\n      <defs>\n       <path d=\"M 31.78125 34.625 \nQ 24.75 34.625 20.71875 30.859375 \nQ 16.703125 27.09375 16.703125 20.515625 \nQ 16.703125 13.921875 20.71875 10.15625 \nQ 24.75 6.390625 31.78125 6.390625 \nQ 38.8125 6.390625 42.859375 10.171875 \nQ 46.921875 13.96875 46.921875 20.515625 \nQ 46.921875 27.09375 42.890625 30.859375 \nQ 38.875 34.625 31.78125 34.625 \nz\nM 21.921875 38.8125 \nQ 15.578125 40.375 12.03125 44.71875 \nQ 8.5 49.078125 8.5 55.328125 \nQ 8.5 64.0625 14.71875 69.140625 \nQ 20.953125 74.21875 31.78125 74.21875 \nQ 42.671875 74.21875 48.875 69.140625 \nQ 55.078125 64.0625 55.078125 55.328125 \nQ 55.078125 49.078125 51.53125 44.71875 \nQ 48 40.375 41.703125 38.8125 \nQ 48.828125 37.15625 52.796875 32.3125 \nQ 56.78125 27.484375 56.78125 20.515625 \nQ 56.78125 9.90625 50.3125 4.234375 \nQ 43.84375 -1.421875 31.78125 -1.421875 \nQ 19.734375 -1.421875 13.25 4.234375 \nQ 6.78125 9.90625 6.78125 20.515625 \nQ 6.78125 27.484375 10.78125 32.3125 \nQ 14.796875 37.15625 21.921875 38.8125 \nz\nM 18.3125 54.390625 \nQ 18.3125 48.734375 21.84375 45.5625 \nQ 25.390625 42.390625 31.78125 42.390625 \nQ 38.140625 42.390625 41.71875 45.5625 \nQ 45.3125 48.734375 45.3125 54.390625 \nQ 45.3125 60.0625 41.71875 63.234375 \nQ 38.140625 66.40625 31.78125 66.40625 \nQ 25.390625 66.40625 21.84375 63.234375 \nQ 18.3125 60.0625 18.3125 54.390625 \nz\n\" id=\"DejaVuSans-56\"/>\n      </defs>\n      <g transform=\"translate(7.2 205.184888)scale(0.1 -0.1)\">\n       <use xlink:href=\"#DejaVuSans-55\"/>\n       <use x=\"63.623047\" xlink:href=\"#DejaVuSans-57\"/>\n       <use x=\"127.246094\" xlink:href=\"#DejaVuSans-46\"/>\n       <use x=\"159.033203\" xlink:href=\"#DejaVuSans-56\"/>\n      </g>\n     </g>\n    </g>\n    <g id=\"ytick_4\">\n     <g id=\"line2d_10\">\n      <g>\n       <use style=\"stroke:#000000;stroke-width:0.8;\" x=\"36.465625\" xlink:href=\"#m93f75d5dda\" y=\"140.361555\"/>\n      </g>\n     </g>\n     <g id=\"text_10\">\n      <!-- 80.0 -->\n      <g transform=\"translate(7.2 144.160774)scale(0.1 -0.1)\">\n       <use xlink:href=\"#DejaVuSans-56\"/>\n       <use x=\"63.623047\" xlink:href=\"#DejaVuSans-48\"/>\n       <use x=\"127.246094\" xlink:href=\"#DejaVuSans-46\"/>\n       <use x=\"159.033203\" xlink:href=\"#DejaVuSans-48\"/>\n      </g>\n     </g>\n    </g>\n    <g id=\"ytick_5\">\n     <g id=\"line2d_11\">\n      <g>\n       <use style=\"stroke:#000000;stroke-width:0.8;\" x=\"36.465625\" xlink:href=\"#m93f75d5dda\" y=\"79.337441\"/>\n      </g>\n     </g>\n     <g id=\"text_11\">\n      <!-- 80.2 -->\n      <g transform=\"translate(7.2 83.13666)scale(0.1 -0.1)\">\n       <use xlink:href=\"#DejaVuSans-56\"/>\n       <use x=\"63.623047\" xlink:href=\"#DejaVuSans-48\"/>\n       <use x=\"127.246094\" xlink:href=\"#DejaVuSans-46\"/>\n       <use x=\"159.033203\" xlink:href=\"#DejaVuSans-50\"/>\n      </g>\n     </g>\n    </g>\n    <g id=\"ytick_6\">\n     <g id=\"line2d_12\">\n      <g>\n       <use style=\"stroke:#000000;stroke-width:0.8;\" x=\"36.465625\" xlink:href=\"#m93f75d5dda\" y=\"18.313327\"/>\n      </g>\n     </g>\n     <g id=\"text_12\">\n      <!-- 80.4 -->\n      <g transform=\"translate(7.2 22.112546)scale(0.1 -0.1)\">\n       <use xlink:href=\"#DejaVuSans-56\"/>\n       <use x=\"63.623047\" xlink:href=\"#DejaVuSans-48\"/>\n       <use x=\"127.246094\" xlink:href=\"#DejaVuSans-46\"/>\n       <use x=\"159.033203\" xlink:href=\"#DejaVuSans-52\"/>\n      </g>\n     </g>\n    </g>\n   </g>\n   <g id=\"line2d_13\">\n    <path clip-path=\"url(#p7f868ff8e5)\" d=\"M 66.901989 22.025455 \nL 69.336898 105.454084 \nL 71.771807 162.276535 \nL 79.076534 162.276535 \nL 81.511443 98.306482 \nL 83.946352 184.178608 \nL 86.381261 184.178608 \nL 88.81617 190.899316 \nL 91.25108 184.178608 \nL 93.685989 190.158971 \nL 96.120898 153.879556 \nL 98.555807 153.879556 \nL 100.990716 121.467513 \nL 103.425625 129.969332 \nL 105.860534 112.576879 \nL 108.295443 90.810554 \nL 110.730352 96.123344 \nL 113.165261 86.597419 \nL 115.60017 132.257492 \nL 118.03508 145.11573 \nL 120.469989 125.530132 \nL 122.904898 90.810554 \nL 125.339807 119.926776 \nL 127.774716 102.024925 \nL 130.209625 102.024925 \nL 132.644534 100.375199 \nL 135.079443 116.527733 \nL 139.949261 116.527733 \nL 142.38417 119.654304 \nL 144.81908 119.654304 \nL 147.253989 122.884768 \nL 149.688898 122.884768 \nL 152.123807 162.442643 \nL 154.558716 192.170936 \nL 156.993625 192.170936 \nL 159.428534 187.840391 \nL 161.863443 262.477947 \nL 164.298352 224.773801 \nL 166.733261 259.615489 \nL 169.16817 285.297701 \nL 171.60308 313.99008 \nL 174.037989 297.519885 \nL 178.907807 318.534545 \nL 181.342716 296.363234 \nL 183.777625 282.355057 \nL 186.212534 278.033451 \nL 188.647443 303.177461 \nL 191.082352 295.46087 \nL 193.517261 300.980959 \nL 195.95217 288.932816 \nL 198.38708 281.514907 \nL 200.821989 246.525359 \nL 203.256898 294.176709 \nL 205.691807 278.273795 \nL 208.126716 282.992942 \nL 210.561625 265.278954 \nL 212.996534 242.416758 \nL 215.431443 270.071238 \nL 217.866352 241.696337 \nL 220.301261 260.355955 \nL 222.73617 261.333013 \nL 225.17108 266.46926 \nL 227.605989 228.928537 \nL 230.040898 236.543126 \nL 232.475807 236.543126 \nL 234.910716 234.622209 \nL 237.345625 231.175445 \nL 239.780534 236.837811 \nL 242.215443 257.886432 \nL 244.650352 255.070809 \nL 247.085261 257.886432 \nL 249.52017 264.331097 \nL 251.95508 264.324445 \nL 254.389989 274.78468 \nL 256.824898 271.426676 \nL 259.259807 272.753645 \nL 261.694716 239.614317 \nL 264.129625 216.994264 \nL 266.564534 219.124342 \nL 268.999443 225.029493 \nL 271.434352 209.339247 \nL 273.869261 201.724475 \nL 276.30417 199.003501 \nL 278.73908 210.041085 \nL 281.173989 200.475708 \nL 283.608898 198.581794 \nL 286.043807 210.862805 \nL 288.478716 210.862805 \nL 290.913625 174.860439 \nL 293.348534 174.860439 \nL 295.783443 199.960939 \nL 298.218352 168.678239 \nL 300.653261 208.938715 \nL 303.08817 216.763532 \nL 305.52308 213.59037 \nL 307.957989 213.59037 \nL 310.392898 199.432074 \nL 312.827807 208.706152 \nL 315.262716 186.008081 \nL 317.697625 186.008081 \nL 320.132534 187.038808 \nL 322.567443 160.556936 \nL 325.002352 160.556936 \nL 327.437261 168.064031 \nL 329.87217 166.376379 \nL 332.30708 182.651907 \nL 334.741989 154.309288 \nL 337.176898 143.024159 \nL 339.611807 165.344858 \nL 342.046716 131.393878 \nL 344.481625 126.021621 \nL 346.916534 132.793863 \nL 349.351443 157.12912 \nL 351.786352 139.855482 \nL 354.221261 149.753075 \nL 356.65617 157.150906 \nL 359.09108 145.331573 \nL 361.525989 144.74864 \nL 363.960898 144.74864 \nL 366.395807 141.067909 \nL 368.830716 116.4924 \nL 371.265625 122.032413 \nL 373.700534 127.973965 \nL 376.135443 127.658318 \nL 378.570352 128.491053 \nL 381.005261 127.51723 \nL 383.44017 118.904775 \nL 385.87508 145.410355 \nL 388.309989 158.541768 \nL 390.744898 147.891687 \nL 393.179807 127.590978 \nL 395.614716 119.163517 \nL 398.049625 116.199027 \nL 400.484534 140.766877 \nL 402.919443 158.771798 \nL 405.354352 127.558055 \nL 407.789261 142.262182 \nL 410.22417 146.411913 \nL 412.65908 106.093616 \nL 415.093989 126.427095 \nL 417.528898 126.427095 \nL 419.963807 104.86276 \nL 422.398716 72.784458 \nL 424.833625 173.33685 \nL 427.268534 155.779969 \nL 429.703443 123.500867 \nL 432.138352 159.762158 \nL 434.573261 159.495056 \nL 437.00817 164.89746 \nL 439.44308 154.801203 \nL 441.877989 132.836183 \nL 444.312898 113.786255 \nL 446.747807 135.51026 \nL 449.182716 168.596406 \nL 451.617625 146.258285 \nL 454.052534 112.644189 \nL 456.487443 150.757959 \nL 458.922352 171.997859 \nL 461.357261 135.947895 \nL 463.79217 87.361319 \nL 466.22708 104.473609 \nL 468.661989 129.829007 \nL 471.096898 102.298283 \nL 473.531807 131.330078 \nL 475.966716 135.25701 \nL 478.401625 174.134954 \nL 480.836534 118.182829 \nL 483.271443 175.396445 \nL 485.706352 169.234443 \nL 488.141261 211.034405 \nL 490.57617 228.492367 \nL 493.01108 241.492853 \nL 495.445989 245.849456 \nL 497.880898 224.774747 \nL 500.315807 230.007107 \nL 502.750716 259.154513 \nL 505.185625 256.244547 \nL 507.620534 267.350661 \nL 510.055443 262.589591 \nL 512.490352 223.312671 \nL 514.925261 248.147898 \nL 517.36017 241.958772 \nL 519.79508 178.614765 \nL 524.664898 178.614765 \nL 527.099807 177.503638 \nL 529.534716 159.035087 \nL 531.969625 203.033747 \nL 534.404534 201.143953 \nL 536.839443 195.378089 \nL 539.274352 223.447717 \nL 541.709261 214.233137 \nL 544.14417 194.641406 \nL 546.57908 193.226806 \nL 549.013989 194.19889 \nL 551.448898 172.398147 \nL 553.883807 194.466023 \nL 556.318716 206.092306 \nL 558.753625 204.315345 \nL 561.188534 214.041857 \nL 563.623443 185.148525 \nL 566.058352 224.456842 \nL 568.493261 240.938601 \nL 570.92817 240.938601 \nL 573.36308 260.076251 \nL 575.797989 244.197533 \nL 578.232898 240.203627 \nL 580.667807 258.773173 \nL 583.102716 234.743982 \nL 585.537625 219.189058 \nL 587.972534 238.58963 \nL 590.407443 229.362266 \nL 592.842352 247.165502 \nL 595.277261 244.449715 \nL 597.71217 244.449715 \nL 600.14708 255.480861 \nL 602.581989 229.599802 \nL 605.016898 226.454345 \nL 607.451807 197.572089 \nL 609.886716 214.468995 \nL 612.321625 229.559892 \nL 614.756534 229.559892 \nL 617.191443 242.137481 \nL 619.626352 255.668754 \nL 622.061261 196.157794 \nL 624.49617 281.894538 \nL 626.93108 252.651112 \nL 629.365989 254.669423 \nL 631.800898 245.60182 \nL 634.235807 232.629619 \nL 636.670716 235.801011 \nL 639.105625 235.801011 \nL 641.540534 232.567069 \nL 643.975443 230.908128 \nL 646.410352 232.567069 \nL 648.845261 227.111086 \nL 651.28017 227.111086 \nL 653.71508 224.964868 \nL 656.149989 223.440669 \nL 658.584898 249.695439 \nL 661.019807 223.290092 \nL 663.454716 201.414594 \nL 665.889625 253.384011 \nL 668.324534 280.437466 \nL 670.759443 249.317914 \nL 673.194352 267.035167 \nL 675.629261 267.035167 \nL 675.629261 267.035167 \n\" style=\"fill:none;stroke:#1f77b4;stroke-linecap:square;stroke-width:1.5;\"/>\n   </g>\n   <g id=\"patch_3\">\n    <path d=\"M 36.465625 333.36 \nL 36.465625 7.2 \n\" style=\"fill:none;stroke:#000000;stroke-linecap:square;stroke-linejoin:miter;stroke-width:0.8;\"/>\n   </g>\n   <g id=\"patch_4\">\n    <path d=\"M 706.065625 333.36 \nL 706.065625 7.2 \n\" style=\"fill:none;stroke:#000000;stroke-linecap:square;stroke-linejoin:miter;stroke-width:0.8;\"/>\n   </g>\n   <g id=\"patch_5\">\n    <path d=\"M 36.465625 333.36 \nL 706.065625 333.36 \n\" style=\"fill:none;stroke:#000000;stroke-linecap:square;stroke-linejoin:miter;stroke-width:0.8;\"/>\n   </g>\n   <g id=\"patch_6\">\n    <path d=\"M 36.465625 7.2 \nL 706.065625 7.2 \n\" style=\"fill:none;stroke:#000000;stroke-linecap:square;stroke-linejoin:miter;stroke-width:0.8;\"/>\n   </g>\n  </g>\n </g>\n <defs>\n  <clipPath id=\"p7f868ff8e5\">\n   <rect height=\"326.16\" width=\"669.6\" x=\"36.465625\" y=\"7.2\"/>\n  </clipPath>\n </defs>\n</svg>\n"
          },
          "metadata": {
            "tags": [],
            "needs_background": "light"
          }
        }
      ]
    }
  ]
}