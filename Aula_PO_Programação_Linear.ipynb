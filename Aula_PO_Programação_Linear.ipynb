{
  "nbformat": 4,
  "nbformat_minor": 0,
  "metadata": {
    "colab": {
      "name": "Aula_PO_Programação Linear.ipynb",
      "provenance": [],
      "collapsed_sections": [],
      "include_colab_link": true
    },
    "kernelspec": {
      "name": "python3",
      "display_name": "Python 3"
    },
    "language_info": {
      "name": "python"
    }
  },
  "cells": [
    {
      "cell_type": "markdown",
      "metadata": {
        "id": "view-in-github",
        "colab_type": "text"
      },
      "source": [
        "<a href=\"https://colab.research.google.com/github/jvataidee/PesquisaOperacional/blob/master/Aula_PO_Programa%C3%A7%C3%A3o_Linear.ipynb\" target=\"_parent\"><img src=\"https://colab.research.google.com/assets/colab-badge.svg\" alt=\"Open In Colab\"/></a>"
      ]
    },
    {
      "cell_type": "markdown",
      "metadata": {
        "id": "ou1H7HjAJZZT"
      },
      "source": [
        "\n",
        "<p align=\"center\"><img src=\"https://static.wixstatic.com/media/bdd7cb_895c8475a6c94dea9f19f4fde8f978a8~mv2.png\" height=\"70px\"><img src=\"https://static.wixstatic.com/media/bdd7cb_ce7cb603d09d4263921dda3fb68a395f~mv2.png\" height=\"70px\"></p>\n",
        "\n",
        "**by: [João Ataíde](https://www.joaoataide.com)**\n",
        "#**Programação Linear**\n",
        "---\n",
        "\n",
        "\n",
        "\n",
        "\n"
      ]
    },
    {
      "cell_type": "code",
      "metadata": {
        "id": "we6Ca19T48GD",
        "outputId": "0221a5fd-b103-4525-e70d-436da6aec65d",
        "colab": {
          "base_uri": "https://localhost:8080/"
        }
      },
      "source": [
        "pip install pyomo -q"
      ],
      "execution_count": 1,
      "outputs": [
        {
          "output_type": "stream",
          "text": [
            "\u001b[K     |████████████████████████████████| 8.9MB 4.9MB/s \n",
            "\u001b[K     |████████████████████████████████| 51kB 6.3MB/s \n",
            "\u001b[?25h"
          ],
          "name": "stdout"
        }
      ]
    },
    {
      "cell_type": "code",
      "metadata": {
        "id": "V_faP0Hf95mK",
        "outputId": "2b10b54d-a668-4048-e96d-5c28740bbb28",
        "colab": {
          "base_uri": "https://localhost:8080/"
        }
      },
      "source": [
        "!apt-get install -y -qq glpk-utils -q"
      ],
      "execution_count": 2,
      "outputs": [
        {
          "output_type": "stream",
          "text": [
            "Selecting previously unselected package libsuitesparseconfig5:amd64.\n",
            "(Reading database ... 160772 files and directories currently installed.)\n",
            "Preparing to unpack .../libsuitesparseconfig5_1%3a5.1.2-2_amd64.deb ...\n",
            "Unpacking libsuitesparseconfig5:amd64 (1:5.1.2-2) ...\n",
            "Selecting previously unselected package libamd2:amd64.\n",
            "Preparing to unpack .../libamd2_1%3a5.1.2-2_amd64.deb ...\n",
            "Unpacking libamd2:amd64 (1:5.1.2-2) ...\n",
            "Selecting previously unselected package libcolamd2:amd64.\n",
            "Preparing to unpack .../libcolamd2_1%3a5.1.2-2_amd64.deb ...\n",
            "Unpacking libcolamd2:amd64 (1:5.1.2-2) ...\n",
            "Selecting previously unselected package libglpk40:amd64.\n",
            "Preparing to unpack .../libglpk40_4.65-1_amd64.deb ...\n",
            "Unpacking libglpk40:amd64 (4.65-1) ...\n",
            "Selecting previously unselected package glpk-utils.\n",
            "Preparing to unpack .../glpk-utils_4.65-1_amd64.deb ...\n",
            "Unpacking glpk-utils (4.65-1) ...\n",
            "Setting up libsuitesparseconfig5:amd64 (1:5.1.2-2) ...\n",
            "Setting up libcolamd2:amd64 (1:5.1.2-2) ...\n",
            "Setting up libamd2:amd64 (1:5.1.2-2) ...\n",
            "Setting up libglpk40:amd64 (4.65-1) ...\n",
            "Setting up glpk-utils (4.65-1) ...\n",
            "Processing triggers for libc-bin (2.27-3ubuntu1.2) ...\n",
            "/sbin/ldconfig.real: /usr/local/lib/python3.7/dist-packages/ideep4py/lib/libmkldnn.so.0 is not a symbolic link\n",
            "\n",
            "Processing triggers for man-db (2.8.3-2ubuntu0.1) ...\n"
          ],
          "name": "stdout"
        }
      ]
    },
    {
      "cell_type": "code",
      "metadata": {
        "id": "RplpKdJCEwaX"
      },
      "source": [
        "#Instalar bibliotes necessárias\n",
        "import pyomo.environ as pyo"
      ],
      "execution_count": 3,
      "outputs": []
    },
    {
      "cell_type": "code",
      "metadata": {
        "id": "2V7uaPLVEzpC"
      },
      "source": [
        "#Dados\n",
        "lucro = [15,10,10,5]\n",
        "\n",
        "custo = [35,30,35,45]\n",
        "lcusto = 250\n",
        "\n",
        "totalp = 10\n",
        "\n",
        "tempo = [0.35,0.5,0.35,0.35]\n",
        "ltempo = 4\n",
        "\n",
        "m = len(lucro)"
      ],
      "execution_count": 23,
      "outputs": []
    },
    {
      "cell_type": "code",
      "metadata": {
        "id": "lPcHR20QH-rB",
        "colab": {
          "base_uri": "https://localhost:8080/"
        },
        "outputId": "fbea23f5-de23-4a66-cca2-1f871e13bff8"
      },
      "source": [
        "# 1 Declaração do modelo\n",
        "model = pyo.ConcreteModel()\n",
        "\n",
        "# 2 Declarar as variáveis de decisão e parâmetros\n",
        "model.I = pyo.RangeSet(m)\n",
        "model.x = pyo.Var(model.I, within=pyo.PositiveIntegers)\n",
        "\n",
        "model.c = pyo.Param(model.I, initialize = lambda model, i: custo[i -1])  #custo\n",
        "model.t = pyo.Param(model.I, initialize = lambda model, i: tempo[i -1])  #tempo\n",
        "model.l = pyo.Param(model.I, initialize = lambda model, i: lucro[i -1])  #lucro\n",
        "\n",
        "# 3 Declarar a função objetivo\n",
        "model.obj = pyo.Objective(expr = sum(model.l[i]*model.x[i] for i in model.I), sense = pyo.maximize)\n",
        "\n",
        "# 4 Declarar as restrições\n",
        "model.c1 = pyo.Constraint(expr = sum(model.c[i]*model.x[i] for i in model.I) <= lcusto)\n",
        "model.c2 = pyo.Constraint(expr = sum(model.x[i] for i in model.I) <= totalp)\n",
        "model.c3 = pyo.Constraint(expr = sum(model.t[i]*model.x[i] for i in model.I) <= ltempo)\n",
        "\n",
        "model.pprint()"
      ],
      "execution_count": 24,
      "outputs": [
        {
          "output_type": "stream",
          "text": [
            "1 RangeSet Declarations\n",
            "    I : Dimen=1, Size=4, Bounds=(1, 4)\n",
            "        Key  : Finite : Members\n",
            "        None :   True :   [1:4]\n",
            "\n",
            "3 Param Declarations\n",
            "    c : Size=4, Index=I, Domain=Any, Default=None, Mutable=False\n",
            "        Key : Value\n",
            "          1 :    35\n",
            "          2 :    30\n",
            "          3 :    35\n",
            "          4 :    45\n",
            "    l : Size=4, Index=I, Domain=Any, Default=None, Mutable=False\n",
            "        Key : Value\n",
            "          1 :    15\n",
            "          2 :    10\n",
            "          3 :    10\n",
            "          4 :     5\n",
            "    t : Size=4, Index=I, Domain=Any, Default=None, Mutable=False\n",
            "        Key : Value\n",
            "          1 :  0.35\n",
            "          2 :   0.5\n",
            "          3 :  0.35\n",
            "          4 :  0.35\n",
            "\n",
            "1 Var Declarations\n",
            "    x : Size=4, Index=I\n",
            "        Key : Lower : Value : Upper : Fixed : Stale : Domain\n",
            "          1 :     1 :  None :  None : False :  True : PositiveIntegers\n",
            "          2 :     1 :  None :  None : False :  True : PositiveIntegers\n",
            "          3 :     1 :  None :  None : False :  True : PositiveIntegers\n",
            "          4 :     1 :  None :  None : False :  True : PositiveIntegers\n",
            "\n",
            "1 Objective Declarations\n",
            "    obj : Size=1, Index=None, Active=True\n",
            "        Key  : Active : Sense    : Expression\n",
            "        None :   True : maximize : 15*x[1] + 10*x[2] + 10*x[3] + 5*x[4]\n",
            "\n",
            "3 Constraint Declarations\n",
            "    c1 : Size=1, Index=None, Active=True\n",
            "        Key  : Lower : Body                                  : Upper : Active\n",
            "        None :  -Inf : 35*x[1] + 30*x[2] + 35*x[3] + 45*x[4] : 250.0 :   True\n",
            "    c2 : Size=1, Index=None, Active=True\n",
            "        Key  : Lower : Body                      : Upper : Active\n",
            "        None :  -Inf : x[1] + x[2] + x[3] + x[4] :  10.0 :   True\n",
            "    c3 : Size=1, Index=None, Active=True\n",
            "        Key  : Lower : Body                                         : Upper : Active\n",
            "        None :  -Inf : 0.35*x[1] + 0.5*x[2] + 0.35*x[3] + 0.35*x[4] :   4.0 :   True\n",
            "\n",
            "9 Declarations: I x c t l obj c1 c2 c3\n"
          ],
          "name": "stdout"
        }
      ]
    },
    {
      "cell_type": "code",
      "metadata": {
        "id": "HNxjWLSOJqv-"
      },
      "source": [
        "#Declarar o Solver\n",
        "solver_glpk = pyo.SolverFactory('glpk', executable='/usr/bin/glpsol')"
      ],
      "execution_count": 25,
      "outputs": []
    },
    {
      "cell_type": "code",
      "metadata": {
        "id": "yF0bEM6Q_P5X"
      },
      "source": [
        "#Resolver o problema com glpk\n",
        "result = solver_glpk.solve(model)"
      ],
      "execution_count": 26,
      "outputs": []
    },
    {
      "cell_type": "code",
      "metadata": {
        "colab": {
          "base_uri": "https://localhost:8080/"
        },
        "id": "lHFTuAsVUt4Z",
        "outputId": "32e45543-193a-4ae8-c5b6-1bd27310a833"
      },
      "source": [
        "print(model.pprint())\n",
        "\n",
        "# Resultado do modelo\n",
        "print(result)\n",
        "print(model.obj())"
      ],
      "execution_count": 27,
      "outputs": [
        {
          "output_type": "stream",
          "text": [
            "1 RangeSet Declarations\n",
            "    I : Dimen=1, Size=4, Bounds=(1, 4)\n",
            "        Key  : Finite : Members\n",
            "        None :   True :   [1:4]\n",
            "\n",
            "3 Param Declarations\n",
            "    c : Size=4, Index=I, Domain=Any, Default=None, Mutable=False\n",
            "        Key : Value\n",
            "          1 :    35\n",
            "          2 :    30\n",
            "          3 :    35\n",
            "          4 :    45\n",
            "    l : Size=4, Index=I, Domain=Any, Default=None, Mutable=False\n",
            "        Key : Value\n",
            "          1 :    15\n",
            "          2 :    10\n",
            "          3 :    10\n",
            "          4 :     5\n",
            "    t : Size=4, Index=I, Domain=Any, Default=None, Mutable=False\n",
            "        Key : Value\n",
            "          1 :  0.35\n",
            "          2 :   0.5\n",
            "          3 :  0.35\n",
            "          4 :  0.35\n",
            "\n",
            "1 Var Declarations\n",
            "    x : Size=4, Index=I\n",
            "        Key : Lower : Value : Upper : Fixed : Stale : Domain\n",
            "          1 :     1 :   4.0 :  None : False : False : PositiveIntegers\n",
            "          2 :     1 :   1.0 :  None : False : False : PositiveIntegers\n",
            "          3 :     1 :   1.0 :  None : False : False : PositiveIntegers\n",
            "          4 :     1 :   1.0 :  None : False : False : PositiveIntegers\n",
            "\n",
            "1 Objective Declarations\n",
            "    obj : Size=1, Index=None, Active=True\n",
            "        Key  : Active : Sense    : Expression\n",
            "        None :   True : maximize : 15*x[1] + 10*x[2] + 10*x[3] + 5*x[4]\n",
            "\n",
            "3 Constraint Declarations\n",
            "    c1 : Size=1, Index=None, Active=True\n",
            "        Key  : Lower : Body                                  : Upper : Active\n",
            "        None :  -Inf : 35*x[1] + 30*x[2] + 35*x[3] + 45*x[4] : 250.0 :   True\n",
            "    c2 : Size=1, Index=None, Active=True\n",
            "        Key  : Lower : Body                      : Upper : Active\n",
            "        None :  -Inf : x[1] + x[2] + x[3] + x[4] :  10.0 :   True\n",
            "    c3 : Size=1, Index=None, Active=True\n",
            "        Key  : Lower : Body                                         : Upper : Active\n",
            "        None :  -Inf : 0.35*x[1] + 0.5*x[2] + 0.35*x[3] + 0.35*x[4] :   4.0 :   True\n",
            "\n",
            "9 Declarations: I x c t l obj c1 c2 c3\n",
            "None\n",
            "\n",
            "Problem: \n",
            "- Name: unknown\n",
            "  Lower bound: 85.0\n",
            "  Upper bound: 85.0\n",
            "  Number of objectives: 1\n",
            "  Number of constraints: 4\n",
            "  Number of variables: 5\n",
            "  Number of nonzeros: 13\n",
            "  Sense: maximize\n",
            "Solver: \n",
            "- Status: ok\n",
            "  Termination condition: optimal\n",
            "  Statistics: \n",
            "    Branch and bound: \n",
            "      Number of bounded subproblems: 1\n",
            "      Number of created subproblems: 1\n",
            "  Error rc: 0\n",
            "  Time: 0.013607501983642578\n",
            "Solution: \n",
            "- number of solutions: 0\n",
            "  number of solutions displayed: 0\n",
            "\n",
            "85.0\n"
          ],
          "name": "stdout"
        }
      ]
    }
  ]
}