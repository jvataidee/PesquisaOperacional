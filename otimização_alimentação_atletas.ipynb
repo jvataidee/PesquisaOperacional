{
  "nbformat": 4,
  "nbformat_minor": 0,
  "metadata": {
    "colab": {
      "name": "otimização_alimentação_atletas.ipynb",
      "provenance": [],
      "authorship_tag": "ABX9TyNyL8KAiDmvMmrTk3mHxeW7",
      "include_colab_link": true
    },
    "kernelspec": {
      "name": "python3",
      "display_name": "Python 3"
    }
  },
  "cells": [
    {
      "cell_type": "markdown",
      "metadata": {
        "id": "view-in-github",
        "colab_type": "text"
      },
      "source": [
        "<a href=\"https://colab.research.google.com/github/jvataidee/PesquisaOperacional/blob/master/otimiza%C3%A7%C3%A3o_alimenta%C3%A7%C3%A3o_atletas.ipynb\" target=\"_parent\"><img src=\"https://colab.research.google.com/assets/colab-badge.svg\" alt=\"Open In Colab\"/></a>"
      ]
    },
    {
      "cell_type": "markdown",
      "metadata": {
        "id": "ixlkx5k0Yr26"
      },
      "source": [
        "\r\n",
        "<p align=\"center\"><img src=\"https://static.wixstatic.com/media/bdd7cb_b9449480f79442d3855b769c449b3908~mv2.png/v1/crop/x_38,y_307,w_2592,h_1668/fill/w_198,h_133,al_c,q_85,usm_0.33_1.00_0.00/Asset%2047.webp\" height=\"100px\"></p>\r\n",
        "\r\n",
        "**by: [João Ataíde](https://www.joaoataide.com)**\r\n",
        "# **Otimização da Carga de um caminhão**\r\n",
        "\r\n",
        "\r\n",
        "---\r\n",
        "\r\n",
        "\r\n",
        "<p align=\"center\"><img src=\"https://static.wixstatic.com/media/bdd7cb_c37cf789f470415781495054582faa05~mv2.jpg\"></p>\r\n"
      ]
    },
    {
      "cell_type": "code",
      "metadata": {
        "id": "WZ1iu5aIWUlu"
      },
      "source": [
        "import pandas as pd\r\n",
        "import matplotlib.pyplot as plt"
      ],
      "execution_count": 1,
      "outputs": []
    },
    {
      "cell_type": "code",
      "metadata": {
        "colab": {
          "base_uri": "https://localhost:8080/",
          "height": 204
        },
        "id": "61XXYLNgW6Iv",
        "outputId": "25622d03-649f-49d3-812b-ccaa4c6011b7"
      },
      "source": [
        "ds = 'https://raw.githubusercontent.com/jvataidee/PesquisaOperacional/master/alimentos.csv'\r\n",
        "data = pd.read_csv(ds)\r\n",
        "data.head()"
      ],
      "execution_count": 4,
      "outputs": [
        {
          "output_type": "execute_result",
          "data": {
            "text/html": [
              "<div>\n",
              "<style scoped>\n",
              "    .dataframe tbody tr th:only-of-type {\n",
              "        vertical-align: middle;\n",
              "    }\n",
              "\n",
              "    .dataframe tbody tr th {\n",
              "        vertical-align: top;\n",
              "    }\n",
              "\n",
              "    .dataframe thead th {\n",
              "        text-align: right;\n",
              "    }\n",
              "</style>\n",
              "<table border=\"1\" class=\"dataframe\">\n",
              "  <thead>\n",
              "    <tr style=\"text-align: right;\">\n",
              "      <th></th>\n",
              "      <th>ID</th>\n",
              "      <th>Descriçãodosalimentos</th>\n",
              "      <th>Energia</th>\n",
              "      <th>Prot.(A)</th>\n",
              "      <th>Prot.(V)</th>\n",
              "      <th>Gordura</th>\n",
              "      <th>Carbo</th>\n",
              "      <th>Fibra</th>\n",
              "      <th>Sódio</th>\n",
              "    </tr>\n",
              "  </thead>\n",
              "  <tbody>\n",
              "    <tr>\n",
              "      <th>0</th>\n",
              "      <td>1</td>\n",
              "      <td>Abacate,cru</td>\n",
              "      <td>96.15</td>\n",
              "      <td>0.00</td>\n",
              "      <td>1.24</td>\n",
              "      <td>8.40</td>\n",
              "      <td>6.03</td>\n",
              "      <td>6.31</td>\n",
              "      <td>0.000</td>\n",
              "    </tr>\n",
              "    <tr>\n",
              "      <th>1</th>\n",
              "      <td>2</td>\n",
              "      <td>Abacaxi,cru</td>\n",
              "      <td>48.32</td>\n",
              "      <td>0.00</td>\n",
              "      <td>0.86</td>\n",
              "      <td>0.12</td>\n",
              "      <td>12.33</td>\n",
              "      <td>0.99</td>\n",
              "      <td>0.000</td>\n",
              "    </tr>\n",
              "    <tr>\n",
              "      <th>2</th>\n",
              "      <td>3</td>\n",
              "      <td>Abacaxi,polpa,congelada</td>\n",
              "      <td>30.59</td>\n",
              "      <td>0.00</td>\n",
              "      <td>0.47</td>\n",
              "      <td>0.11</td>\n",
              "      <td>7.80</td>\n",
              "      <td>0.33</td>\n",
              "      <td>1.236</td>\n",
              "    </tr>\n",
              "    <tr>\n",
              "      <th>3</th>\n",
              "      <td>4</td>\n",
              "      <td>Abadejo,filé,congelado,assado</td>\n",
              "      <td>111.62</td>\n",
              "      <td>23.53</td>\n",
              "      <td>0.00</td>\n",
              "      <td>1.24</td>\n",
              "      <td>0.00</td>\n",
              "      <td>0.00</td>\n",
              "      <td>334.391</td>\n",
              "    </tr>\n",
              "    <tr>\n",
              "      <th>4</th>\n",
              "      <td>5</td>\n",
              "      <td>Abadejo,filé,congelado,grelhado</td>\n",
              "      <td>129.64</td>\n",
              "      <td>27.61</td>\n",
              "      <td>0.00</td>\n",
              "      <td>1.30</td>\n",
              "      <td>0.00</td>\n",
              "      <td>0.00</td>\n",
              "      <td>305.094</td>\n",
              "    </tr>\n",
              "  </tbody>\n",
              "</table>\n",
              "</div>"
            ],
            "text/plain": [
              "   ID            Descriçãodosalimentos  Energia  ...  Carbo  Fibra    Sódio\n",
              "0   1                      Abacate,cru    96.15  ...   6.03   6.31    0.000\n",
              "1   2                      Abacaxi,cru    48.32  ...  12.33   0.99    0.000\n",
              "2   3          Abacaxi,polpa,congelada    30.59  ...   7.80   0.33    1.236\n",
              "3   4    Abadejo,filé,congelado,assado   111.62  ...   0.00   0.00  334.391\n",
              "4   5  Abadejo,filé,congelado,grelhado   129.64  ...   0.00   0.00  305.094\n",
              "\n",
              "[5 rows x 9 columns]"
            ]
          },
          "metadata": {
            "tags": []
          },
          "execution_count": 4
        }
      ]
    },
    {
      "cell_type": "code",
      "metadata": {
        "colab": {
          "base_uri": "https://localhost:8080/",
          "height": 204
        },
        "id": "TGC_BwwCXA6X",
        "outputId": "ed90db95-4f9e-41fe-926e-d7d91bbaa888"
      },
      "source": [
        "data.tail()"
      ],
      "execution_count": 5,
      "outputs": [
        {
          "output_type": "execute_result",
          "data": {
            "text/html": [
              "<div>\n",
              "<style scoped>\n",
              "    .dataframe tbody tr th:only-of-type {\n",
              "        vertical-align: middle;\n",
              "    }\n",
              "\n",
              "    .dataframe tbody tr th {\n",
              "        vertical-align: top;\n",
              "    }\n",
              "\n",
              "    .dataframe thead th {\n",
              "        text-align: right;\n",
              "    }\n",
              "</style>\n",
              "<table border=\"1\" class=\"dataframe\">\n",
              "  <thead>\n",
              "    <tr style=\"text-align: right;\">\n",
              "      <th></th>\n",
              "      <th>ID</th>\n",
              "      <th>Descriçãodosalimentos</th>\n",
              "      <th>Energia</th>\n",
              "      <th>Prot.(A)</th>\n",
              "      <th>Prot.(V)</th>\n",
              "      <th>Gordura</th>\n",
              "      <th>Carbo</th>\n",
              "      <th>Fibra</th>\n",
              "      <th>Sódio</th>\n",
              "    </tr>\n",
              "  </thead>\n",
              "  <tbody>\n",
              "    <tr>\n",
              "      <th>743</th>\n",
              "      <td>744</td>\n",
              "      <td>Crepioca</td>\n",
              "      <td>182.41</td>\n",
              "      <td>9.14</td>\n",
              "      <td>1.5</td>\n",
              "      <td>3.97</td>\n",
              "      <td>26.03</td>\n",
              "      <td>0.0</td>\n",
              "      <td>75.27</td>\n",
              "    </tr>\n",
              "    <tr>\n",
              "      <th>744</th>\n",
              "      <td>745</td>\n",
              "      <td>Creatina</td>\n",
              "      <td>0.00</td>\n",
              "      <td>0.00</td>\n",
              "      <td>0.0</td>\n",
              "      <td>0.00</td>\n",
              "      <td>0.00</td>\n",
              "      <td>0.0</td>\n",
              "      <td>0.00</td>\n",
              "    </tr>\n",
              "    <tr>\n",
              "      <th>745</th>\n",
              "      <td>746</td>\n",
              "      <td>Margarina</td>\n",
              "      <td>765.00</td>\n",
              "      <td>0.00</td>\n",
              "      <td>0.0</td>\n",
              "      <td>85.00</td>\n",
              "      <td>0.00</td>\n",
              "      <td>0.0</td>\n",
              "      <td>690.00</td>\n",
              "    </tr>\n",
              "    <tr>\n",
              "      <th>746</th>\n",
              "      <td>747</td>\n",
              "      <td>Oléodesoja</td>\n",
              "      <td>1080.00</td>\n",
              "      <td>0.00</td>\n",
              "      <td>0.0</td>\n",
              "      <td>120.00</td>\n",
              "      <td>0.00</td>\n",
              "      <td>0.0</td>\n",
              "      <td>0.00</td>\n",
              "    </tr>\n",
              "    <tr>\n",
              "      <th>747</th>\n",
              "      <td>748</td>\n",
              "      <td>Glutamina</td>\n",
              "      <td>400.00</td>\n",
              "      <td>100.00</td>\n",
              "      <td>0.0</td>\n",
              "      <td>0.00</td>\n",
              "      <td>0.00</td>\n",
              "      <td>0.0</td>\n",
              "      <td>0.00</td>\n",
              "    </tr>\n",
              "  </tbody>\n",
              "</table>\n",
              "</div>"
            ],
            "text/plain": [
              "      ID Descriçãodosalimentos  Energia  ...  Carbo  Fibra   Sódio\n",
              "743  744              Crepioca   182.41  ...  26.03    0.0   75.27\n",
              "744  745              Creatina     0.00  ...   0.00    0.0    0.00\n",
              "745  746             Margarina   765.00  ...   0.00    0.0  690.00\n",
              "746  747            Oléodesoja  1080.00  ...   0.00    0.0    0.00\n",
              "747  748             Glutamina   400.00  ...   0.00    0.0    0.00\n",
              "\n",
              "[5 rows x 9 columns]"
            ]
          },
          "metadata": {
            "tags": []
          },
          "execution_count": 5
        }
      ]
    },
    {
      "cell_type": "code",
      "metadata": {
        "colab": {
          "base_uri": "https://localhost:8080/"
        },
        "id": "l6Np3eR6Zdi7",
        "outputId": "32d466d5-7048-418b-c55b-5c0190104ee7"
      },
      "source": [
        "print(\"Quantidade de alimentos\", data.shape[0])"
      ],
      "execution_count": 6,
      "outputs": [
        {
          "output_type": "stream",
          "text": [
            "Quantidade de alimentos 748\n"
          ],
          "name": "stdout"
        }
      ]
    }
  ]
}