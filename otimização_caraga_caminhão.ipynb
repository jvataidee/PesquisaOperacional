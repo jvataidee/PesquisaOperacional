{
  "nbformat": 4,
  "nbformat_minor": 0,
  "metadata": {
    "colab": {
      "name": "otimização_caraga_caminhão.ipynb",
      "provenance": [],
      "toc_visible": true,
      "authorship_tag": "ABX9TyPjCGpPUbsQjYprYU5ItHkK",
      "include_colab_link": true
    },
    "kernelspec": {
      "name": "python3",
      "display_name": "Python 3"
    }
  },
  "cells": [
    {
      "cell_type": "markdown",
      "metadata": {
        "id": "view-in-github",
        "colab_type": "text"
      },
      "source": [
        "<a href=\"https://colab.research.google.com/github/jvataidee/PesquisaOperacional/blob/master/otimiza%C3%A7%C3%A3o_caraga_caminh%C3%A3o.ipynb\" target=\"_parent\"><img src=\"https://colab.research.google.com/assets/colab-badge.svg\" alt=\"Open In Colab\"/></a>"
      ]
    },
    {
      "cell_type": "markdown",
      "metadata": {
        "id": "3ttm_UoU_fbC"
      },
      "source": [
        "\r\n",
        "<p align=\"center\"><img src=\"https://static.wixstatic.com/media/bdd7cb_6ecb6c85550043f090237e5943d2647c~mv2.png/v1/fill/w_417,h_88,al_c,q_85,usm_0.66_1.00_0.01/Ativo%2023-8.webp\" height=\"75px\"></p>\r\n",
        "\r\n",
        "**by: [João Ataíde](https://www.joaoataide.com)**\r\n",
        "# **Otimização da Carga de um caminhão**\r\n",
        "\r\n",
        "\r\n",
        "---\r\n",
        "\r\n",
        "\r\n",
        "<p align=\"center\"><img src=\"https://static.wixstatic.com/media/bdd7cb_c37cf789f470415781495054582faa05~mv2.jpg\"></p>\r\n",
        "\r\n",
        "\r\n"
      ]
    },
    {
      "cell_type": "code",
      "metadata": {
        "colab": {
          "base_uri": "https://localhost:8080/"
        },
        "id": "9SipqIz5_qVl",
        "outputId": "9368aa4c-aca9-4aa5-9674-e567c0d40365"
      },
      "source": [
        "!pip install deap -q"
      ],
      "execution_count": 3,
      "outputs": [
        {
          "output_type": "stream",
          "text": [
            "\u001b[?25l\r\u001b[K     |██                              | 10kB 15.8MB/s eta 0:00:01\r\u001b[K     |████▏                           | 20kB 19.4MB/s eta 0:00:01\r\u001b[K     |██████▎                         | 30kB 23.6MB/s eta 0:00:01\r\u001b[K     |████████▍                       | 40kB 14.2MB/s eta 0:00:01\r\u001b[K     |██████████▍                     | 51kB 10.7MB/s eta 0:00:01\r\u001b[K     |████████████▌                   | 61kB 10.5MB/s eta 0:00:01\r\u001b[K     |██████████████▋                 | 71kB 9.4MB/s eta 0:00:01\r\u001b[K     |████████████████▊               | 81kB 9.4MB/s eta 0:00:01\r\u001b[K     |██████████████████▊             | 92kB 9.1MB/s eta 0:00:01\r\u001b[K     |████████████████████▉           | 102kB 9.2MB/s eta 0:00:01\r\u001b[K     |███████████████████████         | 112kB 9.2MB/s eta 0:00:01\r\u001b[K     |█████████████████████████       | 122kB 9.2MB/s eta 0:00:01\r\u001b[K     |███████████████████████████▏    | 133kB 9.2MB/s eta 0:00:01\r\u001b[K     |█████████████████████████████▏  | 143kB 9.2MB/s eta 0:00:01\r\u001b[K     |███████████████████████████████▎| 153kB 9.2MB/s eta 0:00:01\r\u001b[K     |████████████████████████████████| 163kB 9.2MB/s \n",
            "\u001b[?25h"
          ],
          "name": "stdout"
        }
      ]
    },
    {
      "cell_type": "code",
      "metadata": {
        "id": "qPY_LOpn_ecO"
      },
      "source": [
        "import numpy\r\n",
        "import random\r\n",
        "import pandas as pd\r\n",
        "from deap import base, creator, algorithms, tools\r\n",
        "import matplotlib.pyplot as plt"
      ],
      "execution_count": 8,
      "outputs": []
    },
    {
      "cell_type": "markdown",
      "metadata": {
        "id": "CbFZHS9DH8kG"
      },
      "source": [
        "## Importando os dados"
      ]
    },
    {
      "cell_type": "code",
      "metadata": {
        "id": "hlTOpuhdHRGN"
      },
      "source": [
        "!pip install kaggle -q"
      ],
      "execution_count": 9,
      "outputs": []
    },
    {
      "cell_type": "code",
      "metadata": {
        "id": "lDj-ssmKBLhG"
      },
      "source": [
        "from google.colab import files\r\n",
        "files.upload()"
      ],
      "execution_count": null,
      "outputs": []
    },
    {
      "cell_type": "code",
      "metadata": {
        "id": "DFNZfYZ1HWwK"
      },
      "source": [
        "!mkdir -p ~/.kaggle\r\n",
        "!cp kaggle.json ~/.kaggle/\r\n",
        "!chmod 600 ~/.kaggle/kaggle.json"
      ],
      "execution_count": 11,
      "outputs": []
    },
    {
      "cell_type": "code",
      "metadata": {
        "colab": {
          "base_uri": "https://localhost:8080/"
        },
        "id": "jXM-6q_pHYzo",
        "outputId": "8c9b0c64-800e-4b5d-f76e-23f172a6f76c"
      },
      "source": [
        "!kaggle datasets download -d olistbr/brazilian-ecommerce"
      ],
      "execution_count": 12,
      "outputs": [
        {
          "output_type": "stream",
          "text": [
            "Downloading brazilian-ecommerce.zip to /content\n",
            " 77% 33.0M/42.7M [00:00<00:00, 42.1MB/s]\n",
            "100% 42.7M/42.7M [00:00<00:00, 87.0MB/s]\n"
          ],
          "name": "stdout"
        }
      ]
    },
    {
      "cell_type": "code",
      "metadata": {
        "colab": {
          "base_uri": "https://localhost:8080/"
        },
        "id": "BbzUJEvkHasY",
        "outputId": "997951c1-0854-4793-9a8e-9aea1092ab69"
      },
      "source": [
        "!ls"
      ],
      "execution_count": 13,
      "outputs": [
        {
          "output_type": "stream",
          "text": [
            "brazilian-ecommerce.zip  kaggle.json  sample_data\n"
          ],
          "name": "stdout"
        }
      ]
    },
    {
      "cell_type": "code",
      "metadata": {
        "id": "CczDJTQkHcx2"
      },
      "source": [
        "import zipfile\r\n",
        "zip_ref = zipfile.ZipFile('brazilian-ecommerce.zip', 'r')\r\n",
        "zip_ref.extractall('files')\r\n",
        "zip_ref.close()"
      ],
      "execution_count": 15,
      "outputs": []
    },
    {
      "cell_type": "code",
      "metadata": {
        "id": "XxmhXYvNHzT3"
      },
      "source": [
        "df_items = pd.read_csv('/content/files/olist_order_items_dataset.csv')\r\n",
        "df_produto = pd.read_csv('/content/files/olist_products_dataset.csv')"
      ],
      "execution_count": 39,
      "outputs": []
    },
    {
      "cell_type": "code",
      "metadata": {
        "colab": {
          "base_uri": "https://localhost:8080/",
          "height": 233
        },
        "id": "DqA0njSwIToJ",
        "outputId": "0b0bd60d-1431-4844-d2be-0446aa8e1c1f"
      },
      "source": [
        "print(df_items.shape)\r\n",
        "df_items.head()"
      ],
      "execution_count": 28,
      "outputs": [
        {
          "output_type": "stream",
          "text": [
            "(112650, 7)\n"
          ],
          "name": "stdout"
        },
        {
          "output_type": "execute_result",
          "data": {
            "text/html": [
              "<div>\n",
              "<style scoped>\n",
              "    .dataframe tbody tr th:only-of-type {\n",
              "        vertical-align: middle;\n",
              "    }\n",
              "\n",
              "    .dataframe tbody tr th {\n",
              "        vertical-align: top;\n",
              "    }\n",
              "\n",
              "    .dataframe thead th {\n",
              "        text-align: right;\n",
              "    }\n",
              "</style>\n",
              "<table border=\"1\" class=\"dataframe\">\n",
              "  <thead>\n",
              "    <tr style=\"text-align: right;\">\n",
              "      <th></th>\n",
              "      <th>order_id</th>\n",
              "      <th>order_item_id</th>\n",
              "      <th>product_id</th>\n",
              "      <th>seller_id</th>\n",
              "      <th>shipping_limit_date</th>\n",
              "      <th>price</th>\n",
              "      <th>freight_value</th>\n",
              "    </tr>\n",
              "  </thead>\n",
              "  <tbody>\n",
              "    <tr>\n",
              "      <th>0</th>\n",
              "      <td>00010242fe8c5a6d1ba2dd792cb16214</td>\n",
              "      <td>1</td>\n",
              "      <td>4244733e06e7ecb4970a6e2683c13e61</td>\n",
              "      <td>48436dade18ac8b2bce089ec2a041202</td>\n",
              "      <td>2017-09-19 09:45:35</td>\n",
              "      <td>58.90</td>\n",
              "      <td>13.29</td>\n",
              "    </tr>\n",
              "    <tr>\n",
              "      <th>1</th>\n",
              "      <td>00018f77f2f0320c557190d7a144bdd3</td>\n",
              "      <td>1</td>\n",
              "      <td>e5f2d52b802189ee658865ca93d83a8f</td>\n",
              "      <td>dd7ddc04e1b6c2c614352b383efe2d36</td>\n",
              "      <td>2017-05-03 11:05:13</td>\n",
              "      <td>239.90</td>\n",
              "      <td>19.93</td>\n",
              "    </tr>\n",
              "    <tr>\n",
              "      <th>2</th>\n",
              "      <td>000229ec398224ef6ca0657da4fc703e</td>\n",
              "      <td>1</td>\n",
              "      <td>c777355d18b72b67abbeef9df44fd0fd</td>\n",
              "      <td>5b51032eddd242adc84c38acab88f23d</td>\n",
              "      <td>2018-01-18 14:48:30</td>\n",
              "      <td>199.00</td>\n",
              "      <td>17.87</td>\n",
              "    </tr>\n",
              "    <tr>\n",
              "      <th>3</th>\n",
              "      <td>00024acbcdf0a6daa1e931b038114c75</td>\n",
              "      <td>1</td>\n",
              "      <td>7634da152a4610f1595efa32f14722fc</td>\n",
              "      <td>9d7a1d34a5052409006425275ba1c2b4</td>\n",
              "      <td>2018-08-15 10:10:18</td>\n",
              "      <td>12.99</td>\n",
              "      <td>12.79</td>\n",
              "    </tr>\n",
              "    <tr>\n",
              "      <th>4</th>\n",
              "      <td>00042b26cf59d7ce69dfabb4e55b4fd9</td>\n",
              "      <td>1</td>\n",
              "      <td>ac6c3623068f30de03045865e4e10089</td>\n",
              "      <td>df560393f3a51e74553ab94004ba5c87</td>\n",
              "      <td>2017-02-13 13:57:51</td>\n",
              "      <td>199.90</td>\n",
              "      <td>18.14</td>\n",
              "    </tr>\n",
              "  </tbody>\n",
              "</table>\n",
              "</div>"
            ],
            "text/plain": [
              "                           order_id  order_item_id  ...   price freight_value\n",
              "0  00010242fe8c5a6d1ba2dd792cb16214              1  ...   58.90         13.29\n",
              "1  00018f77f2f0320c557190d7a144bdd3              1  ...  239.90         19.93\n",
              "2  000229ec398224ef6ca0657da4fc703e              1  ...  199.00         17.87\n",
              "3  00024acbcdf0a6daa1e931b038114c75              1  ...   12.99         12.79\n",
              "4  00042b26cf59d7ce69dfabb4e55b4fd9              1  ...  199.90         18.14\n",
              "\n",
              "[5 rows x 7 columns]"
            ]
          },
          "metadata": {
            "tags": []
          },
          "execution_count": 28
        }
      ]
    },
    {
      "cell_type": "code",
      "metadata": {
        "colab": {
          "base_uri": "https://localhost:8080/",
          "height": 233
        },
        "id": "RviMx3ejIavg",
        "outputId": "34a8e4ad-3e8e-447a-f6b4-03f3143c7ad9"
      },
      "source": [
        "print(df_produto.shape)\r\n",
        "df_produto.head()"
      ],
      "execution_count": 22,
      "outputs": [
        {
          "output_type": "stream",
          "text": [
            "(32951, 9)\n"
          ],
          "name": "stdout"
        },
        {
          "output_type": "execute_result",
          "data": {
            "text/html": [
              "<div>\n",
              "<style scoped>\n",
              "    .dataframe tbody tr th:only-of-type {\n",
              "        vertical-align: middle;\n",
              "    }\n",
              "\n",
              "    .dataframe tbody tr th {\n",
              "        vertical-align: top;\n",
              "    }\n",
              "\n",
              "    .dataframe thead th {\n",
              "        text-align: right;\n",
              "    }\n",
              "</style>\n",
              "<table border=\"1\" class=\"dataframe\">\n",
              "  <thead>\n",
              "    <tr style=\"text-align: right;\">\n",
              "      <th></th>\n",
              "      <th>product_id</th>\n",
              "      <th>product_category_name</th>\n",
              "      <th>product_name_lenght</th>\n",
              "      <th>product_description_lenght</th>\n",
              "      <th>product_photos_qty</th>\n",
              "      <th>product_weight_g</th>\n",
              "      <th>product_length_cm</th>\n",
              "      <th>product_height_cm</th>\n",
              "      <th>product_width_cm</th>\n",
              "    </tr>\n",
              "  </thead>\n",
              "  <tbody>\n",
              "    <tr>\n",
              "      <th>0</th>\n",
              "      <td>1e9e8ef04dbcff4541ed26657ea517e5</td>\n",
              "      <td>perfumaria</td>\n",
              "      <td>40.0</td>\n",
              "      <td>287.0</td>\n",
              "      <td>1.0</td>\n",
              "      <td>225.0</td>\n",
              "      <td>16.0</td>\n",
              "      <td>10.0</td>\n",
              "      <td>14.0</td>\n",
              "    </tr>\n",
              "    <tr>\n",
              "      <th>1</th>\n",
              "      <td>3aa071139cb16b67ca9e5dea641aaa2f</td>\n",
              "      <td>artes</td>\n",
              "      <td>44.0</td>\n",
              "      <td>276.0</td>\n",
              "      <td>1.0</td>\n",
              "      <td>1000.0</td>\n",
              "      <td>30.0</td>\n",
              "      <td>18.0</td>\n",
              "      <td>20.0</td>\n",
              "    </tr>\n",
              "    <tr>\n",
              "      <th>2</th>\n",
              "      <td>96bd76ec8810374ed1b65e291975717f</td>\n",
              "      <td>esporte_lazer</td>\n",
              "      <td>46.0</td>\n",
              "      <td>250.0</td>\n",
              "      <td>1.0</td>\n",
              "      <td>154.0</td>\n",
              "      <td>18.0</td>\n",
              "      <td>9.0</td>\n",
              "      <td>15.0</td>\n",
              "    </tr>\n",
              "    <tr>\n",
              "      <th>3</th>\n",
              "      <td>cef67bcfe19066a932b7673e239eb23d</td>\n",
              "      <td>bebes</td>\n",
              "      <td>27.0</td>\n",
              "      <td>261.0</td>\n",
              "      <td>1.0</td>\n",
              "      <td>371.0</td>\n",
              "      <td>26.0</td>\n",
              "      <td>4.0</td>\n",
              "      <td>26.0</td>\n",
              "    </tr>\n",
              "    <tr>\n",
              "      <th>4</th>\n",
              "      <td>9dc1a7de274444849c219cff195d0b71</td>\n",
              "      <td>utilidades_domesticas</td>\n",
              "      <td>37.0</td>\n",
              "      <td>402.0</td>\n",
              "      <td>4.0</td>\n",
              "      <td>625.0</td>\n",
              "      <td>20.0</td>\n",
              "      <td>17.0</td>\n",
              "      <td>13.0</td>\n",
              "    </tr>\n",
              "  </tbody>\n",
              "</table>\n",
              "</div>"
            ],
            "text/plain": [
              "                         product_id  ... product_width_cm\n",
              "0  1e9e8ef04dbcff4541ed26657ea517e5  ...             14.0\n",
              "1  3aa071139cb16b67ca9e5dea641aaa2f  ...             20.0\n",
              "2  96bd76ec8810374ed1b65e291975717f  ...             15.0\n",
              "3  cef67bcfe19066a932b7673e239eb23d  ...             26.0\n",
              "4  9dc1a7de274444849c219cff195d0b71  ...             13.0\n",
              "\n",
              "[5 rows x 9 columns]"
            ]
          },
          "metadata": {
            "tags": []
          },
          "execution_count": 22
        }
      ]
    },
    {
      "cell_type": "code",
      "metadata": {
        "id": "AQSPy2fJIliS"
      },
      "source": [
        "df_items = df_items.iloc[:, [2,5,6]]\r\n",
        "df_produto = df_produto.iloc[:, [0,1,5,6,7,8]]"
      ],
      "execution_count": 40,
      "outputs": []
    },
    {
      "cell_type": "code",
      "metadata": {
        "colab": {
          "base_uri": "https://localhost:8080/",
          "height": 195
        },
        "id": "vtV1QFbxJa9f",
        "outputId": "c175d15a-df2d-4a40-99b1-7cf1424d6a8d"
      },
      "source": [
        "df_items.head()"
      ],
      "execution_count": 37,
      "outputs": [
        {
          "output_type": "execute_result",
          "data": {
            "text/html": [
              "<div>\n",
              "<style scoped>\n",
              "    .dataframe tbody tr th:only-of-type {\n",
              "        vertical-align: middle;\n",
              "    }\n",
              "\n",
              "    .dataframe tbody tr th {\n",
              "        vertical-align: top;\n",
              "    }\n",
              "\n",
              "    .dataframe thead th {\n",
              "        text-align: right;\n",
              "    }\n",
              "</style>\n",
              "<table border=\"1\" class=\"dataframe\">\n",
              "  <thead>\n",
              "    <tr style=\"text-align: right;\">\n",
              "      <th></th>\n",
              "      <th>product_id</th>\n",
              "      <th>price</th>\n",
              "      <th>freight_value</th>\n",
              "    </tr>\n",
              "  </thead>\n",
              "  <tbody>\n",
              "    <tr>\n",
              "      <th>0</th>\n",
              "      <td>4244733e06e7ecb4970a6e2683c13e61</td>\n",
              "      <td>58.90</td>\n",
              "      <td>13.29</td>\n",
              "    </tr>\n",
              "    <tr>\n",
              "      <th>1</th>\n",
              "      <td>e5f2d52b802189ee658865ca93d83a8f</td>\n",
              "      <td>239.90</td>\n",
              "      <td>19.93</td>\n",
              "    </tr>\n",
              "    <tr>\n",
              "      <th>2</th>\n",
              "      <td>c777355d18b72b67abbeef9df44fd0fd</td>\n",
              "      <td>199.00</td>\n",
              "      <td>17.87</td>\n",
              "    </tr>\n",
              "    <tr>\n",
              "      <th>3</th>\n",
              "      <td>7634da152a4610f1595efa32f14722fc</td>\n",
              "      <td>12.99</td>\n",
              "      <td>12.79</td>\n",
              "    </tr>\n",
              "    <tr>\n",
              "      <th>4</th>\n",
              "      <td>ac6c3623068f30de03045865e4e10089</td>\n",
              "      <td>199.90</td>\n",
              "      <td>18.14</td>\n",
              "    </tr>\n",
              "  </tbody>\n",
              "</table>\n",
              "</div>"
            ],
            "text/plain": [
              "                         product_id   price  freight_value\n",
              "0  4244733e06e7ecb4970a6e2683c13e61   58.90          13.29\n",
              "1  e5f2d52b802189ee658865ca93d83a8f  239.90          19.93\n",
              "2  c777355d18b72b67abbeef9df44fd0fd  199.00          17.87\n",
              "3  7634da152a4610f1595efa32f14722fc   12.99          12.79\n",
              "4  ac6c3623068f30de03045865e4e10089  199.90          18.14"
            ]
          },
          "metadata": {
            "tags": []
          },
          "execution_count": 37
        }
      ]
    },
    {
      "cell_type": "code",
      "metadata": {
        "colab": {
          "base_uri": "https://localhost:8080/",
          "height": 195
        },
        "id": "CusTiJH6JbHt",
        "outputId": "731ad8a7-4134-4354-c7ce-6daf893fe2ec"
      },
      "source": [
        "df_produto.head()"
      ],
      "execution_count": 41,
      "outputs": [
        {
          "output_type": "execute_result",
          "data": {
            "text/html": [
              "<div>\n",
              "<style scoped>\n",
              "    .dataframe tbody tr th:only-of-type {\n",
              "        vertical-align: middle;\n",
              "    }\n",
              "\n",
              "    .dataframe tbody tr th {\n",
              "        vertical-align: top;\n",
              "    }\n",
              "\n",
              "    .dataframe thead th {\n",
              "        text-align: right;\n",
              "    }\n",
              "</style>\n",
              "<table border=\"1\" class=\"dataframe\">\n",
              "  <thead>\n",
              "    <tr style=\"text-align: right;\">\n",
              "      <th></th>\n",
              "      <th>product_id</th>\n",
              "      <th>product_category_name</th>\n",
              "      <th>product_weight_g</th>\n",
              "      <th>product_length_cm</th>\n",
              "      <th>product_height_cm</th>\n",
              "      <th>product_width_cm</th>\n",
              "    </tr>\n",
              "  </thead>\n",
              "  <tbody>\n",
              "    <tr>\n",
              "      <th>0</th>\n",
              "      <td>1e9e8ef04dbcff4541ed26657ea517e5</td>\n",
              "      <td>perfumaria</td>\n",
              "      <td>225.0</td>\n",
              "      <td>16.0</td>\n",
              "      <td>10.0</td>\n",
              "      <td>14.0</td>\n",
              "    </tr>\n",
              "    <tr>\n",
              "      <th>1</th>\n",
              "      <td>3aa071139cb16b67ca9e5dea641aaa2f</td>\n",
              "      <td>artes</td>\n",
              "      <td>1000.0</td>\n",
              "      <td>30.0</td>\n",
              "      <td>18.0</td>\n",
              "      <td>20.0</td>\n",
              "    </tr>\n",
              "    <tr>\n",
              "      <th>2</th>\n",
              "      <td>96bd76ec8810374ed1b65e291975717f</td>\n",
              "      <td>esporte_lazer</td>\n",
              "      <td>154.0</td>\n",
              "      <td>18.0</td>\n",
              "      <td>9.0</td>\n",
              "      <td>15.0</td>\n",
              "    </tr>\n",
              "    <tr>\n",
              "      <th>3</th>\n",
              "      <td>cef67bcfe19066a932b7673e239eb23d</td>\n",
              "      <td>bebes</td>\n",
              "      <td>371.0</td>\n",
              "      <td>26.0</td>\n",
              "      <td>4.0</td>\n",
              "      <td>26.0</td>\n",
              "    </tr>\n",
              "    <tr>\n",
              "      <th>4</th>\n",
              "      <td>9dc1a7de274444849c219cff195d0b71</td>\n",
              "      <td>utilidades_domesticas</td>\n",
              "      <td>625.0</td>\n",
              "      <td>20.0</td>\n",
              "      <td>17.0</td>\n",
              "      <td>13.0</td>\n",
              "    </tr>\n",
              "  </tbody>\n",
              "</table>\n",
              "</div>"
            ],
            "text/plain": [
              "                         product_id  ... product_width_cm\n",
              "0  1e9e8ef04dbcff4541ed26657ea517e5  ...             14.0\n",
              "1  3aa071139cb16b67ca9e5dea641aaa2f  ...             20.0\n",
              "2  96bd76ec8810374ed1b65e291975717f  ...             15.0\n",
              "3  cef67bcfe19066a932b7673e239eb23d  ...             26.0\n",
              "4  9dc1a7de274444849c219cff195d0b71  ...             13.0\n",
              "\n",
              "[5 rows x 6 columns]"
            ]
          },
          "metadata": {
            "tags": []
          },
          "execution_count": 41
        }
      ]
    },
    {
      "cell_type": "code",
      "metadata": {
        "id": "bBPusWH_Jh_U"
      },
      "source": [
        " "
      ],
      "execution_count": null,
      "outputs": []
    },
    {
      "cell_type": "markdown",
      "metadata": {
        "id": "0Ox8-AQFIfUL"
      },
      "source": [
        "## Criando o Algoritimo Genético"
      ]
    },
    {
      "cell_type": "code",
      "metadata": {
        "id": "voGQQBTm_w-m"
      },
      "source": [
        "#Criar Classe do Produto\r\n",
        "class Produto():\r\n",
        "    def __init__(self, nome, espaco, valor):\r\n",
        "        self.nome = nome\r\n",
        "        self.espaco = espaco\r\n",
        "        self.valor = valor"
      ],
      "execution_count": 7,
      "outputs": []
    },
    {
      "cell_type": "code",
      "metadata": {
        "id": "AE4tqdwQ_2Zp"
      },
      "source": [
        "#Montanto as restrições\r\n",
        "espacos = []\r\n",
        "valores = []\r\n",
        "nomes = []\r\n",
        "\r\n",
        "for produto in lista_produtos:\r\n",
        "    espacos.append(produto.espaco)\r\n",
        "    valores.append(produto.valor)\r\n",
        "    nomes.append(produto.nome)\r\n",
        "    \r\n"
      ],
      "execution_count": null,
      "outputs": []
    },
    {
      "cell_type": "markdown",
      "metadata": {
        "id": "Rd_p3UEGKB2l"
      },
      "source": [
        "Tipo de caminhão VUC\r\n",
        "<p align=\"center\"><img src=\"http://www.guiadotrc.com.br/figuras/vuc-reforcado.gif?gtgggf\"></p>\r\n",
        "\r\n",
        "\r\n",
        "\r\n",
        "<p align=\"center\"><img src=\"https://www.truckpad.com.br/uploads/2017/01/329981fc-medidas-carrocerias-3.png\"></p>"
      ]
    },
    {
      "cell_type": "code",
      "metadata": {
        "id": "C3s-lNJIJ6R1"
      },
      "source": [
        "#lmimte de espaço no caminhão\r\n",
        "limite_m3 = 2.2*7.2*3.5*100  #grandeza em centimetros\r\n",
        "limtie_peso = 4000   #grandeza em gramas"
      ],
      "execution_count": 44,
      "outputs": []
    },
    {
      "cell_type": "markdown",
      "metadata": {
        "id": "lvirJ6kk_-0g"
      },
      "source": [
        "## Criando o Algoritimo Genético"
      ]
    },
    {
      "cell_type": "code",
      "metadata": {
        "id": "LzRdnrDu_9ej"
      },
      "source": [
        "#Criar a toolbox\r\n",
        "toolbox = base.Toolbox()\r\n",
        "\r\n",
        "#Criando parâmetros na toolbox\r\n",
        "creator.create(\"FitnessMax\",  base.Fitness, weights = (1.0, ))\r\n",
        "creator.create(\"Individual\", list, fitness = creator.FitnessMax)\r\n",
        "\r\n",
        "#Registrando na toolbox\r\n",
        "toolbox.register(\"attr_bool\", random.randint, 0, 1)\r\n",
        "toolbox.register(\"individual\", tools.initRepeat, creator.Individual,\r\n",
        "                 toolbox.attr_bool, n = len(espacos))\r\n",
        "toolbox.register(\"population\", tools.initRepeat, list, toolbox.individual)\r\n",
        "toolbox.register(\"evaluate\", avaliacao)\r\n",
        "toolbox.register(\"mate\", tools.cxOnePoint)\r\n",
        "toolbox.register(\"mutate\", tools.mutFlipBit, indpb = 0.05)\r\n",
        "toolbox.register(\"select\", tools.selRoulette)"
      ],
      "execution_count": null,
      "outputs": []
    },
    {
      "cell_type": "code",
      "metadata": {
        "id": "XJkScplGASPx"
      },
      "source": [
        "#Executando o algoritimo genético\r\n",
        "if __name__ == \"__main__\":\r\n",
        "    population = toolbox.population(n = 20)\r\n",
        "    probabilidade_crossover = 1.0\r\n",
        "    probabilidade_mutação = 0.05\r\n",
        "    numero_gerações = 100\r\n",
        "    \r\n",
        "    estatisticas = tools.Statistics( key = lambda individuo: individuo.fitness.values)\r\n",
        "    estatisticas.register(\"max\", numpy.max)\r\n",
        "    estatisticas.register(\"min\", numpy.min)\r\n",
        "    estatisticas.register(\"med\", numpy.mean)\r\n",
        "    estatisticas.register(\"std\", numpy.std)\r\n",
        "    \r\n",
        "    populacao, info = algorithms.eaSimple(population, toolbox, \r\n",
        "                                          probabilidade_crossover, \r\n",
        "                                          probabilidade_mutação,\r\n",
        "                                          numero_gerações, estatisticas)"
      ],
      "execution_count": null,
      "outputs": []
    },
    {
      "cell_type": "code",
      "metadata": {
        "id": "1q4VloR3AV7O"
      },
      "source": [
        "#Identificando o melhor indivíduo\r\n",
        "\r\n",
        "melhores = tools.selBest(populacao, 1)\r\n",
        "\r\n",
        "for individuo in melhores:\r\n",
        "    print(\"---\")\r\n",
        "    print (individuo)\r\n",
        "    print (individuo.fitness)\r\n",
        "    print(\"---\")\r\n",
        "    soma = 0\r\n",
        "    for i in range (len(lista_produtos)):\r\n",
        "        if individuo[i] == 1:\r\n",
        "            soma += valores[i]\r\n",
        "            print(\"Nome: %s R$ %s\" % (lista_produtos[i].nome,\r\n",
        "                                     lista_produtos[i].valor))\r\n",
        "    print(\"---\")\r\n",
        "    print(\"Melhor Soluação:\", soma)"
      ],
      "execution_count": null,
      "outputs": []
    },
    {
      "cell_type": "code",
      "metadata": {
        "id": "PH23egY8AgN0"
      },
      "source": [
        "#Plotando o aprendizado\r\n",
        "valores_pop = info.select(\"max\")\r\n",
        "plt.figure(figsize = (12,8))\r\n",
        "plt.plot(valores_pop)\r\n",
        "plt.show()"
      ],
      "execution_count": null,
      "outputs": []
    }
  ]
}