{
  "nbformat": 4,
  "nbformat_minor": 0,
  "metadata": {
    "colab": {
      "provenance": [],
      "include_colab_link": true
    },
    "kernelspec": {
      "name": "python3",
      "display_name": "Python 3"
    },
    "language_info": {
      "name": "python"
    }
  },
  "cells": [
    {
      "cell_type": "markdown",
      "metadata": {
        "id": "view-in-github",
        "colab_type": "text"
      },
      "source": [
        "<a href=\"https://colab.research.google.com/github/jvataidee/PesquisaOperacional/blob/master/tcc_pesquisa_operacional.ipynb\" target=\"_parent\"><img src=\"https://colab.research.google.com/assets/colab-badge.svg\" alt=\"Open In Colab\"/></a>"
      ]
    },
    {
      "cell_type": "markdown",
      "source": [
        "# TCC:\n",
        "\n",
        "---\n",
        "https://github.com/Valdecy/pyDecision"
      ],
      "metadata": {
        "id": "43E1aMp56OtK"
      }
    },
    {
      "cell_type": "markdown",
      "source": [
        "## Inportando bibliotecas"
      ],
      "metadata": {
        "id": "0OLLTBS0CC7X"
      }
    },
    {
      "cell_type": "code",
      "source": [
        "!pip install pyDecision -q"
      ],
      "metadata": {
        "colab": {
          "base_uri": "https://localhost:8080/"
        },
        "id": "p5R6qbZs7jPC",
        "outputId": "53d83ba7-daf7-4d52-f04d-21e6d289950b"
      },
      "execution_count": 1,
      "outputs": [
        {
          "output_type": "stream",
          "name": "stdout",
          "text": [
            "\u001b[?25l     \u001b[90m━━━━━━━━━━━━━━━━━━━━━━━━━━━━━━━━━━━━━━━━\u001b[0m \u001b[32m0.0/68.6 kB\u001b[0m \u001b[31m?\u001b[0m eta \u001b[36m-:--:--\u001b[0m\r\u001b[2K     \u001b[90m━━━━━━━━━━━━━━━━━━━━━━━━━━━━━━━━━━━━━━━━\u001b[0m \u001b[32m68.6/68.6 kB\u001b[0m \u001b[31m2.7 MB/s\u001b[0m eta \u001b[36m0:00:00\u001b[0m\n",
            "\u001b[?25h"
          ]
        }
      ]
    },
    {
      "cell_type": "code",
      "execution_count": 115,
      "metadata": {
        "id": "DwVTAjSI6OGZ"
      },
      "outputs": [],
      "source": [
        "import numpy as np\n",
        "import pandas as pd\n",
        "import seaborn as sns\n",
        "from pyDecision.algorithm import electre_iii"
      ]
    },
    {
      "cell_type": "code",
      "source": [
        "ds = pd.read_excel(\"/content/dados.xlsx\", 0).head(5)\n",
        "ds_list = np.array(ds.iloc[:,2:])"
      ],
      "metadata": {
        "id": "yX9ubv0mC2yk"
      },
      "execution_count": 130,
      "outputs": []
    },
    {
      "cell_type": "code",
      "source": [
        "ds"
      ],
      "metadata": {
        "colab": {
          "base_uri": "https://localhost:8080/",
          "height": 363
        },
        "id": "xfEOSpV_3Ma7",
        "outputId": "e48c7e70-f207-4bd7-f477-dc8dc4a2924f"
      },
      "execution_count": 94,
      "outputs": [
        {
          "output_type": "execute_result",
          "data": {
            "text/plain": [
              "  Alternativas                        Notebook  RAM (GB)  Armazenamento (GB)  \\\n",
              "0           a1                   AVELL C62 MOB         8                 250   \n",
              "1           a2                   Avell A70 HYB         8                 250   \n",
              "2           a3                   AVELL A70 MOB        32                 500   \n",
              "3           a4                   AVELL A65 MOB        16                 500   \n",
              "4           a5                       ASUS M515         8                 256   \n",
              "5           a6  Novo Notebook Inspiron 15 3000         8                 256   \n",
              "6           a7            Notebook Vostro 3510         8                 256   \n",
              "7           a8  Novo Notebook Inspiron 15 3000         8                 256   \n",
              "8           a9            Notebook Inspiron 15         8                 512   \n",
              "9          a10            Notebook Vostro 5510        16                 256   \n",
              "\n",
              "   Placa de Vídeo (GB)  Processador i7 (HZ)  Preço (R$)  \n",
              "0                    4                  2.3        7773  \n",
              "1                    4                  2.3        9138  \n",
              "2                    4                  2.3        9264  \n",
              "3                    6                  2.3       15444  \n",
              "4                    2                  3.7        4099  \n",
              "5                    4                  2.8        5399  \n",
              "6                    4                  2.8        5528  \n",
              "7                    4                  2.8        5649  \n",
              "8                    4                  3.4        5799  \n",
              "9                    4                  3.4        7129  "
            ],
            "text/html": [
              "\n",
              "  <div id=\"df-34f82767-5c21-4f5b-a5c2-6961346fb312\">\n",
              "    <div class=\"colab-df-container\">\n",
              "      <div>\n",
              "<style scoped>\n",
              "    .dataframe tbody tr th:only-of-type {\n",
              "        vertical-align: middle;\n",
              "    }\n",
              "\n",
              "    .dataframe tbody tr th {\n",
              "        vertical-align: top;\n",
              "    }\n",
              "\n",
              "    .dataframe thead th {\n",
              "        text-align: right;\n",
              "    }\n",
              "</style>\n",
              "<table border=\"1\" class=\"dataframe\">\n",
              "  <thead>\n",
              "    <tr style=\"text-align: right;\">\n",
              "      <th></th>\n",
              "      <th>Alternativas</th>\n",
              "      <th>Notebook</th>\n",
              "      <th>RAM (GB)</th>\n",
              "      <th>Armazenamento (GB)</th>\n",
              "      <th>Placa de Vídeo (GB)</th>\n",
              "      <th>Processador i7 (HZ)</th>\n",
              "      <th>Preço (R$)</th>\n",
              "    </tr>\n",
              "  </thead>\n",
              "  <tbody>\n",
              "    <tr>\n",
              "      <th>0</th>\n",
              "      <td>a1</td>\n",
              "      <td>AVELL C62 MOB</td>\n",
              "      <td>8</td>\n",
              "      <td>250</td>\n",
              "      <td>4</td>\n",
              "      <td>2.3</td>\n",
              "      <td>7773</td>\n",
              "    </tr>\n",
              "    <tr>\n",
              "      <th>1</th>\n",
              "      <td>a2</td>\n",
              "      <td>Avell A70 HYB</td>\n",
              "      <td>8</td>\n",
              "      <td>250</td>\n",
              "      <td>4</td>\n",
              "      <td>2.3</td>\n",
              "      <td>9138</td>\n",
              "    </tr>\n",
              "    <tr>\n",
              "      <th>2</th>\n",
              "      <td>a3</td>\n",
              "      <td>AVELL A70 MOB</td>\n",
              "      <td>32</td>\n",
              "      <td>500</td>\n",
              "      <td>4</td>\n",
              "      <td>2.3</td>\n",
              "      <td>9264</td>\n",
              "    </tr>\n",
              "    <tr>\n",
              "      <th>3</th>\n",
              "      <td>a4</td>\n",
              "      <td>AVELL A65 MOB</td>\n",
              "      <td>16</td>\n",
              "      <td>500</td>\n",
              "      <td>6</td>\n",
              "      <td>2.3</td>\n",
              "      <td>15444</td>\n",
              "    </tr>\n",
              "    <tr>\n",
              "      <th>4</th>\n",
              "      <td>a5</td>\n",
              "      <td>ASUS M515</td>\n",
              "      <td>8</td>\n",
              "      <td>256</td>\n",
              "      <td>2</td>\n",
              "      <td>3.7</td>\n",
              "      <td>4099</td>\n",
              "    </tr>\n",
              "    <tr>\n",
              "      <th>5</th>\n",
              "      <td>a6</td>\n",
              "      <td>Novo Notebook Inspiron 15 3000</td>\n",
              "      <td>8</td>\n",
              "      <td>256</td>\n",
              "      <td>4</td>\n",
              "      <td>2.8</td>\n",
              "      <td>5399</td>\n",
              "    </tr>\n",
              "    <tr>\n",
              "      <th>6</th>\n",
              "      <td>a7</td>\n",
              "      <td>Notebook Vostro 3510</td>\n",
              "      <td>8</td>\n",
              "      <td>256</td>\n",
              "      <td>4</td>\n",
              "      <td>2.8</td>\n",
              "      <td>5528</td>\n",
              "    </tr>\n",
              "    <tr>\n",
              "      <th>7</th>\n",
              "      <td>a8</td>\n",
              "      <td>Novo Notebook Inspiron 15 3000</td>\n",
              "      <td>8</td>\n",
              "      <td>256</td>\n",
              "      <td>4</td>\n",
              "      <td>2.8</td>\n",
              "      <td>5649</td>\n",
              "    </tr>\n",
              "    <tr>\n",
              "      <th>8</th>\n",
              "      <td>a9</td>\n",
              "      <td>Notebook Inspiron 15</td>\n",
              "      <td>8</td>\n",
              "      <td>512</td>\n",
              "      <td>4</td>\n",
              "      <td>3.4</td>\n",
              "      <td>5799</td>\n",
              "    </tr>\n",
              "    <tr>\n",
              "      <th>9</th>\n",
              "      <td>a10</td>\n",
              "      <td>Notebook Vostro 5510</td>\n",
              "      <td>16</td>\n",
              "      <td>256</td>\n",
              "      <td>4</td>\n",
              "      <td>3.4</td>\n",
              "      <td>7129</td>\n",
              "    </tr>\n",
              "  </tbody>\n",
              "</table>\n",
              "</div>\n",
              "      <button class=\"colab-df-convert\" onclick=\"convertToInteractive('df-34f82767-5c21-4f5b-a5c2-6961346fb312')\"\n",
              "              title=\"Convert this dataframe to an interactive table.\"\n",
              "              style=\"display:none;\">\n",
              "        \n",
              "  <svg xmlns=\"http://www.w3.org/2000/svg\" height=\"24px\"viewBox=\"0 0 24 24\"\n",
              "       width=\"24px\">\n",
              "    <path d=\"M0 0h24v24H0V0z\" fill=\"none\"/>\n",
              "    <path d=\"M18.56 5.44l.94 2.06.94-2.06 2.06-.94-2.06-.94-.94-2.06-.94 2.06-2.06.94zm-11 1L8.5 8.5l.94-2.06 2.06-.94-2.06-.94L8.5 2.5l-.94 2.06-2.06.94zm10 10l.94 2.06.94-2.06 2.06-.94-2.06-.94-.94-2.06-.94 2.06-2.06.94z\"/><path d=\"M17.41 7.96l-1.37-1.37c-.4-.4-.92-.59-1.43-.59-.52 0-1.04.2-1.43.59L10.3 9.45l-7.72 7.72c-.78.78-.78 2.05 0 2.83L4 21.41c.39.39.9.59 1.41.59.51 0 1.02-.2 1.41-.59l7.78-7.78 2.81-2.81c.8-.78.8-2.07 0-2.86zM5.41 20L4 18.59l7.72-7.72 1.47 1.35L5.41 20z\"/>\n",
              "  </svg>\n",
              "      </button>\n",
              "      \n",
              "  <style>\n",
              "    .colab-df-container {\n",
              "      display:flex;\n",
              "      flex-wrap:wrap;\n",
              "      gap: 12px;\n",
              "    }\n",
              "\n",
              "    .colab-df-convert {\n",
              "      background-color: #E8F0FE;\n",
              "      border: none;\n",
              "      border-radius: 50%;\n",
              "      cursor: pointer;\n",
              "      display: none;\n",
              "      fill: #1967D2;\n",
              "      height: 32px;\n",
              "      padding: 0 0 0 0;\n",
              "      width: 32px;\n",
              "    }\n",
              "\n",
              "    .colab-df-convert:hover {\n",
              "      background-color: #E2EBFA;\n",
              "      box-shadow: 0px 1px 2px rgba(60, 64, 67, 0.3), 0px 1px 3px 1px rgba(60, 64, 67, 0.15);\n",
              "      fill: #174EA6;\n",
              "    }\n",
              "\n",
              "    [theme=dark] .colab-df-convert {\n",
              "      background-color: #3B4455;\n",
              "      fill: #D2E3FC;\n",
              "    }\n",
              "\n",
              "    [theme=dark] .colab-df-convert:hover {\n",
              "      background-color: #434B5C;\n",
              "      box-shadow: 0px 1px 3px 1px rgba(0, 0, 0, 0.15);\n",
              "      filter: drop-shadow(0px 1px 2px rgba(0, 0, 0, 0.3));\n",
              "      fill: #FFFFFF;\n",
              "    }\n",
              "  </style>\n",
              "\n",
              "      <script>\n",
              "        const buttonEl =\n",
              "          document.querySelector('#df-34f82767-5c21-4f5b-a5c2-6961346fb312 button.colab-df-convert');\n",
              "        buttonEl.style.display =\n",
              "          google.colab.kernel.accessAllowed ? 'block' : 'none';\n",
              "\n",
              "        async function convertToInteractive(key) {\n",
              "          const element = document.querySelector('#df-34f82767-5c21-4f5b-a5c2-6961346fb312');\n",
              "          const dataTable =\n",
              "            await google.colab.kernel.invokeFunction('convertToInteractive',\n",
              "                                                     [key], {});\n",
              "          if (!dataTable) return;\n",
              "\n",
              "          const docLinkHtml = 'Like what you see? Visit the ' +\n",
              "            '<a target=\"_blank\" href=https://colab.research.google.com/notebooks/data_table.ipynb>data table notebook</a>'\n",
              "            + ' to learn more about interactive tables.';\n",
              "          element.innerHTML = '';\n",
              "          dataTable['output_type'] = 'display_data';\n",
              "          await google.colab.output.renderOutput(dataTable, element);\n",
              "          const docLink = document.createElement('div');\n",
              "          docLink.innerHTML = docLinkHtml;\n",
              "          element.appendChild(docLink);\n",
              "        }\n",
              "      </script>\n",
              "    </div>\n",
              "  </div>\n",
              "  "
            ]
          },
          "metadata": {},
          "execution_count": 94
        }
      ]
    },
    {
      "cell_type": "markdown",
      "source": [
        "### Electre III\n"
      ],
      "metadata": {
        "id": "nlfJPHwU2ZrE"
      }
    },
    {
      "cell_type": "code",
      "source": [
        "ds_pesos = pd.read_excel(\"/content/dados.xlsx\", 1)\n",
        "W = np.array(ds_pesos.iloc[ 0: 1,1:])[0].tolist()\n",
        "Q = np.array(ds_pesos.iloc[ 1: 2,1:])[0].tolist()\n",
        "P = np.array(ds_pesos.iloc[-2:-1,1:])[0].tolist()\n",
        "V = np.array(ds_pesos.iloc[-1:  ,1:])[0].tolist()\n",
        "\n",
        "print(f\"w: \\n {W}\")\n",
        "print(f\"q: \\n {Q}\")\n",
        "print(f\"p: \\n {P}\")\n",
        "print(f\"v: \\n {V}\")"
      ],
      "metadata": {
        "colab": {
          "base_uri": "https://localhost:8080/"
        },
        "id": "ML5REp16C8Jc",
        "outputId": "39fd43cf-a2ab-4590-a5cb-1059381eb62c"
      },
      "execution_count": 131,
      "outputs": [
        {
          "output_type": "stream",
          "name": "stdout",
          "text": [
            "w: \n",
            " [2.7, 1.0, 4.0, 3.5, 2.5]\n",
            "q: \n",
            " [2.0, 150.0, 1.0, 1.5, 500.0]\n",
            "p: \n",
            " [4.0, 200.0, 2.0, 2.5, 750.0]\n",
            "v: \n",
            " [8.0, 400.0, 3.0, 3.0, 1500.0]\n"
          ]
        }
      ]
    },
    {
      "cell_type": "markdown",
      "source": [
        "#### Encontrando a solução"
      ],
      "metadata": {
        "id": "_R3-e2ZiB06o"
      }
    },
    {
      "cell_type": "code",
      "source": [
        "global_concordance, credibility, rank_D, rank_A, rank_N, rank_P = electre_iii(ds_list, P = P, Q = Q, V = V, W = W, graph = True)"
      ],
      "metadata": {
        "colab": {
          "base_uri": "https://localhost:8080/",
          "height": 424
        },
        "id": "ltORKf8GDLMD",
        "outputId": "f4ddb4c8-5428-4359-8588-0fdb76416550"
      },
      "execution_count": 132,
      "outputs": [
        {
          "output_type": "display_data",
          "data": {
            "text/plain": [
              "<Figure size 640x480 with 1 Axes>"
            ],
            "image/png": "[encoded data removed]"
          },
          "metadata": {}
        }
      ]
    },
    {
      "cell_type": "code",
      "source": [
        "rank_D_final = []\n",
        "rank = []\n",
        "k = 1\n",
        "for i in range(0, len(rank_D)):\n",
        "    splited = list(rank_D[i].split('; '))\n",
        "    for s in splited:\n",
        "        rank_D_final.append(s)\n",
        "        rank.append(k)\n",
        "    k += 1\n",
        "\n",
        "resultado = pd.DataFrame()\n",
        "resultado[\"Alternativas\"] = rank_D_final\n",
        "resultado[\"ResultadoELECTRE\"] = rank\n",
        "\n",
        "dic = ds.iloc[:, 0:2].set_index(\"Alternativas\")\n",
        "dic = dic.join(resultado.set_index(\"Alternativas\"), on = \"Alternativas\")\n",
        "dic"
      ],
      "metadata": {
        "id": "fssLybfV8RfL",
        "colab": {
          "base_uri": "https://localhost:8080/",
          "height": 238
        },
        "outputId": "114f189e-1f11-46e9-fb1a-c2bcd4ac8535"
      },
      "execution_count": 133,
      "outputs": [
        {
          "output_type": "execute_result",
          "data": {
            "text/plain": [
              "                   Notebook  ResultadoELECTRE\n",
              "Alternativas                                 \n",
              "a1            AVELL C62 MOB                 3\n",
              "a2            Avell A70 HYB                 2\n",
              "a3            AVELL A70 MOB                 1\n",
              "a4            AVELL A65 MOB                 1\n",
              "a5                ASUS M515                 4"
            ],
            "text/html": [
              "\n",
              "  <div id=\"df-76451986-f703-4e58-86f0-579cb6039a64\">\n",
              "    <div class=\"colab-df-container\">\n",
              "      <div>\n",
              "<style scoped>\n",
              "    .dataframe tbody tr th:only-of-type {\n",
              "        vertical-align: middle;\n",
              "    }\n",
              "\n",
              "    .dataframe tbody tr th {\n",
              "        vertical-align: top;\n",
              "    }\n",
              "\n",
              "    .dataframe thead th {\n",
              "        text-align: right;\n",
              "    }\n",
              "</style>\n",
              "<table border=\"1\" class=\"dataframe\">\n",
              "  <thead>\n",
              "    <tr style=\"text-align: right;\">\n",
              "      <th></th>\n",
              "      <th>Notebook</th>\n",
              "      <th>ResultadoELECTRE</th>\n",
              "    </tr>\n",
              "    <tr>\n",
              "      <th>Alternativas</th>\n",
              "      <th></th>\n",
              "      <th></th>\n",
              "    </tr>\n",
              "  </thead>\n",
              "  <tbody>\n",
              "    <tr>\n",
              "      <th>a1</th>\n",
              "      <td>AVELL C62 MOB</td>\n",
              "      <td>3</td>\n",
              "    </tr>\n",
              "    <tr>\n",
              "      <th>a2</th>\n",
              "      <td>Avell A70 HYB</td>\n",
              "      <td>2</td>\n",
              "    </tr>\n",
              "    <tr>\n",
              "      <th>a3</th>\n",
              "      <td>AVELL A70 MOB</td>\n",
              "      <td>1</td>\n",
              "    </tr>\n",
              "    <tr>\n",
              "      <th>a4</th>\n",
              "      <td>AVELL A65 MOB</td>\n",
              "      <td>1</td>\n",
              "    </tr>\n",
              "    <tr>\n",
              "      <th>a5</th>\n",
              "      <td>ASUS M515</td>\n",
              "      <td>4</td>\n",
              "    </tr>\n",
              "  </tbody>\n",
              "</table>\n",
              "</div>\n",
              "      <button class=\"colab-df-convert\" onclick=\"convertToInteractive('df-76451986-f703-4e58-86f0-579cb6039a64')\"\n",
              "              title=\"Convert this dataframe to an interactive table.\"\n",
              "              style=\"display:none;\">\n",
              "        \n",
              "  <svg xmlns=\"http://www.w3.org/2000/svg\" height=\"24px\"viewBox=\"0 0 24 24\"\n",
              "       width=\"24px\">\n",
              "    <path d=\"M0 0h24v24H0V0z\" fill=\"none\"/>\n",
              "    <path d=\"M18.56 5.44l.94 2.06.94-2.06 2.06-.94-2.06-.94-.94-2.06-.94 2.06-2.06.94zm-11 1L8.5 8.5l.94-2.06 2.06-.94-2.06-.94L8.5 2.5l-.94 2.06-2.06.94zm10 10l.94 2.06.94-2.06 2.06-.94-2.06-.94-.94-2.06-.94 2.06-2.06.94z\"/><path d=\"M17.41 7.96l-1.37-1.37c-.4-.4-.92-.59-1.43-.59-.52 0-1.04.2-1.43.59L10.3 9.45l-7.72 7.72c-.78.78-.78 2.05 0 2.83L4 21.41c.39.39.9.59 1.41.59.51 0 1.02-.2 1.41-.59l7.78-7.78 2.81-2.81c.8-.78.8-2.07 0-2.86zM5.41 20L4 18.59l7.72-7.72 1.47 1.35L5.41 20z\"/>\n",
              "  </svg>\n",
              "      </button>\n",
              "      \n",
              "  <style>\n",
              "    .colab-df-container {\n",
              "      display:flex;\n",
              "      flex-wrap:wrap;\n",
              "      gap: 12px;\n",
              "    }\n",
              "\n",
              "    .colab-df-convert {\n",
              "      background-color: #E8F0FE;\n",
              "      border: none;\n",
              "      border-radius: 50%;\n",
              "      cursor: pointer;\n",
              "      display: none;\n",
              "      fill: #1967D2;\n",
              "      height: 32px;\n",
              "      padding: 0 0 0 0;\n",
              "      width: 32px;\n",
              "    }\n",
              "\n",
              "    .colab-df-convert:hover {\n",
              "      background-color: #E2EBFA;\n",
              "      box-shadow: 0px 1px 2px rgba(60, 64, 67, 0.3), 0px 1px 3px 1px rgba(60, 64, 67, 0.15);\n",
              "      fill: #174EA6;\n",
              "    }\n",
              "\n",
              "    [theme=dark] .colab-df-convert {\n",
              "      background-color: #3B4455;\n",
              "      fill: #D2E3FC;\n",
              "    }\n",
              "\n",
              "    [theme=dark] .colab-df-convert:hover {\n",
              "      background-color: #434B5C;\n",
              "      box-shadow: 0px 1px 3px 1px rgba(0, 0, 0, 0.15);\n",
              "      filter: drop-shadow(0px 1px 2px rgba(0, 0, 0, 0.3));\n",
              "      fill: #FFFFFF;\n",
              "    }\n",
              "  </style>\n",
              "\n",
              "      <script>\n",
              "        const buttonEl =\n",
              "          document.querySelector('#df-76451986-f703-4e58-86f0-579cb6039a64 button.colab-df-convert');\n",
              "        buttonEl.style.display =\n",
              "          google.colab.kernel.accessAllowed ? 'block' : 'none';\n",
              "\n",
              "        async function convertToInteractive(key) {\n",
              "          const element = document.querySelector('#df-76451986-f703-4e58-86f0-579cb6039a64');\n",
              "          const dataTable =\n",
              "            await google.colab.kernel.invokeFunction('convertToInteractive',\n",
              "                                                     [key], {});\n",
              "          if (!dataTable) return;\n",
              "\n",
              "          const docLinkHtml = 'Like what you see? Visit the ' +\n",
              "            '<a target=\"_blank\" href=https://colab.research.google.com/notebooks/data_table.ipynb>data table notebook</a>'\n",
              "            + ' to learn more about interactive tables.';\n",
              "          element.innerHTML = '';\n",
              "          dataTable['output_type'] = 'display_data';\n",
              "          await google.colab.output.renderOutput(dataTable, element);\n",
              "          const docLink = document.createElement('div');\n",
              "          docLink.innerHTML = docLinkHtml;\n",
              "          element.appendChild(docLink);\n",
              "        }\n",
              "      </script>\n",
              "    </div>\n",
              "  </div>\n",
              "  "
            ]
          },
          "metadata": {},
          "execution_count": 133
        }
      ]
    },
    {
      "cell_type": "markdown",
      "source": [
        "GPT3\n",
        "\n",
        "Alternativa\tOrdem\n",
        "\n",
        "a4\n",
        "a3\n",
        "a2\n",
        "a1\n",
        "a5\n",
        "\n",
        "GPT4\n",
        "\n",
        "a3\n",
        "a4\n",
        "a2\n",
        "a1\n",
        "a5"
      ],
      "metadata": {
        "id": "u0xerQFSPpF3"
      }
    },
    {
      "cell_type": "code",
      "source": [
        "dic[\"ResultadoGPT3\"] = [4,3,2,1,5]\n",
        "dic[\"ResultadoGPT4\"] = [4,3,1,2,5]"
      ],
      "metadata": {
        "id": "Cnydop1yLXNK"
      },
      "execution_count": 134,
      "outputs": []
    },
    {
      "cell_type": "code",
      "source": [
        "import matplotlib.pyplot as plt\n",
        "from scipy.stats import spearmanr"
      ],
      "metadata": {
        "id": "QuhsBGuKKnIT"
      },
      "execution_count": 135,
      "outputs": []
    },
    {
      "cell_type": "code",
      "source": [
        "dic"
      ],
      "metadata": {
        "colab": {
          "base_uri": "https://localhost:8080/",
          "height": 238
        },
        "id": "WuHAJ9EMQNgg",
        "outputId": "41612c20-4343-4937-e273-b35516d75498"
      },
      "execution_count": 136,
      "outputs": [
        {
          "output_type": "execute_result",
          "data": {
            "text/plain": [
              "                   Notebook  ResultadoELECTRE  ResultadoGPT3  ResultadoGPT4\n",
              "Alternativas                                                               \n",
              "a1            AVELL C62 MOB                 3              4              4\n",
              "a2            Avell A70 HYB                 2              3              3\n",
              "a3            AVELL A70 MOB                 1              2              1\n",
              "a4            AVELL A65 MOB                 1              1              2\n",
              "a5                ASUS M515                 4              5              5"
            ],
            "text/html": [
              "\n",
              "  <div id=\"df-0a72fc27-cb25-4c4a-8bf0-ffffeb76978a\">\n",
              "    <div class=\"colab-df-container\">\n",
              "      <div>\n",
              "<style scoped>\n",
              "    .dataframe tbody tr th:only-of-type {\n",
              "        vertical-align: middle;\n",
              "    }\n",
              "\n",
              "    .dataframe tbody tr th {\n",
              "        vertical-align: top;\n",
              "    }\n",
              "\n",
              "    .dataframe thead th {\n",
              "        text-align: right;\n",
              "    }\n",
              "</style>\n",
              "<table border=\"1\" class=\"dataframe\">\n",
              "  <thead>\n",
              "    <tr style=\"text-align: right;\">\n",
              "      <th></th>\n",
              "      <th>Notebook</th>\n",
              "      <th>ResultadoELECTRE</th>\n",
              "      <th>ResultadoGPT3</th>\n",
              "      <th>ResultadoGPT4</th>\n",
              "    </tr>\n",
              "    <tr>\n",
              "      <th>Alternativas</th>\n",
              "      <th></th>\n",
              "      <th></th>\n",
              "      <th></th>\n",
              "      <th></th>\n",
              "    </tr>\n",
              "  </thead>\n",
              "  <tbody>\n",
              "    <tr>\n",
              "      <th>a1</th>\n",
              "      <td>AVELL C62 MOB</td>\n",
              "      <td>3</td>\n",
              "      <td>4</td>\n",
              "      <td>4</td>\n",
              "    </tr>\n",
              "    <tr>\n",
              "      <th>a2</th>\n",
              "      <td>Avell A70 HYB</td>\n",
              "      <td>2</td>\n",
              "      <td>3</td>\n",
              "      <td>3</td>\n",
              "    </tr>\n",
              "    <tr>\n",
              "      <th>a3</th>\n",
              "      <td>AVELL A70 MOB</td>\n",
              "      <td>1</td>\n",
              "      <td>2</td>\n",
              "      <td>1</td>\n",
              "    </tr>\n",
              "    <tr>\n",
              "      <th>a4</th>\n",
              "      <td>AVELL A65 MOB</td>\n",
              "      <td>1</td>\n",
              "      <td>1</td>\n",
              "      <td>2</td>\n",
              "    </tr>\n",
              "    <tr>\n",
              "      <th>a5</th>\n",
              "      <td>ASUS M515</td>\n",
              "      <td>4</td>\n",
              "      <td>5</td>\n",
              "      <td>5</td>\n",
              "    </tr>\n",
              "  </tbody>\n",
              "</table>\n",
              "</div>\n",
              "      <button class=\"colab-df-convert\" onclick=\"convertToInteractive('df-0a72fc27-cb25-4c4a-8bf0-ffffeb76978a')\"\n",
              "              title=\"Convert this dataframe to an interactive table.\"\n",
              "              style=\"display:none;\">\n",
              "        \n",
              "  <svg xmlns=\"http://www.w3.org/2000/svg\" height=\"24px\"viewBox=\"0 0 24 24\"\n",
              "       width=\"24px\">\n",
              "    <path d=\"M0 0h24v24H0V0z\" fill=\"none\"/>\n",
              "    <path d=\"M18.56 5.44l.94 2.06.94-2.06 2.06-.94-2.06-.94-.94-2.06-.94 2.06-2.06.94zm-11 1L8.5 8.5l.94-2.06 2.06-.94-2.06-.94L8.5 2.5l-.94 2.06-2.06.94zm10 10l.94 2.06.94-2.06 2.06-.94-2.06-.94-.94-2.06-.94 2.06-2.06.94z\"/><path d=\"M17.41 7.96l-1.37-1.37c-.4-.4-.92-.59-1.43-.59-.52 0-1.04.2-1.43.59L10.3 9.45l-7.72 7.72c-.78.78-.78 2.05 0 2.83L4 21.41c.39.39.9.59 1.41.59.51 0 1.02-.2 1.41-.59l7.78-7.78 2.81-2.81c.8-.78.8-2.07 0-2.86zM5.41 20L4 18.59l7.72-7.72 1.47 1.35L5.41 20z\"/>\n",
              "  </svg>\n",
              "      </button>\n",
              "      \n",
              "  <style>\n",
              "    .colab-df-container {\n",
              "      display:flex;\n",
              "      flex-wrap:wrap;\n",
              "      gap: 12px;\n",
              "    }\n",
              "\n",
              "    .colab-df-convert {\n",
              "      background-color: #E8F0FE;\n",
              "      border: none;\n",
              "      border-radius: 50%;\n",
              "      cursor: pointer;\n",
              "      display: none;\n",
              "      fill: #1967D2;\n",
              "      height: 32px;\n",
              "      padding: 0 0 0 0;\n",
              "      width: 32px;\n",
              "    }\n",
              "\n",
              "    .colab-df-convert:hover {\n",
              "      background-color: #E2EBFA;\n",
              "      box-shadow: 0px 1px 2px rgba(60, 64, 67, 0.3), 0px 1px 3px 1px rgba(60, 64, 67, 0.15);\n",
              "      fill: #174EA6;\n",
              "    }\n",
              "\n",
              "    [theme=dark] .colab-df-convert {\n",
              "      background-color: #3B4455;\n",
              "      fill: #D2E3FC;\n",
              "    }\n",
              "\n",
              "    [theme=dark] .colab-df-convert:hover {\n",
              "      background-color: #434B5C;\n",
              "      box-shadow: 0px 1px 3px 1px rgba(0, 0, 0, 0.15);\n",
              "      filter: drop-shadow(0px 1px 2px rgba(0, 0, 0, 0.3));\n",
              "      fill: #FFFFFF;\n",
              "    }\n",
              "  </style>\n",
              "\n",
              "      <script>\n",
              "        const buttonEl =\n",
              "          document.querySelector('#df-0a72fc27-cb25-4c4a-8bf0-ffffeb76978a button.colab-df-convert');\n",
              "        buttonEl.style.display =\n",
              "          google.colab.kernel.accessAllowed ? 'block' : 'none';\n",
              "\n",
              "        async function convertToInteractive(key) {\n",
              "          const element = document.querySelector('#df-0a72fc27-cb25-4c4a-8bf0-ffffeb76978a');\n",
              "          const dataTable =\n",
              "            await google.colab.kernel.invokeFunction('convertToInteractive',\n",
              "                                                     [key], {});\n",
              "          if (!dataTable) return;\n",
              "\n",
              "          const docLinkHtml = 'Like what you see? Visit the ' +\n",
              "            '<a target=\"_blank\" href=https://colab.research.google.com/notebooks/data_table.ipynb>data table notebook</a>'\n",
              "            + ' to learn more about interactive tables.';\n",
              "          element.innerHTML = '';\n",
              "          dataTable['output_type'] = 'display_data';\n",
              "          await google.colab.output.renderOutput(dataTable, element);\n",
              "          const docLink = document.createElement('div');\n",
              "          docLink.innerHTML = docLinkHtml;\n",
              "          element.appendChild(docLink);\n",
              "        }\n",
              "      </script>\n",
              "    </div>\n",
              "  </div>\n",
              "  "
            ]
          },
          "metadata": {},
          "execution_count": 136
        }
      ]
    },
    {
      "cell_type": "code",
      "source": [
        "corr_matrix, _ = spearmanr(dic.iloc[:,1:])\n",
        "\n",
        "# Cria uma máscara para a metade superior da matriz\n",
        "mask = np.triu(np.ones_like(corr_df, dtype=bool))\n",
        "\n",
        "# Converte a matriz de correlação em um DataFrame para melhor visualização\n",
        "corr_df = pd.DataFrame(corr_matrix, columns=dic.iloc[:,1:].columns, index=dic.iloc[:,1:].columns)\n",
        "\n",
        "# Cria um gráfico de calor\n",
        "plt.figure(figsize=(10, 8))\n",
        "sns.heatmap(corr_df, annot=True, cmap='coolwarm', vmin=-1, vmax=1, mask=mask)\n",
        "plt.title('Spearman Correlation Heatmap')\n",
        "plt.show()"
      ],
      "metadata": {
        "colab": {
          "base_uri": "https://localhost:8080/",
          "height": 699
        },
        "id": "J56a2m1SP7Q0",
        "outputId": "a737b480-11c6-4596-baf7-62b68cb3a980"
      },
      "execution_count": 137,
      "outputs": [
        {
          "output_type": "display_data",
          "data": {
            "text/plain": [
              "<Figure size 1000x800 with 2 Axes>"
            ],
            "image/png": "[encoded data removed]"
          },
          "metadata": {}
        }
      ]
    }
  ]
}